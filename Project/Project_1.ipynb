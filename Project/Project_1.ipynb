{
 "cells": [
  {
   "cell_type": "markdown",
   "metadata": {
    "colab_type": "text",
    "id": "4NzyqehHjUlG"
   },
   "source": [
    "# ML in Cybersecurity: Project I\n",
    "\n",
    "## Team\n",
    "  * **Team name**: *GoodFellows*\n",
    "  * **Members**:  *fill this in. format:  Md Abdul Kadir (s8mdkadi@stud.uni-saarland.de), name2 (email2), ...*\n",
    "\n",
    "\n",
    "## Logistics\n",
    "  * **Due date**: 13th November 2018, 23:59:59 (email the completed notebook to mlcysec_ws1920_staff@lists.cispa.saarland)\n",
    "  * Complete this in **teams of 3**\n",
    "  * Feel free to use the course [mailing list](https://lists.cispa.saarland/listinfo/mlcysec_ws1920_stud) to find group members.\n",
    "  \n",
    "## Timeline\n",
    "  * 31-Oct-2018: Project 1 hand-out\n",
    "  * **13-Nov-2018** (23:59:59): Email completed notebook to respective TAs\n",
    "  * 21-Nov-2018: Project 1 discussion and summary\n",
    "  \n",
    "  \n",
    "## About this Project\n",
    "In this project, you'll implement a digit classifier, based on the popular [MNIST](http://yann.lecun.com/exdb/mnist/) dataset. The dataset is based on a seminal [paper](http://yann.lecun.com/exdb/publis/pdf/lecun-01a.pdf), which immensely popularized (convolutional) neural networks. This is a great starting point for ML research and this dataset/model has been a stepping stone numerous other tasks such as [GANs](https://papers.nips.cc/paper/5423-generative-adversarial-nets.pdf), [Adversarial Perturbations](https://arxiv.org/abs/1412.6572) and so many more!\n",
    "\n",
    "This dataset consists of data $\\mathcal{D} = \\{x_i, y_i\\}_{i=1}^N$, where $x_i$ is a 28x28 pixel grayscale image and $y_i$ is a scalar represeting digits between 0-9. The notebook will guide you to load this data, implement classifiers $\\hat{y_i} = f_w(x_i)$  and analyze results. By doing so, you'll have a ML model that works on real data!\n",
    "\n",
    "To put things into context, have a look at Slide 21 in the [second](https://cms.cispa.saarland/mlcysec19/dl/4/2019-10-24-ml.pdf) lecture. Within this framework, the following blocks of this project are fixed:\n",
    "  * *Real-world problem*: Digit classification\n",
    "  * *Performance metric*: Mean accuracy i.e., $ \\frac{1}{N} \\sum_{i=1}^N \\mathbb{1}[\\hat{y_i} = y_i]$, where $\\mathbb{1}[\\hat{y_i} = y_i]$ is 1 if your model predicted the right digit for the $i$-th digit and 0 otherwise.\n",
    "  * *Data*: The MNIST dataset\n",
    "\n",
    "You'll make the the following design-choices:\n",
    " * *Choice of Model*: A model family (Non-parametric methods, Linear classifiers, Neural Networks, etc.)\n",
    " * *ML Model*: Specific model (e.g., SVM with a polynomial kernel)\n",
    " * *Loss/Risk*\n",
    " * *Optimization*\n",
    "\n",
    "\n",
    "## A Note on Grading\n",
    "The grading for this project will depend on:\n",
    " 1. Functional digit classifier\n",
    "   * Following a well-defined ML pipeline\n",
    "   * Developing 3 classification models (keep them diverse and ideally of increasing complexity)\n",
    "   * Obtaining reasonable accuracies (>80%) on a held-out test set\n",
    " 1. Analysis\n",
    "   * Which methods work better than the rest and why?\n",
    "   * Which hyper-parameters and design-choices were important in each of your methods?\n",
    "   * Quantifying influence of these hyper-parameters on loss and/or validation accuracies\n",
    "   * Trade-offs between methods, hyper-parameters, design-choices\n",
    "    * Anything else you find interesting (this part is open-ended)\n",
    "  \n",
    " A note on (1.): \n",
    "  * Choose your models that aids good insights. We require at least one non-Neural Network (e.g., SVM, KNN) and one Neural Network model (e.g., MLP, CNN).\n",
    "  * We definitely don't expect all three models to achieve >99% test accuracies!\n",
    "\n",
    "## Grading Details\n",
    " * 5 points for loading and visualization \n",
    " * 25x3 points for models. Per model:\n",
    "   * 4 points for written description \n",
    "   * 7 points for implementation\n",
    "   * 7 points for evaluation\n",
    "   * 7 points for summary\n",
    " * 15 points for final summary (Section 3)\n",
    " * 5 points for clean code\n",
    " \n",
    "## Filling-in the Notebook\n",
    "You'll be submitting this very notebook that is filled-in with your code and analysis. Make sure you submit one that has been previously executed in-order. (So that results/graphs are already visible upon opening it). \n",
    "\n",
    "The notebook you submit **should compile** (or should be self-contained and sufficiently commented). Check tutorial 1 on how to set up the Python3 environment.\n",
    "\n",
    "\n",
    "**The notebook is your project report. So, to make the report readable, omit code for techniques/models/things that did not work. You can use final summary to provide report about these codes.**\n",
    "\n",
    "It is extremely important that you **do not** re-order the existing sections. Apart from that, the code blocks that you need to fill-in are given by:\n",
    "```\n",
    "#\n",
    "#\n",
    "# ------- Your Code -------\n",
    "#\n",
    "#\n",
    "```\n",
    "Feel free to break this into multiple-cells. It's even better if you interleave explanations and code-blocks so that the entire notebook forms a readable \"story\".\n",
    "\n",
    "\n",
    "## Code of Honor\n",
    "We encourage discussing ideas and concepts with other students to help you learn and better understand the course content. However, the work you submit and present **must be original** and demonstrate your effort in solving the presented problems. **We will not tolerate** blatantly using existing solutions (such as from the internet), improper collaboration (e.g., sharing code or experimental data between groups) and plagiarism. If the honor code is not met, no points will be awarded.\n",
    "\n",
    " \n",
    " ## Versions\n",
    "  * v2.0: Added pytorch\n",
    "  * v1.1: Added Code of Honor\n",
    "  * v1.0: Initial notebook\n",
    "  \n",
    "  ---"
   ]
  },
  {
   "cell_type": "code",
   "execution_count": 2,
   "metadata": {
    "colab": {},
    "colab_type": "code",
    "id": "3ewNwfFvbFaR"
   },
   "outputs": [
    {
     "name": "stdout",
     "output_type": "stream",
     "text": [
      "The autoreload extension is already loaded. To reload it, use:\n",
      "  %reload_ext autoreload\n"
     ]
    }
   ],
   "source": [
    "import time \n",
    " \n",
    "import numpy as np \n",
    "import matplotlib.pyplot as plt \n",
    "\n",
    "import json \n",
    "import time \n",
    "import pickle \n",
    "import sys \n",
    "import csv \n",
    "import os \n",
    "import os.path as osp \n",
    "import shutil \n",
    "\n",
    "import pandas as pd\n",
    "\n",
    "from IPython.display import display, HTML\n",
    " \n",
    "%matplotlib inline \n",
    "plt.rcParams['figure.figsize'] = (10.0, 8.0) # set default size of plots \n",
    "plt.rcParams['image.interpolation'] = 'nearest' \n",
    "plt.rcParams['image.cmap'] = 'gray' \n",
    " \n",
    "# for auto-reloading external modules \n",
    "# see http://stackoverflow.com/questions/1907993/autoreload-of-modules-in-ipython \n",
    "%load_ext autoreload\n",
    "%autoreload 2"
   ]
  },
  {
   "cell_type": "code",
   "execution_count": 22,
   "metadata": {
    "colab": {},
    "colab_type": "code",
    "id": "640GrzbOevr0"
   },
   "outputs": [
    {
     "data": {
      "text/plain": [
       "<torch._C.Generator at 0x7f11b9e38170>"
      ]
     },
     "execution_count": 22,
     "metadata": {},
     "output_type": "execute_result"
    }
   ],
   "source": [
    "# Load other libraries here.\n",
    "# Keep it minimal! We should be easily able to reproduce your code.\n",
    "import torch\n",
    "import sklearn\n",
    "import torchvision\n",
    "import numpy\n",
    "# We only support sklearn and pytorch.\n",
    "\n",
    "# Please set random seed to have reproduceable results, e.g. torch.manual_seed(123)\n",
    "torch.manual_seed(73)"
   ]
  },
  {
   "cell_type": "markdown",
   "metadata": {
    "colab_type": "text",
    "id": "nxi-lLD0mKHD"
   },
   "source": [
    "Helpers\n",
    "\n",
    "In case you choose to have some methods you plan to reuse during the notebook, define them here. This will avoid clutter and keep rest of the notebook succinct."
   ]
  },
  {
   "cell_type": "code",
   "execution_count": 23,
   "metadata": {
    "colab": {},
    "colab_type": "code",
    "id": "VBbigqdEmKd8"
   },
   "outputs": [],
   "source": [
    "def identity_func(foo):\n",
    "    return foo\n",
    "\n",
    "\n",
    "#\n",
    "#\n",
    "# ------- Your Code -------\n",
    "#\n",
    "#\n",
    "\n",
    "def PIL_to_np(image):\n",
    "    return numpy.array(image)\n",
    "\n",
    "# You can use this function to flatten 2D inputs\n",
    "def flatten_input_pixels(x_input):\n",
    "    result = []\n",
    "    for i in range(len(x_input)):\n",
    "        result.append(x_input[i].flatten())\n",
    "    return np.array(result, np.uint8)  # [n_samples, n_features]\n",
    "\n",
    "\n",
    "# You can use this function to plot the accuracy of the models with different parametes\n",
    "def plot_scores(x, y, title = \"Title\", x_label = \"X\", y_label = \"Y\"):\n",
    "    fig, ax = plt.subplots(nrows=1,ncols=1)\n",
    "\n",
    "    ax.plot(x, y)\n",
    "    ax.set_xticks(x)\n",
    "    ax.set_title(title)\n",
    "    ax.set_xlabel(x_label)\n",
    "    ax.set_ylabel(y_label)\n",
    "    ax.set_ylim(0.6, 1.0)\n",
    "\n",
    "# You can use this function to visualize input images and the predictions of your models\n",
    "# \"y_pred\" is output of your model \n",
    "# \"n_val\" is number of instances in test or validation sets\n",
    "def vis_predictions(x_eval, y_pred, n_val):\n",
    "    rows, cols = 4, 3\n",
    "\n",
    "    fig,ax = plt.subplots(nrows = rows, ncols = cols)\n",
    "\n",
    "    ids = np.random.randint(0,n_val,rows*cols)\n",
    "    for i in range(cols):   \n",
    "        for j in range(rows):\n",
    "            ax[j][i].set_title('predicted label: {0}'. format(y_pred[ids[(i*rows)+j]]))\n",
    "            two_d = (np.reshape(x_eval[ids[(i*rows)+j]], (28, 28))).astype(np.uint8)\n",
    "            ax[j][i].imshow(two_d)\n",
    "            ax[j][i].axes.get_xaxis().set_visible(False)\n",
    "            ax[j][i].axes.get_yaxis().set_visible(False)\n",
    "\n",
    "\n",
    "    plt.tight_layout()  "
   ]
  },
  {
   "cell_type": "markdown",
   "metadata": {
    "colab_type": "text",
    "id": "n1pcmKkyjT7y"
   },
   "source": [
    "# 1. Loading and Visualizing data (5 points)\n",
    "\n",
    "In this section, you'll need to prepare the MNIST data for the experiments you'll be conducting for the remainder of the notebook."
   ]
  },
  {
   "cell_type": "markdown",
   "metadata": {
    "colab_type": "text",
    "id": "AIU9Q762fmoT"
   },
   "source": [
    "## 1.1. Load Data\n",
    "\n",
    "Here you'll load the MNIST data into memory. The end-goal is to two have the following variables:\n",
    "  * `x_trainval`, `x_test`: of shape $N \\times d_1 \\times d_2 \\dots$ (e.g., $N \\times 784$. 784 since you could flatten each 28x28 pixel image into a single vector)\n",
    "  * `y_trainval`, `y_test`: of shape $N \\times K$ (K = 1 or 10 depending on how you plan to represent the ground-truth digit annotation)\n",
    "\n",
    "You can either do this by:\n",
    "  1. Downloading the MNIST dataset, unpacking and preparing it yourself to have fine-grained control\n",
    "  1. Using high-level existing functions, such as the one provided by  [`torchvision.datasets`](https://pytorch.org/docs/stable/torchvision/datasets.html#mnist).\n",
    "  \n",
    "  \n",
    "  In either case, it is important that you have disjoint trainval and test splits!"
   ]
  },
  {
   "cell_type": "code",
   "execution_count": 32,
   "metadata": {
    "colab": {},
    "colab_type": "code",
    "id": "7kYacpo_jvao"
   },
   "outputs": [
    {
     "name": "stdout",
     "output_type": "stream",
     "text": [
      "x_trainval.shape = (60000, 784),  y_trainval.shape = (60000,)\n",
      "x_test.shape = (10000, 784),  y_test.shape = (10000,)\n"
     ]
    }
   ],
   "source": [
    "# loading dataset\n",
    "dataset_dir = '/home/tareque/WS19-20/MLCYSEC/Project/data/mnist'\n",
    "training_data = torchvision.datasets.MNIST(dataset_dir,train=True, transform=PIL_to_np, \n",
    "                                     target_transform=None, download=True)\n",
    "test_data = torchvision.datasets.MNIST(dataset_dir,train=False, transform=PIL_to_np, \n",
    "                                     target_transform=None, download=True)\n",
    "\n",
    "# Loadin training data in to numpy array\n",
    "\n",
    "x_trainval_3d = numpy.array([training_data[i][0] for i in range(len(training_data))])\n",
    "x_trainval = flatten_input_pixels(x_trainval_3d)\n",
    "y_trainval = numpy.array([training_data[i][1] for i in range(len(training_data))])\n",
    "\n",
    "# Loading test data into numpzy array\n",
    "\n",
    "x_test_3d = numpy.array([test_data[i][0] for i in range(len(test_data))])\n",
    "x_test =  flatten_input_pixels(x_test_3d)\n",
    "y_test = numpy.array([test_data[i][1] for i in range(len(test_data))])\n",
    "\n",
    "\n",
    "print('x_trainval.shape = {},  y_trainval.shape = {}'.format(x_trainval.shape, y_trainval.shape))\n",
    "print('x_test.shape = {},  y_test.shape = {}'.format(x_test.shape, y_test.shape))\n",
    "\n",
    "#\n",
    "# Feel free to have multiple variables in case your models are designed for different formats\n",
    "# For instance, in case your model requires Nx28x28 inputs, declare x_trainval_3d, etc.\n",
    "\n",
    "# Tip: Set this to a tiny number (such 0.05) to aid debugging\n",
    "# After all, you do not want to train/evaluate on the entire dataset to find bugs\n",
    "DEBUG_FRAC = 0.05\n",
    "x_trainval = x_trainval[:int(len(x_trainval)*DEBUG_FRAC)]\n",
    "y_trainval = y_trainval[:int(len(y_trainval)*DEBUG_FRAC)]\n",
    "# Use the debuging idea for 3d input\n",
    "x_trainval_3d = x_trainval_3d[:int(len(x_trainval_3d)*DEBUG_FRAC)]\n",
    "\n",
    "\n"
   ]
  },
  {
   "cell_type": "markdown",
   "metadata": {
    "colab_type": "text",
    "id": "eA6_cejNjzYw"
   },
   "source": [
    "#### 1.2. Visualize Data\n",
    "\n",
    "To get the hang of your data you'll be training a digit classifier on, visualize it.\n",
    "\n",
    "Examples of ways to visualize it:\n",
    "  * Given a digit, display few randomly sampled images for this digit (the bare minimum)\n",
    "  * Visualize as a grid (e.g., Slide 4, [Lecture 2](https://cms.cispa.saarland/mlcysec19/dl/4/2019-10-24-ml.pdf)) using a combination of `plt.imshow` and `plt.subplots`\n",
    "  \n",
    "It's up to you to decide how you want to do this. The end-goal is for you to potentially give a trailer of the dataset to someone who hasn't seen it before."
   ]
  },
  {
   "cell_type": "code",
   "execution_count": 42,
   "metadata": {
    "colab": {},
    "colab_type": "code",
    "id": "dISIbt4plyoD"
   },
   "outputs": [
    {
     "name": "stdout",
     "output_type": "stream",
     "text": [
      "(array([   1,   21,   34,   37,   51,   56,   63,   68,   69,   75,   81,\n",
      "         88,   95,  108,  114,  118,  119,  121,  156,  169,  192,  206,\n",
      "        209,  210,  216,  229,  232,  234,  246,  249,  260,  283,  293,\n",
      "        296,  303,  320,  326,  359,  399,  427,  429,  435,  440,  451,\n",
      "        453,  458,  462,  464,  473,  489,  519,  524,  526,  527,  542,\n",
      "        577,  582,  596,  603,  612,  633,  639,  656,  662,  666,  667,\n",
      "        668,  669,  689,  702,  709,  712,  733,  743,  745,  776,  781,\n",
      "        787,  790,  818,  825,  849,  859,  860,  869,  872,  889,  903,\n",
      "        927,  943,  949,  952,  957,  965,  979,  984,  997, 1000, 1015,\n",
      "       1018, 1028, 1029, 1040, 1046, 1049, 1076, 1078, 1090, 1093, 1102,\n",
      "       1107, 1128, 1137, 1152, 1168, 1179, 1195, 1209, 1268, 1304, 1310,\n",
      "       1346, 1349, 1359, 1363, 1367, 1368, 1371, 1372, 1377, 1386, 1387,\n",
      "       1403, 1423, 1443, 1454, 1471, 1479, 1489, 1495, 1501, 1502, 1512,\n",
      "       1517, 1530, 1532, 1571, 1578, 1590, 1596, 1600, 1605, 1606, 1625,\n",
      "       1626, 1645, 1664, 1678, 1682, 1701, 1709, 1712, 1723, 1725, 1729,\n",
      "       1742, 1769, 1771, 1775, 1796, 1797, 1798, 1819, 1828, 1837, 1857,\n",
      "       1868, 1876, 1877, 1897, 1904, 1907, 1916, 1926, 1927, 1930, 1956,\n",
      "       1963, 1969, 1995, 1999, 2009, 2051, 2058, 2066, 2079, 2081, 2082,\n",
      "       2084, 2100, 2101, 2112, 2121, 2144, 2147, 2160, 2191, 2192, 2195,\n",
      "       2218, 2245, 2253, 2257, 2269, 2278, 2298, 2310, 2325, 2327, 2333,\n",
      "       2340, 2352, 2353, 2373, 2396, 2403, 2404, 2411, 2435, 2436, 2440,\n",
      "       2473, 2483, 2493, 2500, 2525, 2526, 2528, 2532, 2538, 2539, 2557,\n",
      "       2561, 2581, 2582, 2584, 2586, 2597, 2606, 2615, 2617, 2621, 2624,\n",
      "       2629, 2642, 2709, 2718, 2729, 2736, 2745, 2746, 2765, 2770, 2782,\n",
      "       2806, 2817, 2826, 2839, 2854, 2864, 2873, 2882, 2890, 2897, 2899,\n",
      "       2904, 2914, 2919, 2935, 2944, 2952, 2955, 2974, 2975, 2996]),)\n",
      "(array([   3,    6,    8,   14,   23,   24,   40,   59,   67,   70,   72,\n",
      "         77,   78,   99,  102,  104,  105,  112,  113,  124,  128,  134,\n",
      "        152,  174,  177,  184,  200,  201,  205,  208,  211,  224,  231,\n",
      "        248,  251,  269,  270,  276,  290,  309,  310,  315,  345,  351,\n",
      "        355,  357,  358,  366,  382,  394,  397,  398,  406,  408,  416,\n",
      "        443,  447,  450,  454,  455,  466,  470,  475,  484,  491,  492,\n",
      "        507,  508,  510,  533,  535,  538,  552,  553,  556,  572,  573,\n",
      "        587,  593,  604,  609,  618,  637,  638,  648,  671,  676,  678,\n",
      "        691,  698,  710,  711,  738,  747,  765,  779,  780,  783,  809,\n",
      "        821,  833,  835,  838,  870,  871,  891,  905,  919,  920,  941,\n",
      "        951,  959,  961,  978,  982,  993, 1002, 1003, 1012, 1017, 1031,\n",
      "       1044, 1051, 1052, 1060, 1065, 1069, 1080, 1081, 1084, 1085, 1095,\n",
      "       1115, 1118, 1123, 1131, 1132, 1148, 1155, 1174, 1181, 1192, 1197,\n",
      "       1200, 1211, 1230, 1238, 1242, 1243, 1252, 1259, 1277, 1287, 1293,\n",
      "       1321, 1331, 1354, 1365, 1369, 1375, 1394, 1405, 1425, 1445, 1450,\n",
      "       1452, 1458, 1463, 1472, 1483, 1496, 1497, 1521, 1527, 1528, 1535,\n",
      "       1544, 1548, 1579, 1597, 1601, 1607, 1627, 1640, 1647, 1654, 1658,\n",
      "       1665, 1676, 1680, 1681, 1696, 1697, 1699, 1700, 1703, 1710, 1716,\n",
      "       1717, 1734, 1786, 1787, 1807, 1815, 1816, 1822, 1831, 1838, 1839,\n",
      "       1859, 1860, 1879, 1909, 1910, 1915, 1936, 1942, 1945, 1977, 1989,\n",
      "       2008, 2012, 2015, 2039, 2040, 2045, 2047, 2083, 2086, 2094, 2103,\n",
      "       2110, 2122, 2123, 2134, 2136, 2151, 2154, 2159, 2162, 2166, 2177,\n",
      "       2188, 2197, 2198, 2202, 2225, 2227, 2255, 2260, 2301, 2306, 2307,\n",
      "       2316, 2318, 2326, 2335, 2336, 2355, 2356, 2362, 2366, 2374, 2375,\n",
      "       2393, 2410, 2415, 2419, 2426, 2429, 2432, 2437, 2446, 2448, 2462,\n",
      "       2495, 2497, 2505, 2530, 2547, 2552, 2563, 2572, 2583, 2594, 2599,\n",
      "       2604, 2616, 2619, 2623, 2630, 2645, 2654, 2663, 2667, 2688, 2692,\n",
      "       2695, 2708, 2716, 2717, 2719, 2725, 2730, 2731, 2747, 2762, 2767,\n",
      "       2776, 2784, 2791, 2794, 2807, 2811, 2823, 2830, 2831, 2843, 2853,\n",
      "       2858, 2870, 2872, 2876, 2878, 2889, 2894, 2906, 2907, 2918, 2920,\n",
      "       2932, 2937, 2938, 2957, 2970, 2977, 2988, 2994, 2998]),)\n",
      "(array([   5,   16,   25,   28,   76,   82,  109,  117,  120,  122,  143,\n",
      "        159,  161,  171,  178,  180,  187,  189,  190,  199,  213,  220,\n",
      "        233,  252,  253,  262,  268,  277,  308,  317,  318,  325,  339,\n",
      "        347,  360,  365,  375,  378,  381,  385,  390,  391,  400,  410,\n",
      "        432,  444,  448,  457,  472,  476,  477,  493,  515,  530,  548,\n",
      "        551,  555,  558,  563,  568,  570,  584,  588,  591,  619,  642,\n",
      "        646,  650,  657,  664,  673,  674,  684,  688,  693,  696,  713,\n",
      "        714,  716,  732,  774,  801,  807,  813,  814,  830,  844,  854,\n",
      "        862,  863,  866,  873,  893,  907,  917,  931,  938,  946,  989,\n",
      "       1010, 1011, 1033, 1034, 1047, 1048, 1053, 1058, 1074, 1096, 1124,\n",
      "       1129, 1134, 1140, 1143, 1165, 1175, 1183, 1188, 1199, 1213, 1246,\n",
      "       1249, 1255, 1262, 1264, 1270, 1299, 1301, 1330, 1334, 1361, 1374,\n",
      "       1385, 1390, 1391, 1395, 1397, 1407, 1427, 1438, 1444, 1447, 1478,\n",
      "       1492, 1510, 1531, 1539, 1549, 1550, 1558, 1561, 1563, 1572, 1573,\n",
      "       1584, 1595, 1602, 1609, 1614, 1624, 1629, 1648, 1649, 1660, 1662,\n",
      "       1679, 1711, 1714, 1715, 1724, 1727, 1735, 1753, 1754, 1755, 1766,\n",
      "       1774, 1800, 1823, 1841, 1852, 1861, 1874, 1880, 1881, 1888, 1894,\n",
      "       1896, 1900, 1920, 1923, 1947, 1952, 1954, 1972, 1987, 1988, 1998,\n",
      "       2004, 2010, 2017, 2019, 2022, 2053, 2065, 2073, 2075, 2078, 2085,\n",
      "       2104, 2105, 2125, 2171, 2184, 2189, 2201, 2205, 2234, 2251, 2261,\n",
      "       2270, 2273, 2280, 2283, 2288, 2305, 2309, 2314, 2322, 2332, 2337,\n",
      "       2342, 2346, 2354, 2357, 2377, 2389, 2399, 2402, 2409, 2418, 2450,\n",
      "       2454, 2457, 2464, 2472, 2499, 2508, 2510, 2513, 2517, 2518, 2534,\n",
      "       2550, 2565, 2585, 2601, 2625, 2626, 2641, 2648, 2664, 2670, 2684,\n",
      "       2693, 2694, 2700, 2714, 2721, 2733, 2738, 2748, 2749, 2769, 2783,\n",
      "       2790, 2792, 2802, 2812, 2813, 2824, 2838, 2840, 2846, 2847, 2851,\n",
      "       2855, 2866, 2875, 2877, 2879, 2887, 2892, 2908, 2936, 2939, 2959,\n",
      "       2976, 2979]),)\n",
      "(array([   7,   10,   12,   27,   30,   44,   49,   50,   74,   86,   98,\n",
      "        107,  111,  130,  135,  136,  149,  157,  179,  181,  198,  203,\n",
      "        207,  215,  228,  235,  242,  250,  254,  255,  279,  281,  291,\n",
      "        298,  321,  327,  330,  341,  356,  361,  392,  405,  425,  433,\n",
      "        452,  459,  479,  486,  490,  495,  500,  509,  540,  546,  549,\n",
      "        557,  561,  574,  581,  613,  629,  643,  645,  659,  670,  675,\n",
      "        695,  715,  731,  752,  760,  767,  789,  808,  811,  840,  843,\n",
      "        856,  857,  861,  867,  874,  875,  878,  890,  895,  909,  953,\n",
      "        966,  975,  983,  992,  998, 1007, 1021, 1035, 1055, 1068, 1077,\n",
      "       1097, 1108, 1119, 1121, 1130, 1144, 1145, 1150, 1151, 1158, 1178,\n",
      "       1185, 1201, 1218, 1226, 1233, 1234, 1241, 1244, 1260, 1290, 1295,\n",
      "       1312, 1315, 1317, 1320, 1336, 1341, 1348, 1351, 1357, 1378, 1409,\n",
      "       1428, 1429, 1432, 1436, 1449, 1469, 1470, 1474, 1476, 1486, 1529,\n",
      "       1533, 1551, 1559, 1566, 1581, 1583, 1588, 1594, 1599, 1603, 1611,\n",
      "       1631, 1634, 1644, 1651, 1661, 1668, 1675, 1677, 1689, 1698, 1718,\n",
      "       1722, 1737, 1756, 1778, 1791, 1799, 1805, 1809, 1829, 1836, 1843,\n",
      "       1862, 1863, 1870, 1872, 1883, 1908, 1921, 1924, 1935, 1938, 1941,\n",
      "       1959, 1971, 1981, 1994, 2011, 2021, 2023, 2029, 2042, 2074, 2076,\n",
      "       2087, 2088, 2092, 2098, 2107, 2114, 2127, 2128, 2130, 2132, 2146,\n",
      "       2149, 2174, 2179, 2180, 2183, 2200, 2203, 2207, 2228, 2230, 2232,\n",
      "       2233, 2241, 2252, 2263, 2275, 2286, 2315, 2339, 2350, 2359, 2379,\n",
      "       2408, 2423, 2430, 2456, 2463, 2468, 2469, 2481, 2489, 2503, 2506,\n",
      "       2524, 2529, 2531, 2535, 2536, 2541, 2564, 2567, 2568, 2580, 2587,\n",
      "       2603, 2627, 2632, 2652, 2660, 2661, 2669, 2671, 2675, 2705, 2707,\n",
      "       2720, 2726, 2734, 2735, 2740, 2751, 2760, 2771, 2774, 2786, 2788,\n",
      "       2796, 2803, 2816, 2818, 2820, 2834, 2871, 2883, 2886, 2895, 2905,\n",
      "       2915, 2917, 2926, 2931, 2941, 2960, 2961, 2964, 2981]),)\n",
      "(array([   2,    9,   20,   26,   53,   58,   60,   61,   64,   89,   92,\n",
      "        115,  127,  131,  139,  142,  150,  163,  164,  166,  194,  217,\n",
      "        222,  237,  257,  271,  272,  275,  289,  292,  294,  297,  314,\n",
      "        329,  336,  338,  342,  354,  363,  369,  372,  373,  379,  380,\n",
      "        402,  412,  413,  414,  438,  442,  461,  481,  531,  541,  564,\n",
      "        569,  576,  585,  590,  605,  606,  616,  647,  655,  661,  663,\n",
      "        677,  680,  682,  692,  697,  700,  706,  717,  718,  729,  742,\n",
      "        746,  749,  754,  797,  804,  828,  834,  842,  847,  848,  850,\n",
      "        851,  855,  877,  882,  894,  896,  897,  906,  914,  926,  937,\n",
      "        945,  967,  987,  988,  990,  991, 1004, 1006, 1008, 1030, 1037,\n",
      "       1050, 1073, 1079, 1094, 1098, 1099, 1110, 1133, 1149, 1160, 1163,\n",
      "       1164, 1171, 1172, 1176, 1180, 1187, 1196, 1198, 1203, 1212, 1215,\n",
      "       1220, 1227, 1232, 1248, 1253, 1258, 1261, 1271, 1273, 1275, 1280,\n",
      "       1308, 1345, 1373, 1379, 1380, 1408, 1411, 1431, 1440, 1446, 1448,\n",
      "       1460, 1461, 1473, 1477, 1487, 1498, 1508, 1511, 1537, 1541, 1545,\n",
      "       1546, 1554, 1565, 1568, 1576, 1580, 1604, 1613, 1628, 1630, 1633,\n",
      "       1646, 1653, 1663, 1667, 1672, 1685, 1692, 1693, 1704, 1705, 1738,\n",
      "       1744, 1762, 1763, 1764, 1765, 1767, 1808, 1812, 1814, 1818, 1827,\n",
      "       1840, 1842, 1845, 1854, 1865, 1885, 1911, 1922, 1928, 1932, 1934,\n",
      "       1967, 1973, 1976, 1979, 1992, 2003, 2031, 2032, 2034, 2036, 2046,\n",
      "       2050, 2052, 2069, 2071, 2072, 2089, 2106, 2109, 2129, 2157, 2164,\n",
      "       2169, 2176, 2181, 2185, 2190, 2204, 2206, 2208, 2217, 2220, 2222,\n",
      "       2224, 2235, 2236, 2240, 2254, 2256, 2264, 2276, 2277, 2289, 2290,\n",
      "       2294, 2317, 2323, 2334, 2338, 2341, 2360, 2361, 2390, 2392, 2406,\n",
      "       2407, 2416, 2420, 2424, 2439, 2441, 2443, 2449, 2451, 2452, 2458,\n",
      "       2466, 2467, 2484, 2485, 2490, 2520, 2542, 2546, 2548, 2560, 2569,\n",
      "       2578, 2589, 2596, 2608, 2647, 2665, 2686, 2689, 2715, 2724, 2732,\n",
      "       2737, 2742, 2753, 2772, 2773, 2799, 2800, 2801, 2808, 2809, 2819,\n",
      "       2827, 2829, 2832, 2856, 2859, 2874, 2888, 2891, 2893, 2896, 2902,\n",
      "       2922, 2943, 2962, 2963, 2983, 2990]),)\n",
      "(array([   0,   11,   35,   47,   65,  100,  132,  138,  145,  173,  175,\n",
      "        182,  191,  219,  236,  239,  244,  259,  266,  273,  278,  284,\n",
      "        287,  306,  316,  328,  332,  335,  376,  396,  403,  407,  417,\n",
      "        420,  437,  463,  474,  480,  496,  502,  504,  512,  513,  514,\n",
      "        516,  523,  537,  543,  544,  554,  579,  610,  614,  620,  622,\n",
      "        625,  635,  652,  653,  679,  690,  699,  719,  722,  748,  751,\n",
      "        757,  768,  771,  775,  778,  799,  805,  815,  832,  836,  837,\n",
      "        845,  879,  886,  899,  912,  915,  916,  921,  924,  947,  956,\n",
      "        960,  964,  970,  985, 1024, 1032, 1039, 1062, 1071, 1087, 1089,\n",
      "       1104, 1109, 1111, 1135, 1162, 1206, 1210, 1222, 1245, 1263, 1265,\n",
      "       1276, 1278, 1283, 1285, 1288, 1298, 1311, 1313, 1324, 1325, 1328,\n",
      "       1340, 1356, 1382, 1402, 1406, 1413, 1420, 1430, 1433, 1442, 1467,\n",
      "       1468, 1481, 1482, 1485, 1490, 1509, 1514, 1516, 1524, 1526, 1556,\n",
      "       1575, 1577, 1587, 1592, 1615, 1635, 1638, 1650, 1670, 1690, 1691,\n",
      "       1702, 1721, 1752, 1785, 1795, 1806, 1810, 1813, 1817, 1824, 1834,\n",
      "       1847, 1864, 1867, 1887, 1913, 1929, 1955, 1961, 1965, 1970, 1978,\n",
      "       1991, 1993, 1996, 1997, 2000, 2028, 2037, 2038, 2049, 2056, 2080,\n",
      "       2091, 2111, 2120, 2131, 2143, 2165, 2172, 2182, 2186, 2193, 2209,\n",
      "       2211, 2248, 2250, 2258, 2266, 2268, 2272, 2279, 2281, 2282, 2287,\n",
      "       2304, 2308, 2313, 2328, 2329, 2330, 2343, 2363, 2368, 2395, 2401,\n",
      "       2405, 2412, 2414, 2428, 2445, 2461, 2478, 2515, 2527, 2537, 2544,\n",
      "       2549, 2551, 2554, 2566, 2571, 2592, 2605, 2620, 2622, 2639, 2646,\n",
      "       2651, 2655, 2674, 2690, 2698, 2713, 2727, 2739, 2744, 2755, 2758,\n",
      "       2775, 2780, 2857, 2861, 2868, 2869, 2885, 2900, 2912, 2916, 2921,\n",
      "       2928, 2933, 2945, 2946, 2948, 2965, 2966, 2968, 2993, 2999]),)\n",
      "(array([  13,   18,   32,   36,   39,   62,   66,   73,   83,   90,   93,\n",
      "        106,  126,  129,  147,  151,  155,  165,  186,  204,  218,  221,\n",
      "        238,  241,  256,  261,  274,  286,  299,  302,  311,  323,  331,\n",
      "        367,  388,  395,  401,  421,  430,  431,  449,  465,  488,  494,\n",
      "        498,  506,  534,  536,  547,  565,  578,  592,  597,  598,  607,\n",
      "        623,  630,  649,  658,  660,  665,  672,  681,  701,  721,  735,\n",
      "        737,  739,  759,  762,  770,  785,  794,  802,  810,  816,  829,\n",
      "        841,  846,  852,  881,  892,  901,  910,  922,  939,  944,  955,\n",
      "        958,  973,  977,  986,  996,  999, 1020, 1041, 1070, 1091, 1092,\n",
      "       1100, 1113, 1117, 1136, 1139, 1146, 1159, 1182, 1184, 1189, 1190,\n",
      "       1202, 1204, 1224, 1228, 1240, 1257, 1266, 1269, 1297, 1303, 1309,\n",
      "       1318, 1323, 1327, 1337, 1350, 1358, 1366, 1389, 1393, 1398, 1414,\n",
      "       1415, 1418, 1424, 1435, 1456, 1466, 1488, 1493, 1494, 1503, 1504,\n",
      "       1506, 1515, 1520, 1536, 1538, 1540, 1553, 1557, 1562, 1567, 1582,\n",
      "       1617, 1637, 1642, 1669, 1671, 1686, 1688, 1694, 1706, 1707, 1708,\n",
      "       1726, 1731, 1741, 1750, 1761, 1768, 1779, 1781, 1782, 1784, 1792,\n",
      "       1801, 1802, 1830, 1835, 1844, 1849, 1866, 1869, 1886, 1889, 1890,\n",
      "       1892, 1898, 1902, 1906, 1917, 1918, 1931, 1951, 1957, 1980, 1985,\n",
      "       1986, 1990, 2005, 2020, 2025, 2035, 2044, 2059, 2061, 2062, 2093,\n",
      "       2096, 2113, 2126, 2138, 2148, 2152, 2153, 2156, 2158, 2163, 2167,\n",
      "       2178, 2196, 2212, 2214, 2226, 2239, 2242, 2249, 2259, 2262, 2291,\n",
      "       2293, 2295, 2296, 2300, 2311, 2320, 2324, 2345, 2365, 2372, 2387,\n",
      "       2397, 2422, 2459, 2470, 2474, 2479, 2480, 2486, 2487, 2494, 2496,\n",
      "       2498, 2504, 2516, 2519, 2523, 2533, 2545, 2556, 2570, 2573, 2588,\n",
      "       2590, 2602, 2607, 2614, 2631, 2635, 2637, 2638, 2644, 2656, 2657,\n",
      "       2662, 2680, 2710, 2723, 2741, 2756, 2757, 2777, 2785, 2789, 2822,\n",
      "       2828, 2836, 2837, 2849, 2850, 2862, 2863, 2880, 2884, 2898, 2910,\n",
      "       2913, 2923, 2925, 2930, 2947, 2954, 2967, 2978, 2992]),)\n",
      "(array([  15,   29,   38,   42,   52,   71,   79,   84,   91,   96,  101,\n",
      "        103,  123,  140,  141,  148,  158,  168,  185,  193,  196,  212,\n",
      "        214,  223,  230,  243,  258,  263,  288,  301,  305,  307,  324,\n",
      "        337,  340,  349,  353,  370,  371,  377,  384,  387,  411,  422,\n",
      "        426,  436,  446,  467,  468,  478,  483,  497,  505,  511,  518,\n",
      "        521,  522,  560,  562,  567,  586,  599,  608,  611,  617,  624,\n",
      "        632,  634,  636,  640,  644,  651,  654,  683,  686,  703,  723,\n",
      "        724,  728,  730,  750,  753,  773,  786,  795,  798,  803,  819,\n",
      "        820,  824,  839,  853,  868,  880,  883,  884,  888,  898,  904,\n",
      "        908,  911,  918,  928,  933,  934,  936,  942,  948,  950,  954,\n",
      "        962,  968,  969,  971,  981,  994,  995, 1001, 1014, 1019, 1022,\n",
      "       1023, 1042, 1043, 1054, 1057, 1072, 1075, 1082, 1088, 1106, 1114,\n",
      "       1125, 1126, 1127, 1153, 1154, 1156, 1157, 1166, 1186, 1191, 1205,\n",
      "       1208, 1216, 1217, 1225, 1229, 1231, 1251, 1281, 1300, 1302, 1306,\n",
      "       1314, 1322, 1326, 1332, 1335, 1338, 1342, 1343, 1347, 1353, 1376,\n",
      "       1381, 1392, 1400, 1412, 1416, 1417, 1422, 1437, 1451, 1480, 1491,\n",
      "       1499, 1513, 1523, 1525, 1547, 1564, 1570, 1586, 1589, 1608, 1618,\n",
      "       1619, 1636, 1639, 1652, 1655, 1656, 1673, 1687, 1719, 1730, 1739,\n",
      "       1746, 1747, 1770, 1772, 1789, 1803, 1821, 1825, 1832, 1833, 1846,\n",
      "       1848, 1851, 1858, 1871, 1891, 1899, 1919, 1933, 1944, 1946, 1953,\n",
      "       1958, 1975, 1982, 1983, 2007, 2014, 2018, 2024, 2027, 2048, 2054,\n",
      "       2055, 2064, 2090, 2095, 2102, 2108, 2115, 2118, 2133, 2142, 2145,\n",
      "       2161, 2168, 2173, 2187, 2213, 2223, 2229, 2238, 2244, 2246, 2271,\n",
      "       2292, 2297, 2319, 2344, 2347, 2348, 2367, 2376, 2380, 2381, 2386,\n",
      "       2391, 2417, 2427, 2431, 2433, 2447, 2455, 2477, 2488, 2491, 2492,\n",
      "       2502, 2512, 2522, 2540, 2543, 2558, 2574, 2575, 2576, 2591, 2609,\n",
      "       2612, 2618, 2634, 2650, 2653, 2658, 2659, 2666, 2673, 2676, 2691,\n",
      "       2701, 2704, 2706, 2711, 2743, 2750, 2752, 2754, 2759, 2766, 2778,\n",
      "       2814, 2825, 2835, 2844, 2848, 2852, 2865, 2867, 2881, 2903, 2909,\n",
      "       2929, 2949, 2950, 2969, 2980, 2982, 2984, 2985, 2986, 2995]),)\n",
      "(array([  17,   31,   41,   46,   55,   85,   94,   97,  125,  137,  144,\n",
      "        146,  160,  188,  197,  202,  225,  240,  245,  265,  295,  300,\n",
      "        312,  333,  343,  348,  352,  368,  386,  393,  404,  415,  418,\n",
      "        439,  445,  456,  469,  485,  499,  503,  517,  528,  532,  539,\n",
      "        545,  559,  571,  575,  594,  602,  615,  627,  628,  685,  694,\n",
      "        705,  708,  720,  725,  726,  734,  736,  740,  756,  758,  761,\n",
      "        766,  769,  777,  784,  791,  792,  796,  817,  823,  831,  858,\n",
      "        865,  876,  885,  913,  923,  925,  935,  963,  972,  976, 1009,\n",
      "       1013, 1016, 1025, 1026, 1045, 1059, 1063, 1064, 1067, 1086, 1101,\n",
      "       1105, 1120, 1141, 1170, 1193, 1207, 1214, 1219, 1223, 1236, 1237,\n",
      "       1239, 1247, 1254, 1267, 1279, 1289, 1294, 1296, 1319, 1329, 1339,\n",
      "       1344, 1362, 1384, 1388, 1404, 1419, 1434, 1439, 1453, 1457, 1464,\n",
      "       1475, 1484, 1505, 1519, 1534, 1542, 1543, 1593, 1598, 1616, 1621,\n",
      "       1641, 1657, 1666, 1713, 1745, 1749, 1758, 1759, 1760, 1773, 1776,\n",
      "       1777, 1780, 1783, 1788, 1790, 1793, 1804, 1853, 1856, 1873, 1893,\n",
      "       1901, 1914, 1943, 1948, 1964, 1966, 1974, 2001, 2002, 2013, 2016,\n",
      "       2026, 2030, 2043, 2057, 2063, 2067, 2068, 2070, 2077, 2097, 2117,\n",
      "       2124, 2135, 2139, 2150, 2155, 2170, 2175, 2194, 2210, 2215, 2231,\n",
      "       2237, 2243, 2265, 2285, 2302, 2303, 2349, 2358, 2369, 2378, 2382,\n",
      "       2383, 2384, 2388, 2394, 2400, 2413, 2421, 2425, 2442, 2444, 2475,\n",
      "       2476, 2482, 2507, 2511, 2555, 2577, 2593, 2598, 2610, 2611, 2628,\n",
      "       2636, 2668, 2672, 2678, 2679, 2681, 2682, 2683, 2685, 2687, 2699,\n",
      "       2761, 2768, 2781, 2805, 2810, 2833, 2841, 2842, 2845, 2901, 2927,\n",
      "       2940, 2942, 2951, 2958, 2971, 2972, 2987, 2991]),)\n",
      "(array([   4,   19,   22,   33,   43,   45,   48,   54,   57,   80,   87,\n",
      "        110,  116,  133,  153,  154,  162,  167,  170,  172,  176,  183,\n",
      "        195,  226,  227,  247,  264,  267,  280,  282,  285,  304,  313,\n",
      "        319,  322,  334,  344,  346,  350,  362,  364,  374,  383,  389,\n",
      "        409,  419,  423,  424,  428,  434,  441,  460,  471,  482,  487,\n",
      "        501,  520,  525,  529,  550,  566,  580,  583,  589,  595,  600,\n",
      "        601,  621,  626,  631,  641,  687,  704,  707,  727,  741,  744,\n",
      "        755,  763,  764,  772,  782,  788,  793,  800,  806,  812,  822,\n",
      "        826,  827,  864,  887,  900,  902,  929,  930,  932,  940,  974,\n",
      "        980, 1005, 1027, 1036, 1038, 1056, 1061, 1066, 1083, 1103, 1112,\n",
      "       1116, 1122, 1138, 1142, 1147, 1161, 1167, 1169, 1173, 1177, 1194,\n",
      "       1221, 1235, 1250, 1256, 1272, 1274, 1282, 1284, 1286, 1291, 1292,\n",
      "       1305, 1307, 1316, 1333, 1352, 1355, 1360, 1364, 1370, 1383, 1396,\n",
      "       1399, 1401, 1410, 1421, 1426, 1441, 1455, 1459, 1462, 1465, 1500,\n",
      "       1507, 1518, 1522, 1552, 1555, 1560, 1569, 1574, 1585, 1591, 1610,\n",
      "       1612, 1620, 1622, 1623, 1632, 1643, 1659, 1674, 1683, 1684, 1695,\n",
      "       1720, 1728, 1732, 1733, 1736, 1740, 1743, 1748, 1751, 1757, 1794,\n",
      "       1811, 1820, 1826, 1850, 1855, 1875, 1878, 1882, 1884, 1895, 1903,\n",
      "       1905, 1912, 1925, 1937, 1939, 1940, 1949, 1950, 1960, 1962, 1968,\n",
      "       1984, 2006, 2033, 2041, 2060, 2099, 2116, 2119, 2137, 2140, 2141,\n",
      "       2199, 2216, 2219, 2221, 2247, 2267, 2274, 2284, 2299, 2312, 2321,\n",
      "       2331, 2351, 2364, 2370, 2371, 2385, 2398, 2434, 2438, 2453, 2460,\n",
      "       2465, 2471, 2501, 2509, 2514, 2521, 2553, 2559, 2562, 2579, 2595,\n",
      "       2600, 2613, 2633, 2640, 2643, 2649, 2677, 2696, 2697, 2702, 2703,\n",
      "       2712, 2722, 2728, 2763, 2764, 2779, 2787, 2793, 2795, 2797, 2798,\n",
      "       2804, 2815, 2821, 2860, 2911, 2924, 2934, 2953, 2956, 2973, 2989,\n",
      "       2997]),)\n"
     ]
    },
    {
     "data": {
      "image/png": "[encoded data removed]",
      "text/plain": [
       "<Figure size 720x576 with 100 Axes>"
      ]
     },
     "metadata": {
      "needs_background": "light"
     },
     "output_type": "display_data"
    }
   ],
   "source": [
    "# Visualize 10 examples of 10 classes. You can extend the following code:\n",
    "rows, cols = 10, 10\n",
    "fig,ax = plt.subplots(nrows = rows, ncols = cols)\n",
    "for i in range(10):\n",
    "    img_index =numpy.where(y_trainval == i)\n",
    "    rand_ten_images = \n",
    "    print(img_index)\n",
    "\n",
    "\n",
    "\n",
    "#\n",
    "#\n",
    "# ------- Your Code -------\n",
    "#\n",
    "#\n",
    "\n",
    "plt.savefig('fig1.pdf')   # Save the figures\n",
    "plt.show()   # These should be some visualization of data at the end of this section\n",
    "\n",
    "# You can see an output example in the follow:"
   ]
  },
  {
   "cell_type": "markdown",
   "metadata": {
    "colab_type": "text",
    "id": "b8sAT53jmJ8_"
   },
   "source": [
    "# 2. Digit classifiers\n",
    "\n",
    "In this section, you'll begin developing models to perform digit classification.\n",
    "\n",
    "Each model needs to be structured like so:\n",
    "  1. Give a brief reason which model you are going to train and why you choose it\n",
    "  1. Define hyper-parameters for model and optimization procedure\n",
    "  1. Define your model\n",
    "  1. Define optimization method and fit model to data\n",
    "  1. Summarize your findings\n",
    "\n",
    "\n",
    "\n",
    "\n",
    "\n"
   ]
  },
  {
   "cell_type": "markdown",
   "metadata": {
    "colab_type": "text",
    "id": "xkF-7eFnpWoe"
   },
   "source": [
    "## 2.1: Model [M1]: *fill-this-in* (25 points)\n",
    "\n",
    "**Short description **: *fill this in*"
   ]
  },
  {
   "cell_type": "markdown",
   "metadata": {
    "colab_type": "text",
    "id": "lVyT9Oddp3GB"
   },
   "source": [
    "### 2.1.1: Hyper-parameters\n",
    "\n",
    "Define hyper-parameters for your model here"
   ]
  },
  {
   "cell_type": "code",
   "execution_count": 6,
   "metadata": {
    "colab": {},
    "colab_type": "code",
    "id": "yuHt4T7Vp5NC"
   },
   "outputs": [],
   "source": [
    "#\n",
    "#\n",
    "# ------- Your Code -------\n",
    "#\n",
    "#\n",
    "\n",
    "degree = np.asarray([1,2,3]) # example\n",
    "\n",
    "\n",
    "test_set = 'val'  #  or 'test'\n",
    "# Decide all your hyperparameters based on validation performance\n",
    "# Then, switch to 'test' for final evaluation\n",
    "\n",
    "if test_set == 'val':\n",
    "    train_idxs, val_idxs = ..., ...   # Fill in\n",
    "    x_train, y_train = x_trainval[train_idxs], y_trainval[train_idxs]\n",
    "    x_eval, y_eval = x_trainval[val_idxs], y_trainval[val_idxs]\n",
    "else:\n",
    "    x_train, y_train = x_trainval, y_trainval\n",
    "    x_eval, y_eval = x_test, y_test\n",
    "\n"
   ]
  },
  {
   "cell_type": "markdown",
   "metadata": {},
   "source": [
    "### 2.1.2: Data Preprocessing\n"
   ]
  },
  {
   "cell_type": "code",
   "execution_count": 176,
   "metadata": {},
   "outputs": [],
   "source": [
    "#\n",
    "#\n",
    "# ------- Your Code -------\n",
    "#\n",
    "# e.g. normalize, flatten input data.\n"
   ]
  },
  {
   "cell_type": "markdown",
   "metadata": {
    "colab_type": "text",
    "id": "pkuCgPatp59X"
   },
   "source": [
    "### 2.1.3: Model\n",
    "\n",
    "Define your model here"
   ]
  },
  {
   "cell_type": "code",
   "execution_count": 177,
   "metadata": {
    "colab": {},
    "colab_type": "code",
    "id": "3qV3SuPAp6XF"
   },
   "outputs": [],
   "source": [
    "#\n",
    "#\n",
    "# ------- Your Code -------\n",
    "#\n",
    "# "
   ]
  },
  {
   "cell_type": "markdown",
   "metadata": {
    "colab_type": "text",
    "id": "SxE6d6OXp6sU"
   },
   "source": [
    "### 2.1.4: Fit Model\n",
    "\n",
    "Define optimization procedure and fit your model to the data"
   ]
  },
  {
   "cell_type": "code",
   "execution_count": 2,
   "metadata": {
    "colab": {},
    "colab_type": "code",
    "id": "08tLwuchp68-"
   },
   "outputs": [],
   "source": [
    "#\n",
    "#\n",
    "# ------- Your Code -------\n",
    "#\n",
    "# \n",
    "#  Please save the trained model"
   ]
  },
  {
   "cell_type": "markdown",
   "metadata": {
    "colab_type": "text",
    "id": "QaJv_d_Dp7OM"
   },
   "source": [
    "### 2.1.5: Evaluation\n",
    "\n",
    "Evaluate your model.\n",
    "  * Evaluate models with different parameters \n",
    "  * Plot the score (accuracy) for each model using \"plot_scores\" function\n",
    "  * Report score for the best model\n",
    "  * Use \"vis_predictions\" function to visualize few examples of test/validation set with the corresponding predictions\n"
   ]
  },
  {
   "cell_type": "code",
   "execution_count": 3,
   "metadata": {
    "colab": {},
    "colab_type": "code",
    "id": "kZtLgPZrp7h5"
   },
   "outputs": [],
   "source": [
    "#\n",
    "#\n",
    "# ------- Your Code -------\n",
    "#\n",
    "# Example: y_pred = model.predict(x)"
   ]
  },
  {
   "cell_type": "code",
   "execution_count": 8,
   "metadata": {},
   "outputs": [
    {
     "data": {
      "image/png": "[encoded data removed]",
      "text/plain": [
       "<Figure size 432x288 with 1 Axes>"
      ]
     },
     "metadata": {
      "needs_background": "light"
     },
     "output_type": "display_data"
    }
   ],
   "source": [
    "# Here plot score (accuracy) for each model. You can use \"plot_scores\" function.\n",
    "\n",
    "# Example: plot_scores(parameters, scores, \"title\", \"x_label\", \"y_label\"), \n",
    "\n",
    "# You can see an example in the follow.\n",
    "# Note that the visualizations/plots provided are just simple examples/illustrations. \n",
    "# We encourage more informative and alternate methods to present results."
   ]
  },
  {
   "cell_type": "code",
   "execution_count": 9,
   "metadata": {},
   "outputs": [],
   "source": [
    "# Here report the score for the best model\n",
    "#\n",
    "# ------- Your Code -------\n",
    "#"
   ]
  },
  {
   "cell_type": "code",
   "execution_count": 182,
   "metadata": {},
   "outputs": [
    {
     "data": {
      "image/png": "[encoded data removed]",
      "text/plain": [
       "<Figure size 432x288 with 12 Axes>"
      ]
     },
     "metadata": {
      "needs_background": "light"
     },
     "output_type": "display_data"
    }
   ],
   "source": [
    "# Visualize the predictions\n",
    "# Example: vis_predictions(x_eval, y_pred, size_of_data)\n",
    "#\n",
    "#\n",
    "# ------- Your Code -------\n",
    "#\n"
   ]
  },
  {
   "cell_type": "markdown",
   "metadata": {
    "colab_type": "text",
    "id": "DEQrdyLHsUIu"
   },
   "source": [
    "### 2.1.6: Summary\n",
    "\n",
    "Summarize your findings:\n",
    " * Which hyper-parameters were important and how did they influence your results?\n",
    " * What were other design choices you faced?\n",
    " * Any other interesting insights..."
   ]
  },
  {
   "cell_type": "markdown",
   "metadata": {
    "colab_type": "text",
    "id": "Fcq52WUUs2Mm"
   },
   "source": [
    "# 2.2: Model [M2]: *fill-this-in* (25 points)\n",
    "\n",
    "\n"
   ]
  },
  {
   "cell_type": "markdown",
   "metadata": {},
   "source": [
    "### 2.2.1: Hyper-parameters\n",
    "\n",
    "Define hyper-parameters for your method here"
   ]
  },
  {
   "cell_type": "code",
   "execution_count": 190,
   "metadata": {},
   "outputs": [],
   "source": [
    "#\n",
    "#\n",
    "# ------- Your Code -------\n",
    "#\n",
    "#\n",
    "\n",
    "degree = np.asarray([1,2,3]) # example\n",
    "\n",
    "# You don't need the following code, if you can use data from 2.1.1.\n",
    "\n",
    "test_set = 'val'  #  or 'test'\n",
    "# Decide all your hyperparameters based on validation performance\n",
    "# Then, switch to 'test' for final evaluation\n",
    "\n",
    "if test_set == 'val':\n",
    "    train_idxs, val_idxs = ..., ...   # Fill in\n",
    "    x_train, y_train = x_trainval[train_idxs], y_trainval[train_idxs]\n",
    "    x_eval, y_eval = x_trainval[val_idxs], y_trainval[val_idxs]\n",
    "else:\n",
    "    x_train, y_train = x_trainval, y_trainval\n",
    "    x_eval, y_eval = x_test, y_test"
   ]
  },
  {
   "cell_type": "markdown",
   "metadata": {},
   "source": [
    "### 2.2.2: Data Preprocessing\n"
   ]
  },
  {
   "cell_type": "code",
   "execution_count": 191,
   "metadata": {},
   "outputs": [],
   "source": [
    "#\n",
    "#\n",
    "# ------- Your Code -------\n",
    "#\n",
    "# e.g. normalize, flatten input data.\n"
   ]
  },
  {
   "cell_type": "markdown",
   "metadata": {},
   "source": [
    "### 2.2.3: Model\n",
    "\n",
    "Define your model here (all hyper-parameters in 2.1.1)"
   ]
  },
  {
   "cell_type": "code",
   "execution_count": 192,
   "metadata": {},
   "outputs": [],
   "source": [
    "#\n",
    "#\n",
    "# ------- Your Code -------\n",
    "#\n",
    "# "
   ]
  },
  {
   "cell_type": "markdown",
   "metadata": {},
   "source": [
    "### 2.2.4: Fit Model\n"
   ]
  },
  {
   "cell_type": "code",
   "execution_count": 10,
   "metadata": {},
   "outputs": [],
   "source": [
    "#\n",
    "#\n",
    "# ------- Your Code -------\n",
    "#\n",
    "# \n",
    "#  Please save the trained model"
   ]
  },
  {
   "cell_type": "markdown",
   "metadata": {},
   "source": [
    "### 2.2.5: Evaluation\n",
    "\n",
    "Evaluate your model.\n",
    "  * Evaluate models with different parameters \n",
    "  * Plot score (accuracy) for each model using \"plot_scores\" function\n",
    "  * Report the score for the best model\n",
    "  * Use \"vis_predictions\" function to visualize few examples of test/validation set with the corresponding predictions\n"
   ]
  },
  {
   "cell_type": "code",
   "execution_count": 11,
   "metadata": {},
   "outputs": [
    {
     "data": {
      "image/png": "[encoded data removed]",
      "text/plain": [
       "<Figure size 432x288 with 1 Axes>"
      ]
     },
     "metadata": {
      "needs_background": "light"
     },
     "output_type": "display_data"
    }
   ],
   "source": [
    "# Here plot score (accuracy) for each model. You can use \"plot_scores\" function.\n",
    "\n",
    "# Example: plot_scores(parameters, scores, \"title\", \"x_label\", \"y_label\"), \n",
    "\n",
    "# You can see an example in the follow.\n",
    "# Note that the visualizations/plots provided are just simple examples/illustrations. \n",
    "# We encourage more informative and alternate methods to present results."
   ]
  },
  {
   "cell_type": "code",
   "execution_count": 13,
   "metadata": {},
   "outputs": [],
   "source": [
    "# Here report the score for the best model\n",
    "#\n",
    "# ------- Your Code -------\n",
    "#"
   ]
  },
  {
   "cell_type": "code",
   "execution_count": 198,
   "metadata": {},
   "outputs": [
    {
     "data": {
      "image/png": "[encoded data removed]",
      "text/plain": [
       "<Figure size 432x288 with 12 Axes>"
      ]
     },
     "metadata": {
      "needs_background": "light"
     },
     "output_type": "display_data"
    }
   ],
   "source": [
    "# Visualize the predictions\n",
    "# Example: vis_predictions(x_eval, y_pred, size_of_data)\n",
    "#\n",
    "#\n",
    "# ------- Your Code -------\n",
    "#"
   ]
  },
  {
   "cell_type": "markdown",
   "metadata": {},
   "source": [
    "### 2.2.6: Summary\n",
    "\n",
    "Summarize your findings:\n",
    " * Which hyper-parameters were important and how did they influence your results?\n",
    " * What were other design choices you faced?\n",
    " * Any other interesting insights..."
   ]
  },
  {
   "cell_type": "markdown",
   "metadata": {},
   "source": [
    "# 2.3: Model [M3] (Neural Networks): *fill-this-in* (25 points)\n",
    "\n"
   ]
  },
  {
   "cell_type": "markdown",
   "metadata": {},
   "source": [
    "### 2.3.1: Hyper-parameters\n",
    "\n",
    "Define hyper-parameters for your method here"
   ]
  },
  {
   "cell_type": "code",
   "execution_count": 8,
   "metadata": {},
   "outputs": [],
   "source": [
    "#\n",
    "#\n",
    "# ------- Your Code -------\n",
    "#\n",
    "#\n",
    "batch_size_train = ... # Fill in\n",
    "batch_size_test = ... # Fill in\n",
    "n_epochs = ... # Fill in\n",
    "# other parameters ...\n",
    "\n",
    "\n",
    "# You don't need the following code, if you can use data from 2.1.1.\n",
    "# You can also use torch built-in functions (torch.utils.data)\n",
    "\n",
    "test_set = 'val'  #  or 'test'\n",
    "# Decide all your hyperparameters based on validation performance\n",
    "# Then, switch to 'test' for final evaluation\n",
    "\n",
    "if test_set == 'val':\n",
    "    train_idxs, val_idxs = ..., ...   # Fill in\n",
    "    x_train, y_train = x_trainval[train_idxs], y_trainval[train_idxs]\n",
    "    x_eval, y_eval = x_trainval[val_idxs], y_trainval[val_idxs]\n",
    "else:\n",
    "    x_train, y_train = x_trainval, y_trainval\n",
    "    x_eval, y_eval = x_test, y_test"
   ]
  },
  {
   "cell_type": "markdown",
   "metadata": {},
   "source": [
    "### 2.3.2: Data Preprocessing\n"
   ]
  },
  {
   "cell_type": "code",
   "execution_count": 9,
   "metadata": {},
   "outputs": [],
   "source": [
    "#\n",
    "#\n",
    "# ------- Your Code -------\n",
    "#\n",
    "# e.g. normalize, flatten input data.\n"
   ]
  },
  {
   "cell_type": "markdown",
   "metadata": {},
   "source": [
    "### 2.3.3: Model\n",
    "\n",
    "Define your model here"
   ]
  },
  {
   "cell_type": "code",
   "execution_count": 10,
   "metadata": {},
   "outputs": [],
   "source": [
    "class Net(nn.Module):\n",
    "    #\n",
    "    #\n",
    "    # ------- Your Code -------\n",
    "    #\n",
    "    #"
   ]
  },
  {
   "cell_type": "markdown",
   "metadata": {},
   "source": [
    "### 2.2.4: Fit Model\n"
   ]
  },
  {
   "cell_type": "code",
   "execution_count": 13,
   "metadata": {},
   "outputs": [],
   "source": [
    "#\n",
    "#\n",
    "# ------- Your Code -------\n",
    "#\n",
    "# Example: net = Net(), ...."
   ]
  },
  {
   "cell_type": "code",
   "execution_count": 16,
   "metadata": {},
   "outputs": [],
   "source": [
    "def train(args ... # Fill in):\n",
    "    #\n",
    "    #\n",
    "    # ------- Your Code -------\n",
    "    #\n"
   ]
  },
  {
   "cell_type": "code",
   "execution_count": null,
   "metadata": {},
   "outputs": [],
   "source": [
    "def test(args ... # Fill in):\n",
    "    #\n",
    "    #\n",
    "    # ------- Your Code -------\n",
    "    #"
   ]
  },
  {
   "cell_type": "code",
   "execution_count": 14,
   "metadata": {},
   "outputs": [],
   "source": [
    "# Save your model using torch.save()"
   ]
  },
  {
   "cell_type": "markdown",
   "metadata": {},
   "source": [
    "### 2.2.5: Evaluation\n",
    "\n",
    "Evaluate your model.\n",
    "\n",
    "  * Loss curves: Plot epoch (# passes over training data) and loss\n",
    "  * Accuracy curves: Plot epoch and accuracy over val/test set\n",
    "  * Final numbers: Report final accuracy numbers for your model"
   ]
  },
  {
   "cell_type": "code",
   "execution_count": 15,
   "metadata": {},
   "outputs": [],
   "source": [
    "# Here plot epoch (# passes over training data) and loss\n",
    "#\n",
    "# ------- Your Code -------\n",
    "#"
   ]
  },
  {
   "cell_type": "code",
   "execution_count": null,
   "metadata": {},
   "outputs": [],
   "source": [
    "# Here plot epoch and accuracy over val/test set\n",
    "#\n",
    "# ------- Your Code -------\n",
    "#"
   ]
  },
  {
   "cell_type": "code",
   "execution_count": 144,
   "metadata": {},
   "outputs": [
    {
     "data": {
      "text/plain": [
       "<All keys matched successfully>"
      ]
     },
     "execution_count": 144,
     "metadata": {},
     "output_type": "execute_result"
    }
   ],
   "source": [
    "#\n",
    "#\n",
    "# ------- Your Code -------\n",
    "# Example:\n",
    "# net = Net()\n",
    "# net.load_state_dict(torch.load(\"PATH\"))"
   ]
  },
  {
   "cell_type": "code",
   "execution_count": null,
   "metadata": {},
   "outputs": [],
   "source": [
    "# Here report the score for the best model\n",
    "#\n",
    "# ------- Your Code -------\n",
    "#"
   ]
  },
  {
   "cell_type": "code",
   "execution_count": 198,
   "metadata": {},
   "outputs": [
    {
     "data": {
      "image/png": "[encoded data removed]",
      "text/plain": [
       "<Figure size 432x288 with 12 Axes>"
      ]
     },
     "metadata": {
      "needs_background": "light"
     },
     "output_type": "display_data"
    }
   ],
   "source": [
    "# Visualize the predictions\n",
    "# Example: vis_predictions(x_eval, y_pred, size_of_data)\n",
    "#\n",
    "#\n",
    "# ------- Your Code -------\n",
    "#"
   ]
  },
  {
   "cell_type": "markdown",
   "metadata": {},
   "source": [
    "### 2.3.6: Summary\n",
    "\n",
    "Summarize your findings:\n",
    " * Which hyper-parameters were important and how did they influence your results?\n",
    " * What were other design choices you faced?\n",
    " * Any other interesting insights..."
   ]
  },
  {
   "cell_type": "markdown",
   "metadata": {
    "colab_type": "text",
    "id": "Ex3qQp3JolD1"
   },
   "source": [
    "# 3. Summary (20 points)\n",
    "\n",
    "Enter your final summary here.\n",
    "\n",
    "You should now compare performance  on the three models [M1], [M2] and [M3]. Present this in a tabular format and/or using plots.\n",
    "\n",
    "Which model do you recommend to perform digit classification and why?\n",
    "\n",
    "Feel free to discuss other insightful observations."
   ]
  },
  {
   "cell_type": "code",
   "execution_count": null,
   "metadata": {
    "colab": {},
    "colab_type": "code",
    "id": "pa6rPT53LUW8"
   },
   "outputs": [],
   "source": []
  }
 ],
 "metadata": {
  "colab": {
   "collapsed_sections": [],
   "name": "MLCySec Project 1.ipynb",
   "provenance": [],
   "version": "0.3.2"
  },
  "kernelspec": {
   "display_name": "Python 3",
   "language": "python",
   "name": "python3"
  },
  "language_info": {
   "codemirror_mode": {
    "name": "ipython",
    "version": 3
   },
   "file_extension": ".py",
   "mimetype": "text/x-python",
   "name": "python",
   "nbconvert_exporter": "python",
   "pygments_lexer": "ipython3",
   "version": "3.6.9"
  }
 },
 "nbformat": 4,
 "nbformat_minor": 1
}
