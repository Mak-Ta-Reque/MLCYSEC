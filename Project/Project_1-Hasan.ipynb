{
 "cells": [
  {
   "cell_type": "markdown",
   "metadata": {
    "colab_type": "text",
    "id": "4NzyqehHjUlG"
   },
   "source": [
    "# ML in Cybersecurity: Project I\n",
    "\n",
    "## Team\n",
    "  * **Team name**: *GoodFellows*\n",
    "  * **Members**:  *fill this in. format:  Md Abdul Kadir (s8mdkadi@stud.uni-saarland.de), Hasan Md Tusfiqur Alam (s8haalam@stud.uni-saarland.de), Chirage Bhuvaneshwara (s8chbhuv@stud.uni-saarland.de) (Has already completed the assignments in MLCySec WS18/19 and is required to submit only Project 2)\n",
    "\n",
    "\n",
    "## Logistics\n",
    "  * **Due date**: 13th November 2018, 23:59:59 (email the completed notebook to mlcysec_ws1920_staff@lists.cispa.saarland)\n",
    "  * Complete this in **teams of 3**\n",
    "  * Feel free to use the course [mailing list](https://lists.cispa.saarland/listinfo/mlcysec_ws1920_stud) to find group members.\n",
    "  \n",
    "## Timeline\n",
    "  * 31-Oct-2018: Project 1 hand-out\n",
    "  * **13-Nov-2018** (23:59:59): Email completed notebook to respective TAs\n",
    "  * 21-Nov-2018: Project 1 discussion and summary\n",
    "  \n",
    "  \n",
    "## About this Project\n",
    "In this project, you'll implement a digit classifier, based on the popular [MNIST](http://yann.lecun.com/exdb/mnist/) dataset. The dataset is based on a seminal [paper](http://yann.lecun.com/exdb/publis/pdf/lecun-01a.pdf), which immensely popularized (convolutional) neural networks. This is a great starting point for ML research and this dataset/model has been a stepping stone numerous other tasks such as [GANs](https://papers.nips.cc/paper/5423-generative-adversarial-nets.pdf), [Adversarial Perturbations](https://arxiv.org/abs/1412.6572) and so many more!\n",
    "\n",
    "This dataset consists of data $\\mathcal{D} = \\{x_i, y_i\\}_{i=1}^N$, where $x_i$ is a 28x28 pixel grayscale image and $y_i$ is a scalar represeting digits between 0-9. The notebook will guide you to load this data, implement classifiers $\\hat{y_i} = f_w(x_i)$  and analyze results. By doing so, you'll have a ML model that works on real data!\n",
    "\n",
    "To put things into context, have a look at Slide 21 in the [second](https://cms.cispa.saarland/mlcysec19/dl/4/2019-10-24-ml.pdf) lecture. Within this framework, the following blocks of this project are fixed:\n",
    "  * *Real-world problem*: Digit classification\n",
    "  * *Performance metric*: Mean accuracy i.e., $ \\frac{1}{N} \\sum_{i=1}^N \\mathbb{1}[\\hat{y_i} = y_i]$, where $\\mathbb{1}[\\hat{y_i} = y_i]$ is 1 if your model predicted the right digit for the $i$-th digit and 0 otherwise.\n",
    "  * *Data*: The MNIST dataset\n",
    "\n",
    "You'll make the the following design-choices:\n",
    " * *Choice of Model*: A model family (Non-parametric methods, Linear classifiers, Neural Networks, etc.)\n",
    " * *ML Model*: Specific model (e.g., SVM with a polynomial kernel)\n",
    " * *Loss/Risk*\n",
    " * *Optimization*\n",
    "\n",
    "\n",
    "## A Note on Grading\n",
    "The grading for this project will depend on:\n",
    " 1. Functional digit classifier\n",
    "   * Following a well-defined ML pipeline\n",
    "   * Developing 3 classification models (keep them diverse and ideally of increasing complexity)\n",
    "   * Obtaining reasonable accuracies (>80%) on a held-out test set\n",
    " 1. Analysis\n",
    "   * Which methods work better than the rest and why?\n",
    "   * Which hyper-parameters and design-choices were important in each of your methods?\n",
    "   * Quantifying influence of these hyper-parameters on loss and/or validation accuracies\n",
    "   * Trade-offs between methods, hyper-parameters, design-choices\n",
    "    * Anything else you find interesting (this part is open-ended)\n",
    "  \n",
    " A note on (1.): \n",
    "  * Choose your models that aids good insights. We require at least one non-Neural Network (e.g., SVM, KNN) and one Neural Network model (e.g., MLP, CNN).\n",
    "  * We definitely don't expect all three models to achieve >99% test accuracies!\n",
    "\n",
    "## Grading Details\n",
    " * 5 points for loading and visualization \n",
    " * 25x3 points for models. Per model:\n",
    "   * 4 points for written description \n",
    "   * 7 points for implementation\n",
    "   * 7 points for evaluation\n",
    "   * 7 points for summary\n",
    " * 15 points for final summary (Section 3)\n",
    " * 5 points for clean code\n",
    " \n",
    "## Filling-in the Notebook\n",
    "You'll be submitting this very notebook that is filled-in with your code and analysis. Make sure you submit one that has been previously executed in-order. (So that results/graphs are already visible upon opening it). \n",
    "\n",
    "The notebook you submit **should compile** (or should be self-contained and sufficiently commented). Check tutorial 1 on how to set up the Python3 environment.\n",
    "\n",
    "\n",
    "**The notebook is your project report. So, to make the report readable, omit code for techniques/models/things that did not work. You can use final summary to provide report about these codes.**\n",
    "\n",
    "It is extremely important that you **do not** re-order the existing sections. Apart from that, the code blocks that you need to fill-in are given by:\n",
    "```\n",
    "#\n",
    "#\n",
    "# ------- Your Code -------\n",
    "#\n",
    "#\n",
    "```\n",
    "Feel free to break this into multiple-cells. It's even better if you interleave explanations and code-blocks so that the entire notebook forms a readable \"story\".\n",
    "\n",
    "\n",
    "## Code of Honor\n",
    "We encourage discussing ideas and concepts with other students to help you learn and better understand the course content. However, the work you submit and present **must be original** and demonstrate your effort in solving the presented problems. **We will not tolerate** blatantly using existing solutions (such as from the internet), improper collaboration (e.g., sharing code or experimental data between groups) and plagiarism. If the honor code is not met, no points will be awarded.\n",
    "\n",
    " \n",
    " ## Versions\n",
    "  * v2.0: Added pytorch\n",
    "  * v1.1: Added Code of Honor\n",
    "  * v1.0: Initial notebook\n",
    "  \n",
    "  ---"
   ]
  },
  {
   "cell_type": "code",
   "execution_count": 1,
   "metadata": {
    "colab": {},
    "colab_type": "code",
    "id": "3ewNwfFvbFaR"
   },
   "outputs": [],
   "source": [
    "import time \n",
    " \n",
    "import numpy as np \n",
    "import matplotlib.pyplot as plt \n",
    "\n",
    "import json \n",
    "import time \n",
    "import pickle \n",
    "import sys \n",
    "import csv \n",
    "import os \n",
    "import os.path as osp \n",
    "import shutil \n",
    "\n",
    "import pandas as pd\n",
    "\n",
    "from IPython.display import display, HTML\n",
    " \n",
    "%matplotlib inline \n",
    "plt.rcParams['figure.figsize'] = (10.0, 8.0) # set default size of plots \n",
    "plt.rcParams['image.interpolation'] = 'nearest' \n",
    "plt.rcParams['image.cmap'] = 'gray' \n",
    " \n",
    "# for auto-reloading external modules \n",
    "# see http://stackoverflow.com/questions/1907993/autoreload-of-modules-in-ipython \n",
    "%load_ext autoreload\n",
    "%autoreload 2"
   ]
  },
  {
   "cell_type": "code",
   "execution_count": 2,
   "metadata": {
    "colab": {},
    "colab_type": "code",
    "id": "640GrzbOevr0"
   },
   "outputs": [
    {
     "data": {
      "text/plain": [
       "<torch._C.Generator at 0x119961d5970>"
      ]
     },
     "execution_count": 2,
     "metadata": {},
     "output_type": "execute_result"
    }
   ],
   "source": [
    "# Load other libraries here.\n",
    "# Keep it minimal! We should be easily able to reproduce your code.\n",
    "import torch\n",
    "import sklearn\n",
    "import torchvision\n",
    "import random\n",
    "from sklearn.svm import SVC\n",
    "import torch.nn as nn\n",
    "import torch.nn.functional as F\n",
    "import torch.optim as optim\n",
    "from skorch import NeuralNetClassifier\n",
    "from sklearn.decomposition import PCA\n",
    "from torchvision import datasets\n",
    "import torchvision.transforms as transforms\n",
    "\n",
    "# We only support sklearn and pytorch.\n",
    "\n",
    "# Please set random seed to have reproduceable results, e.g. torch.manual_seed(123)\n",
    "torch.manual_seed(73)"
   ]
  },
  {
   "cell_type": "markdown",
   "metadata": {
    "colab_type": "text",
    "id": "nxi-lLD0mKHD"
   },
   "source": [
    "Helpers\n",
    "\n",
    "In case you choose to have some methods you plan to reuse during the notebook, define them here. This will avoid clutter and keep rest of the notebook succinct."
   ]
  },
  {
   "cell_type": "code",
   "execution_count": 6,
   "metadata": {
    "colab": {},
    "colab_type": "code",
    "id": "VBbigqdEmKd8"
   },
   "outputs": [],
   "source": [
    "def identity_func(foo):\n",
    "    return foo\n",
    "\n",
    "def PIL_to_np(image):\n",
    "    return np.array(image)\n",
    "\n",
    "# You can use this function to flatten 2D inputs\n",
    "def flatten_input_pixels(x_input):\n",
    "    result = []\n",
    "    for i in range(len(x_input)):\n",
    "        result.append(x_input[i].flatten())\n",
    "    return np.array(result, np.uint8)  # [n_samples, n_features]\n",
    "\n",
    "\n",
    "# You can use this function to plot the accuracy of the models with different parametes\n",
    "def plot_scores(x, y, title = \"Title\", x_label = \"X\", y_label = \"Y\"):\n",
    "    fig, ax = plt.subplots(nrows=1,ncols=1)\n",
    "\n",
    "    ax.plot(x, y)\n",
    "    ax.set_xticks(x)\n",
    "    ax.set_title(title)\n",
    "    ax.set_xlabel(x_label)\n",
    "    ax.set_ylabel(y_label)\n",
    "    ax.set_ylim(0.6, 1.0)\n",
    "\n",
    "# You can use this function to visualize input images and the predictions of your models\n",
    "# \"y_pred\" is output of your model \n",
    "# \"n_val\" is number of instances in test or validation sets\n",
    "def vis_predictions(x_eval, y_pred, n_val):\n",
    "    rows, cols = 4, 3\n",
    "\n",
    "    fig,ax = plt.subplots(nrows = rows, ncols = cols)\n",
    "\n",
    "    ids = np.random.randint(0,n_val,rows*cols)\n",
    "    for i in range(cols):   \n",
    "        for j in range(rows):\n",
    "            ax[j][i].set_title('predicted label: {0}'. format(y_pred[ids[(i*rows)+j]]))\n",
    "            two_d = (np.reshape(x_eval[ids[(i*rows)+j]], (28, 28))).astype(np.uint8)\n",
    "            ax[j][i].imshow(two_d)\n",
    "            ax[j][i].axes.get_xaxis().set_visible(False)\n",
    "            ax[j][i].axes.get_yaxis().set_visible(False)\n",
    "\n",
    "\n",
    "    plt.tight_layout()  "
   ]
  },
  {
   "cell_type": "markdown",
   "metadata": {
    "colab_type": "text",
    "id": "n1pcmKkyjT7y"
   },
   "source": [
    "# 1. Loading and Visualizing data (5 points)\n",
    "\n",
    "In this section, you'll need to prepare the MNIST data for the experiments you'll be conducting for the remainder of the notebook."
   ]
  },
  {
   "cell_type": "markdown",
   "metadata": {
    "colab_type": "text",
    "id": "AIU9Q762fmoT"
   },
   "source": [
    "## 1.1. Load Data\n",
    "\n",
    "Here you'll load the MNIST data into memory. The end-goal is to two have the following variables:\n",
    "  * `x_trainval`, `x_test`: of shape $N \\times d_1 \\times d_2 \\dots$ (e.g., $N \\times 784$. 784 since you could flatten each 28x28 pixel image into a single vector)\n",
    "  * `y_trainval`, `y_test`: of shape $N \\times K$ (K = 1 or 10 depending on how you plan to represent the ground-truth digit annotation)\n",
    "\n",
    "You can either do this by:\n",
    "  1. Downloading the MNIST dataset, unpacking and preparing it yourself to have fine-grained control\n",
    "  1. Using high-level existing functions, such as the one provided by  [`torchvision.datasets`](https://pytorch.org/docs/stable/torchvision/datasets.html#mnist).\n",
    "  \n",
    "  \n",
    "  In either case, it is important that you have disjoint trainval and test splits!"
   ]
  },
  {
   "cell_type": "code",
   "execution_count": 7,
   "metadata": {
    "colab": {},
    "colab_type": "code",
    "id": "7kYacpo_jvao"
   },
   "outputs": [
    {
     "name": "stdout",
     "output_type": "stream",
     "text": [
      "x_trainval.shape = (60000, 784),  y_trainval.shape = (60000,)\n",
      "x_test.shape = (10000, 784),  y_test.shape = (10000,)\n"
     ]
    }
   ],
   "source": [
    "# loading dataset\n",
    "dataset_dir = 'data/mnist'\n",
    "training_data = torchvision.datasets.MNIST(dataset_dir,train=True, transform=PIL_to_np, \n",
    "                                     target_transform=None, download=True)\n",
    "test_data = torchvision.datasets.MNIST(dataset_dir,train=False, transform=PIL_to_np, \n",
    "                                     target_transform=None, download=True)\n",
    "\n",
    "# Loadin training data in to numpy array\n",
    "\n",
    "x_trainval_3d = np.array([training_data[i][0] for i in range(len(training_data))])\n",
    "x_trainval = flatten_input_pixels(x_trainval_3d)\n",
    "y_trainval = np.array([training_data[i][1] for i in range(len(training_data))])\n",
    "\n",
    "# Loading test data into numpy array\n",
    "\n",
    "x_test_3d = np.array([test_data[i][0] for i in range(len(test_data))])\n",
    "x_test =  flatten_input_pixels(x_test_3d)\n",
    "y_test = np.array([test_data[i][1] for i in range(len(test_data))])\n",
    "\n",
    "\n",
    "print('x_trainval.shape = {},  y_trainval.shape = {}'.format(x_trainval.shape, y_trainval.shape))\n",
    "print('x_test.shape = {},  y_test.shape = {}'.format(x_test.shape, y_test.shape))\n",
    "\n",
    "#\n",
    "# Feel free to have multiple variables in case your models are designed for different formats\n",
    "# For instance, in case your model requires Nx28x28 inputs, declare x_trainval_3d, etc.\n",
    "\n",
    "# Tip: Set this to a tiny number (such 0.05) to aid debugging\n",
    "# After all, you do not want to train/evaluate on the entire dataset to find bugs\n",
    "DEBUG_FRAC = 0.05\n",
    "x_trainval = x_trainval[:int(len(x_trainval)*DEBUG_FRAC)]\n",
    "y_trainval = y_trainval[:int(len(y_trainval)*DEBUG_FRAC)]\n",
    "# Use the debuging idea for 3d input\n",
    "x_trainval_3d = x_trainval_3d[:int(len(x_trainval_3d)*DEBUG_FRAC)]\n",
    "\n",
    "\n"
   ]
  },
  {
   "cell_type": "markdown",
   "metadata": {
    "colab_type": "text",
    "id": "eA6_cejNjzYw"
   },
   "source": [
    "#### 1.2. Visualize Data\n",
    "\n",
    "To get the hang of your data you'll be training a digit classifier on, visualize it.\n",
    "\n",
    "Examples of ways to visualize it:\n",
    "  * Given a digit, display few randomly sampled images for this digit (the bare minimum)\n",
    "  * Visualize as a grid (e.g., Slide 4, [Lecture 2](https://cms.cispa.saarland/mlcysec19/dl/4/2019-10-24-ml.pdf)) using a combination of `plt.imshow` and `plt.subplots`\n",
    "  \n",
    "It's up to you to decide how you want to do this. The end-goal is for you to potentially give a trailer of the dataset to someone who hasn't seen it before."
   ]
  },
  {
   "cell_type": "code",
   "execution_count": 8,
   "metadata": {
    "colab": {},
    "colab_type": "code",
    "id": "dISIbt4plyoD"
   },
   "outputs": [
    {
     "data": {
      "image/png": "[encoded data removed]",
      "text/plain": [
       "<Figure size 432x288 with 100 Axes>"
      ]
     },
     "metadata": {
      "needs_background": "light"
     },
     "output_type": "display_data"
    }
   ],
   "source": [
    "# Visualize 10 examples of 10 classes. You can extend the following code:\n",
    "rows, cols = 10, 10\n",
    "fig,ax = plt.subplots(nrows = rows, ncols = cols)\n",
    "for i in range(10):\n",
    "    img_index =list(np.where(y_trainval == i))\n",
    "    rand_ten_images = random.choices(img_index[0], k=10)\n",
    "    j = 0\n",
    "    for idx in rand_ten_images:\n",
    "        img = np.reshape(x_trainval[idx], (28, 28))\n",
    "        ax[i, j].imshow(img)\n",
    "        j += 1\n",
    "\n",
    "plt.savefig('fig1.pdf')   # Save the figures\n",
    "plt.show()   # These should be some visualization of data at the end of this section\n",
    "\n",
    "# You can see an output example in the follow:"
   ]
  },
  {
   "cell_type": "markdown",
   "metadata": {
    "colab_type": "text",
    "id": "b8sAT53jmJ8_"
   },
   "source": [
    "# 2. Digit classifiers\n",
    "\n",
    "In this section, you'll begin developing models to perform digit classification.\n",
    "\n",
    "Each model needs to be structured like so:\n",
    "  1. Give a brief reason which model you are going to train and why you choose it\n",
    "  1. Define hyper-parameters for model and optimization procedure\n",
    "  1. Define your model\n",
    "  1. Define optimization method and fit model to data\n",
    "  1. Summarize your findings\n",
    "\n",
    "\n",
    "\n",
    "\n",
    "\n"
   ]
  },
  {
   "cell_type": "markdown",
   "metadata": {
    "colab_type": "text",
    "id": "xkF-7eFnpWoe"
   },
   "source": [
    "## 2.1: Model [M1]: *fill-this-in* (25 points)\n",
    "\n",
    "**Short description **: *fill this in*"
   ]
  },
  {
   "cell_type": "markdown",
   "metadata": {
    "colab_type": "text",
    "id": "lVyT9Oddp3GB"
   },
   "source": [
    "### 2.1.1: Hyper-parameters\n",
    "\n",
    "Define hyper-parameters for your model here"
   ]
  },
  {
   "cell_type": "code",
   "execution_count": 39,
   "metadata": {
    "colab": {},
    "colab_type": "code",
    "id": "yuHt4T7Vp5NC"
   },
   "outputs": [
    {
     "name": "stdout",
     "output_type": "stream",
     "text": [
      "(3000, 784)\n"
     ]
    }
   ],
   "source": [
    "c_values = [0.05, 0.1, 0.5, 1]\n",
    "gamma_values = [0.005, 0.01, 0.05, 0.1]\n",
    "kernel_values = [\"poly\", \"rbf\"] \n",
    "parameter_space = {\"C\":c_values, \"gamma\":gamma_values, \"kernel\":kernel_values}\n",
    "\n",
    "print(x_trainval.shape)\n",
    "\n",
    "degree = np.asarray([1,2,3]) # example\n",
    "\n",
    "\n",
    "test_set = 'val'  #  or 'test'\n",
    "# Decide all your hyperparameters based on validation performance\n",
    "# Then, switch to 'test' for final evaluation\n",
    "\n",
    "if test_set == 'val':\n",
    "    train_idxs, val_idxs = ..., ...   # Fill in\n",
    "    x_train, y_train = x_trainval[train_idxs], y_trainval[train_idxs]\n",
    "    x_eval, y_eval = x_trainval[val_idxs], y_trainval[val_idxs]\n",
    "else:\n",
    "    x_train, y_train = x_trainval, y_trainval\n",
    "    x_eval, y_eval = x_test, y_test\n",
    "\n"
   ]
  },
  {
   "cell_type": "markdown",
   "metadata": {},
   "source": [
    "### 2.1.2: Data Preprocessing\n"
   ]
  },
  {
   "cell_type": "code",
   "execution_count": 54,
   "metadata": {},
   "outputs": [
    {
     "name": "stderr",
     "output_type": "stream",
     "text": [
      "C:\\ProgramData\\Miniconda3\\envs\\DSP\\lib\\site-packages\\sklearn\\utils\\validation.py:595: DataConversionWarning: Data with input dtype uint8 was converted to float64 by StandardScaler.\n",
      "  warnings.warn(msg, DataConversionWarning)\n",
      "C:\\ProgramData\\Miniconda3\\envs\\DSP\\lib\\site-packages\\sklearn\\utils\\validation.py:595: DataConversionWarning: Data with input dtype uint8 was converted to float64 by StandardScaler.\n",
      "  warnings.warn(msg, DataConversionWarning)\n",
      "C:\\ProgramData\\Miniconda3\\envs\\DSP\\lib\\site-packages\\sklearn\\utils\\validation.py:595: DataConversionWarning: Data with input dtype uint8 was converted to float64 by StandardScaler.\n",
      "  warnings.warn(msg, DataConversionWarning)\n"
     ]
    },
    {
     "name": "stdout",
     "output_type": "stream",
     "text": [
      "(3000, 247) (10000, 247)\n"
     ]
    }
   ],
   "source": [
    "# e.g. normalize, flatten input data.\n",
    "scaler = sklearn.preprocessing.StandardScaler().fit(x_trainval.reshape(x_trainval.shape[0],-1))\n",
    "x_trainval_scaled = scaler.transform(x_trainval.reshape(x_trainval.shape[0],-1))\n",
    "x_test_scaled = scaler.transform(x_test.reshape(x_test.shape[0],-1))\n",
    "\n",
    "pca = PCA(0.95)\n",
    "pca.fit(x_trainval_scaled)\n",
    "\n",
    "x_trainval_reduced = pca.transform(x_trainval_scaled)\n",
    "x_test_reduced = pca.transform(x_test_scaled)\n",
    "\n",
    "print(x_trainval_reduced.shape, x_test_reduced.shape)\n"
   ]
  },
  {
   "cell_type": "markdown",
   "metadata": {
    "colab_type": "text",
    "id": "pkuCgPatp59X"
   },
   "source": [
    "### 2.1.3: Model\n",
    "\n",
    "Define your model here"
   ]
  },
  {
   "cell_type": "code",
   "execution_count": 61,
   "metadata": {
    "colab": {},
    "colab_type": "code",
    "id": "3qV3SuPAp6XF"
   },
   "outputs": [],
   "source": [
    "svc = SVC()\n",
    "\n",
    "grid_search = sklearn.model_selection.GridSearchCV(svc, parameter_space, verbose=2, cv=2, refit=True,\n",
    "                                                  return_train_score=True, scoring=\"accuracy\")"
   ]
  },
  {
   "cell_type": "markdown",
   "metadata": {
    "colab_type": "text",
    "id": "SxE6d6OXp6sU"
   },
   "source": [
    "### 2.1.4: Fit Model\n",
    "\n",
    "Define optimization procedure and fit your model to the data"
   ]
  },
  {
   "cell_type": "code",
   "execution_count": 68,
   "metadata": {
    "colab": {},
    "colab_type": "code",
    "id": "08tLwuchp68-"
   },
   "outputs": [
    {
     "name": "stdout",
     "output_type": "stream",
     "text": [
      "Fitting 2 folds for each of 32 candidates, totalling 64 fits\n"
     ]
    },
    {
     "name": "stderr",
     "output_type": "stream",
     "text": [
      "[Parallel(n_jobs=1)]: Using backend SequentialBackend with 1 concurrent workers.\n"
     ]
    },
    {
     "name": "stdout",
     "output_type": "stream",
     "text": [
      "[CV] C=0.05, gamma=0.005, kernel=poly ................................\n",
      "[CV] ................. C=0.05, gamma=0.005, kernel=poly, total=   1.4s\n"
     ]
    },
    {
     "name": "stderr",
     "output_type": "stream",
     "text": [
      "[Parallel(n_jobs=1)]: Done   1 out of   1 | elapsed:    1.9s remaining:    0.0s\n"
     ]
    },
    {
     "name": "stdout",
     "output_type": "stream",
     "text": [
      "[CV] C=0.05, gamma=0.005, kernel=poly ................................\n",
      "[CV] ................. C=0.05, gamma=0.005, kernel=poly, total=   1.5s\n",
      "[CV] C=0.05, gamma=0.005, kernel=rbf .................................\n",
      "[CV] .................. C=0.05, gamma=0.005, kernel=rbf, total=   2.0s\n",
      "[CV] C=0.05, gamma=0.005, kernel=rbf .................................\n",
      "[CV] .................. C=0.05, gamma=0.005, kernel=rbf, total=   2.0s\n",
      "[CV] C=0.05, gamma=0.01, kernel=poly .................................\n",
      "[CV] .................. C=0.05, gamma=0.01, kernel=poly, total=   1.2s\n",
      "[CV] C=0.05, gamma=0.01, kernel=poly .................................\n",
      "[CV] .................. C=0.05, gamma=0.01, kernel=poly, total=   1.3s\n",
      "[CV] C=0.05, gamma=0.01, kernel=rbf ..................................\n",
      "[CV] ................... C=0.05, gamma=0.01, kernel=rbf, total=   2.1s\n",
      "[CV] C=0.05, gamma=0.01, kernel=rbf ..................................\n",
      "[CV] ................... C=0.05, gamma=0.01, kernel=rbf, total=   2.1s\n",
      "[CV] C=0.05, gamma=0.05, kernel=poly .................................\n",
      "[CV] .................. C=0.05, gamma=0.05, kernel=poly, total=   1.3s\n",
      "[CV] C=0.05, gamma=0.05, kernel=poly .................................\n",
      "[CV] .................. C=0.05, gamma=0.05, kernel=poly, total=   1.4s\n",
      "[CV] C=0.05, gamma=0.05, kernel=rbf ..................................\n",
      "[CV] ................... C=0.05, gamma=0.05, kernel=rbf, total=   2.1s\n",
      "[CV] C=0.05, gamma=0.05, kernel=rbf ..................................\n",
      "[CV] ................... C=0.05, gamma=0.05, kernel=rbf, total=   2.1s\n",
      "[CV] C=0.05, gamma=0.1, kernel=poly ..................................\n",
      "[CV] ................... C=0.05, gamma=0.1, kernel=poly, total=   1.3s\n",
      "[CV] C=0.05, gamma=0.1, kernel=poly ..................................\n",
      "[CV] ................... C=0.05, gamma=0.1, kernel=poly, total=   1.4s\n",
      "[CV] C=0.05, gamma=0.1, kernel=rbf ...................................\n",
      "[CV] .................... C=0.05, gamma=0.1, kernel=rbf, total=   2.3s\n",
      "[CV] C=0.05, gamma=0.1, kernel=rbf ...................................\n",
      "[CV] .................... C=0.05, gamma=0.1, kernel=rbf, total=   2.2s\n",
      "[CV] C=0.1, gamma=0.005, kernel=poly .................................\n",
      "[CV] .................. C=0.1, gamma=0.005, kernel=poly, total=   1.3s\n",
      "[CV] C=0.1, gamma=0.005, kernel=poly .................................\n",
      "[CV] .................. C=0.1, gamma=0.005, kernel=poly, total=   1.3s\n",
      "[CV] C=0.1, gamma=0.005, kernel=rbf ..................................\n",
      "[CV] ................... C=0.1, gamma=0.005, kernel=rbf, total=   2.0s\n",
      "[CV] C=0.1, gamma=0.005, kernel=rbf ..................................\n",
      "[CV] ................... C=0.1, gamma=0.005, kernel=rbf, total=   1.9s\n",
      "[CV] C=0.1, gamma=0.01, kernel=poly ..................................\n",
      "[CV] ................... C=0.1, gamma=0.01, kernel=poly, total=   1.3s\n",
      "[CV] C=0.1, gamma=0.01, kernel=poly ..................................\n",
      "[CV] ................... C=0.1, gamma=0.01, kernel=poly, total=   1.4s\n",
      "[CV] C=0.1, gamma=0.01, kernel=rbf ...................................\n",
      "[CV] .................... C=0.1, gamma=0.01, kernel=rbf, total=   2.1s\n",
      "[CV] C=0.1, gamma=0.01, kernel=rbf ...................................\n",
      "[CV] .................... C=0.1, gamma=0.01, kernel=rbf, total=   2.0s\n",
      "[CV] C=0.1, gamma=0.05, kernel=poly ..................................\n",
      "[CV] ................... C=0.1, gamma=0.05, kernel=poly, total=   1.3s\n",
      "[CV] C=0.1, gamma=0.05, kernel=poly ..................................\n",
      "[CV] ................... C=0.1, gamma=0.05, kernel=poly, total=   1.4s\n",
      "[CV] C=0.1, gamma=0.05, kernel=rbf ...................................\n",
      "[CV] .................... C=0.1, gamma=0.05, kernel=rbf, total=   2.1s\n",
      "[CV] C=0.1, gamma=0.05, kernel=rbf ...................................\n",
      "[CV] .................... C=0.1, gamma=0.05, kernel=rbf, total=   2.3s\n",
      "[CV] C=0.1, gamma=0.1, kernel=poly ...................................\n",
      "[CV] .................... C=0.1, gamma=0.1, kernel=poly, total=   1.3s\n",
      "[CV] C=0.1, gamma=0.1, kernel=poly ...................................\n",
      "[CV] .................... C=0.1, gamma=0.1, kernel=poly, total=   1.5s\n",
      "[CV] C=0.1, gamma=0.1, kernel=rbf ....................................\n",
      "[CV] ..................... C=0.1, gamma=0.1, kernel=rbf, total=   2.2s\n",
      "[CV] C=0.1, gamma=0.1, kernel=rbf ....................................\n",
      "[CV] ..................... C=0.1, gamma=0.1, kernel=rbf, total=   2.2s\n",
      "[CV] C=0.5, gamma=0.005, kernel=poly .................................\n",
      "[CV] .................. C=0.5, gamma=0.005, kernel=poly, total=   1.2s\n",
      "[CV] C=0.5, gamma=0.005, kernel=poly .................................\n",
      "[CV] .................. C=0.5, gamma=0.005, kernel=poly, total=   1.4s\n",
      "[CV] C=0.5, gamma=0.005, kernel=rbf ..................................\n",
      "[CV] ................... C=0.5, gamma=0.005, kernel=rbf, total=   1.6s\n",
      "[CV] C=0.5, gamma=0.005, kernel=rbf ..................................\n",
      "[CV] ................... C=0.5, gamma=0.005, kernel=rbf, total=   1.7s\n",
      "[CV] C=0.5, gamma=0.01, kernel=poly ..................................\n",
      "[CV] ................... C=0.5, gamma=0.01, kernel=poly, total=   1.4s\n",
      "[CV] C=0.5, gamma=0.01, kernel=poly ..................................\n",
      "[CV] ................... C=0.5, gamma=0.01, kernel=poly, total=   1.5s\n",
      "[CV] C=0.5, gamma=0.01, kernel=rbf ...................................\n",
      "[CV] .................... C=0.5, gamma=0.01, kernel=rbf, total=   2.1s\n",
      "[CV] C=0.5, gamma=0.01, kernel=rbf ...................................\n",
      "[CV] .................... C=0.5, gamma=0.01, kernel=rbf, total=   2.0s\n",
      "[CV] C=0.5, gamma=0.05, kernel=poly ..................................\n",
      "[CV] ................... C=0.5, gamma=0.05, kernel=poly, total=   1.3s\n",
      "[CV] C=0.5, gamma=0.05, kernel=poly ..................................\n",
      "[CV] ................... C=0.5, gamma=0.05, kernel=poly, total=   1.4s\n",
      "[CV] C=0.5, gamma=0.05, kernel=rbf ...................................\n",
      "[CV] .................... C=0.5, gamma=0.05, kernel=rbf, total=   2.1s\n",
      "[CV] C=0.5, gamma=0.05, kernel=rbf ...................................\n",
      "[CV] .................... C=0.5, gamma=0.05, kernel=rbf, total=   2.2s\n",
      "[CV] C=0.5, gamma=0.1, kernel=poly ...................................\n",
      "[CV] .................... C=0.5, gamma=0.1, kernel=poly, total=   1.3s\n",
      "[CV] C=0.5, gamma=0.1, kernel=poly ...................................\n",
      "[CV] .................... C=0.5, gamma=0.1, kernel=poly, total=   1.4s\n",
      "[CV] C=0.5, gamma=0.1, kernel=rbf ....................................\n",
      "[CV] ..................... C=0.5, gamma=0.1, kernel=rbf, total=   2.1s\n",
      "[CV] C=0.5, gamma=0.1, kernel=rbf ....................................\n",
      "[CV] ..................... C=0.5, gamma=0.1, kernel=rbf, total=   2.1s\n",
      "[CV] C=1, gamma=0.005, kernel=poly ...................................\n",
      "[CV] .................... C=1, gamma=0.005, kernel=poly, total=   1.3s\n",
      "[CV] C=1, gamma=0.005, kernel=poly ...................................\n",
      "[CV] .................... C=1, gamma=0.005, kernel=poly, total=   1.4s\n",
      "[CV] C=1, gamma=0.005, kernel=rbf ....................................\n",
      "[CV] ..................... C=1, gamma=0.005, kernel=rbf, total=   1.7s\n",
      "[CV] C=1, gamma=0.005, kernel=rbf ....................................\n",
      "[CV] ..................... C=1, gamma=0.005, kernel=rbf, total=   1.7s\n",
      "[CV] C=1, gamma=0.01, kernel=poly ....................................\n",
      "[CV] ..................... C=1, gamma=0.01, kernel=poly, total=   1.2s\n",
      "[CV] C=1, gamma=0.01, kernel=poly ....................................\n",
      "[CV] ..................... C=1, gamma=0.01, kernel=poly, total=   1.3s\n",
      "[CV] C=1, gamma=0.01, kernel=rbf .....................................\n",
      "[CV] ...................... C=1, gamma=0.01, kernel=rbf, total=   2.0s\n",
      "[CV] C=1, gamma=0.01, kernel=rbf .....................................\n",
      "[CV] ...................... C=1, gamma=0.01, kernel=rbf, total=   2.0s\n",
      "[CV] C=1, gamma=0.05, kernel=poly ....................................\n",
      "[CV] ..................... C=1, gamma=0.05, kernel=poly, total=   1.2s\n",
      "[CV] C=1, gamma=0.05, kernel=poly ....................................\n",
      "[CV] ..................... C=1, gamma=0.05, kernel=poly, total=   1.3s\n",
      "[CV] C=1, gamma=0.05, kernel=rbf .....................................\n",
      "[CV] ...................... C=1, gamma=0.05, kernel=rbf, total=   2.1s\n",
      "[CV] C=1, gamma=0.05, kernel=rbf .....................................\n",
      "[CV] ...................... C=1, gamma=0.05, kernel=rbf, total=   2.1s\n",
      "[CV] C=1, gamma=0.1, kernel=poly .....................................\n",
      "[CV] ...................... C=1, gamma=0.1, kernel=poly, total=   1.2s\n",
      "[CV] C=1, gamma=0.1, kernel=poly .....................................\n",
      "[CV] ...................... C=1, gamma=0.1, kernel=poly, total=   1.4s\n",
      "[CV] C=1, gamma=0.1, kernel=rbf ......................................\n",
      "[CV] ....................... C=1, gamma=0.1, kernel=rbf, total=   2.1s\n",
      "[CV] C=1, gamma=0.1, kernel=rbf ......................................\n",
      "[CV] ....................... C=1, gamma=0.1, kernel=rbf, total=   2.1s\n"
     ]
    },
    {
     "name": "stderr",
     "output_type": "stream",
     "text": [
      "[Parallel(n_jobs=1)]: Done  64 out of  64 | elapsed:  2.6min finished\n"
     ]
    },
    {
     "name": "stdout",
     "output_type": "stream",
     "text": [
      "{'C': 0.05, 'gamma': 0.05, 'kernel': 'poly'}\n"
     ]
    }
   ],
   "source": [
    "svm_model = grid_search.fit(x_trainval_reduced, y_trainval)\n",
    "print(svm_model.best_params_)\n",
    "model_params = svm_model.best_params_"
   ]
  },
  {
   "cell_type": "code",
   "execution_count": 70,
   "metadata": {},
   "outputs": [
    {
     "data": {
      "text/plain": [
       "SVC(C=0.05, cache_size=200, class_weight=None, coef0=0.0,\n",
       "  decision_function_shape='ovr', degree=3, gamma=0.05, kernel='poly',\n",
       "  max_iter=-1, probability=False, random_state=None, shrinking=True,\n",
       "  tol=0.001, verbose=False)"
      ]
     },
     "execution_count": 70,
     "metadata": {},
     "output_type": "execute_result"
    }
   ],
   "source": [
    "svc = SVC(C=model_params['C'], gamma=model_params['gamma'], kernel=model_params['kernel'])\n",
    "svc.fit(x_trainval_reduced, y_trainval)"
   ]
  },
  {
   "cell_type": "markdown",
   "metadata": {
    "colab_type": "text",
    "id": "QaJv_d_Dp7OM"
   },
   "source": [
    "### 2.1.5: Evaluation\n",
    "\n",
    "Evaluate your model.\n",
    "  * Evaluate models with different parameters \n",
    "  * Plot the score (accuracy) for each model using \"plot_scores\" function\n",
    "  * Report score for the best model\n",
    "  * Use \"vis_predictions\" function to visualize few examples of test/validation set with the corresponding predictions\n"
   ]
  },
  {
   "cell_type": "code",
   "execution_count": 71,
   "metadata": {
    "colab": {},
    "colab_type": "code",
    "id": "kZtLgPZrp7h5"
   },
   "outputs": [
    {
     "name": "stdout",
     "output_type": "stream",
     "text": [
      "0.9273\n",
      "[[ 949    0    2    3    3    5    9    1    8    0]\n",
      " [   0 1121    4    1    1    1    3    0    4    0]\n",
      " [   8    2  923   16   19    1    5   11   45    2]\n",
      " [   0    3    8  911    2   22    0   11   42   11]\n",
      " [   0    3    6    0  936    0    3    1    5   28]\n",
      " [   4    2    2   11   14  817    6    2   21   13]\n",
      " [  11    3   10    1   30   17  879    0    7    0]\n",
      " [   0   11   10    4   30    1    0  919   10   43]\n",
      " [   4    0    5   12   17   15    1    4  902   14]\n",
      " [   4    4    3   10   44    4    0   11   13  916]]\n",
      "              precision    recall  f1-score   support\n",
      "\n",
      "           0       0.97      0.97      0.97       980\n",
      "           1       0.98      0.99      0.98      1135\n",
      "           2       0.95      0.89      0.92      1032\n",
      "           3       0.94      0.90      0.92      1010\n",
      "           4       0.85      0.95      0.90       982\n",
      "           5       0.93      0.92      0.92       892\n",
      "           6       0.97      0.92      0.94       958\n",
      "           7       0.96      0.89      0.92      1028\n",
      "           8       0.85      0.93      0.89       974\n",
      "           9       0.89      0.91      0.90      1009\n",
      "\n",
      "   micro avg       0.93      0.93      0.93     10000\n",
      "   macro avg       0.93      0.93      0.93     10000\n",
      "weighted avg       0.93      0.93      0.93     10000\n",
      "\n"
     ]
    }
   ],
   "source": [
    "\n",
    "# Example: y_pred = model.predict(x)\n",
    "y_predict = svc.predict(x_test_reduced)\n",
    "accuracy = sklearn.metrics.accuracy_score(y_test, y_predict)\n",
    "print(accuracy)\n",
    "confusion_mat = sklearn.metrics.confusion_matrix(y_test, y_predict)\n",
    "print(confusion_mat)\n",
    "classfication_report = sklearn.metrics.classification_report(y_test, y_predict)\n",
    "print(classfication_report)"
   ]
  },
  {
   "cell_type": "code",
   "execution_count": 84,
   "metadata": {},
   "outputs": [
    {
     "data": {
      "text/plain": [
       "{'mean_fit_time': array([0.9230653 , 1.33792377, 0.91056359, 1.42171645, 0.96897459,\n",
       "        1.43372166, 0.93202758, 1.5418694 , 0.85125577, 1.28606176,\n",
       "        0.97745252, 1.3997581 , 0.93998587, 1.55284739, 0.99636889,\n",
       "        1.5014863 , 0.92802083, 1.09258032, 1.03576314, 1.3967731 ,\n",
       "        0.94248021, 1.47106552, 0.94500422, 1.46011686, 0.94101453,\n",
       "        1.17436099, 0.92506027, 1.37982488, 0.92504621, 1.44517004,\n",
       "        0.92505848, 1.45414186]),\n",
       " 'std_fit_time': array([0.03038561, 0.01446319, 0.04088986, 0.02944207, 0.0084784 ,\n",
       "        0.01345479, 0.03837752, 0.01295614, 0.02440155, 0.01146889,\n",
       "        0.07280517, 0.00947356, 0.03939402, 0.07579708, 0.09670758,\n",
       "        0.00947285, 0.05036461, 0.0493691 , 0.08829343, 0.05735469,\n",
       "        0.02892292, 0.01396298, 0.04434919, 0.00297284, 0.03437543,\n",
       "        0.00448728, 0.03836203, 0.00646567, 0.03841448, 0.01100361,\n",
       "        0.04042518, 0.00701046]),\n",
       " 'mean_score_time': array([0.59092939, 0.77496982, 0.47425461, 0.76992249, 0.46920252,\n",
       "        0.76943278, 0.53159034, 0.79038703, 0.54251695, 0.76847541,\n",
       "        0.47770643, 0.7515198 , 0.46974564, 0.76545453, 0.50162601,\n",
       "        0.79437602, 0.48073483, 0.65028095, 0.50661576, 0.76594722,\n",
       "        0.48226416, 0.77843976, 0.47621453, 0.7824105 , 0.47070992,\n",
       "        0.63083315, 0.4712317 , 0.70013309, 0.4687475 , 0.76142883,\n",
       "        0.47074032, 0.76891196]),\n",
       " 'std_score_time': array([2.44711637e-02, 2.49361992e-02, 1.24440193e-02, 5.96427917e-03,\n",
       "        1.44834518e-02, 2.50148773e-03, 1.69993639e-02, 1.74525976e-02,\n",
       "        1.49276257e-02, 3.23857069e-02, 1.39737129e-02, 1.52218342e-03,\n",
       "        1.49612427e-02, 1.49464607e-03, 3.89328003e-02, 1.74521208e-02,\n",
       "        1.19905472e-02, 1.97267532e-03, 2.09830999e-02, 3.97932529e-03,\n",
       "        2.48301029e-03, 1.51753426e-03, 1.55111551e-02, 1.04311705e-02,\n",
       "        1.49925947e-02, 3.46875191e-03, 1.34723186e-02, 1.03640556e-03,\n",
       "        1.49208307e-02, 4.65869904e-04, 1.58905983e-02, 2.94446945e-05]),\n",
       " 'param_C': masked_array(data=[0.05, 0.05, 0.05, 0.05, 0.05, 0.05, 0.05, 0.05, 0.1,\n",
       "                    0.1, 0.1, 0.1, 0.1, 0.1, 0.1, 0.1, 0.5, 0.5, 0.5, 0.5,\n",
       "                    0.5, 0.5, 0.5, 0.5, 1, 1, 1, 1, 1, 1, 1, 1],\n",
       "              mask=[False, False, False, False, False, False, False, False,\n",
       "                    False, False, False, False, False, False, False, False,\n",
       "                    False, False, False, False, False, False, False, False,\n",
       "                    False, False, False, False, False, False, False, False],\n",
       "        fill_value='?',\n",
       "             dtype=object),\n",
       " 'param_gamma': masked_array(data=[0.005, 0.005, 0.01, 0.01, 0.05, 0.05, 0.1, 0.1, 0.005,\n",
       "                    0.005, 0.01, 0.01, 0.05, 0.05, 0.1, 0.1, 0.005, 0.005,\n",
       "                    0.01, 0.01, 0.05, 0.05, 0.1, 0.1, 0.005, 0.005, 0.01,\n",
       "                    0.01, 0.05, 0.05, 0.1, 0.1],\n",
       "              mask=[False, False, False, False, False, False, False, False,\n",
       "                    False, False, False, False, False, False, False, False,\n",
       "                    False, False, False, False, False, False, False, False,\n",
       "                    False, False, False, False, False, False, False, False],\n",
       "        fill_value='?',\n",
       "             dtype=object),\n",
       " 'param_kernel': masked_array(data=['poly', 'rbf', 'poly', 'rbf', 'poly', 'rbf', 'poly',\n",
       "                    'rbf', 'poly', 'rbf', 'poly', 'rbf', 'poly', 'rbf',\n",
       "                    'poly', 'rbf', 'poly', 'rbf', 'poly', 'rbf', 'poly',\n",
       "                    'rbf', 'poly', 'rbf', 'poly', 'rbf', 'poly', 'rbf',\n",
       "                    'poly', 'rbf', 'poly', 'rbf'],\n",
       "              mask=[False, False, False, False, False, False, False, False,\n",
       "                    False, False, False, False, False, False, False, False,\n",
       "                    False, False, False, False, False, False, False, False,\n",
       "                    False, False, False, False, False, False, False, False],\n",
       "        fill_value='?',\n",
       "             dtype=object),\n",
       " 'params': [{'C': 0.05, 'gamma': 0.005, 'kernel': 'poly'},\n",
       "  {'C': 0.05, 'gamma': 0.005, 'kernel': 'rbf'},\n",
       "  {'C': 0.05, 'gamma': 0.01, 'kernel': 'poly'},\n",
       "  {'C': 0.05, 'gamma': 0.01, 'kernel': 'rbf'},\n",
       "  {'C': 0.05, 'gamma': 0.05, 'kernel': 'poly'},\n",
       "  {'C': 0.05, 'gamma': 0.05, 'kernel': 'rbf'},\n",
       "  {'C': 0.05, 'gamma': 0.1, 'kernel': 'poly'},\n",
       "  {'C': 0.05, 'gamma': 0.1, 'kernel': 'rbf'},\n",
       "  {'C': 0.1, 'gamma': 0.005, 'kernel': 'poly'},\n",
       "  {'C': 0.1, 'gamma': 0.005, 'kernel': 'rbf'},\n",
       "  {'C': 0.1, 'gamma': 0.01, 'kernel': 'poly'},\n",
       "  {'C': 0.1, 'gamma': 0.01, 'kernel': 'rbf'},\n",
       "  {'C': 0.1, 'gamma': 0.05, 'kernel': 'poly'},\n",
       "  {'C': 0.1, 'gamma': 0.05, 'kernel': 'rbf'},\n",
       "  {'C': 0.1, 'gamma': 0.1, 'kernel': 'poly'},\n",
       "  {'C': 0.1, 'gamma': 0.1, 'kernel': 'rbf'},\n",
       "  {'C': 0.5, 'gamma': 0.005, 'kernel': 'poly'},\n",
       "  {'C': 0.5, 'gamma': 0.005, 'kernel': 'rbf'},\n",
       "  {'C': 0.5, 'gamma': 0.01, 'kernel': 'poly'},\n",
       "  {'C': 0.5, 'gamma': 0.01, 'kernel': 'rbf'},\n",
       "  {'C': 0.5, 'gamma': 0.05, 'kernel': 'poly'},\n",
       "  {'C': 0.5, 'gamma': 0.05, 'kernel': 'rbf'},\n",
       "  {'C': 0.5, 'gamma': 0.1, 'kernel': 'poly'},\n",
       "  {'C': 0.5, 'gamma': 0.1, 'kernel': 'rbf'},\n",
       "  {'C': 1, 'gamma': 0.005, 'kernel': 'poly'},\n",
       "  {'C': 1, 'gamma': 0.005, 'kernel': 'rbf'},\n",
       "  {'C': 1, 'gamma': 0.01, 'kernel': 'poly'},\n",
       "  {'C': 1, 'gamma': 0.01, 'kernel': 'rbf'},\n",
       "  {'C': 1, 'gamma': 0.05, 'kernel': 'poly'},\n",
       "  {'C': 1, 'gamma': 0.05, 'kernel': 'rbf'},\n",
       "  {'C': 1, 'gamma': 0.1, 'kernel': 'poly'},\n",
       "  {'C': 1, 'gamma': 0.1, 'kernel': 'rbf'}],\n",
       " 'split0_test_score': array([0.74401596, 0.30851064, 0.85704787, 0.19680851, 0.87234043,\n",
       "        0.11303191, 0.87234043, 0.11303191, 0.8025266 , 0.50531915,\n",
       "        0.86835106, 0.21343085, 0.87234043, 0.11303191, 0.87234043,\n",
       "        0.11303191, 0.86170213, 0.75664894, 0.87234043, 0.53390957,\n",
       "        0.87234043, 0.16888298, 0.87234043, 0.11303191, 0.87034574,\n",
       "        0.79920213, 0.87234043, 0.67952128, 0.87234043, 0.21343085,\n",
       "        0.87234043, 0.16755319]),\n",
       " 'split1_test_score': array([0.79278075, 0.28141711, 0.89973262, 0.2118984 , 0.91042781,\n",
       "        0.11296791, 0.91042781, 0.11296791, 0.84625668, 0.52941176,\n",
       "        0.90842246, 0.21457219, 0.91042781, 0.11296791, 0.91042781,\n",
       "        0.11296791, 0.90374332, 0.77673797, 0.91042781, 0.55481283,\n",
       "        0.91042781, 0.17513369, 0.91042781, 0.11296791, 0.91042781,\n",
       "        0.84157754, 0.91042781, 0.70588235, 0.91042781, 0.21256684,\n",
       "        0.91042781, 0.17647059]),\n",
       " 'mean_test_score': array([0.76833333, 0.295     , 0.87833333, 0.20433333, 0.89133333,\n",
       "        0.113     , 0.89133333, 0.113     , 0.82433333, 0.51733333,\n",
       "        0.88833333, 0.214     , 0.89133333, 0.113     , 0.89133333,\n",
       "        0.113     , 0.88266667, 0.76666667, 0.89133333, 0.54433333,\n",
       "        0.89133333, 0.172     , 0.89133333, 0.113     , 0.89033333,\n",
       "        0.82033333, 0.89133333, 0.69266667, 0.89133333, 0.213     ,\n",
       "        0.89133333, 0.172     ]),\n",
       " 'std_test_score': array([2.43823089e-02, 1.35467148e-02, 2.13422981e-02, 7.54491572e-03,\n",
       "        1.90436233e-02, 3.20001138e-05, 1.90436233e-02, 3.20001138e-05,\n",
       "        2.18649666e-02, 1.20462651e-02, 2.00356268e-02, 5.70668696e-04,\n",
       "        1.90436233e-02, 3.20001138e-05, 1.90436233e-02, 3.20001138e-05,\n",
       "        2.10205192e-02, 1.00444802e-02, 1.90436233e-02, 1.04515927e-02,\n",
       "        1.90436233e-02, 3.12534445e-03, 1.90436233e-02, 3.20001138e-05,\n",
       "        2.00409601e-02, 2.11876309e-02, 1.90436233e-02, 1.31804913e-02,\n",
       "        1.90436233e-02, 4.32001536e-04, 1.90436233e-02, 4.45868252e-03]),\n",
       " 'rank_test_score': array([17, 22, 14, 25,  1, 28,  1, 28, 15, 21, 12, 23,  1, 28,  1, 28, 13,\n",
       "        18,  1, 20,  1, 26,  1, 28, 11, 16,  1, 19,  1, 24,  1, 26]),\n",
       " 'split0_train_score': array([0.91243316, 0.35294118, 0.99799465, 0.20855615, 1.        ,\n",
       "        0.11296791, 1.        , 0.11296791, 0.96457219, 0.60962567,\n",
       "        0.99933155, 0.23729947, 1.        , 0.11296791, 1.        ,\n",
       "        0.11296791, 0.9986631 , 0.94719251, 1.        , 0.94451872,\n",
       "        1.        , 0.33088235, 1.        , 0.22259358, 1.        ,\n",
       "        0.9986631 , 1.        , 0.99933155, 1.        , 1.        ,\n",
       "        1.        , 1.        ]),\n",
       " 'split1_train_score': array([0.90558511, 0.29654255, 0.99534574, 0.20478723, 1.        ,\n",
       "        0.11303191, 1.        , 0.11303191, 0.96210106, 0.60837766,\n",
       "        1.        , 0.22406915, 1.        , 0.11303191, 1.        ,\n",
       "        0.11303191, 0.99601064, 0.92952128, 1.        , 0.95146277,\n",
       "        1.        , 0.24335106, 1.        , 0.22273936, 1.        ,\n",
       "        0.99800532, 1.        , 1.        , 1.        , 1.        ,\n",
       "        1.        , 1.        ]),\n",
       " 'mean_train_score': array([0.90900913, 0.32474186, 0.9966702 , 0.20667169, 1.        ,\n",
       "        0.11299991, 1.        , 0.11299991, 0.96333663, 0.60900166,\n",
       "        0.99966578, 0.23068431, 1.        , 0.11299991, 1.        ,\n",
       "        0.11299991, 0.99733687, 0.93835689, 1.        , 0.94799074,\n",
       "        1.        , 0.28711671, 1.        , 0.22266647, 1.        ,\n",
       "        0.99833421, 1.        , 0.99966578, 1.        , 1.        ,\n",
       "        1.        , 1.        ]),\n",
       " 'std_train_score': array([3.42402435e-03, 2.81993116e-02, 1.32445386e-03, 1.88445785e-03,\n",
       "        0.00000000e+00, 3.20002276e-05, 0.00000000e+00, 3.20002276e-05,\n",
       "        1.23556434e-03, 6.24004437e-04, 3.34224599e-04, 6.61515815e-03,\n",
       "        0.00000000e+00, 3.20002276e-05, 0.00000000e+00, 3.20002276e-05,\n",
       "        1.32623165e-03, 8.83561839e-03, 0.00000000e+00, 3.47202469e-03,\n",
       "        0.00000000e+00, 4.37656446e-02, 0.00000000e+00, 7.28894072e-05,\n",
       "        0.00000000e+00, 3.28891228e-04, 0.00000000e+00, 3.34224599e-04,\n",
       "        0.00000000e+00, 0.00000000e+00, 0.00000000e+00, 0.00000000e+00])}"
      ]
     },
     "execution_count": 84,
     "metadata": {},
     "output_type": "execute_result"
    }
   ],
   "source": [
    "# Here plot score (accuracy) for each model. You can use \"plot_scores\" function.\n",
    "\n",
    "# Example: plot_scores(parameters, scores, \"title\", \"x_label\", \"y_label\"), \n",
    "\n",
    "# You can see an example in the follow.\n",
    "# Note that the visualizations/plots provided are just simple examples/illustrations. \n",
    "# We encourage more informative and alternate methods to present results.\n",
    "# plot_scores(x, y, title = \"Title\", x_label = \"X\", y_label = \"Y\"):\n",
    "svm_model.cv_results_"
   ]
  },
  {
   "cell_type": "code",
   "execution_count": 9,
   "metadata": {},
   "outputs": [],
   "source": [
    "# Here report the score for the best model\n",
    "#\n",
    "# ------- Your Code -------\n",
    "#"
   ]
  },
  {
   "cell_type": "code",
   "execution_count": 76,
   "metadata": {},
   "outputs": [
    {
     "data": {
      "image/png": "[encoded data removed]",
      "text/plain": [
       "<Figure size 720x576 with 12 Axes>"
      ]
     },
     "metadata": {
      "needs_background": "light"
     },
     "output_type": "display_data"
    }
   ],
   "source": [
    "# Visualize the predictions\n",
    "# Example: vis_predictions(x_eval, y_pred, size_of_data)\n",
    "#\n",
    "#\n",
    "# ------- Your Code -------\n",
    "#\n",
    "vis_predictions(x_test, y_predict, len(y_predict))"
   ]
  },
  {
   "cell_type": "markdown",
   "metadata": {
    "colab_type": "text",
    "id": "DEQrdyLHsUIu"
   },
   "source": [
    "### 2.1.6: Summary\n",
    "\n",
    "Summarize your findings:\n",
    " * Which hyper-parameters were important and how did they influence your results?\n",
    " * What were other design choices you faced?\n",
    " * Any other interesting insights..."
   ]
  },
  {
   "cell_type": "markdown",
   "metadata": {
    "colab_type": "text",
    "id": "Fcq52WUUs2Mm"
   },
   "source": [
    "# 2.2: Model [M2]: *fill-this-in* (25 points)\n",
    "\n",
    "\n"
   ]
  },
  {
   "cell_type": "markdown",
   "metadata": {},
   "source": [
    "### 2.2.1: Hyper-parameters\n",
    "\n",
    "Define hyper-parameters for your method here"
   ]
  },
  {
   "cell_type": "code",
   "execution_count": 9,
   "metadata": {},
   "outputs": [],
   "source": [
    "batch_size_train = 64\n",
    "batch_size_test = 1000\n",
    "n_epochs = 10"
   ]
  },
  {
   "cell_type": "markdown",
   "metadata": {},
   "source": [
    "### 2.2.2: Data Preprocessing\n"
   ]
  },
  {
   "cell_type": "code",
   "execution_count": 10,
   "metadata": {},
   "outputs": [
    {
     "name": "stderr",
     "output_type": "stream",
     "text": [
      "C:\\ProgramData\\Miniconda3\\envs\\DSP\\lib\\site-packages\\torchvision\\datasets\\mnist.py:53: UserWarning: train_data has been renamed data\n",
      "  warnings.warn(\"train_data has been renamed data\")\n",
      "C:\\ProgramData\\Miniconda3\\envs\\DSP\\lib\\site-packages\\torchvision\\datasets\\mnist.py:58: UserWarning: test_data has been renamed data\n",
      "  warnings.warn(\"test_data has been renamed data\")\n"
     ]
    },
    {
     "name": "stdout",
     "output_type": "stream",
     "text": [
      "torch.Size([60000, 28, 28]) torch.Size([10000, 28, 28]) torch.Size([60000])\n"
     ]
    }
   ],
   "source": [
    "#\n",
    "#\n",
    "# ------- Your Code -------\n",
    "#\n",
    "# e.g. normalize, flatten input data.\n",
    "# convert data to torch.FloatTensor\n",
    "mean_train_data = training_data.train_data.float().mean()/255\n",
    "std_train_data = training_data.train_data.float().std()/255\n",
    "\n",
    "mean_test_data = test_data.test_data.float().mean()/255\n",
    "std_test_data = test_data.test_data.float().std()/255\n",
    "\n",
    "\n",
    "# train_transform = transforms.Compose([transform.ToTensor(),\n",
    "#                                torchvision.transforms.Normalize((mean_train_data, ), (std_train_data,))])\n",
    "\n",
    "# test_transform = transforms.Compose([transform.ToTensor(),\n",
    "#                                torchvision.transforms.Normalize((mean_test_data, ), (std_test_data,))]) \n",
    "\n",
    "# choose the training and test datasets\n",
    "train_data = datasets.MNIST(root='data/mnist', train=True,\n",
    "                                   download=True, transform=torchvision.transforms.Compose([\n",
    "                                  torchvision.transforms.ToTensor(),\n",
    "                                  torchvision.transforms.Normalize((mean_train_data, ), (std_train_data,))]))\n",
    "test_data = datasets.MNIST(root='data/mnist', train=False,\n",
    "                                  download=True, transform=torchvision.transforms.Compose([\n",
    "                                  torchvision.transforms.ToTensor(),\n",
    "                                  torchvision.transforms.Normalize((mean_test_data, ), (std_test_data,))]))\n",
    "\n",
    "\n",
    "train_loader = torch.utils.data.DataLoader(train_data, batch_size=batch_size_train)\n",
    "test_loader = torch.utils.data.DataLoader(test_data, batch_size=batch_size_test)\n",
    "\n",
    "print(train_data.train_data.shape, test_data.test_data.shape, train_data.targets.shape)\n",
    "\n",
    "# For gridsearch\n",
    "X_trf = train_data.data.reshape(-1, 1, 28, 28).float()\n",
    "X_trf = X_trf.numpy()\n",
    "\n",
    "# X_trf = X_trf.astype()\n",
    "y_trf = train_data.targets.long()\n",
    "y_trf = y_trf.numpy()"
   ]
  },
  {
   "cell_type": "markdown",
   "metadata": {},
   "source": [
    "### 2.2.3: Model\n",
    "\n",
    "Define your model here (all hyper-parameters in 2.1.1)"
   ]
  },
  {
   "cell_type": "code",
   "execution_count": null,
   "metadata": {},
   "outputs": [],
   "source": []
  },
  {
   "cell_type": "code",
   "execution_count": null,
   "metadata": {},
   "outputs": [],
   "source": []
  },
  {
   "cell_type": "markdown",
   "metadata": {},
   "source": [
    "### 2.2.4: Fit Model\n"
   ]
  },
  {
   "cell_type": "code",
   "execution_count": 11,
   "metadata": {},
   "outputs": [
    {
     "name": "stdout",
     "output_type": "stream",
     "text": [
      "Net(\n",
      "  (fc1): Linear(in_features=784, out_features=784, bias=True)\n",
      "  (fc2): Linear(in_features=784, out_features=512, bias=True)\n",
      "  (fc3): Linear(in_features=512, out_features=10, bias=True)\n",
      "  (dropout): Dropout(p=0.2, inplace=False)\n",
      ")\n"
     ]
    }
   ],
   "source": [
    "class Net(nn.Module):\n",
    "    def __init__(self, num_units=784, drop=0.2):\n",
    "        super(Net, self).__init__()\n",
    "        self.fc1 = nn.Linear(28 * 28, num_units)\n",
    "        self.fc2 = nn.Linear(num_units, 512)\n",
    "        self.fc3 = nn.Linear(512, 10)\n",
    "        self.dropout = nn.Dropout(drop)\n",
    "        \n",
    "\n",
    "    def forward(self, x):\n",
    "        # flatten image input\n",
    "        x = x.view(-1, self.num_flat_features(x))\n",
    "        # with relu activation function\n",
    "        x = F.relu(self.fc1(x))\n",
    "        return x\n",
    "    \n",
    "    def num_flat_features(self, x):\n",
    "        size = x.size()[1:]  # all dimensions except the batch dimension\n",
    "        num_features = 1\n",
    "        for s in size:\n",
    "            num_features *= s\n",
    "        return num_features\n",
    "\n",
    "\n",
    "# initialisng the NN\n",
    "model = Net()\n",
    "print(model)"
   ]
  },
  {
   "cell_type": "code",
   "execution_count": 12,
   "metadata": {},
   "outputs": [
    {
     "name": "stdout",
     "output_type": "stream",
     "text": [
      "Fitting 3 folds for each of 8 candidates, totalling 24 fits\n"
     ]
    },
    {
     "name": "stderr",
     "output_type": "stream",
     "text": [
      "[Parallel(n_jobs=1)]: Using backend SequentialBackend with 1 concurrent workers.\n"
     ]
    },
    {
     "name": "stdout",
     "output_type": "stream",
     "text": [
      "[CV] lr=0.001, module__drop=0.2, module__num_units=784, optimizer=<class 'torch.optim.sgd.SGD'> \n",
      "Re-initializing module because the following parameters were re-set: drop, num_units.\n",
      "Re-initializing module because the following parameters were re-set: drop, num_units.\n",
      "  epoch    train_loss    valid_acc    valid_loss     dur\n",
      "-------  ------------  -----------  ------------  ------\n",
      "      1           inf       0.5818       -5.9603  4.6622\n",
      "      2       -6.1247       0.6609       -6.2911  4.0002\n",
      "      3       -6.3777       0.6935       -6.4879  3.9892\n",
      "      4       -6.5437       0.7112       -6.6285  3.9960\n",
      "      5       -6.6678       0.7242       -6.7381  3.9392\n",
      "      6       -6.7670       0.7331       -6.8279  3.9820\n",
      "      7       -6.8497       0.7420       -6.9040  3.9869\n",
      "[CV]  lr=0.001, module__drop=0.2, module__num_units=784, optimizer=<class 'torch.optim.sgd.SGD'>, total=  30.3s\n"
     ]
    },
    {
     "name": "stderr",
     "output_type": "stream",
     "text": [
      "[Parallel(n_jobs=1)]: Done   1 out of   1 | elapsed:   31.7s remaining:    0.0s\n"
     ]
    },
    {
     "name": "stdout",
     "output_type": "stream",
     "text": [
      "[CV] lr=0.001, module__drop=0.2, module__num_units=784, optimizer=<class 'torch.optim.sgd.SGD'> \n",
      "Re-initializing module because the following parameters were re-set: drop, num_units.\n",
      "Re-initializing module because the following parameters were re-set: drop, num_units.\n",
      "  epoch    train_loss    valid_acc    valid_loss     dur\n",
      "-------  ------------  -----------  ------------  ------\n",
      "      1           inf       0.6258       -5.9290  3.8742\n",
      "      2       -6.1163       0.7019       -6.2702  4.0411\n",
      "      3       -6.3746       0.7345       -6.4707  3.9844\n",
      "      4       -6.5429       0.7493       -6.6133  4.1197\n",
      "      5       -6.6682       0.7587       -6.7240  3.9415\n",
      "      6       -6.7682       0.7646       -6.8146  3.9816\n",
      "      7       -6.8515       0.7687       -6.8913  3.9883\n",
      "[CV]  lr=0.001, module__drop=0.2, module__num_units=784, optimizer=<class 'torch.optim.sgd.SGD'>, total=  29.8s\n",
      "[CV] lr=0.001, module__drop=0.2, module__num_units=784, optimizer=<class 'torch.optim.sgd.SGD'> \n",
      "Re-initializing module because the following parameters were re-set: drop, num_units.\n",
      "Re-initializing module because the following parameters were re-set: drop, num_units.\n",
      "  epoch    train_loss    valid_acc    valid_loss     dur\n",
      "-------  ------------  -----------  ------------  ------\n",
      "      1           inf       0.5218       -5.9473  3.9861\n",
      "      2       -6.1348       0.6487       -6.2796  4.0032\n",
      "      3       -6.3878       0.6977       -6.4769  3.9940\n",
      "      4       -6.5538       0.7208       -6.6179  3.9706\n",
      "      5       -6.6779       0.7365       -6.7276  4.0449\n",
      "      6       -6.7771       0.7474       -6.8176  4.0079\n",
      "      7       -6.8597       0.7525       -6.8937  4.0840\n",
      "[CV]  lr=0.001, module__drop=0.2, module__num_units=784, optimizer=<class 'torch.optim.sgd.SGD'>, total=  29.8s\n",
      "[CV] lr=0.001, module__drop=0.2, module__num_units=512, optimizer=<class 'torch.optim.sgd.SGD'> \n",
      "Re-initializing module because the following parameters were re-set: drop, num_units.\n",
      "Re-initializing module because the following parameters were re-set: drop, num_units.\n",
      "  epoch    train_loss    valid_acc    valid_loss     dur\n",
      "-------  ------------  -----------  ------------  ------\n",
      "      1           inf       0.2761       -5.9813  2.9139\n",
      "      2       -6.1441       0.4310       -6.3035  2.9631\n",
      "      3       -6.3906       0.5429       -6.4966  2.9665\n",
      "      4       -6.5535       0.6121       -6.6353  2.9106\n",
      "      5       -6.6757       0.6548       -6.7436  2.8904\n",
      "      6       -6.7737       0.6839       -6.8325  2.9271\n",
      "      7       -6.8554       0.7042       -6.9079  2.9438\n",
      "[CV]  lr=0.001, module__drop=0.2, module__num_units=512, optimizer=<class 'torch.optim.sgd.SGD'>, total=  22.0s\n",
      "[CV] lr=0.001, module__drop=0.2, module__num_units=512, optimizer=<class 'torch.optim.sgd.SGD'> \n",
      "Re-initializing module because the following parameters were re-set: drop, num_units.\n",
      "Re-initializing module because the following parameters were re-set: drop, num_units.\n",
      "  epoch    train_loss    valid_acc    valid_loss     dur\n",
      "-------  ------------  -----------  ------------  ------\n",
      "      1           inf       0.6346       -5.9299  2.9277\n",
      "      2       -6.1196       0.7049       -6.2698  2.9279\n",
      "      3       -6.3765       0.7340       -6.4700  2.9667\n",
      "      4       -6.5442       0.7483       -6.6125  2.9436\n",
      "      5       -6.6692       0.7579       -6.7232  2.9607\n",
      "      6       -6.7690       0.7664       -6.8138  2.9250\n",
      "      7       -6.8521       0.7699       -6.8905  2.9387\n",
      "[CV]  lr=0.001, module__drop=0.2, module__num_units=512, optimizer=<class 'torch.optim.sgd.SGD'>, total=  22.1s\n",
      "[CV] lr=0.001, module__drop=0.2, module__num_units=512, optimizer=<class 'torch.optim.sgd.SGD'> \n",
      "Re-initializing module because the following parameters were re-set: drop, num_units.\n",
      "Re-initializing module because the following parameters were re-set: drop, num_units.\n",
      "  epoch    train_loss    valid_acc    valid_loss     dur\n",
      "-------  ------------  -----------  ------------  ------\n",
      "      1           inf       0.5009       -5.9618  2.9716\n",
      "      2       -6.1426       0.6332       -6.2888  2.9450\n",
      "      3       -6.3930       0.6916       -6.4839  2.9896\n",
      "      4       -6.5577       0.7224       -6.6236  2.9003\n",
      "      5       -6.6811       0.7404       -6.7325  2.9638\n",
      "      6       -6.7797       0.7514       -6.8218  2.9818\n",
      "      7       -6.8621       0.7599       -6.8975  3.0039\n",
      "[CV]  lr=0.001, module__drop=0.2, module__num_units=512, optimizer=<class 'torch.optim.sgd.SGD'>, total=  22.2s\n",
      "[CV] lr=0.001, module__drop=0.4, module__num_units=784, optimizer=<class 'torch.optim.sgd.SGD'> \n",
      "Re-initializing module because the following parameters were re-set: drop, num_units.\n",
      "Re-initializing module because the following parameters were re-set: drop, num_units.\n",
      "  epoch    train_loss    valid_acc    valid_loss     dur\n",
      "-------  ------------  -----------  ------------  ------\n",
      "      1           inf       0.6541       -5.9451  3.9922\n",
      "      2       -6.1147       0.7184       -6.2828  3.9725\n",
      "      3       -6.3715       0.7410       -6.4821  3.9742\n",
      "      4       -6.5392       0.7507       -6.6241  4.0485\n",
      "      5       -6.6642       0.7592       -6.7345  3.9763\n",
      "      6       -6.7640       0.7648       -6.8248  3.9703\n",
      "      7       -6.8472       0.7691       -6.9013  4.0193\n",
      "[CV]  lr=0.001, module__drop=0.4, module__num_units=784, optimizer=<class 'torch.optim.sgd.SGD'>, total=  29.8s\n",
      "[CV] lr=0.001, module__drop=0.4, module__num_units=784, optimizer=<class 'torch.optim.sgd.SGD'> \n",
      "Re-initializing module because the following parameters were re-set: drop, num_units.\n",
      "Re-initializing module because the following parameters were re-set: drop, num_units.\n",
      "  epoch    train_loss    valid_acc    valid_loss     dur\n",
      "-------  ------------  -----------  ------------  ------\n",
      "      1           inf       0.6261       -5.9509  3.9470\n",
      "      2       -6.1320       0.7006       -6.2817  4.0354\n",
      "      3       -6.3841       0.7376       -6.4786  4.0394\n",
      "      4       -6.5497       0.7556       -6.6193  4.0026\n",
      "      5       -6.6736       0.7670       -6.7289  3.9569\n",
      "      6       -6.7726       0.7719       -6.8188  4.0344\n",
      "      7       -6.8552       0.7777       -6.8949  3.9934\n",
      "[CV]  lr=0.001, module__drop=0.4, module__num_units=784, optimizer=<class 'torch.optim.sgd.SGD'>, total=  29.6s\n",
      "[CV] lr=0.001, module__drop=0.4, module__num_units=784, optimizer=<class 'torch.optim.sgd.SGD'> \n",
      "Re-initializing module because the following parameters were re-set: drop, num_units.\n",
      "Re-initializing module because the following parameters were re-set: drop, num_units.\n",
      "  epoch    train_loss    valid_acc    valid_loss     dur\n",
      "-------  ------------  -----------  ------------  ------\n",
      "      1           inf       0.5886       -5.9355  4.1725\n",
      "      2       -6.1277       0.6721       -6.2726  4.1361\n",
      "      3       -6.3833       0.7073       -6.4718  4.2509\n",
      "      4       -6.5504       0.7277       -6.6138  4.1487\n",
      "      5       -6.6752       0.7382       -6.7243  4.2292\n",
      "      6       -6.7748       0.7472       -6.8146  4.2232\n",
      "      7       -6.8578       0.7524       -6.8911  3.9980\n",
      "[CV]  lr=0.001, module__drop=0.4, module__num_units=784, optimizer=<class 'torch.optim.sgd.SGD'>, total=  31.0s\n",
      "[CV] lr=0.001, module__drop=0.4, module__num_units=512, optimizer=<class 'torch.optim.sgd.SGD'> \n",
      "Re-initializing module because the following parameters were re-set: drop, num_units.\n",
      "Re-initializing module because the following parameters were re-set: drop, num_units.\n",
      "  epoch    train_loss    valid_acc    valid_loss     dur\n",
      "-------  ------------  -----------  ------------  ------\n",
      "      1           inf       0.5697       -5.9482  2.9345\n",
      "      2       -6.1182       0.6790       -6.2844  2.9780\n",
      "      3       -6.3738       0.7227       -6.4831  2.9441\n",
      "      4       -6.5409       0.7430       -6.6248  2.9503\n",
      "      5       -6.6656       0.7530       -6.7350  2.9471\n",
      "      6       -6.7652       0.7605       -6.8252  2.9349\n",
      "      7       -6.8482       0.7633       -6.9016  2.9744\n",
      "[CV]  lr=0.001, module__drop=0.4, module__num_units=512, optimizer=<class 'torch.optim.sgd.SGD'>, total=  22.2s\n",
      "[CV] lr=0.001, module__drop=0.4, module__num_units=512, optimizer=<class 'torch.optim.sgd.SGD'> \n"
     ]
    },
    {
     "name": "stdout",
     "output_type": "stream",
     "text": [
      "Re-initializing module because the following parameters were re-set: drop, num_units.\n",
      "Re-initializing module because the following parameters were re-set: drop, num_units.\n",
      "  epoch    train_loss    valid_acc    valid_loss     dur\n",
      "-------  ------------  -----------  ------------  ------\n",
      "      1           inf       0.5065       -5.9768  2.9903\n",
      "      2       -6.1468       0.6213       -6.2972  3.0342\n",
      "      3       -6.3935       0.6700       -6.4899  2.9178\n",
      "      4       -6.5567       0.6993       -6.6283  2.9220\n",
      "      5       -6.6791       0.7174       -6.7365  2.9652\n",
      "      6       -6.7773       0.7290       -6.8253  2.9551\n",
      "      7       -6.8592       0.7370       -6.9007  2.9970\n",
      "[CV]  lr=0.001, module__drop=0.4, module__num_units=512, optimizer=<class 'torch.optim.sgd.SGD'>, total=  22.4s\n",
      "[CV] lr=0.001, module__drop=0.4, module__num_units=512, optimizer=<class 'torch.optim.sgd.SGD'> \n",
      "Re-initializing module because the following parameters were re-set: drop, num_units.\n",
      "Re-initializing module because the following parameters were re-set: drop, num_units.\n",
      "  epoch    train_loss    valid_acc    valid_loss     dur\n",
      "-------  ------------  -----------  ------------  ------\n",
      "      1           inf       0.1159       -6.1084  2.8980\n",
      "      2       -6.2693       0.1779       -6.3948  2.9576\n",
      "      3       -6.4908       0.2600       -6.5696  2.9573\n",
      "      4       -6.6392       0.3342       -6.6963  2.9371\n",
      "      5       -6.7515       0.3873       -6.7961  2.9554\n",
      "      6       -6.8421       0.4315       -6.8785  2.9233\n",
      "      7       -6.9181       0.4701       -6.9488  3.0153\n",
      "[CV]  lr=0.001, module__drop=0.4, module__num_units=512, optimizer=<class 'torch.optim.sgd.SGD'>, total=  22.2s\n",
      "[CV] lr=0.01, module__drop=0.2, module__num_units=784, optimizer=<class 'torch.optim.sgd.SGD'> \n",
      "Re-initializing module because the following parameters were re-set: drop, num_units.\n",
      "Re-initializing module because the following parameters were re-set: drop, num_units.\n",
      "  epoch    train_loss    valid_acc    valid_loss     dur\n",
      "-------  ------------  -----------  ------------  ------\n",
      "      1           inf       0.7236       -7.0929  3.9878\n",
      "      2       -7.2638       0.7517       -7.4313  3.9935\n",
      "      3       -7.5210       0.7603       -7.6311  4.0039\n",
      "      4       -7.6890       0.7672       -7.7734  3.9934\n",
      "      5       -7.8142       0.7717       -7.8841  4.0620\n",
      "      6       -7.9142       0.7723       -7.9746  4.3431\n",
      "      7       -7.9974       0.7733       -8.0512  4.2282\n",
      "[CV]  lr=0.01, module__drop=0.2, module__num_units=784, optimizer=<class 'torch.optim.sgd.SGD'>, total=  30.6s\n",
      "[CV] lr=0.01, module__drop=0.2, module__num_units=784, optimizer=<class 'torch.optim.sgd.SGD'> \n",
      "Re-initializing module because the following parameters were re-set: drop, num_units.\n",
      "Re-initializing module because the following parameters were re-set: drop, num_units.\n",
      "  epoch    train_loss    valid_acc    valid_loss     dur\n",
      "-------  ------------  -----------  ------------  ------\n",
      "      1           inf       0.7418       -7.0847  4.0733\n",
      "      2       -7.2693       0.7679       -7.4228  4.1727\n",
      "      3       -7.5262       0.7769       -7.6225  4.3861\n",
      "      4       -7.6941       0.7802       -7.7648  4.0962\n",
      "      5       -7.8193       0.7821       -7.8755  4.0594\n",
      "      6       -7.9192       0.7837       -7.9660  4.1584\n",
      "      7       -8.0024       0.7857       -8.0426  4.0085\n",
      "[CV]  lr=0.01, module__drop=0.2, module__num_units=784, optimizer=<class 'torch.optim.sgd.SGD'>, total=  30.8s\n",
      "[CV] lr=0.01, module__drop=0.2, module__num_units=784, optimizer=<class 'torch.optim.sgd.SGD'> \n",
      "Re-initializing module because the following parameters were re-set: drop, num_units.\n",
      "Re-initializing module because the following parameters were re-set: drop, num_units.\n",
      "  epoch    train_loss    valid_acc    valid_loss     dur\n",
      "-------  ------------  -----------  ------------  ------\n",
      "      1           inf       0.6946       -7.0952  3.9645\n",
      "      2       -7.2835       0.7549       -7.4278  4.1630\n",
      "      3       -7.5368       0.7725       -7.6256  4.1473\n",
      "      4       -7.7031       0.7814       -7.7669  4.5070\n",
      "      5       -7.8274       0.7854       -7.8769  4.3713\n",
      "      6       -7.9268       0.7874       -7.9670  4.0012\n",
      "      7       -8.0096       0.7891       -8.0434  3.9938\n",
      "[CV]  lr=0.01, module__drop=0.2, module__num_units=784, optimizer=<class 'torch.optim.sgd.SGD'>, total=  31.1s\n",
      "[CV] lr=0.01, module__drop=0.2, module__num_units=512, optimizer=<class 'torch.optim.sgd.SGD'> \n",
      "Re-initializing module because the following parameters were re-set: drop, num_units.\n",
      "Re-initializing module because the following parameters were re-set: drop, num_units.\n",
      "  epoch    train_loss    valid_acc    valid_loss     dur\n",
      "-------  ------------  -----------  ------------  ------\n",
      "      1           inf       0.6658       -7.1041  2.9581\n",
      "      2       -7.2716       0.7448       -7.4377  2.8776\n",
      "      3       -7.5260       0.7650       -7.6356  2.9516\n",
      "      4       -7.6926       0.7742       -7.7769  2.9990\n",
      "      5       -7.8171       0.7765       -7.8869  3.0989\n",
      "      6       -7.9166       0.7793       -7.9770  3.3400\n",
      "      7       -7.9995       0.7805       -8.0533  3.2480\n",
      "[CV]  lr=0.01, module__drop=0.2, module__num_units=512, optimizer=<class 'torch.optim.sgd.SGD'>, total=  23.3s\n",
      "[CV] lr=0.01, module__drop=0.2, module__num_units=512, optimizer=<class 'torch.optim.sgd.SGD'> \n",
      "Re-initializing module because the following parameters were re-set: drop, num_units.\n",
      "Re-initializing module because the following parameters were re-set: drop, num_units.\n",
      "  epoch    train_loss    valid_acc    valid_loss     dur\n",
      "-------  ------------  -----------  ------------  ------\n",
      "      1           inf       0.5921       -7.1192  2.9414\n",
      "      2       -7.2979       0.7058       -7.4436  3.0499\n",
      "      3       -7.5454       0.7423       -7.6375  3.0677\n",
      "      4       -7.7086       0.7551       -7.7765  2.9718\n",
      "      5       -7.8310       0.7622       -7.8850  3.0275\n",
      "      6       -7.9291       0.7687       -7.9740  3.0187\n",
      "      7       -8.0109       0.7716       -8.0495  3.0229\n",
      "[CV]  lr=0.01, module__drop=0.2, module__num_units=512, optimizer=<class 'torch.optim.sgd.SGD'>, total=  22.7s\n",
      "[CV] lr=0.01, module__drop=0.2, module__num_units=512, optimizer=<class 'torch.optim.sgd.SGD'> \n",
      "Re-initializing module because the following parameters were re-set: drop, num_units.\n",
      "Re-initializing module because the following parameters were re-set: drop, num_units.\n",
      "  epoch    train_loss    valid_acc    valid_loss     dur\n",
      "-------  ------------  -----------  ------------  ------\n",
      "      1           inf       0.1323       -7.2117  2.9699\n",
      "      2       -7.3837       0.1726       -7.5181  2.9741\n",
      "      3       -7.6176       0.2021       -7.7009  2.9341\n",
      "      4       -7.7718       0.2270       -7.8321  3.1127\n",
      "      5       -7.8876       0.2515       -7.9347  2.9587\n",
      "      6       -7.9805       0.2804       -8.0190  3.3996\n",
      "      7       -8.0582       0.3073       -8.0908  3.4658\n",
      "[CV]  lr=0.01, module__drop=0.2, module__num_units=512, optimizer=<class 'torch.optim.sgd.SGD'>, total=  23.8s\n",
      "[CV] lr=0.01, module__drop=0.4, module__num_units=784, optimizer=<class 'torch.optim.sgd.SGD'> \n",
      "Re-initializing module because the following parameters were re-set: drop, num_units.\n",
      "Re-initializing module because the following parameters were re-set: drop, num_units.\n",
      "  epoch    train_loss    valid_acc    valid_loss     dur\n",
      "-------  ------------  -----------  ------------  ------\n",
      "      1           inf       0.7528       -7.0894  4.5430\n",
      "      2       -7.2620       0.7682       -7.4292  4.6329\n",
      "      3       -7.5199       0.7730       -7.6295  4.1202\n",
      "      4       -7.6881       0.7741       -7.7722  4.0458\n",
      "      5       -7.8135       0.7760       -7.8830  3.9888\n",
      "      6       -7.9136       0.7778       -7.9736  4.0212\n",
      "      7       -7.9969       0.7793       -8.0504  3.9861\n",
      "[CV]  lr=0.01, module__drop=0.4, module__num_units=784, optimizer=<class 'torch.optim.sgd.SGD'>, total=  31.2s\n",
      "[CV] lr=0.01, module__drop=0.4, module__num_units=784, optimizer=<class 'torch.optim.sgd.SGD'> \n",
      "Re-initializing module because the following parameters were re-set: drop, num_units.\n"
     ]
    },
    {
     "name": "stdout",
     "output_type": "stream",
     "text": [
      "Re-initializing module because the following parameters were re-set: drop, num_units.\n",
      "  epoch    train_loss    valid_acc    valid_loss     dur\n",
      "-------  ------------  -----------  ------------  ------\n",
      "      1           inf       0.7800       -7.0816  4.0082\n",
      "      2       -7.2668       0.7886       -7.4212  4.0410\n",
      "      3       -7.5247       0.7890       -7.6215  3.9722\n",
      "      4       -7.6930       0.7899       -7.7641  4.0283\n",
      "      5       -7.8184       0.7924       -7.8748  4.0424\n",
      "      6       -7.9185       0.7929       -7.9655  4.5122\n",
      "      7       -8.0018       0.7929       -8.0422  4.3037\n",
      "[CV]  lr=0.01, module__drop=0.4, module__num_units=784, optimizer=<class 'torch.optim.sgd.SGD'>, total=  30.9s\n",
      "[CV] lr=0.01, module__drop=0.4, module__num_units=784, optimizer=<class 'torch.optim.sgd.SGD'> \n",
      "Re-initializing module because the following parameters were re-set: drop, num_units.\n",
      "Re-initializing module because the following parameters were re-set: drop, num_units.\n",
      "  epoch    train_loss    valid_acc    valid_loss     dur\n",
      "-------  ------------  -----------  ------------  ------\n",
      "      1           inf       0.6357       -7.1068  4.3736\n",
      "      2       -7.2916       0.7107       -7.4354  4.4062\n",
      "      3       -7.5425       0.7395       -7.6312  4.1292\n",
      "      4       -7.7075       0.7529       -7.7714  3.9954\n",
      "      5       -7.8309       0.7616       -7.8807  4.0836\n",
      "      6       -7.9298       0.7690       -7.9703  4.0267\n",
      "      7       -8.0122       0.7730       -8.0463  4.0191\n",
      "[CV]  lr=0.01, module__drop=0.4, module__num_units=784, optimizer=<class 'torch.optim.sgd.SGD'>, total=  30.7s\n",
      "[CV] lr=0.01, module__drop=0.4, module__num_units=512, optimizer=<class 'torch.optim.sgd.SGD'> \n",
      "Re-initializing module because the following parameters were re-set: drop, num_units.\n",
      "Re-initializing module because the following parameters were re-set: drop, num_units.\n",
      "  epoch    train_loss    valid_acc    valid_loss     dur\n",
      "-------  ------------  -----------  ------------  ------\n",
      "      1           inf       0.7552       -7.0878  3.0799\n",
      "      2       -7.2604       0.7720       -7.4285  3.0166\n",
      "      3       -7.5189       0.7793       -7.6291  2.9910\n",
      "      4       -7.6874       0.7820       -7.7719  3.2814\n",
      "      5       -7.8130       0.7841       -7.8828  3.1301\n",
      "      6       -7.9132       0.7850       -7.9735  3.1337\n",
      "      7       -7.9966       0.7857       -8.0502  3.2513\n",
      "[CV]  lr=0.01, module__drop=0.4, module__num_units=512, optimizer=<class 'torch.optim.sgd.SGD'>, total=  23.7s\n",
      "[CV] lr=0.01, module__drop=0.4, module__num_units=512, optimizer=<class 'torch.optim.sgd.SGD'> \n",
      "Re-initializing module because the following parameters were re-set: drop, num_units.\n",
      "Re-initializing module because the following parameters were re-set: drop, num_units.\n",
      "  epoch    train_loss    valid_acc    valid_loss     dur\n",
      "-------  ------------  -----------  ------------  ------\n",
      "      1           inf       0.7205       -7.0941  3.1858\n",
      "      2       -7.2770       0.7667       -7.4279  3.3789\n",
      "      3       -7.5310       0.7776       -7.6260  3.2832\n",
      "      4       -7.6976       0.7809       -7.7674  3.8148\n",
      "      5       -7.8220       0.7830       -7.8775  3.5920\n",
      "      6       -7.9215       0.7846       -7.9677  3.2048\n",
      "      7       -8.0044       0.7849       -8.0441  3.0241\n",
      "[CV]  lr=0.01, module__drop=0.4, module__num_units=512, optimizer=<class 'torch.optim.sgd.SGD'>, total=  25.4s\n",
      "[CV] lr=0.01, module__drop=0.4, module__num_units=512, optimizer=<class 'torch.optim.sgd.SGD'> \n",
      "Re-initializing module because the following parameters were re-set: drop, num_units.\n",
      "Re-initializing module because the following parameters were re-set: drop, num_units.\n",
      "  epoch    train_loss    valid_acc    valid_loss     dur\n",
      "-------  ------------  -----------  ------------  ------\n",
      "      1           inf       0.3484       -7.1284  3.0920\n",
      "      2       -7.3085       0.5352       -7.4490  3.2068\n",
      "      3       -7.5539       0.6159       -7.6413  3.5211\n",
      "      4       -7.7162       0.6660       -7.7794  3.3138\n",
      "      5       -7.8381       0.6971       -7.8874  3.5442\n",
      "      6       -7.9358       0.7192       -7.9760  3.2249\n",
      "      7       -8.0174       0.7342       -8.0513  2.9310\n",
      "[CV]  lr=0.01, module__drop=0.4, module__num_units=512, optimizer=<class 'torch.optim.sgd.SGD'>, total=  24.5s\n"
     ]
    },
    {
     "name": "stderr",
     "output_type": "stream",
     "text": [
      "[Parallel(n_jobs=1)]: Done  24 out of  24 | elapsed: 11.3min finished\n"
     ]
    },
    {
     "name": "stdout",
     "output_type": "stream",
     "text": [
      "Re-initializing module because the following parameters were re-set: drop, num_units.\n",
      "Re-initializing module because the following parameters were re-set: drop, num_units.\n",
      "  epoch    train_loss    valid_acc    valid_loss     dur\n",
      "-------  ------------  -----------  ------------  ------\n",
      "      1           inf       0.7613       -7.2843  6.4269\n",
      "      2       -7.4606       0.7763       -7.6288  6.6182\n",
      "      3       -7.7213       0.7824       -7.8307  6.1845\n",
      "      4       -7.8907       0.7853       -7.9741  6.1555\n",
      "      5       -8.0168       0.7873       -8.0854  6.4873\n",
      "      6       -8.1173       0.7878       -8.1764  6.2396\n",
      "      7       -8.2009       0.7887       -8.2533  6.2904\n"
     ]
    },
    {
     "data": {
      "text/plain": [
       "GridSearchCV(cv=3, error_score='raise-deprecating',\n",
       "       estimator=<class 'skorch.classifier.NeuralNetClassifier'>[uninitialized](\n",
       "  module=Net(\n",
       "    (fc1): Linear(in_features=784, out_features=784, bias=True)\n",
       "    (fc2): Linear(in_features=784, out_features=512, bias=True)\n",
       "    (fc3): Linear(in_features=512, out_features=10, bias=True)\n",
       "    (dropout): Dropout(p=0.2, inplace=False)\n",
       "  ),\n",
       "),\n",
       "       fit_params=None, iid='warn', n_jobs=None,\n",
       "       param_grid={'lr': [0.001, 0.01], 'optimizer': [<class 'torch.optim.sgd.SGD'>], 'module__num_units': [784, 512], 'module__drop': [0.2, 0.4]},\n",
       "       pre_dispatch='2*n_jobs', refit=True, return_train_score='warn',\n",
       "       scoring='accuracy', verbose=2)"
      ]
     },
     "execution_count": 12,
     "metadata": {},
     "output_type": "execute_result"
    }
   ],
   "source": [
    "\n",
    "net = NeuralNetClassifier(\n",
    "    model,\n",
    "    max_epochs=7,\n",
    "    lr=0.1,\n",
    "    optimizer=optim.SGD,\n",
    "    optimizer_momentum=0.9,\n",
    "    # Shuffle training data on each epoch\n",
    "    iterator_train__shuffle=True,\n",
    "    iterator_valid_shuffle=True,\n",
    ")\n",
    "\n",
    "\n",
    "params = {\n",
    "    'lr': [0.001, 0.01],\n",
    "    'optimizer': [optim.SGD], #tried Adam also\n",
    "    'module__num_units': [784, 512],\n",
    "    'module__drop': [0.2, 0.4]\n",
    "}\n",
    "\n",
    "\n",
    "grid_search = sklearn.model_selection.GridSearchCV(net, params, refit=True, scoring='accuracy', verbose=2, cv=3)\n",
    "grid_search.fit(X_trf, y_trf)"
   ]
  },
  {
   "cell_type": "code",
   "execution_count": 14,
   "metadata": {},
   "outputs": [
    {
     "data": {
      "text/plain": [
       "<class 'skorch.classifier.NeuralNetClassifier'>[initialized](\n",
       "  module_=Net(\n",
       "    (fc1): Linear(in_features=784, out_features=784, bias=True)\n",
       "    (fc2): Linear(in_features=784, out_features=512, bias=True)\n",
       "    (fc3): Linear(in_features=512, out_features=10, bias=True)\n",
       "    (dropout): Dropout(p=0.4, inplace=False)\n",
       "  ),\n",
       ")"
      ]
     },
     "execution_count": 14,
     "metadata": {},
     "output_type": "execute_result"
    }
   ],
   "source": [
    "grid_search.best_estimator_"
   ]
  },
  {
   "cell_type": "code",
   "execution_count": 44,
   "metadata": {},
   "outputs": [],
   "source": [
    "criterion = nn.CrossEntropyLoss()\n",
    "optimizer = torch.optim.SGD(model.parameters(), lr=learning_rate)"
   ]
  },
  {
   "cell_type": "code",
   "execution_count": null,
   "metadata": {},
   "outputs": [],
   "source": []
  },
  {
   "cell_type": "code",
   "execution_count": null,
   "metadata": {},
   "outputs": [
    {
     "name": "stdout",
     "output_type": "stream",
     "text": [
      "Epoch: 1 \tTraining Loss: 2.069463\n",
      "Epoch: 2 \tTraining Loss: 1.344382\n",
      "Epoch: 3 \tTraining Loss: 1.237780\n",
      "Epoch: 4 \tTraining Loss: 0.860631\n",
      "Epoch: 5 \tTraining Loss: 0.460861\n"
     ]
    }
   ],
   "source": [
    "n_epochs = 10\n",
    "\n",
    "model.train()\n",
    "for epoch in range(n_epochs):\n",
    "    # monitor training loss\n",
    "    train_loss = 0.0\n",
    "    \n",
    "    for data, target in train_loader:\n",
    "        # clear the gradients of all optimized variables\n",
    "        optimizer.zero_grad()\n",
    "        # forward pass: compute predicted outputs by passing inputs to the model\n",
    "        output = model(data)\n",
    "        # calculate the loss\n",
    "        loss = criterion(output, target)\n",
    "        # backward pass: compute gradient of the loss with respect to model parameters\n",
    "        loss.backward()\n",
    "        # perform a single optimization step (parameter update)\n",
    "        optimizer.step()\n",
    "        # update running training loss\n",
    "        train_loss += loss.item()*data.size(0)\n",
    "        \n",
    "    # print training statistics \n",
    "    # calculate average loss over an epoch\n",
    "    train_loss = train_loss/len(train_loader.dataset)\n",
    "\n",
    "    print('Epoch: {} \\tTraining Loss: {:.6f}'.format(\n",
    "        epoch+1, \n",
    "        train_loss\n",
    "        ))\n",
    "    \n",
    "\n",
    "    "
   ]
  },
  {
   "cell_type": "code",
   "execution_count": null,
   "metadata": {},
   "outputs": [],
   "source": []
  },
  {
   "cell_type": "code",
   "execution_count": null,
   "metadata": {},
   "outputs": [],
   "source": []
  },
  {
   "cell_type": "code",
   "execution_count": 49,
   "metadata": {},
   "outputs": [
    {
     "name": "stdout",
     "output_type": "stream",
     "text": [
      "Fitting 2 folds for each of 4 candidates, totalling 8 fits\n"
     ]
    },
    {
     "name": "stderr",
     "output_type": "stream",
     "text": [
      "[Parallel(n_jobs=1)]: Using backend SequentialBackend with 1 concurrent workers.\n"
     ]
    },
    {
     "name": "stdout",
     "output_type": "stream",
     "text": [
      "[CV] lr=0.001, module__num_units=784, optimizer=<class 'torch.optim.sgd.SGD'> \n",
      "Re-initializing module because the following parameters were re-set: num_units.\n",
      "Re-initializing module because the following parameters were re-set: num_units.\n",
      "  epoch    train_loss    valid_acc    valid_loss     dur\n",
      "-------  ------------  -----------  ------------  ------\n",
      "      1           inf       0.1331           inf  3.1314\n",
      "      2           inf       0.1711       -6.0950  3.0039\n",
      "      3       -6.2368       0.2136       -6.3147  2.9147\n",
      "[CV]  lr=0.001, module__num_units=784, optimizer=<class 'torch.optim.sgd.SGD'>, total=  10.4s\n"
     ]
    },
    {
     "name": "stderr",
     "output_type": "stream",
     "text": [
      "[Parallel(n_jobs=1)]: Done   1 out of   1 | elapsed:   11.4s remaining:    0.0s\n"
     ]
    },
    {
     "name": "stdout",
     "output_type": "stream",
     "text": [
      "[CV] lr=0.001, module__num_units=784, optimizer=<class 'torch.optim.sgd.SGD'> \n",
      "Re-initializing module because the following parameters were re-set: num_units.\n",
      "Re-initializing module because the following parameters were re-set: num_units.\n",
      "  epoch    train_loss    valid_acc    valid_loss     dur\n",
      "-------  ------------  -----------  ------------  ------\n",
      "      1           inf       0.4983       -5.8427  3.0302\n",
      "      2       -6.0161       0.6510       -6.1618  3.0521\n",
      "      3       -6.2614       0.7036       -6.3542  2.9703\n",
      "[CV]  lr=0.001, module__num_units=784, optimizer=<class 'torch.optim.sgd.SGD'>, total=  10.5s\n",
      "[CV] lr=0.001, module__num_units=512, optimizer=<class 'torch.optim.sgd.SGD'> \n",
      "Re-initializing module because the following parameters were re-set: num_units.\n",
      "Re-initializing module because the following parameters were re-set: num_units.\n",
      "  epoch    train_loss    valid_acc    valid_loss     dur\n",
      "-------  ------------  -----------  ------------  ------\n",
      "      1           inf       0.1044       -6.1022  2.2012\n",
      "      2       -6.2789       0.1044       -6.3758  2.2384\n",
      "      3       -6.4886       0.1044       -6.5410  2.2364\n",
      "[CV]  lr=0.001, module__num_units=512, optimizer=<class 'torch.optim.sgd.SGD'>, total=   7.9s\n",
      "[CV] lr=0.001, module__num_units=512, optimizer=<class 'torch.optim.sgd.SGD'> \n",
      "Re-initializing module because the following parameters were re-set: num_units.\n",
      "Re-initializing module because the following parameters were re-set: num_units.\n",
      "  epoch    train_loss    valid_acc    valid_loss     dur\n",
      "-------  ------------  -----------  ------------  ------\n",
      "      1           inf       0.4692       -5.8619  2.2445\n",
      "      2       -6.0302       0.5924       -6.1738  2.2685\n",
      "      3       -6.2709       0.6425       -6.3629  2.1826\n",
      "[CV]  lr=0.001, module__num_units=512, optimizer=<class 'torch.optim.sgd.SGD'>, total=   8.0s\n",
      "[CV] lr=0.01, module__num_units=784, optimizer=<class 'torch.optim.sgd.SGD'> \n",
      "Re-initializing module because the following parameters were re-set: num_units.\n",
      "Re-initializing module because the following parameters were re-set: num_units.\n",
      "  epoch    train_loss    valid_acc    valid_loss     dur\n",
      "-------  ------------  -----------  ------------  ------\n",
      "      1           inf       0.6438       -6.9294  2.9612\n",
      "      2       -7.1367       0.7008       -7.2603  3.0101\n",
      "      3       -7.3893       0.7235       -7.4574  3.0202\n",
      "[CV]  lr=0.01, module__num_units=784, optimizer=<class 'torch.optim.sgd.SGD'>, total=  10.4s\n",
      "[CV] lr=0.01, module__num_units=784, optimizer=<class 'torch.optim.sgd.SGD'> \n",
      "Re-initializing module because the following parameters were re-set: num_units.\n",
      "Re-initializing module because the following parameters were re-set: num_units.\n",
      "  epoch    train_loss    valid_acc    valid_loss     dur\n",
      "-------  ------------  -----------  ------------  ------\n",
      "      1           inf       0.7606       -6.9480  2.9830\n",
      "      2       -7.1335       0.7764       -7.2869  3.0396\n",
      "      3       -7.3910       0.7829       -7.4870  3.1671\n",
      "[CV]  lr=0.01, module__num_units=784, optimizer=<class 'torch.optim.sgd.SGD'>, total=  10.8s\n",
      "[CV] lr=0.01, module__num_units=512, optimizer=<class 'torch.optim.sgd.SGD'> \n",
      "Re-initializing module because the following parameters were re-set: num_units.\n",
      "Re-initializing module because the following parameters were re-set: num_units.\n",
      "  epoch    train_loss    valid_acc    valid_loss     dur\n",
      "-------  ------------  -----------  ------------  ------\n",
      "      1           inf       0.7391       -6.9161  2.3174\n",
      "      2       -7.1265       0.7573       -7.2531  2.2107\n",
      "      3       -7.3829       0.7638       -7.4524  2.2404\n",
      "[CV]  lr=0.01, module__num_units=512, optimizer=<class 'torch.optim.sgd.SGD'>, total=   7.9s\n",
      "[CV] lr=0.01, module__num_units=512, optimizer=<class 'torch.optim.sgd.SGD'> \n",
      "Re-initializing module because the following parameters were re-set: num_units.\n",
      "Re-initializing module because the following parameters were re-set: num_units.\n",
      "  epoch    train_loss    valid_acc    valid_loss     dur\n",
      "-------  ------------  -----------  ------------  ------\n",
      "      1           inf       0.0911       -7.0572  2.2349\n",
      "      2       -7.2180       0.1076       -7.3636  2.2212\n",
      "      3       -7.4536       0.1465       -7.5478  2.1722\n",
      "[CV]  lr=0.01, module__num_units=512, optimizer=<class 'torch.optim.sgd.SGD'>, total=   7.9s\n"
     ]
    },
    {
     "name": "stderr",
     "output_type": "stream",
     "text": [
      "[Parallel(n_jobs=1)]: Done   8 out of   8 | elapsed:  1.4min finished\n"
     ]
    },
    {
     "data": {
      "text/plain": [
       "GridSearchCV(cv=2, error_score='raise-deprecating',\n",
       "       estimator=<class 'skorch.classifier.NeuralNetClassifier'>[uninitialized](\n",
       "  module=Net(\n",
       "    (fc1): Linear(in_features=784, out_features=784, bias=True)\n",
       "    (fc2): Linear(in_features=784, out_features=512, bias=True)\n",
       "    (fc3): Linear(in_features=512, out_features=10, bias=True)\n",
       "    (dropout): Dropout(p=0.2, inplace=False)\n",
       "  ),\n",
       "),\n",
       "       fit_params=None, iid='warn', n_jobs=None,\n",
       "       param_grid={'lr': [0.001, 0.01], 'optimizer': [<class 'torch.optim.sgd.SGD'>], 'module__num_units': [784, 512]},\n",
       "       pre_dispatch='2*n_jobs', refit=False, return_train_score='warn',\n",
       "       scoring='accuracy', verbose=2)"
      ]
     },
     "execution_count": 49,
     "metadata": {},
     "output_type": "execute_result"
    }
   ],
   "source": [
    "\n",
    "\n",
    "params = {\n",
    "    'lr': [0.001, 0.01],\n",
    "    'optimizer': [optim.SGD],\n",
    "    'module__num_units': [784, 512],\n",
    "    'module__drop': [0.2, 0.4]\n",
    "}\n",
    "\n",
    "gs = sklearn.model_selection.GridSearchCV(net, params, refit=False, scoring='accuracy', verbose=2, cv=2)\n",
    "\n",
    "gs.fit(X_trf, y_trf)"
   ]
  },
  {
   "cell_type": "code",
   "execution_count": 50,
   "metadata": {},
   "outputs": [
    {
     "data": {
      "text/plain": [
       "{'lr': 0.01, 'module__num_units': 784, 'optimizer': torch.optim.sgd.SGD}"
      ]
     },
     "execution_count": 50,
     "metadata": {},
     "output_type": "execute_result"
    }
   ],
   "source": [
    "gs.best_params_"
   ]
  },
  {
   "cell_type": "code",
   "execution_count": 34,
   "metadata": {},
   "outputs": [
    {
     "name": "stderr",
     "output_type": "stream",
     "text": [
      "C:\\ProgramData\\Miniconda3\\envs\\DSP\\lib\\site-packages\\torch\\nn\\_reduction.py:43: UserWarning: size_average and reduce args will be deprecated, please use reduction='sum' instead.\n",
      "  warnings.warn(warning.format(ret))\n"
     ]
    },
    {
     "name": "stdout",
     "output_type": "stream",
     "text": [
      "\n",
      "Test set: Avg. loss: -0.0939, Accuracy: 4/10000 (0%)\n",
      "\n"
     ]
    }
   ],
   "source": [
    "train_losses = []\n",
    "train_counter = []\n",
    "test_losses = []\n",
    "test_counter = [i*len(train_loader.dataset) for i in range(n_epochs + 1)]\n",
    "def test():\n",
    "    model.eval()\n",
    "    test_loss = 0 \n",
    "    correct = 0 \n",
    "    with torch.no_grad():\n",
    "        for data, target in test_loader:\n",
    "            output = model(data)\n",
    "            test_loss += F.nll_loss(output, target, size_average=False).item()\n",
    "            pred = output.data.max(1, keepdim=True)[1]\n",
    "            correct += pred.eq(target.data.view_as(pred)).sum()\n",
    "            \n",
    "        test_loss /= len(test_loader.dataset)\n",
    "        test_losses.append(test_loss)\n",
    "        print('\\nTest set: Avg. loss: {:.4f}, Accuracy: {}/{} ({:.0f}%)\\n'.format(\n",
    "            test_loss, correct, len(test_loader.dataset), \n",
    "            100. * correct / len(test_loader.dataset)))\n",
    "        \n",
    "test()"
   ]
  },
  {
   "cell_type": "markdown",
   "metadata": {},
   "source": [
    "### 2.2.5: Evaluation\n",
    "\n",
    "Evaluate your model.\n",
    "  * Evaluate models with different parameters \n",
    "  * Plot score (accuracy) for each model using \"plot_scores\" function\n",
    "  * Report the score for the best model\n",
    "  * Use \"vis_predictions\" function to visualize few examples of test/validation set with the corresponding predictions\n"
   ]
  },
  {
   "cell_type": "code",
   "execution_count": 11,
   "metadata": {},
   "outputs": [
    {
     "data": {
      "image/png": "[encoded data removed]",
      "text/plain": [
       "<Figure size 432x288 with 1 Axes>"
      ]
     },
     "metadata": {
      "needs_background": "light"
     },
     "output_type": "display_data"
    }
   ],
   "source": [
    "# Here plot score (accuracy) for each model. You can use \"plot_scores\" function.\n",
    "\n",
    "# Example: plot_scores(parameters, scores, \"title\", \"x_label\", \"y_label\"), \n",
    "\n",
    "# You can see an example in the follow.\n",
    "# Note that the visualizations/plots provided are just simple examples/illustrations. \n",
    "# We encourage more informative and alternate methods to present results."
   ]
  },
  {
   "cell_type": "code",
   "execution_count": 13,
   "metadata": {},
   "outputs": [],
   "source": [
    "# Here report the score for the best model\n",
    "#\n",
    "# ------- Your Code -------\n",
    "#"
   ]
  },
  {
   "cell_type": "code",
   "execution_count": 198,
   "metadata": {},
   "outputs": [
    {
     "data": {
      "image/png": "[encoded data removed]",
      "text/plain": [
       "<Figure size 432x288 with 12 Axes>"
      ]
     },
     "metadata": {
      "needs_background": "light"
     },
     "output_type": "display_data"
    }
   ],
   "source": [
    "# Visualize the predictions\n",
    "# Example: vis_predictions(x_eval, y_pred, size_of_data)\n",
    "#\n",
    "#\n",
    "# ------- Your Code -------\n",
    "#"
   ]
  },
  {
   "cell_type": "markdown",
   "metadata": {},
   "source": [
    "### 2.2.6: Summary\n",
    "\n",
    "Summarize your findings:\n",
    " * Which hyper-parameters were important and how did they influence your results?\n",
    " * What were other design choices you faced?\n",
    " * Any other interesting insights..."
   ]
  },
  {
   "cell_type": "markdown",
   "metadata": {},
   "source": [
    "# 2.3: Model [M3] (Neural Networks): *fill-this-in* (25 points)\n",
    "\n"
   ]
  },
  {
   "cell_type": "markdown",
   "metadata": {},
   "source": [
    "### 2.3.1: Hyper-parameters\n",
    "\n",
    "Define hyper-parameters for your method here"
   ]
  },
  {
   "cell_type": "code",
   "execution_count": 16,
   "metadata": {},
   "outputs": [],
   "source": [
    "\n",
    "batch_size_train = 64 # Fill in\n",
    "batch_size_test = 1000 # Fill in\n",
    "n_epochs = 10 # Fill in\n",
    "learning_rate = 0.01\n",
    "momentum = 0.5\n",
    "\n",
    "test_set = 'val'  #  or 'test'\n",
    "# Decide all your hyperparameters based on validation performance\n",
    "# Then, switch to 'test' for final evaluation\n",
    "\n",
    "if test_set == 'val':\n",
    "    train_idxs, val_idxs = ..., ...   # Fill in\n",
    "    x_train, y_train = x_trainval[train_idxs], y_trainval[train_idxs]\n",
    "    x_eval, y_eval = x_trainval[val_idxs], y_trainval[val_idxs]\n",
    "else:\n",
    "    x_train, y_train = x_trainval, y_trainval\n",
    "    x_eval, y_eval = x_test, y_test"
   ]
  },
  {
   "cell_type": "markdown",
   "metadata": {},
   "source": [
    "### 2.3.2: Data Preprocessing\n"
   ]
  },
  {
   "cell_type": "code",
   "execution_count": null,
   "metadata": {},
   "outputs": [],
   "source": []
  },
  {
   "cell_type": "code",
   "execution_count": 17,
   "metadata": {},
   "outputs": [],
   "source": [
    "\n",
    "mean_train_data = training_data.train_data.float().mean()/255\n",
    "std_train_data = training_data.train_data.float().std()/255\n",
    "\n",
    "mean_test_data = test_data.test_data.float().mean()/255\n",
    "std_test_data = test_data.test_data.float().std()/255\n",
    "\n",
    "train_loader = torch.utils.data.DataLoader(\n",
    "    torchvision.datasets.MNIST('data/mnist/', train=True, download=False,\n",
    "                              transform=torchvision.transforms.Compose([\n",
    "                                  torchvision.transforms.ToTensor(),\n",
    "                                  torchvision.transforms.Normalize((mean_train_data, ), (std_train_data,))\n",
    "                              ])), batch_size=batch_size_train, shuffle=True)\n",
    "\n",
    "\n",
    "test_loader = torch.utils.data.DataLoader(\n",
    "    torchvision.datasets.MNIST('data/mnist/', train=False, download=False,\n",
    "                              transform=torchvision.transforms.Compose([\n",
    "                                  torchvision.transforms.ToTensor(),\n",
    "                              ])), batch_size=batch_size_test, shuffle=True)\n"
   ]
  },
  {
   "cell_type": "code",
   "execution_count": null,
   "metadata": {},
   "outputs": [],
   "source": []
  },
  {
   "cell_type": "code",
   "execution_count": 9,
   "metadata": {},
   "outputs": [
    {
     "data": {
      "text/plain": [
       "torch.Size([64, 1, 28, 28])"
      ]
     },
     "execution_count": 9,
     "metadata": {},
     "output_type": "execute_result"
    }
   ],
   "source": []
  },
  {
   "cell_type": "markdown",
   "metadata": {},
   "source": [
    "### 2.3.3: Model\n",
    "\n",
    "Define your model here"
   ]
  },
  {
   "cell_type": "code",
   "execution_count": 18,
   "metadata": {},
   "outputs": [],
   "source": [
    "class Net(nn.Module):\n",
    "\n",
    "    def __init__(self):\n",
    "        super(Net, self).__init__()\n",
    "        # 1 input image channel, 10 output channels, 5x5 square convolution\n",
    "        # kernel\n",
    "        \n",
    "        self.conv1 = nn.Conv2d(1, 10, kernel_size=5)\n",
    "        self.conv2 = nn.Conv2d(10, 20, kernel_size=5)\n",
    "        self.conv2_drop = nn.Dropout2d()\n",
    "        self.fc1 = nn.Linear(320, 50)\n",
    "        self.fc2 = nn.Linear(50, 10)\n",
    "\n",
    "        \n",
    "    def forward(self, x):\n",
    "        x = F.relu(F.max_pool2d(self.conv1(x), 2))\n",
    "        x = F.relu(F.max_pool2d(self.conv2_drop(self.conv2(x)), 2))\n",
    "        x = x.view(-1, self.num_flat_features(x))\n",
    "        x = F.relu(self.fc1(x))\n",
    "        x = F.dropout(x, training=self.training)\n",
    "        x = self.fc2(x)\n",
    "        return F.log_softmax(x)\n",
    "\n",
    "\n",
    "    def num_flat_features(self, x):\n",
    "        size = x.size()[1:]  # all dimensions except the batch dimension\n",
    "        num_features = 1\n",
    "        for s in size:\n",
    "            num_features *= s\n",
    "        return num_features\n"
   ]
  },
  {
   "cell_type": "code",
   "execution_count": 190,
   "metadata": {},
   "outputs": [
    {
     "name": "stdout",
     "output_type": "stream",
     "text": [
      "Hello World\n",
      "[-0.9658346  -2.1890705   0.16985609  0.8138456  -3.375209   -2.1430597\n",
      " -0.39585084  2.9419577  -2.1910605   1.2443967   0.04351204 -0.5150961\n",
      " -0.86073655 -1.1097169   0.31839254 -0.8231973  -1.056304   -0.89645284\n",
      "  0.3759244  -1.0849651 ] (1000,)\n"
     ]
    }
   ],
   "source": []
  },
  {
   "cell_type": "code",
   "execution_count": 236,
   "metadata": {},
   "outputs": [
    {
     "name": "stdout",
     "output_type": "stream",
     "text": [
      "(3000, 28, 28)\n",
      "(3000, 1, 28, 28)\n",
      "[[[  0.   0.   0.   0.   0.   0.   0.   0.   0.   0.   0.   0.   0.   0.\n",
      "     0.   0.   0.   0.   0.   0.   0.   0.   0.   0.   0.   0.   0.   0.]\n",
      "  [  0.   0.   0.   0.   0.   0.   0.   0.   0.   0.   0.   0.   0.   0.\n",
      "     0.   0.   0.   0.   0.   0.   0.   0.   0.   0.   0.   0.   0.   0.]\n",
      "  [  0.   0.   0.   0.   0.   0.   0.   0.   0.   0.   0.   0.   0.   0.\n",
      "     0.   0.   0.   0.   0.   0.   0.   0.   0.   0.   0.   0.   0.   0.]\n",
      "  [  0.   0.   0.   0.   0.   0.   0.   0.   0.   0.   0.   0.   0.   0.\n",
      "     0.   0.   0.   0.   0.   0.   0.   0.   0.   0.   0.   0.   0.   0.]\n",
      "  [  0.   0.   0.   0.   0.   0.   0.   0.   0.   0.   0.   0.   0.   0.\n",
      "     0.  51. 159. 253. 159.  50.   0.   0.   0.   0.   0.   0.   0.   0.]\n",
      "  [  0.   0.   0.   0.   0.   0.   0.   0.   0.   0.   0.   0.   0.   0.\n",
      "    48. 238. 252. 252. 252. 237.   0.   0.   0.   0.   0.   0.   0.   0.]\n",
      "  [  0.   0.   0.   0.   0.   0.   0.   0.   0.   0.   0.   0.   0.  54.\n",
      "   227. 253. 252. 239. 233. 252.  57.   6.   0.   0.   0.   0.   0.   0.]\n",
      "  [  0.   0.   0.   0.   0.   0.   0.   0.   0.   0.   0.  10.  60. 224.\n",
      "   252. 253. 252. 202.  84. 252. 253. 122.   0.   0.   0.   0.   0.   0.]\n",
      "  [  0.   0.   0.   0.   0.   0.   0.   0.   0.   0.   0. 163. 252. 252.\n",
      "   252. 253. 252. 252.  96. 189. 253. 167.   0.   0.   0.   0.   0.   0.]\n",
      "  [  0.   0.   0.   0.   0.   0.   0.   0.   0.   0.  51. 238. 253. 253.\n",
      "   190. 114. 253. 228.  47.  79. 255. 168.   0.   0.   0.   0.   0.   0.]\n",
      "  [  0.   0.   0.   0.   0.   0.   0.   0.   0.  48. 238. 252. 252. 179.\n",
      "    12.  75. 121.  21.   0.   0. 253. 243.  50.   0.   0.   0.   0.   0.]\n",
      "  [  0.   0.   0.   0.   0.   0.   0.   0.  38. 165. 253. 233. 208.  84.\n",
      "     0.   0.   0.   0.   0.   0. 253. 252. 165.   0.   0.   0.   0.   0.]\n",
      "  [  0.   0.   0.   0.   0.   0.   0.   7. 178. 252. 240.  71.  19.  28.\n",
      "     0.   0.   0.   0.   0.   0. 253. 252. 195.   0.   0.   0.   0.   0.]\n",
      "  [  0.   0.   0.   0.   0.   0.   0.  57. 252. 252.  63.   0.   0.   0.\n",
      "     0.   0.   0.   0.   0.   0. 253. 252. 195.   0.   0.   0.   0.   0.]\n",
      "  [  0.   0.   0.   0.   0.   0.   0. 198. 253. 190.   0.   0.   0.   0.\n",
      "     0.   0.   0.   0.   0.   0. 255. 253. 196.   0.   0.   0.   0.   0.]\n",
      "  [  0.   0.   0.   0.   0.   0.  76. 246. 252. 112.   0.   0.   0.   0.\n",
      "     0.   0.   0.   0.   0.   0. 253. 252. 148.   0.   0.   0.   0.   0.]\n",
      "  [  0.   0.   0.   0.   0.   0.  85. 252. 230.  25.   0.   0.   0.   0.\n",
      "     0.   0.   0.   0.   7. 135. 253. 186.  12.   0.   0.   0.   0.   0.]\n",
      "  [  0.   0.   0.   0.   0.   0.  85. 252. 223.   0.   0.   0.   0.   0.\n",
      "     0.   0.   0.   7. 131. 252. 225.  71.   0.   0.   0.   0.   0.   0.]\n",
      "  [  0.   0.   0.   0.   0.   0.  85. 252. 145.   0.   0.   0.   0.   0.\n",
      "     0.   0.  48. 165. 252. 173.   0.   0.   0.   0.   0.   0.   0.   0.]\n",
      "  [  0.   0.   0.   0.   0.   0.  86. 253. 225.   0.   0.   0.   0.   0.\n",
      "     0. 114. 238. 253. 162.   0.   0.   0.   0.   0.   0.   0.   0.   0.]\n",
      "  [  0.   0.   0.   0.   0.   0.  85. 252. 249. 146.  48.  29.  85. 178.\n",
      "   225. 253. 223. 167.  56.   0.   0.   0.   0.   0.   0.   0.   0.   0.]\n",
      "  [  0.   0.   0.   0.   0.   0.  85. 252. 252. 252. 229. 215. 252. 252.\n",
      "   252. 196. 130.   0.   0.   0.   0.   0.   0.   0.   0.   0.   0.   0.]\n",
      "  [  0.   0.   0.   0.   0.   0.  28. 199. 252. 252. 253. 252. 252. 233.\n",
      "   145.   0.   0.   0.   0.   0.   0.   0.   0.   0.   0.   0.   0.   0.]\n",
      "  [  0.   0.   0.   0.   0.   0.   0.  25. 128. 252. 253. 252. 141.  37.\n",
      "     0.   0.   0.   0.   0.   0.   0.   0.   0.   0.   0.   0.   0.   0.]\n",
      "  [  0.   0.   0.   0.   0.   0.   0.   0.   0.   0.   0.   0.   0.   0.\n",
      "     0.   0.   0.   0.   0.   0.   0.   0.   0.   0.   0.   0.   0.   0.]\n",
      "  [  0.   0.   0.   0.   0.   0.   0.   0.   0.   0.   0.   0.   0.   0.\n",
      "     0.   0.   0.   0.   0.   0.   0.   0.   0.   0.   0.   0.   0.   0.]\n",
      "  [  0.   0.   0.   0.   0.   0.   0.   0.   0.   0.   0.   0.   0.   0.\n",
      "     0.   0.   0.   0.   0.   0.   0.   0.   0.   0.   0.   0.   0.   0.]\n",
      "  [  0.   0.   0.   0.   0.   0.   0.   0.   0.   0.   0.   0.   0.   0.\n",
      "     0.   0.   0.   0.   0.   0.   0.   0.   0.   0.   0.   0.   0.   0.]]]\n"
     ]
    }
   ],
   "source": [
    "\n",
    "print(x_trainval_3d.shape)\n",
    "x_rr = x_trainval_3d.reshape(-1, 1, 28, 28).astype(np.double)\n",
    "print(x_rr.shape)\n",
    "x_tensor = torchvision.datasets.MNIST(dataset_dir,train=True, transform=torchvision.transforms.Compose([\n",
    "    \n",
    "torchvision.transforms.ToTensor()]), \n",
    "                                     target_transform=None, download=True)\n",
    "\n",
    "print(x_rr[1])"
   ]
  },
  {
   "cell_type": "code",
   "execution_count": 23,
   "metadata": {},
   "outputs": [],
   "source": [
    "train_losses = []\n",
    "train_counter = []\n",
    "test_losses = []\n",
    "test_counter = [i*len(train_loader.dataset) for i in range(n_epochs + 1)]"
   ]
  },
  {
   "cell_type": "code",
   "execution_count": 22,
   "metadata": {},
   "outputs": [],
   "source": [
    "def train(n_epochs):\n",
    "    net.train()\n",
    "    for batch_idx, (data, target) in enumerate(train_loader):\n",
    "        optimizer.zero_grad()\n",
    "        output = net(data)\n",
    "        loss = F.nll_loss(output, target)\n",
    "        loss.backward()\n",
    "        optimizer.step()\n",
    "        if batch_idx % 100 == 0:\n",
    "            print('Train Epoch: {} [{}/{} ({:.0f}%)]\\tLoss: {:.6f}'.format(\n",
    "                epoch, batch_idx * len(data), len(train_loader.dataset), \n",
    "                100. * batch_idx / len(train_loader), loss.item()))\n",
    "            \n",
    "            train_losses.append(loss.item())\n",
    "            train_counter.append(\n",
    "                (batch_idx*64) + ((epoch-1)*len(train_loader.dataset)))\n",
    "            \n",
    "            torch.save(net.state_dict(), 'results/model.pth')\n",
    "            torch.save(optimizer.state_dict(), 'results/optimizer.pth')\n",
    "          "
   ]
  },
  {
   "cell_type": "code",
   "execution_count": 25,
   "metadata": {},
   "outputs": [],
   "source": [
    "def test():\n",
    "    net.eval()\n",
    "    test_loss = 0 \n",
    "    correct = 0 \n",
    "    with torch.no_grad():\n",
    "        for data, target in test_loader:\n",
    "            output = net(data)\n",
    "            test_loss += F.nll_loss(output, target, size_average=False).item()\n",
    "            pred = output.data.max(1, keepdim=True)[1]\n",
    "            correct += pred.eq(target.data.view_as(pred)).sum()\n",
    "            \n",
    "        test_loss /= len(test_loader.dataset)\n",
    "        test_losses.append(test_loss)\n",
    "        print('\\nTest set: Avg. loss: {:.4f}, Accuracy: {}/{} ({:.0f}%)\\n'.format(\n",
    "            test_loss, correct, len(test_loader.dataset), \n",
    "            100. * correct / len(test_loader.dataset)))"
   ]
  },
  {
   "cell_type": "markdown",
   "metadata": {},
   "source": [
    "### 2.2.4: Fit Model\n"
   ]
  },
  {
   "cell_type": "code",
   "execution_count": 26,
   "metadata": {},
   "outputs": [
    {
     "name": "stderr",
     "output_type": "stream",
     "text": [
      "C:\\ProgramData\\Miniconda3\\envs\\DSP\\lib\\site-packages\\ipykernel_launcher.py:22: UserWarning: Implicit dimension choice for log_softmax has been deprecated. Change the call to include dim=X as an argument.\n"
     ]
    },
    {
     "name": "stdout",
     "output_type": "stream",
     "text": [
      "Train Epoch: 1 [0/60000 (0%)]\tLoss: 2.410626\n",
      "Train Epoch: 1 [6400/60000 (11%)]\tLoss: 2.129496\n",
      "Train Epoch: 1 [12800/60000 (21%)]\tLoss: 1.304248\n",
      "Train Epoch: 1 [19200/60000 (32%)]\tLoss: 0.890438\n",
      "Train Epoch: 1 [25600/60000 (43%)]\tLoss: 0.742229\n",
      "Train Epoch: 1 [32000/60000 (53%)]\tLoss: 0.457234\n",
      "Train Epoch: 1 [38400/60000 (64%)]\tLoss: 0.627806\n",
      "Train Epoch: 1 [44800/60000 (75%)]\tLoss: 0.518887\n",
      "Train Epoch: 1 [51200/60000 (85%)]\tLoss: 0.496197\n",
      "Train Epoch: 1 [57600/60000 (96%)]\tLoss: 0.332545\n",
      "Train Epoch: 2 [0/60000 (0%)]\tLoss: 0.310364\n",
      "Train Epoch: 2 [6400/60000 (11%)]\tLoss: 0.352632\n",
      "Train Epoch: 2 [12800/60000 (21%)]\tLoss: 0.307824\n",
      "Train Epoch: 2 [19200/60000 (32%)]\tLoss: 0.626980\n",
      "Train Epoch: 2 [25600/60000 (43%)]\tLoss: 0.290504\n",
      "Train Epoch: 2 [32000/60000 (53%)]\tLoss: 0.172360\n",
      "Train Epoch: 2 [38400/60000 (64%)]\tLoss: 0.376751\n",
      "Train Epoch: 2 [44800/60000 (75%)]\tLoss: 0.323089\n",
      "Train Epoch: 2 [51200/60000 (85%)]\tLoss: 0.408547\n",
      "Train Epoch: 2 [57600/60000 (96%)]\tLoss: 0.230783\n",
      "Train Epoch: 3 [0/60000 (0%)]\tLoss: 0.262067\n",
      "Train Epoch: 3 [6400/60000 (11%)]\tLoss: 0.245256\n",
      "Train Epoch: 3 [12800/60000 (21%)]\tLoss: 0.227878\n",
      "Train Epoch: 3 [19200/60000 (32%)]\tLoss: 0.156444\n",
      "Train Epoch: 3 [25600/60000 (43%)]\tLoss: 0.245723\n",
      "Train Epoch: 3 [32000/60000 (53%)]\tLoss: 0.247120\n",
      "Train Epoch: 3 [38400/60000 (64%)]\tLoss: 0.200127\n",
      "Train Epoch: 3 [44800/60000 (75%)]\tLoss: 0.119246\n",
      "Train Epoch: 3 [51200/60000 (85%)]\tLoss: 0.571699\n",
      "Train Epoch: 3 [57600/60000 (96%)]\tLoss: 0.105960\n",
      "Train Epoch: 4 [0/60000 (0%)]\tLoss: 0.290599\n",
      "Train Epoch: 4 [6400/60000 (11%)]\tLoss: 0.249784\n",
      "Train Epoch: 4 [12800/60000 (21%)]\tLoss: 0.427000\n",
      "Train Epoch: 4 [19200/60000 (32%)]\tLoss: 0.307111\n",
      "Train Epoch: 4 [25600/60000 (43%)]\tLoss: 0.357016\n",
      "Train Epoch: 4 [32000/60000 (53%)]\tLoss: 0.122566\n",
      "Train Epoch: 4 [38400/60000 (64%)]\tLoss: 0.260679\n",
      "Train Epoch: 4 [44800/60000 (75%)]\tLoss: 0.344586\n",
      "Train Epoch: 4 [51200/60000 (85%)]\tLoss: 0.253148\n",
      "Train Epoch: 4 [57600/60000 (96%)]\tLoss: 0.186942\n",
      "Train Epoch: 5 [0/60000 (0%)]\tLoss: 0.480782\n",
      "Train Epoch: 5 [6400/60000 (11%)]\tLoss: 0.295486\n",
      "Train Epoch: 5 [12800/60000 (21%)]\tLoss: 0.325359\n",
      "Train Epoch: 5 [19200/60000 (32%)]\tLoss: 0.266697\n",
      "Train Epoch: 5 [25600/60000 (43%)]\tLoss: 0.297544\n",
      "Train Epoch: 5 [32000/60000 (53%)]\tLoss: 0.327108\n",
      "Train Epoch: 5 [38400/60000 (64%)]\tLoss: 0.190808\n",
      "Train Epoch: 5 [44800/60000 (75%)]\tLoss: 0.226934\n",
      "Train Epoch: 5 [51200/60000 (85%)]\tLoss: 0.071187\n",
      "Train Epoch: 5 [57600/60000 (96%)]\tLoss: 0.084435\n",
      "Train Epoch: 6 [0/60000 (0%)]\tLoss: 0.155438\n",
      "Train Epoch: 6 [6400/60000 (11%)]\tLoss: 0.153809\n",
      "Train Epoch: 6 [12800/60000 (21%)]\tLoss: 0.198837\n",
      "Train Epoch: 6 [19200/60000 (32%)]\tLoss: 0.425108\n",
      "Train Epoch: 6 [25600/60000 (43%)]\tLoss: 0.265213\n",
      "Train Epoch: 6 [32000/60000 (53%)]\tLoss: 0.146221\n",
      "Train Epoch: 6 [38400/60000 (64%)]\tLoss: 0.287121\n",
      "Train Epoch: 6 [44800/60000 (75%)]\tLoss: 0.254693\n",
      "Train Epoch: 6 [51200/60000 (85%)]\tLoss: 0.214876\n",
      "Train Epoch: 6 [57600/60000 (96%)]\tLoss: 0.200423\n",
      "Train Epoch: 7 [0/60000 (0%)]\tLoss: 0.139222\n",
      "Train Epoch: 7 [6400/60000 (11%)]\tLoss: 0.198685\n",
      "Train Epoch: 7 [12800/60000 (21%)]\tLoss: 0.280913\n",
      "Train Epoch: 7 [19200/60000 (32%)]\tLoss: 0.190976\n",
      "Train Epoch: 7 [25600/60000 (43%)]\tLoss: 0.086013\n",
      "Train Epoch: 7 [32000/60000 (53%)]\tLoss: 0.177322\n",
      "Train Epoch: 7 [38400/60000 (64%)]\tLoss: 0.158509\n",
      "Train Epoch: 7 [44800/60000 (75%)]\tLoss: 0.408835\n",
      "Train Epoch: 7 [51200/60000 (85%)]\tLoss: 0.330730\n",
      "Train Epoch: 7 [57600/60000 (96%)]\tLoss: 0.057923\n",
      "Train Epoch: 8 [0/60000 (0%)]\tLoss: 0.277352\n",
      "Train Epoch: 8 [6400/60000 (11%)]\tLoss: 0.336209\n",
      "Train Epoch: 8 [12800/60000 (21%)]\tLoss: 0.248309\n",
      "Train Epoch: 8 [19200/60000 (32%)]\tLoss: 0.181054\n",
      "Train Epoch: 8 [25600/60000 (43%)]\tLoss: 0.134770\n",
      "Train Epoch: 8 [32000/60000 (53%)]\tLoss: 0.143283\n",
      "Train Epoch: 8 [38400/60000 (64%)]\tLoss: 0.197047\n",
      "Train Epoch: 8 [44800/60000 (75%)]\tLoss: 0.224766\n",
      "Train Epoch: 8 [51200/60000 (85%)]\tLoss: 0.196665\n",
      "Train Epoch: 8 [57600/60000 (96%)]\tLoss: 0.195749\n",
      "Train Epoch: 9 [0/60000 (0%)]\tLoss: 0.187194\n",
      "Train Epoch: 9 [6400/60000 (11%)]\tLoss: 0.154996\n",
      "Train Epoch: 9 [12800/60000 (21%)]\tLoss: 0.161775\n",
      "Train Epoch: 9 [19200/60000 (32%)]\tLoss: 0.137152\n",
      "Train Epoch: 9 [25600/60000 (43%)]\tLoss: 0.197776\n",
      "Train Epoch: 9 [32000/60000 (53%)]\tLoss: 0.125319\n",
      "Train Epoch: 9 [38400/60000 (64%)]\tLoss: 0.107405\n",
      "Train Epoch: 9 [44800/60000 (75%)]\tLoss: 0.243275\n",
      "Train Epoch: 9 [51200/60000 (85%)]\tLoss: 0.256970\n",
      "Train Epoch: 9 [57600/60000 (96%)]\tLoss: 0.150754\n",
      "Train Epoch: 10 [0/60000 (0%)]\tLoss: 0.201355\n",
      "Train Epoch: 10 [6400/60000 (11%)]\tLoss: 0.140919\n",
      "Train Epoch: 10 [12800/60000 (21%)]\tLoss: 0.164781\n",
      "Train Epoch: 10 [19200/60000 (32%)]\tLoss: 0.107273\n",
      "Train Epoch: 10 [25600/60000 (43%)]\tLoss: 0.314660\n",
      "Train Epoch: 10 [32000/60000 (53%)]\tLoss: 0.261720\n",
      "Train Epoch: 10 [38400/60000 (64%)]\tLoss: 0.151329\n",
      "Train Epoch: 10 [44800/60000 (75%)]\tLoss: 0.196286\n",
      "Train Epoch: 10 [51200/60000 (85%)]\tLoss: 0.152945\n",
      "Train Epoch: 10 [57600/60000 (96%)]\tLoss: 0.171174\n",
      "\n",
      "Test set: Avg. loss: 0.3065, Accuracy: 9817/10000 (98%)\n",
      "\n"
     ]
    }
   ],
   "source": [
    "net = Net()\n",
    "optimizer = optim.SGD(net.parameters(), lr= learning_rate, momentum=momentum)\n",
    "\n",
    "for epoch in range(1, n_epochs+1):\n",
    "  train(epoch)\n",
    "\n",
    "test()"
   ]
  },
  {
   "cell_type": "code",
   "execution_count": null,
   "metadata": {},
   "outputs": [],
   "source": []
  },
  {
   "cell_type": "code",
   "execution_count": 12,
   "metadata": {},
   "outputs": [],
   "source": []
  },
  {
   "cell_type": "code",
   "execution_count": 13,
   "metadata": {},
   "outputs": [],
   "source": []
  },
  {
   "cell_type": "code",
   "execution_count": 14,
   "metadata": {},
   "outputs": [],
   "source": []
  },
  {
   "cell_type": "code",
   "execution_count": 14,
   "metadata": {},
   "outputs": [],
   "source": [
    "# Save your model using torch.save()"
   ]
  },
  {
   "cell_type": "markdown",
   "metadata": {},
   "source": [
    "### 2.3.5: Evaluation\n",
    "\n",
    "Evaluate your model.\n",
    "\n",
    "  * Loss curves: Plot epoch (# passes over training data) and loss\n",
    "  * Accuracy curves: Plot epoch and accuracy over val/test set\n",
    "  * Final numbers: Report final accuracy numbers for your model"
   ]
  },
  {
   "cell_type": "code",
   "execution_count": 15,
   "metadata": {
    "scrolled": false
   },
   "outputs": [
    {
     "name": "stderr",
     "output_type": "stream",
     "text": [
      "C:\\ProgramData\\Miniconda3\\envs\\DSP\\lib\\site-packages\\ipykernel_launcher.py:22: UserWarning: Implicit dimension choice for log_softmax has been deprecated. Change the call to include dim=X as an argument.\n",
      "C:\\ProgramData\\Miniconda3\\envs\\DSP\\lib\\site-packages\\torch\\nn\\_reduction.py:43: UserWarning: size_average and reduce args will be deprecated, please use reduction='sum' instead.\n",
      "  warnings.warn(warning.format(ret))\n"
     ]
    },
    {
     "name": "stdout",
     "output_type": "stream",
     "text": [
      "\n",
      "Test set: Avg. loss: 2.3122, Accuracy: 1013/10000 (10%)\n",
      "\n",
      "Train Epoch: 1 [0/60000 (0%)]\tLoss: 2.348203\n",
      "Train Epoch: 1 [640/60000 (1%)]\tLoss: 2.294684\n",
      "Train Epoch: 1 [1280/60000 (2%)]\tLoss: 2.283304\n",
      "Train Epoch: 1 [1920/60000 (3%)]\tLoss: 2.255229\n",
      "Train Epoch: 1 [2560/60000 (4%)]\tLoss: 2.268497\n",
      "Train Epoch: 1 [3200/60000 (5%)]\tLoss: 2.290261\n",
      "Train Epoch: 1 [3840/60000 (6%)]\tLoss: 2.220231\n",
      "Train Epoch: 1 [4480/60000 (7%)]\tLoss: 2.173445\n",
      "Train Epoch: 1 [5120/60000 (9%)]\tLoss: 2.163646\n",
      "Train Epoch: 1 [5760/60000 (10%)]\tLoss: 2.107237\n",
      "Train Epoch: 1 [6400/60000 (11%)]\tLoss: 1.900147\n",
      "Train Epoch: 1 [7040/60000 (12%)]\tLoss: 1.887998\n",
      "Train Epoch: 1 [7680/60000 (13%)]\tLoss: 1.770982\n",
      "Train Epoch: 1 [8320/60000 (14%)]\tLoss: 1.652572\n",
      "Train Epoch: 1 [8960/60000 (15%)]\tLoss: 1.604293\n",
      "Train Epoch: 1 [9600/60000 (16%)]\tLoss: 1.760816\n",
      "Train Epoch: 1 [10240/60000 (17%)]\tLoss: 1.530188\n",
      "Train Epoch: 1 [10880/60000 (18%)]\tLoss: 1.529381\n",
      "Train Epoch: 1 [11520/60000 (19%)]\tLoss: 1.243213\n",
      "Train Epoch: 1 [12160/60000 (20%)]\tLoss: 1.069740\n",
      "Train Epoch: 1 [12800/60000 (21%)]\tLoss: 1.047342\n",
      "Train Epoch: 1 [13440/60000 (22%)]\tLoss: 0.961768\n",
      "Train Epoch: 1 [14080/60000 (23%)]\tLoss: 0.892022\n",
      "Train Epoch: 1 [14720/60000 (25%)]\tLoss: 0.857553\n",
      "Train Epoch: 1 [15360/60000 (26%)]\tLoss: 1.096149\n",
      "Train Epoch: 1 [16000/60000 (27%)]\tLoss: 1.038927\n",
      "Train Epoch: 1 [16640/60000 (28%)]\tLoss: 0.806223\n",
      "Train Epoch: 1 [17280/60000 (29%)]\tLoss: 0.749582\n",
      "Train Epoch: 1 [17920/60000 (30%)]\tLoss: 0.795092\n",
      "Train Epoch: 1 [18560/60000 (31%)]\tLoss: 0.865336\n",
      "Train Epoch: 1 [19200/60000 (32%)]\tLoss: 0.728324\n",
      "Train Epoch: 1 [19840/60000 (33%)]\tLoss: 0.911148\n",
      "Train Epoch: 1 [20480/60000 (34%)]\tLoss: 0.757045\n",
      "Train Epoch: 1 [21120/60000 (35%)]\tLoss: 0.923249\n",
      "Train Epoch: 1 [21760/60000 (36%)]\tLoss: 0.502978\n",
      "Train Epoch: 1 [22400/60000 (37%)]\tLoss: 0.744856\n",
      "Train Epoch: 1 [23040/60000 (38%)]\tLoss: 0.825184\n",
      "Train Epoch: 1 [23680/60000 (39%)]\tLoss: 1.179631\n",
      "Train Epoch: 1 [24320/60000 (41%)]\tLoss: 0.482757\n",
      "Train Epoch: 1 [24960/60000 (42%)]\tLoss: 0.717879\n",
      "Train Epoch: 1 [25600/60000 (43%)]\tLoss: 0.736722\n",
      "Train Epoch: 1 [26240/60000 (44%)]\tLoss: 0.486513\n",
      "Train Epoch: 1 [26880/60000 (45%)]\tLoss: 0.564251\n",
      "Train Epoch: 1 [27520/60000 (46%)]\tLoss: 0.738786\n",
      "Train Epoch: 1 [28160/60000 (47%)]\tLoss: 0.638890\n",
      "Train Epoch: 1 [28800/60000 (48%)]\tLoss: 0.540875\n",
      "Train Epoch: 1 [29440/60000 (49%)]\tLoss: 0.675251\n",
      "Train Epoch: 1 [30080/60000 (50%)]\tLoss: 0.538795\n",
      "Train Epoch: 1 [30720/60000 (51%)]\tLoss: 0.598562\n",
      "Train Epoch: 1 [31360/60000 (52%)]\tLoss: 0.528378\n",
      "Train Epoch: 1 [32000/60000 (53%)]\tLoss: 0.628966\n",
      "Train Epoch: 1 [32640/60000 (54%)]\tLoss: 0.753958\n",
      "Train Epoch: 1 [33280/60000 (55%)]\tLoss: 0.449205\n",
      "Train Epoch: 1 [33920/60000 (57%)]\tLoss: 0.734715\n",
      "Train Epoch: 1 [34560/60000 (58%)]\tLoss: 0.412914\n",
      "Train Epoch: 1 [35200/60000 (59%)]\tLoss: 0.566511\n",
      "Train Epoch: 1 [35840/60000 (60%)]\tLoss: 0.549390\n",
      "Train Epoch: 1 [36480/60000 (61%)]\tLoss: 0.598806\n",
      "Train Epoch: 1 [37120/60000 (62%)]\tLoss: 0.458691\n",
      "Train Epoch: 1 [37760/60000 (63%)]\tLoss: 0.691360\n",
      "Train Epoch: 1 [38400/60000 (64%)]\tLoss: 0.508299\n",
      "Train Epoch: 1 [39040/60000 (65%)]\tLoss: 0.466251\n",
      "Train Epoch: 1 [39680/60000 (66%)]\tLoss: 0.441889\n",
      "Train Epoch: 1 [40320/60000 (67%)]\tLoss: 0.506897\n",
      "Train Epoch: 1 [40960/60000 (68%)]\tLoss: 0.399575\n",
      "Train Epoch: 1 [41600/60000 (69%)]\tLoss: 0.503892\n",
      "Train Epoch: 1 [42240/60000 (70%)]\tLoss: 0.495165\n",
      "Train Epoch: 1 [42880/60000 (71%)]\tLoss: 0.373685\n",
      "Train Epoch: 1 [43520/60000 (72%)]\tLoss: 0.363609\n",
      "Train Epoch: 1 [44160/60000 (74%)]\tLoss: 0.487745\n",
      "Train Epoch: 1 [44800/60000 (75%)]\tLoss: 0.409609\n",
      "Train Epoch: 1 [45440/60000 (76%)]\tLoss: 0.500693\n",
      "Train Epoch: 1 [46080/60000 (77%)]\tLoss: 0.490688\n",
      "Train Epoch: 1 [46720/60000 (78%)]\tLoss: 0.550967\n",
      "Train Epoch: 1 [47360/60000 (79%)]\tLoss: 0.541074\n",
      "Train Epoch: 1 [48000/60000 (80%)]\tLoss: 0.666267\n",
      "Train Epoch: 1 [48640/60000 (81%)]\tLoss: 0.386406\n",
      "Train Epoch: 1 [49280/60000 (82%)]\tLoss: 0.379295\n",
      "Train Epoch: 1 [49920/60000 (83%)]\tLoss: 0.474701\n",
      "Train Epoch: 1 [50560/60000 (84%)]\tLoss: 0.474159\n",
      "Train Epoch: 1 [51200/60000 (85%)]\tLoss: 0.414444\n",
      "Train Epoch: 1 [51840/60000 (86%)]\tLoss: 0.539769\n",
      "Train Epoch: 1 [52480/60000 (87%)]\tLoss: 0.291061\n",
      "Train Epoch: 1 [53120/60000 (88%)]\tLoss: 0.254645\n",
      "Train Epoch: 1 [53760/60000 (90%)]\tLoss: 0.444010\n",
      "Train Epoch: 1 [54400/60000 (91%)]\tLoss: 0.571739\n",
      "Train Epoch: 1 [55040/60000 (92%)]\tLoss: 0.365657\n",
      "Train Epoch: 1 [55680/60000 (93%)]\tLoss: 0.404777\n",
      "Train Epoch: 1 [56320/60000 (94%)]\tLoss: 0.537769\n",
      "Train Epoch: 1 [56960/60000 (95%)]\tLoss: 0.242876\n",
      "Train Epoch: 1 [57600/60000 (96%)]\tLoss: 0.358172\n",
      "Train Epoch: 1 [58240/60000 (97%)]\tLoss: 0.389979\n",
      "Train Epoch: 1 [58880/60000 (98%)]\tLoss: 0.572771\n",
      "Train Epoch: 1 [59520/60000 (99%)]\tLoss: 0.418974\n",
      "\n",
      "Test set: Avg. loss: 0.6283, Accuracy: 9466/10000 (94%)\n",
      "\n",
      "Train Epoch: 2 [0/60000 (0%)]\tLoss: 0.281861\n",
      "Train Epoch: 2 [640/60000 (1%)]\tLoss: 0.320151\n",
      "Train Epoch: 2 [1280/60000 (2%)]\tLoss: 0.228423\n",
      "Train Epoch: 2 [1920/60000 (3%)]\tLoss: 0.385924\n",
      "Train Epoch: 2 [2560/60000 (4%)]\tLoss: 0.655363\n",
      "Train Epoch: 2 [3200/60000 (5%)]\tLoss: 0.384307\n",
      "Train Epoch: 2 [3840/60000 (6%)]\tLoss: 0.461620\n",
      "Train Epoch: 2 [4480/60000 (7%)]\tLoss: 0.466741\n",
      "Train Epoch: 2 [5120/60000 (9%)]\tLoss: 0.364848\n",
      "Train Epoch: 2 [5760/60000 (10%)]\tLoss: 0.255324\n",
      "Train Epoch: 2 [6400/60000 (11%)]\tLoss: 0.395770\n",
      "Train Epoch: 2 [7040/60000 (12%)]\tLoss: 0.445314\n",
      "Train Epoch: 2 [7680/60000 (13%)]\tLoss: 0.425939\n",
      "Train Epoch: 2 [8320/60000 (14%)]\tLoss: 0.358256\n",
      "Train Epoch: 2 [8960/60000 (15%)]\tLoss: 0.563977\n",
      "Train Epoch: 2 [9600/60000 (16%)]\tLoss: 0.415231\n",
      "Train Epoch: 2 [10240/60000 (17%)]\tLoss: 0.490758\n",
      "Train Epoch: 2 [10880/60000 (18%)]\tLoss: 0.445456\n",
      "Train Epoch: 2 [11520/60000 (19%)]\tLoss: 0.412422\n",
      "Train Epoch: 2 [12160/60000 (20%)]\tLoss: 0.256516\n",
      "Train Epoch: 2 [12800/60000 (21%)]\tLoss: 0.345377\n",
      "Train Epoch: 2 [13440/60000 (22%)]\tLoss: 0.175087\n",
      "Train Epoch: 2 [14080/60000 (23%)]\tLoss: 0.434163\n",
      "Train Epoch: 2 [14720/60000 (25%)]\tLoss: 0.263869\n",
      "Train Epoch: 2 [15360/60000 (26%)]\tLoss: 0.343057\n",
      "Train Epoch: 2 [16000/60000 (27%)]\tLoss: 0.283162\n",
      "Train Epoch: 2 [16640/60000 (28%)]\tLoss: 0.311206\n",
      "Train Epoch: 2 [17280/60000 (29%)]\tLoss: 0.333735\n",
      "Train Epoch: 2 [17920/60000 (30%)]\tLoss: 0.430272\n",
      "Train Epoch: 2 [18560/60000 (31%)]\tLoss: 0.339522\n",
      "Train Epoch: 2 [19200/60000 (32%)]\tLoss: 0.423392\n",
      "Train Epoch: 2 [19840/60000 (33%)]\tLoss: 0.371894\n",
      "Train Epoch: 2 [20480/60000 (34%)]\tLoss: 0.560138\n",
      "Train Epoch: 2 [21120/60000 (35%)]\tLoss: 0.478601\n",
      "Train Epoch: 2 [21760/60000 (36%)]\tLoss: 0.353797\n",
      "Train Epoch: 2 [22400/60000 (37%)]\tLoss: 0.293103\n",
      "Train Epoch: 2 [23040/60000 (38%)]\tLoss: 0.343269\n",
      "Train Epoch: 2 [23680/60000 (39%)]\tLoss: 0.422433\n",
      "Train Epoch: 2 [24320/60000 (41%)]\tLoss: 0.388829\n",
      "Train Epoch: 2 [24960/60000 (42%)]\tLoss: 0.252681\n",
      "Train Epoch: 2 [25600/60000 (43%)]\tLoss: 0.573811\n",
      "Train Epoch: 2 [26240/60000 (44%)]\tLoss: 0.317182\n",
      "Train Epoch: 2 [26880/60000 (45%)]\tLoss: 0.576966\n",
      "Train Epoch: 2 [27520/60000 (46%)]\tLoss: 0.296376\n",
      "Train Epoch: 2 [28160/60000 (47%)]\tLoss: 0.277544\n",
      "Train Epoch: 2 [28800/60000 (48%)]\tLoss: 0.259708\n",
      "Train Epoch: 2 [29440/60000 (49%)]\tLoss: 0.350023\n",
      "Train Epoch: 2 [30080/60000 (50%)]\tLoss: 0.309481\n",
      "Train Epoch: 2 [30720/60000 (51%)]\tLoss: 0.298519\n",
      "Train Epoch: 2 [31360/60000 (52%)]\tLoss: 0.534617\n",
      "Train Epoch: 2 [32000/60000 (53%)]\tLoss: 0.250464\n",
      "Train Epoch: 2 [32640/60000 (54%)]\tLoss: 0.348519\n",
      "Train Epoch: 2 [33280/60000 (55%)]\tLoss: 0.467543\n",
      "Train Epoch: 2 [33920/60000 (57%)]\tLoss: 0.264092\n",
      "Train Epoch: 2 [34560/60000 (58%)]\tLoss: 0.368380\n",
      "Train Epoch: 2 [35200/60000 (59%)]\tLoss: 0.325734\n",
      "Train Epoch: 2 [35840/60000 (60%)]\tLoss: 0.248427\n",
      "Train Epoch: 2 [36480/60000 (61%)]\tLoss: 0.230471\n",
      "Train Epoch: 2 [37120/60000 (62%)]\tLoss: 0.709635\n",
      "Train Epoch: 2 [37760/60000 (63%)]\tLoss: 0.191693\n",
      "Train Epoch: 2 [38400/60000 (64%)]\tLoss: 0.255336\n",
      "Train Epoch: 2 [39040/60000 (65%)]\tLoss: 0.305862\n",
      "Train Epoch: 2 [39680/60000 (66%)]\tLoss: 0.316186\n",
      "Train Epoch: 2 [40320/60000 (67%)]\tLoss: 0.400898\n",
      "Train Epoch: 2 [40960/60000 (68%)]\tLoss: 0.214165\n",
      "Train Epoch: 2 [41600/60000 (69%)]\tLoss: 0.278643\n",
      "Train Epoch: 2 [42240/60000 (70%)]\tLoss: 0.732239\n",
      "Train Epoch: 2 [42880/60000 (71%)]\tLoss: 0.416180\n",
      "Train Epoch: 2 [43520/60000 (72%)]\tLoss: 0.635622\n",
      "Train Epoch: 2 [44160/60000 (74%)]\tLoss: 0.112536\n",
      "Train Epoch: 2 [44800/60000 (75%)]\tLoss: 0.309221\n",
      "Train Epoch: 2 [45440/60000 (76%)]\tLoss: 0.501653\n",
      "Train Epoch: 2 [46080/60000 (77%)]\tLoss: 0.551769\n",
      "Train Epoch: 2 [46720/60000 (78%)]\tLoss: 0.279980\n",
      "Train Epoch: 2 [47360/60000 (79%)]\tLoss: 0.229576\n",
      "Train Epoch: 2 [48000/60000 (80%)]\tLoss: 0.614606\n",
      "Train Epoch: 2 [48640/60000 (81%)]\tLoss: 0.295392\n",
      "Train Epoch: 2 [49280/60000 (82%)]\tLoss: 0.323297\n",
      "Train Epoch: 2 [49920/60000 (83%)]\tLoss: 0.344058\n",
      "Train Epoch: 2 [50560/60000 (84%)]\tLoss: 0.202925\n",
      "Train Epoch: 2 [51200/60000 (85%)]\tLoss: 0.471936\n",
      "Train Epoch: 2 [51840/60000 (86%)]\tLoss: 0.198064\n",
      "Train Epoch: 2 [52480/60000 (87%)]\tLoss: 0.339359\n",
      "Train Epoch: 2 [53120/60000 (88%)]\tLoss: 0.441438\n",
      "Train Epoch: 2 [53760/60000 (90%)]\tLoss: 0.410918\n",
      "Train Epoch: 2 [54400/60000 (91%)]\tLoss: 0.171978\n",
      "Train Epoch: 2 [55040/60000 (92%)]\tLoss: 0.355327\n",
      "Train Epoch: 2 [55680/60000 (93%)]\tLoss: 0.248065\n",
      "Train Epoch: 2 [56320/60000 (94%)]\tLoss: 0.221736\n",
      "Train Epoch: 2 [56960/60000 (95%)]\tLoss: 0.292421\n",
      "Train Epoch: 2 [57600/60000 (96%)]\tLoss: 0.304425\n",
      "Train Epoch: 2 [58240/60000 (97%)]\tLoss: 0.248274\n",
      "Train Epoch: 2 [58880/60000 (98%)]\tLoss: 0.289841\n",
      "Train Epoch: 2 [59520/60000 (99%)]\tLoss: 0.493440\n",
      "\n",
      "Test set: Avg. loss: 0.4677, Accuracy: 9663/10000 (96%)\n",
      "\n",
      "Train Epoch: 3 [0/60000 (0%)]\tLoss: 0.209051\n",
      "Train Epoch: 3 [640/60000 (1%)]\tLoss: 0.373370\n",
      "Train Epoch: 3 [1280/60000 (2%)]\tLoss: 0.261481\n",
      "Train Epoch: 3 [1920/60000 (3%)]\tLoss: 0.211369\n",
      "Train Epoch: 3 [2560/60000 (4%)]\tLoss: 0.543089\n",
      "Train Epoch: 3 [3200/60000 (5%)]\tLoss: 0.421951\n",
      "Train Epoch: 3 [3840/60000 (6%)]\tLoss: 0.250852\n",
      "Train Epoch: 3 [4480/60000 (7%)]\tLoss: 0.309959\n",
      "Train Epoch: 3 [5120/60000 (9%)]\tLoss: 0.332806\n",
      "Train Epoch: 3 [5760/60000 (10%)]\tLoss: 0.562704\n",
      "Train Epoch: 3 [6400/60000 (11%)]\tLoss: 0.284848\n",
      "Train Epoch: 3 [7040/60000 (12%)]\tLoss: 0.155655\n",
      "Train Epoch: 3 [7680/60000 (13%)]\tLoss: 0.236367\n",
      "Train Epoch: 3 [8320/60000 (14%)]\tLoss: 0.656357\n",
      "Train Epoch: 3 [8960/60000 (15%)]\tLoss: 0.214379\n",
      "Train Epoch: 3 [9600/60000 (16%)]\tLoss: 0.282461\n",
      "Train Epoch: 3 [10240/60000 (17%)]\tLoss: 0.324935\n",
      "Train Epoch: 3 [10880/60000 (18%)]\tLoss: 0.179605\n",
      "Train Epoch: 3 [11520/60000 (19%)]\tLoss: 0.268320\n",
      "Train Epoch: 3 [12160/60000 (20%)]\tLoss: 0.389859\n",
      "Train Epoch: 3 [12800/60000 (21%)]\tLoss: 0.194086\n",
      "Train Epoch: 3 [13440/60000 (22%)]\tLoss: 0.271745\n",
      "Train Epoch: 3 [14080/60000 (23%)]\tLoss: 0.260580\n",
      "Train Epoch: 3 [14720/60000 (25%)]\tLoss: 0.225023\n",
      "Train Epoch: 3 [15360/60000 (26%)]\tLoss: 0.394203\n",
      "Train Epoch: 3 [16000/60000 (27%)]\tLoss: 0.486154\n",
      "Train Epoch: 3 [16640/60000 (28%)]\tLoss: 0.433745\n",
      "Train Epoch: 3 [17280/60000 (29%)]\tLoss: 0.295870\n",
      "Train Epoch: 3 [17920/60000 (30%)]\tLoss: 0.308918\n",
      "Train Epoch: 3 [18560/60000 (31%)]\tLoss: 0.331928\n",
      "Train Epoch: 3 [19200/60000 (32%)]\tLoss: 0.639808\n",
      "Train Epoch: 3 [19840/60000 (33%)]\tLoss: 0.316626\n",
      "Train Epoch: 3 [20480/60000 (34%)]\tLoss: 0.308785\n",
      "Train Epoch: 3 [21120/60000 (35%)]\tLoss: 0.288649\n",
      "Train Epoch: 3 [21760/60000 (36%)]\tLoss: 0.376926\n",
      "Train Epoch: 3 [22400/60000 (37%)]\tLoss: 0.362099\n",
      "Train Epoch: 3 [23040/60000 (38%)]\tLoss: 0.230726\n",
      "Train Epoch: 3 [23680/60000 (39%)]\tLoss: 0.246369\n",
      "Train Epoch: 3 [24320/60000 (41%)]\tLoss: 0.401089\n",
      "Train Epoch: 3 [24960/60000 (42%)]\tLoss: 0.142042\n",
      "Train Epoch: 3 [25600/60000 (43%)]\tLoss: 0.504477\n",
      "Train Epoch: 3 [26240/60000 (44%)]\tLoss: 0.270815\n",
      "Train Epoch: 3 [26880/60000 (45%)]\tLoss: 0.350193\n",
      "Train Epoch: 3 [27520/60000 (46%)]\tLoss: 0.274757\n",
      "Train Epoch: 3 [28160/60000 (47%)]\tLoss: 0.264495\n",
      "Train Epoch: 3 [28800/60000 (48%)]\tLoss: 0.372772\n",
      "Train Epoch: 3 [29440/60000 (49%)]\tLoss: 0.178419\n",
      "Train Epoch: 3 [30080/60000 (50%)]\tLoss: 0.110096\n",
      "Train Epoch: 3 [30720/60000 (51%)]\tLoss: 0.196583\n",
      "Train Epoch: 3 [31360/60000 (52%)]\tLoss: 0.386334\n",
      "Train Epoch: 3 [32000/60000 (53%)]\tLoss: 0.333955\n",
      "Train Epoch: 3 [32640/60000 (54%)]\tLoss: 0.255659\n",
      "Train Epoch: 3 [33280/60000 (55%)]\tLoss: 0.244050\n",
      "Train Epoch: 3 [33920/60000 (57%)]\tLoss: 0.635012\n",
      "Train Epoch: 3 [34560/60000 (58%)]\tLoss: 0.301614\n",
      "Train Epoch: 3 [35200/60000 (59%)]\tLoss: 0.177023\n",
      "Train Epoch: 3 [35840/60000 (60%)]\tLoss: 0.176102\n",
      "Train Epoch: 3 [36480/60000 (61%)]\tLoss: 0.326134\n",
      "Train Epoch: 3 [37120/60000 (62%)]\tLoss: 0.262567\n",
      "Train Epoch: 3 [37760/60000 (63%)]\tLoss: 0.374235\n",
      "Train Epoch: 3 [38400/60000 (64%)]\tLoss: 0.186007\n",
      "Train Epoch: 3 [39040/60000 (65%)]\tLoss: 0.264903\n",
      "Train Epoch: 3 [39680/60000 (66%)]\tLoss: 0.326886\n",
      "Train Epoch: 3 [40320/60000 (67%)]\tLoss: 0.164594\n",
      "Train Epoch: 3 [40960/60000 (68%)]\tLoss: 0.308018\n",
      "Train Epoch: 3 [41600/60000 (69%)]\tLoss: 0.247726\n",
      "Train Epoch: 3 [42240/60000 (70%)]\tLoss: 0.359179\n",
      "Train Epoch: 3 [42880/60000 (71%)]\tLoss: 0.308780\n",
      "Train Epoch: 3 [43520/60000 (72%)]\tLoss: 0.205956\n",
      "Train Epoch: 3 [44160/60000 (74%)]\tLoss: 0.263802\n",
      "Train Epoch: 3 [44800/60000 (75%)]\tLoss: 0.333128\n",
      "Train Epoch: 3 [45440/60000 (76%)]\tLoss: 0.366613\n",
      "Train Epoch: 3 [46080/60000 (77%)]\tLoss: 0.300214\n",
      "Train Epoch: 3 [46720/60000 (78%)]\tLoss: 0.145904\n",
      "Train Epoch: 3 [47360/60000 (79%)]\tLoss: 0.231868\n",
      "Train Epoch: 3 [48000/60000 (80%)]\tLoss: 0.240511\n",
      "Train Epoch: 3 [48640/60000 (81%)]\tLoss: 0.280071\n",
      "Train Epoch: 3 [49280/60000 (82%)]\tLoss: 0.207137\n",
      "Train Epoch: 3 [49920/60000 (83%)]\tLoss: 0.134872\n",
      "Train Epoch: 3 [50560/60000 (84%)]\tLoss: 0.161995\n",
      "Train Epoch: 3 [51200/60000 (85%)]\tLoss: 0.296362\n",
      "Train Epoch: 3 [51840/60000 (86%)]\tLoss: 0.265416\n",
      "Train Epoch: 3 [52480/60000 (87%)]\tLoss: 0.483834\n",
      "Train Epoch: 3 [53120/60000 (88%)]\tLoss: 0.287048\n",
      "Train Epoch: 3 [53760/60000 (90%)]\tLoss: 0.289113\n",
      "Train Epoch: 3 [54400/60000 (91%)]\tLoss: 0.171915\n",
      "Train Epoch: 3 [55040/60000 (92%)]\tLoss: 0.307105\n",
      "Train Epoch: 3 [55680/60000 (93%)]\tLoss: 0.174604\n",
      "Train Epoch: 3 [56320/60000 (94%)]\tLoss: 0.248658\n",
      "Train Epoch: 3 [56960/60000 (95%)]\tLoss: 0.353464\n",
      "Train Epoch: 3 [57600/60000 (96%)]\tLoss: 0.139127\n",
      "Train Epoch: 3 [58240/60000 (97%)]\tLoss: 0.461881\n",
      "Train Epoch: 3 [58880/60000 (98%)]\tLoss: 0.384900\n",
      "Train Epoch: 3 [59520/60000 (99%)]\tLoss: 0.243379\n",
      "\n",
      "Test set: Avg. loss: 0.4043, Accuracy: 9718/10000 (97%)\n",
      "\n"
     ]
    }
   ],
   "source": [
    "# Here plot epoch (# passes over training data) and loss\n",
    "#\n",
    "# ------- Your Code -------\n",
    "#\n"
   ]
  },
  {
   "cell_type": "code",
   "execution_count": null,
   "metadata": {},
   "outputs": [],
   "source": [
    "# Here plot epoch and accuracy over val/test set\n",
    "#\n",
    "# ------- Your Code -------\n",
    "#"
   ]
  },
  {
   "cell_type": "code",
   "execution_count": 144,
   "metadata": {},
   "outputs": [
    {
     "data": {
      "text/plain": [
       "<All keys matched successfully>"
      ]
     },
     "execution_count": 144,
     "metadata": {},
     "output_type": "execute_result"
    }
   ],
   "source": [
    "#\n",
    "#\n",
    "# ------- Your Code -------\n",
    "# Example:\n",
    "# net = Net()\n",
    "# net.load_state_dict(torch.load(\"PATH\"))"
   ]
  },
  {
   "cell_type": "code",
   "execution_count": null,
   "metadata": {},
   "outputs": [],
   "source": [
    "# Here report the score for the best model\n",
    "#\n",
    "# ------- Your Code -------\n",
    "#"
   ]
  },
  {
   "cell_type": "code",
   "execution_count": 198,
   "metadata": {},
   "outputs": [
    {
     "data": {
      "image/png": "[encoded data removed]",
      "text/plain": [
       "<Figure size 432x288 with 12 Axes>"
      ]
     },
     "metadata": {
      "needs_background": "light"
     },
     "output_type": "display_data"
    }
   ],
   "source": [
    "# Visualize the predictions\n",
    "# Example: vis_predictions(x_eval, y_pred, size_of_data)\n",
    "#\n",
    "#\n",
    "# ------- Your Code -------\n",
    "#"
   ]
  },
  {
   "cell_type": "markdown",
   "metadata": {},
   "source": [
    "### 2.3.6: Summary\n",
    "\n",
    "Summarize your findings:\n",
    " * Which hyper-parameters were important and how did they influence your results?\n",
    " * What were other design choices you faced?\n",
    " * Any other interesting insights..."
   ]
  },
  {
   "cell_type": "markdown",
   "metadata": {
    "colab_type": "text",
    "id": "Ex3qQp3JolD1"
   },
   "source": [
    "# 3. Summary (20 points)\n",
    "\n",
    "Enter your final summary here.\n",
    "\n",
    "You should now compare performance  on the three models [M1], [M2] and [M3]. Present this in a tabular format and/or using plots.\n",
    "\n",
    "Which model do you recommend to perform digit classification and why?\n",
    "\n",
    "Feel free to discuss other insightful observations."
   ]
  },
  {
   "cell_type": "code",
   "execution_count": null,
   "metadata": {
    "colab": {},
    "colab_type": "code",
    "id": "pa6rPT53LUW8"
   },
   "outputs": [],
   "source": []
  }
 ],
 "metadata": {
  "colab": {
   "collapsed_sections": [],
   "name": "MLCySec Project 1.ipynb",
   "provenance": [],
   "version": "0.3.2"
  },
  "kernelspec": {
   "display_name": "Python 3",
   "language": "python",
   "name": "python3"
  },
  "language_info": {
   "codemirror_mode": {
    "name": "ipython",
    "version": 3
   },
   "file_extension": ".py",
   "mimetype": "text/x-python",
   "name": "python",
   "nbconvert_exporter": "python",
   "pygments_lexer": "ipython3",
   "version": "3.6.7"
  }
 },
 "nbformat": 4,
 "nbformat_minor": 1
}
