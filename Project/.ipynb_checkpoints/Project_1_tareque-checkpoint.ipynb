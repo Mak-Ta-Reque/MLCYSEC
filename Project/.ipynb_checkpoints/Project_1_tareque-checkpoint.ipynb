{
 "cells": [
  {
   "cell_type": "markdown",
   "metadata": {
    "colab_type": "text",
    "id": "4NzyqehHjUlG"
   },
   "source": [
    "# ML in Cybersecurity: Project I\n",
    "\n",
    "## Team\n",
    "  * **Team name**: *GoodFellows*\n",
    "  * **Members**:  *fill this in. format:  Md Abdul Kadir (s8mdkadi@stud.uni-saarland.de), Hasan Md Tusfiqur Alam (s8haalam@stud.uni-saarland.de), Chirage Bhuvaneshwara (s8chbhuv@stud.uni-saarland.de) (Has already completed the assignments in MLCySec WS18/19 and is required to submit only Project 2)\n",
    "\n",
    "\n",
    "## Logistics\n",
    "  * **Due date**: 13th November 2018, 23:59:59 (email the completed notebook to mlcysec_ws1920_staff@lists.cispa.saarland)\n",
    "  * Complete this in **teams of 3**\n",
    "  * Feel free to use the course [mailing list](https://lists.cispa.saarland/listinfo/mlcysec_ws1920_stud) to find group members.\n",
    "  \n",
    "## Timeline\n",
    "  * 31-Oct-2018: Project 1 hand-out\n",
    "  * **13-Nov-2018** (23:59:59): Email completed notebook to respective TAs\n",
    "  * 21-Nov-2018: Project 1 discussion and summary\n",
    "  \n",
    "  \n",
    "## About this Project\n",
    "In this project, you'll implement a digit classifier, based on the popular [MNIST](http://yann.lecun.com/exdb/mnist/) dataset. The dataset is based on a seminal [paper](http://yann.lecun.com/exdb/publis/pdf/lecun-01a.pdf), which immensely popularized (convolutional) neural networks. This is a great starting point for ML research and this dataset/model has been a stepping stone numerous other tasks such as [GANs](https://papers.nips.cc/paper/5423-generative-adversarial-nets.pdf), [Adversarial Perturbations](https://arxiv.org/abs/1412.6572) and so many more!\n",
    "\n",
    "This dataset consists of data $\\mathcal{D} = \\{x_i, y_i\\}_{i=1}^N$, where $x_i$ is a 28x28 pixel grayscale image and $y_i$ is a scalar represeting digits between 0-9. The notebook will guide you to load this data, implement classifiers $\\hat{y_i} = f_w(x_i)$  and analyze results. By doing so, you'll have a ML model that works on real data!\n",
    "\n",
    "To put things into context, have a look at Slide 21 in the [second](https://cms.cispa.saarland/mlcysec19/dl/4/2019-10-24-ml.pdf) lecture. Within this framework, the following blocks of this project are fixed:\n",
    "  * *Real-world problem*: Digit classification\n",
    "  * *Performance metric*: Mean accuracy i.e., $ \\frac{1}{N} \\sum_{i=1}^N \\mathbb{1}[\\hat{y_i} = y_i]$, where $\\mathbb{1}[\\hat{y_i} = y_i]$ is 1 if your model predicted the right digit for the $i$-th digit and 0 otherwise.\n",
    "  * *Data*: The MNIST dataset\n",
    "\n",
    "You'll make the the following design-choices:\n",
    " * *Choice of Model*: A model family (Non-parametric methods, Linear classifiers, Neural Networks, etc.)\n",
    " * *ML Model*: Specific model (e.g., SVM with a polynomial kernel)\n",
    " * *Loss/Risk*\n",
    " * *Optimization*\n",
    "\n",
    "\n",
    "## A Note on Grading\n",
    "The grading for this project will depend on:\n",
    " 1. Functional digit classifier\n",
    "   * Following a well-defined ML pipeline\n",
    "   * Developing 3 classification models (keep them diverse and ideally of increasing complexity)\n",
    "   * Obtaining reasonable accuracies (>80%) on a held-out test set\n",
    " 1. Analysis\n",
    "   * Which methods work better than the rest and why?\n",
    "   * Which hyper-parameters and design-choices were important in each of your methods?\n",
    "   * Quantifying influence of these hyper-parameters on loss and/or validation accuracies\n",
    "   * Trade-offs between methods, hyper-parameters, design-choices\n",
    "    * Anything else you find interesting (this part is open-ended)\n",
    "  \n",
    " A note on (1.): \n",
    "  * Choose your models that aids good insights. We require at least one non-Neural Network (e.g., SVM, KNN) and one Neural Network model (e.g., MLP, CNN).\n",
    "  * We definitely don't expect all three models to achieve >99% test accuracies!\n",
    "\n",
    "## Grading Details\n",
    " * 5 points for loading and visualization \n",
    " * 25x3 points for models. Per model:\n",
    "   * 4 points for written description \n",
    "   * 7 points for implementation\n",
    "   * 7 points for evaluation\n",
    "   * 7 points for summary\n",
    " * 15 points for final summary (Section 3)\n",
    " * 5 points for clean code\n",
    " \n",
    "## Filling-in the Notebook\n",
    "You'll be submitting this very notebook that is filled-in with your code and analysis. Make sure you submit one that has been previously executed in-order. (So that results/graphs are already visible upon opening it). \n",
    "\n",
    "The notebook you submit **should compile** (or should be self-contained and sufficiently commented). Check tutorial 1 on how to set up the Python3 environment.\n",
    "\n",
    "\n",
    "**The notebook is your project report. So, to make the report readable, omit code for techniques/models/things that did not work. You can use final summary to provide report about these codes.**\n",
    "\n",
    "It is extremely important that you **do not** re-order the existing sections. Apart from that, the code blocks that you need to fill-in are given by:\n",
    "```\n",
    "#\n",
    "#\n",
    "# ------- Your Code -------\n",
    "#\n",
    "#\n",
    "```\n",
    "Feel free to break this into multiple-cells. It's even better if you interleave explanations and code-blocks so that the entire notebook forms a readable \"story\".\n",
    "\n",
    "\n",
    "## Code of Honor\n",
    "We encourage discussing ideas and concepts with other students to help you learn and better understand the course content. However, the work you submit and present **must be original** and demonstrate your effort in solving the presented problems. **We will not tolerate** blatantly using existing solutions (such as from the internet), improper collaboration (e.g., sharing code or experimental data between groups) and plagiarism. If the honor code is not met, no points will be awarded.\n",
    "\n",
    " \n",
    " ## Versions\n",
    "  * v2.0: Added pytorch\n",
    "  * v1.1: Added Code of Honor\n",
    "  * v1.0: Initial notebook\n",
    "  \n",
    "  ---"
   ]
  },
  {
   "cell_type": "code",
   "execution_count": 7,
   "metadata": {
    "colab": {},
    "colab_type": "code",
    "id": "3ewNwfFvbFaR"
   },
   "outputs": [
    {
     "name": "stdout",
     "output_type": "stream",
     "text": [
      "The autoreload extension is already loaded. To reload it, use:\n",
      "  %reload_ext autoreload\n"
     ]
    }
   ],
   "source": [
    "import time \n",
    " \n",
    "import numpy as np \n",
    "import matplotlib.pyplot as plt \n",
    "\n",
    "import json \n",
    "import time \n",
    "import pickle \n",
    "import sys \n",
    "import csv \n",
    "import os \n",
    "import os.path as osp \n",
    "import shutil \n",
    "\n",
    "import pandas as pd\n",
    "\n",
    "from IPython.display import display, HTML\n",
    " \n",
    "%matplotlib inline \n",
    "plt.rcParams['figure.figsize'] = (10.0, 8.0) # set default size of plots \n",
    "plt.rcParams['image.interpolation'] = 'nearest' \n",
    "plt.rcParams['image.cmap'] = 'gray' \n",
    " \n",
    "# for auto-reloading external modules \n",
    "# see http://stackoverflow.com/questions/1907993/autoreload-of-modules-in-ipython \n",
    "%load_ext autoreload\n",
    "%autoreload 2"
   ]
  },
  {
   "cell_type": "code",
   "execution_count": 30,
   "metadata": {
    "colab": {},
    "colab_type": "code",
    "id": "640GrzbOevr0"
   },
   "outputs": [
    {
     "data": {
      "text/plain": [
       "<torch._C.Generator at 0x121e9bb50>"
      ]
     },
     "execution_count": 30,
     "metadata": {},
     "output_type": "execute_result"
    }
   ],
   "source": [
    "# Load other libraries here.\n",
    "# Keep it minimal! We should be easily able to reproduce your code.\n",
    "import torch\n",
    "import sklearn\n",
    "import torchvision\n",
    "import random\n",
    "from sklearn.svm import SVC\n",
    "import torch.nn as nn\n",
    "import torch.nn.functional as F\n",
    "import torch.optim as optim\n",
    "from skorch import NeuralNetClassifier\n",
    "from sklearn.decomposition import PCA\n",
    "from torchvision import datasets\n",
    "import torchvision.transforms as transforms\n",
    "import seaborn as sb\n",
    "\n",
    "# We only support sklearn and pytorch.\n",
    "\n",
    "# Please set random seed to have reproduceable results, e.g. torch.manual_seed(123)\n",
    "torch.manual_seed(73)"
   ]
  },
  {
   "cell_type": "markdown",
   "metadata": {
    "colab_type": "text",
    "id": "nxi-lLD0mKHD"
   },
   "source": [
    "Helpers\n",
    "\n",
    "In case you choose to have some methods you plan to reuse during the notebook, define them here. This will avoid clutter and keep rest of the notebook succinct."
   ]
  },
  {
   "cell_type": "code",
   "execution_count": 31,
   "metadata": {
    "colab": {},
    "colab_type": "code",
    "id": "VBbigqdEmKd8"
   },
   "outputs": [],
   "source": [
    "def identity_func(foo):\n",
    "    return foo\n",
    "\n",
    "def PIL_to_np(image):\n",
    "    return np.array(image)\n",
    "\n",
    "# You can use this function to flatten 2D inputs\n",
    "def flatten_input_pixels(x_input):\n",
    "    result = []\n",
    "    for i in range(len(x_input)):\n",
    "        result.append(x_input[i].flatten())\n",
    "    return np.array(result, np.uint8)  # [n_samples, n_features]\n",
    "\n",
    "\n",
    "# You can use this function to plot the accuracy of the models with different parametes\n",
    "def plot_scores(x, y, title = \"Title\", x_label = \"X\", y_label = \"Y\"):\n",
    "    fig, ax = plt.subplots(nrows=1,ncols=1)\n",
    "\n",
    "    ax.plot(x, y)\n",
    "    ax.set_xticks(x)\n",
    "    ax.set_title(title)\n",
    "    ax.set_xlabel(x_label)\n",
    "    ax.set_ylabel(y_label)\n",
    "    ax.set_ylim(0.6, 1.0)\n",
    "\n",
    "# You can use this function to visualize input images and the predictions of your models\n",
    "# \"y_pred\" is output of your model \n",
    "# \"n_val\" is number of instances in test or validation sets\n",
    "def vis_predictions(x_eval, y_pred, n_val):\n",
    "    rows, cols = 4, 3\n",
    "\n",
    "    fig,ax = plt.subplots(nrows = rows, ncols = cols)\n",
    "\n",
    "    ids = np.random.randint(0,n_val,rows*cols)\n",
    "    for i in range(cols):   \n",
    "        for j in range(rows):\n",
    "            ax[j][i].set_title('predicted label: {0}'. format(y_pred[ids[(i*rows)+j]]))\n",
    "            two_d = (np.reshape(x_eval[ids[(i*rows)+j]], (28, 28))).astype(np.uint8)\n",
    "            ax[j][i].imshow(two_d)\n",
    "            ax[j][i].axes.get_xaxis().set_visible(False)\n",
    "            ax[j][i].axes.get_yaxis().set_visible(False)\n",
    "\n",
    "\n",
    "    plt.tight_layout()  "
   ]
  },
  {
   "cell_type": "markdown",
   "metadata": {
    "colab_type": "text",
    "id": "n1pcmKkyjT7y"
   },
   "source": [
    "# 1. Loading and Visualizing data (5 points)\n",
    "\n",
    "In this section, you'll need to prepare the MNIST data for the experiments you'll be conducting for the remainder of the notebook."
   ]
  },
  {
   "cell_type": "markdown",
   "metadata": {
    "colab_type": "text",
    "id": "AIU9Q762fmoT"
   },
   "source": [
    "## 1.1. Load Data\n",
    "\n",
    "Here you'll load the MNIST data into memory. The end-goal is to two have the following variables:\n",
    "  * `x_trainval`, `x_test`: of shape $N \\times d_1 \\times d_2 \\dots$ (e.g., $N \\times 784$. 784 since you could flatten each 28x28 pixel image into a single vector)\n",
    "  * `y_trainval`, `y_test`: of shape $N \\times K$ (K = 1 or 10 depending on how you plan to represent the ground-truth digit annotation)\n",
    "\n",
    "You can either do this by:\n",
    "  1. Downloading the MNIST dataset, unpacking and preparing it yourself to have fine-grained control\n",
    "  1. Using high-level existing functions, such as the one provided by  [`torchvision.datasets`](https://pytorch.org/docs/stable/torchvision/datasets.html#mnist).\n",
    "  \n",
    "  \n",
    "  In either case, it is important that you have disjoint trainval and test splits!"
   ]
  },
  {
   "cell_type": "code",
   "execution_count": 32,
   "metadata": {
    "colab": {},
    "colab_type": "code",
    "id": "7kYacpo_jvao"
   },
   "outputs": [
    {
     "name": "stdout",
     "output_type": "stream",
     "text": [
      "x_trainval.shape = (60000, 784),  y_trainval.shape = (60000,)\n",
      "x_test.shape = (10000, 784),  y_test.shape = (10000,)\n"
     ]
    }
   ],
   "source": [
    "# loading dataset\n",
    "dataset_dir = 'data/mnist'\n",
    "training_data = torchvision.datasets.MNIST(dataset_dir,train=True, transform=PIL_to_np, \n",
    "                                     target_transform=None, download=True)\n",
    "test_data = torchvision.datasets.MNIST(dataset_dir,train=False, transform=PIL_to_np, \n",
    "                                     target_transform=None, download=True)\n",
    "\n",
    "# Loadin training data in to numpy array\n",
    "\n",
    "x_trainval_3d = np.array([training_data[i][0] for i in range(len(training_data))])\n",
    "x_trainval = flatten_input_pixels(x_trainval_3d)\n",
    "y_trainval = np.array([training_data[i][1] for i in range(len(training_data))])\n",
    "\n",
    "# Loading test data into numpy array\n",
    "\n",
    "x_test_3d = np.array([test_data[i][0] for i in range(len(test_data))])\n",
    "x_test =  flatten_input_pixels(x_test_3d)\n",
    "y_test = np.array([test_data[i][1] for i in range(len(test_data))])\n",
    "\n",
    "\n",
    "print('x_trainval.shape = {},  y_trainval.shape = {}'.format(x_trainval.shape, y_trainval.shape))\n",
    "print('x_test.shape = {},  y_test.shape = {}'.format(x_test.shape, y_test.shape))\n",
    "\n",
    "#\n",
    "# Feel free to have multiple variables in case your models are designed for different formats\n",
    "# For instance, in case your model requires Nx28x28 inputs, declare x_trainval_3d, etc.\n",
    "\n",
    "# Tip: Set this to a tiny number (such 0.05) to aid debugging\n",
    "# After all, you do not want to train/evaluate on the entire dataset to find bugs\n",
    "DEBUG_FRAC = 0.05\n",
    "x_trainval = x_trainval[:int(len(x_trainval)*DEBUG_FRAC)]\n",
    "y_trainval = y_trainval[:int(len(y_trainval)*DEBUG_FRAC)]\n",
    "# Use the debuging idea for 3d input\n",
    "x_trainval_3d = x_trainval_3d[:int(len(x_trainval_3d)*DEBUG_FRAC)]\n",
    "\n",
    "\n"
   ]
  },
  {
   "cell_type": "markdown",
   "metadata": {
    "colab_type": "text",
    "id": "eA6_cejNjzYw"
   },
   "source": [
    "#### 1.2. Visualize Data\n",
    "\n",
    "To get the hang of your data you'll be training a digit classifier on, visualize it.\n",
    "\n",
    "Examples of ways to visualize it:\n",
    "  * Given a digit, display few randomly sampled images for this digit (the bare minimum)\n",
    "  * Visualize as a grid (e.g., Slide 4, [Lecture 2](https://cms.cispa.saarland/mlcysec19/dl/4/2019-10-24-ml.pdf)) using a combination of `plt.imshow` and `plt.subplots`\n",
    "  \n",
    "It's up to you to decide how you want to do this. The end-goal is for you to potentially give a trailer of the dataset to someone who hasn't seen it before."
   ]
  },
  {
   "cell_type": "code",
   "execution_count": 42,
   "metadata": {
    "colab": {},
    "colab_type": "code",
    "id": "dISIbt4plyoD"
   },
   "outputs": [
    {
     "data": {
      "image/png": "[encoded data removed]",
      "text/plain": [
       "<Figure size 720x576 with 100 Axes>"
      ]
     },
     "metadata": {
      "needs_background": "light"
     },
     "output_type": "display_data"
    },
    {
     "data": {
      "text/plain": [
       "<Figure size 720x576 with 0 Axes>"
      ]
     },
     "metadata": {},
     "output_type": "display_data"
    }
   ],
   "source": [
    "# Visualize 10 examples of 10 classes. You can extend the following code:\n",
    "rows, cols = 10, 10\n",
    "fig,ax = plt.subplots(nrows = rows, ncols = cols)\n",
    "for i in range(10):\n",
    "    img_index =list(np.where(y_trainval == i))\n",
    "    rand_ten_images = random.choices(img_index[0], k=10)\n",
    "    j = 0\n",
    "    for idx in rand_ten_images:\n",
    "        \n",
    "        img = np.reshape(x_trainval[idx], (28, 28))\n",
    "        ax[j, i].imshow(img)\n",
    "        ax[j,i].axis('off')\n",
    "        if i == 0:\n",
    "            ax[i,j].set_title(j)\n",
    "        j += 1\n",
    "        \n",
    "        \n",
    "\n",
    "  # Save the figures\n",
    "plt.show()\n",
    "\n",
    "plt.savefig('fig1.pdf') \n",
    "# These should be some visualization of data at the end of this section\n",
    "\n",
    "# You can see an output example in the follow:\n"
   ]
  },
  {
   "cell_type": "code",
   "execution_count": 35,
   "metadata": {},
   "outputs": [
    {
     "data": {
      "text/plain": [
       "[Text(0, 0.5, 'Number of samples'),\n",
       " Text(0.5, 0, 'Digits'),\n",
       " Text(0.5, 1.0, 'Distribution of samples')]"
      ]
     },
     "execution_count": 35,
     "metadata": {},
     "output_type": "execute_result"
    },
    {
     "data": {
      "image/png": "[encoded data removed]",
      "text/plain": [
       "<Figure size 720x576 with 1 Axes>"
      ]
     },
     "metadata": {
      "needs_background": "light"
     },
     "output_type": "display_data"
    }
   ],
   "source": [
    "# Visulizing the distribution of data\n",
    "\n",
    "sn_plt = sb.countplot(y_trainval)\n",
    "sn_plt.set(title=\"Distribution of samples\", ylabel=\"Number of samples\", xlabel=\"Digits\" )"
   ]
  },
  {
   "cell_type": "markdown",
   "metadata": {
    "colab_type": "text",
    "id": "b8sAT53jmJ8_"
   },
   "source": [
    "# 2. Digit classifiers\n",
    "\n",
    "In this section, you'll begin developing models to perform digit classification.\n",
    "\n",
    "Each model needs to be structured like so:\n",
    "  1. Give a brief reason which model you are going to train and why you choose it\n",
    "  1. Define hyper-parameters for model and optimization procedure\n",
    "  1. Define your model\n",
    "  1. Define optimization method and fit model to data\n",
    "  1. Summarize your findings\n",
    "\n",
    "\n",
    "\n",
    "\n",
    "\n"
   ]
  },
  {
   "cell_type": "markdown",
   "metadata": {
    "colab_type": "text",
    "id": "xkF-7eFnpWoe"
   },
   "source": [
    "## 2.1: Model [M1]: *fill-this-in* (25 points)\n",
    "\n",
    "**Short description **: As a first model we are using SVM.There are several reasons behind that. First of all, Mathematically SVM gives promising explanation of what going during the classification. Secondly, SVM is fast to train than Neural networks and KNN."
   ]
  },
  {
   "cell_type": "markdown",
   "metadata": {
    "colab_type": "text",
    "id": "lVyT9Oddp3GB"
   },
   "source": [
    "### 2.1.1: Hyper-parameters\n",
    "\n",
    "Define hyper-parameters for your model here"
   ]
  },
  {
   "cell_type": "code",
   "execution_count": 39,
   "metadata": {
    "colab": {},
    "colab_type": "code",
    "id": "yuHt4T7Vp5NC"
   },
   "outputs": [
    {
     "name": "stdout",
     "output_type": "stream",
     "text": [
      "(3000, 784)\n"
     ]
    }
   ],
   "source": [
    "c_values = [0.05, 0.1, 0.5, 1]\n",
    "gamma_values = [0.005, 0.01, 0.05, 0.1]\n",
    "kernel_values = [\"poly\", \"rbf\"] \n",
    "parameter_space = {\"C\":c_values, \"gamma\":gamma_values, \"kernel\":kernel_values}\n",
    "\n",
    "print(x_trainval.shape)\n",
    "\n",
    "degree = np.asarray([1,2,3]) # example\n",
    "\n",
    "\n",
    "test_set = 'val'  #  or 'test'\n",
    "# Decide all your hyperparameters based on validation performance\n",
    "# Then, switch to 'test' for final evaluation\n",
    "\n",
    "if test_set == 'val':\n",
    "    train_idxs, val_idxs = ..., ...   # Fill in\n",
    "    x_train, y_train = x_trainval[train_idxs], y_trainval[train_idxs]\n",
    "    x_eval, y_eval = x_trainval[val_idxs], y_trainval[val_idxs]\n",
    "else:\n",
    "    x_train, y_train = x_trainval, y_trainval\n",
    "    x_eval, y_eval = x_test, y_test\n",
    "\n"
   ]
  },
  {
   "cell_type": "markdown",
   "metadata": {},
   "source": [
    "### 2.1.2: Data Preprocessing\n"
   ]
  },
  {
   "cell_type": "code",
   "execution_count": 54,
   "metadata": {},
   "outputs": [
    {
     "name": "stderr",
     "output_type": "stream",
     "text": [
      "C:\\ProgramData\\Miniconda3\\envs\\DSP\\lib\\site-packages\\sklearn\\utils\\validation.py:595: DataConversionWarning: Data with input dtype uint8 was converted to float64 by StandardScaler.\n",
      "  warnings.warn(msg, DataConversionWarning)\n",
      "C:\\ProgramData\\Miniconda3\\envs\\DSP\\lib\\site-packages\\sklearn\\utils\\validation.py:595: DataConversionWarning: Data with input dtype uint8 was converted to float64 by StandardScaler.\n",
      "  warnings.warn(msg, DataConversionWarning)\n",
      "C:\\ProgramData\\Miniconda3\\envs\\DSP\\lib\\site-packages\\sklearn\\utils\\validation.py:595: DataConversionWarning: Data with input dtype uint8 was converted to float64 by StandardScaler.\n",
      "  warnings.warn(msg, DataConversionWarning)\n"
     ]
    },
    {
     "name": "stdout",
     "output_type": "stream",
     "text": [
      "(3000, 247) (10000, 247)\n"
     ]
    }
   ],
   "source": [
    "# e.g. normalize, flatten input data.\n",
    "scaler = sklearn.preprocessing.StandardScaler().fit(x_trainval.reshape(x_trainval.shape[0],-1))\n",
    "x_trainval_scaled = scaler.transform(x_trainval.reshape(x_trainval.shape[0],-1))\n",
    "x_test_scaled = scaler.transform(x_test.reshape(x_test.shape[0],-1))\n",
    "\n",
    "pca = PCA(0.95)\n",
    "pca.fit(x_trainval_scaled)\n",
    "\n",
    "x_trainval_reduced = pca.transform(x_trainval_scaled)\n",
    "x_test_reduced = pca.transform(x_test_scaled)\n",
    "\n",
    "print(x_trainval_reduced.shape, x_test_reduced.shape)\n"
   ]
  },
  {
   "cell_type": "markdown",
   "metadata": {
    "colab_type": "text",
    "id": "pkuCgPatp59X"
   },
   "source": [
    "### 2.1.3: Model\n",
    "\n",
    "Define your model here"
   ]
  },
  {
   "cell_type": "code",
   "execution_count": 61,
   "metadata": {
    "colab": {},
    "colab_type": "code",
    "id": "3qV3SuPAp6XF"
   },
   "outputs": [],
   "source": [
    "svc = SVC()\n",
    "\n",
    "grid_search = sklearn.model_selection.GridSearchCV(svc, parameter_space, verbose=2, cv=2, refit=True,\n",
    "                                                  return_train_score=True, scoring=\"accuracy\")"
   ]
  },
  {
   "cell_type": "markdown",
   "metadata": {
    "colab_type": "text",
    "id": "SxE6d6OXp6sU"
   },
   "source": [
    "### 2.1.4: Fit Model\n",
    "\n",
    "Define optimization procedure and fit your model to the data"
   ]
  },
  {
   "cell_type": "code",
   "execution_count": 68,
   "metadata": {
    "colab": {},
    "colab_type": "code",
    "id": "08tLwuchp68-"
   },
   "outputs": [
    {
     "name": "stdout",
     "output_type": "stream",
     "text": [
      "Fitting 2 folds for each of 32 candidates, totalling 64 fits\n"
     ]
    },
    {
     "name": "stderr",
     "output_type": "stream",
     "text": [
      "[Parallel(n_jobs=1)]: Using backend SequentialBackend with 1 concurrent workers.\n"
     ]
    },
    {
     "name": "stdout",
     "output_type": "stream",
     "text": [
      "[CV] C=0.05, gamma=0.005, kernel=poly ................................\n",
      "[CV] ................. C=0.05, gamma=0.005, kernel=poly, total=   1.4s\n"
     ]
    },
    {
     "name": "stderr",
     "output_type": "stream",
     "text": [
      "[Parallel(n_jobs=1)]: Done   1 out of   1 | elapsed:    1.9s remaining:    0.0s\n"
     ]
    },
    {
     "name": "stdout",
     "output_type": "stream",
     "text": [
      "[CV] C=0.05, gamma=0.005, kernel=poly ................................\n",
      "[CV] ................. C=0.05, gamma=0.005, kernel=poly, total=   1.5s\n",
      "[CV] C=0.05, gamma=0.005, kernel=rbf .................................\n",
      "[CV] .................. C=0.05, gamma=0.005, kernel=rbf, total=   2.0s\n",
      "[CV] C=0.05, gamma=0.005, kernel=rbf .................................\n",
      "[CV] .................. C=0.05, gamma=0.005, kernel=rbf, total=   2.0s\n",
      "[CV] C=0.05, gamma=0.01, kernel=poly .................................\n",
      "[CV] .................. C=0.05, gamma=0.01, kernel=poly, total=   1.2s\n",
      "[CV] C=0.05, gamma=0.01, kernel=poly .................................\n",
      "[CV] .................. C=0.05, gamma=0.01, kernel=poly, total=   1.3s\n",
      "[CV] C=0.05, gamma=0.01, kernel=rbf ..................................\n",
      "[CV] ................... C=0.05, gamma=0.01, kernel=rbf, total=   2.1s\n",
      "[CV] C=0.05, gamma=0.01, kernel=rbf ..................................\n",
      "[CV] ................... C=0.05, gamma=0.01, kernel=rbf, total=   2.1s\n",
      "[CV] C=0.05, gamma=0.05, kernel=poly .................................\n",
      "[CV] .................. C=0.05, gamma=0.05, kernel=poly, total=   1.3s\n",
      "[CV] C=0.05, gamma=0.05, kernel=poly .................................\n",
      "[CV] .................. C=0.05, gamma=0.05, kernel=poly, total=   1.4s\n",
      "[CV] C=0.05, gamma=0.05, kernel=rbf ..................................\n",
      "[CV] ................... C=0.05, gamma=0.05, kernel=rbf, total=   2.1s\n",
      "[CV] C=0.05, gamma=0.05, kernel=rbf ..................................\n",
      "[CV] ................... C=0.05, gamma=0.05, kernel=rbf, total=   2.1s\n",
      "[CV] C=0.05, gamma=0.1, kernel=poly ..................................\n",
      "[CV] ................... C=0.05, gamma=0.1, kernel=poly, total=   1.3s\n",
      "[CV] C=0.05, gamma=0.1, kernel=poly ..................................\n",
      "[CV] ................... C=0.05, gamma=0.1, kernel=poly, total=   1.4s\n",
      "[CV] C=0.05, gamma=0.1, kernel=rbf ...................................\n",
      "[CV] .................... C=0.05, gamma=0.1, kernel=rbf, total=   2.3s\n",
      "[CV] C=0.05, gamma=0.1, kernel=rbf ...................................\n",
      "[CV] .................... C=0.05, gamma=0.1, kernel=rbf, total=   2.2s\n",
      "[CV] C=0.1, gamma=0.005, kernel=poly .................................\n",
      "[CV] .................. C=0.1, gamma=0.005, kernel=poly, total=   1.3s\n",
      "[CV] C=0.1, gamma=0.005, kernel=poly .................................\n",
      "[CV] .................. C=0.1, gamma=0.005, kernel=poly, total=   1.3s\n",
      "[CV] C=0.1, gamma=0.005, kernel=rbf ..................................\n",
      "[CV] ................... C=0.1, gamma=0.005, kernel=rbf, total=   2.0s\n",
      "[CV] C=0.1, gamma=0.005, kernel=rbf ..................................\n",
      "[CV] ................... C=0.1, gamma=0.005, kernel=rbf, total=   1.9s\n",
      "[CV] C=0.1, gamma=0.01, kernel=poly ..................................\n",
      "[CV] ................... C=0.1, gamma=0.01, kernel=poly, total=   1.3s\n",
      "[CV] C=0.1, gamma=0.01, kernel=poly ..................................\n",
      "[CV] ................... C=0.1, gamma=0.01, kernel=poly, total=   1.4s\n",
      "[CV] C=0.1, gamma=0.01, kernel=rbf ...................................\n",
      "[CV] .................... C=0.1, gamma=0.01, kernel=rbf, total=   2.1s\n",
      "[CV] C=0.1, gamma=0.01, kernel=rbf ...................................\n",
      "[CV] .................... C=0.1, gamma=0.01, kernel=rbf, total=   2.0s\n",
      "[CV] C=0.1, gamma=0.05, kernel=poly ..................................\n",
      "[CV] ................... C=0.1, gamma=0.05, kernel=poly, total=   1.3s\n",
      "[CV] C=0.1, gamma=0.05, kernel=poly ..................................\n",
      "[CV] ................... C=0.1, gamma=0.05, kernel=poly, total=   1.4s\n",
      "[CV] C=0.1, gamma=0.05, kernel=rbf ...................................\n",
      "[CV] .................... C=0.1, gamma=0.05, kernel=rbf, total=   2.1s\n",
      "[CV] C=0.1, gamma=0.05, kernel=rbf ...................................\n",
      "[CV] .................... C=0.1, gamma=0.05, kernel=rbf, total=   2.3s\n",
      "[CV] C=0.1, gamma=0.1, kernel=poly ...................................\n",
      "[CV] .................... C=0.1, gamma=0.1, kernel=poly, total=   1.3s\n",
      "[CV] C=0.1, gamma=0.1, kernel=poly ...................................\n",
      "[CV] .................... C=0.1, gamma=0.1, kernel=poly, total=   1.5s\n",
      "[CV] C=0.1, gamma=0.1, kernel=rbf ....................................\n",
      "[CV] ..................... C=0.1, gamma=0.1, kernel=rbf, total=   2.2s\n",
      "[CV] C=0.1, gamma=0.1, kernel=rbf ....................................\n",
      "[CV] ..................... C=0.1, gamma=0.1, kernel=rbf, total=   2.2s\n",
      "[CV] C=0.5, gamma=0.005, kernel=poly .................................\n",
      "[CV] .................. C=0.5, gamma=0.005, kernel=poly, total=   1.2s\n",
      "[CV] C=0.5, gamma=0.005, kernel=poly .................................\n",
      "[CV] .................. C=0.5, gamma=0.005, kernel=poly, total=   1.4s\n",
      "[CV] C=0.5, gamma=0.005, kernel=rbf ..................................\n",
      "[CV] ................... C=0.5, gamma=0.005, kernel=rbf, total=   1.6s\n",
      "[CV] C=0.5, gamma=0.005, kernel=rbf ..................................\n",
      "[CV] ................... C=0.5, gamma=0.005, kernel=rbf, total=   1.7s\n",
      "[CV] C=0.5, gamma=0.01, kernel=poly ..................................\n",
      "[CV] ................... C=0.5, gamma=0.01, kernel=poly, total=   1.4s\n",
      "[CV] C=0.5, gamma=0.01, kernel=poly ..................................\n",
      "[CV] ................... C=0.5, gamma=0.01, kernel=poly, total=   1.5s\n",
      "[CV] C=0.5, gamma=0.01, kernel=rbf ...................................\n",
      "[CV] .................... C=0.5, gamma=0.01, kernel=rbf, total=   2.1s\n",
      "[CV] C=0.5, gamma=0.01, kernel=rbf ...................................\n",
      "[CV] .................... C=0.5, gamma=0.01, kernel=rbf, total=   2.0s\n",
      "[CV] C=0.5, gamma=0.05, kernel=poly ..................................\n",
      "[CV] ................... C=0.5, gamma=0.05, kernel=poly, total=   1.3s\n",
      "[CV] C=0.5, gamma=0.05, kernel=poly ..................................\n",
      "[CV] ................... C=0.5, gamma=0.05, kernel=poly, total=   1.4s\n",
      "[CV] C=0.5, gamma=0.05, kernel=rbf ...................................\n",
      "[CV] .................... C=0.5, gamma=0.05, kernel=rbf, total=   2.1s\n",
      "[CV] C=0.5, gamma=0.05, kernel=rbf ...................................\n",
      "[CV] .................... C=0.5, gamma=0.05, kernel=rbf, total=   2.2s\n",
      "[CV] C=0.5, gamma=0.1, kernel=poly ...................................\n",
      "[CV] .................... C=0.5, gamma=0.1, kernel=poly, total=   1.3s\n",
      "[CV] C=0.5, gamma=0.1, kernel=poly ...................................\n",
      "[CV] .................... C=0.5, gamma=0.1, kernel=poly, total=   1.4s\n",
      "[CV] C=0.5, gamma=0.1, kernel=rbf ....................................\n",
      "[CV] ..................... C=0.5, gamma=0.1, kernel=rbf, total=   2.1s\n",
      "[CV] C=0.5, gamma=0.1, kernel=rbf ....................................\n",
      "[CV] ..................... C=0.5, gamma=0.1, kernel=rbf, total=   2.1s\n",
      "[CV] C=1, gamma=0.005, kernel=poly ...................................\n",
      "[CV] .................... C=1, gamma=0.005, kernel=poly, total=   1.3s\n",
      "[CV] C=1, gamma=0.005, kernel=poly ...................................\n",
      "[CV] .................... C=1, gamma=0.005, kernel=poly, total=   1.4s\n",
      "[CV] C=1, gamma=0.005, kernel=rbf ....................................\n",
      "[CV] ..................... C=1, gamma=0.005, kernel=rbf, total=   1.7s\n",
      "[CV] C=1, gamma=0.005, kernel=rbf ....................................\n",
      "[CV] ..................... C=1, gamma=0.005, kernel=rbf, total=   1.7s\n",
      "[CV] C=1, gamma=0.01, kernel=poly ....................................\n",
      "[CV] ..................... C=1, gamma=0.01, kernel=poly, total=   1.2s\n",
      "[CV] C=1, gamma=0.01, kernel=poly ....................................\n",
      "[CV] ..................... C=1, gamma=0.01, kernel=poly, total=   1.3s\n",
      "[CV] C=1, gamma=0.01, kernel=rbf .....................................\n",
      "[CV] ...................... C=1, gamma=0.01, kernel=rbf, total=   2.0s\n",
      "[CV] C=1, gamma=0.01, kernel=rbf .....................................\n",
      "[CV] ...................... C=1, gamma=0.01, kernel=rbf, total=   2.0s\n",
      "[CV] C=1, gamma=0.05, kernel=poly ....................................\n",
      "[CV] ..................... C=1, gamma=0.05, kernel=poly, total=   1.2s\n",
      "[CV] C=1, gamma=0.05, kernel=poly ....................................\n",
      "[CV] ..................... C=1, gamma=0.05, kernel=poly, total=   1.3s\n",
      "[CV] C=1, gamma=0.05, kernel=rbf .....................................\n",
      "[CV] ...................... C=1, gamma=0.05, kernel=rbf, total=   2.1s\n",
      "[CV] C=1, gamma=0.05, kernel=rbf .....................................\n",
      "[CV] ...................... C=1, gamma=0.05, kernel=rbf, total=   2.1s\n",
      "[CV] C=1, gamma=0.1, kernel=poly .....................................\n",
      "[CV] ...................... C=1, gamma=0.1, kernel=poly, total=   1.2s\n",
      "[CV] C=1, gamma=0.1, kernel=poly .....................................\n",
      "[CV] ...................... C=1, gamma=0.1, kernel=poly, total=   1.4s\n",
      "[CV] C=1, gamma=0.1, kernel=rbf ......................................\n",
      "[CV] ....................... C=1, gamma=0.1, kernel=rbf, total=   2.1s\n",
      "[CV] C=1, gamma=0.1, kernel=rbf ......................................\n",
      "[CV] ....................... C=1, gamma=0.1, kernel=rbf, total=   2.1s\n"
     ]
    },
    {
     "name": "stderr",
     "output_type": "stream",
     "text": [
      "[Parallel(n_jobs=1)]: Done  64 out of  64 | elapsed:  2.6min finished\n"
     ]
    },
    {
     "name": "stdout",
     "output_type": "stream",
     "text": [
      "{'C': 0.05, 'gamma': 0.05, 'kernel': 'poly'}\n"
     ]
    }
   ],
   "source": [
    "svm_model = grid_search.fit(x_trainval_reduced, y_trainval)\n",
    "print(svm_model.best_params_)\n",
    "model_params = svm_model.best_params_"
   ]
  },
  {
   "cell_type": "code",
   "execution_count": 70,
   "metadata": {},
   "outputs": [
    {
     "data": {
      "text/plain": [
       "SVC(C=0.05, cache_size=200, class_weight=None, coef0=0.0,\n",
       "  decision_function_shape='ovr', degree=3, gamma=0.05, kernel='poly',\n",
       "  max_iter=-1, probability=False, random_state=None, shrinking=True,\n",
       "  tol=0.001, verbose=False)"
      ]
     },
     "execution_count": 70,
     "metadata": {},
     "output_type": "execute_result"
    }
   ],
   "source": [
    "svc = SVC(C=model_params['C'], gamma=model_params['gamma'], kernel=model_params['kernel'])\n",
    "svc.fit(x_trainval_reduced, y_trainval)"
   ]
  },
  {
   "cell_type": "markdown",
   "metadata": {
    "colab_type": "text",
    "id": "QaJv_d_Dp7OM"
   },
   "source": [
    "### 2.1.5: Evaluation\n",
    "\n",
    "Evaluate your model.\n",
    "  * Evaluate models with different parameters \n",
    "  * Plot the score (accuracy) for each model using \"plot_scores\" function\n",
    "  * Report score for the best model\n",
    "  * Use \"vis_predictions\" function to visualize few examples of test/validation set with the corresponding predictions\n"
   ]
  },
  {
   "cell_type": "code",
   "execution_count": 71,
   "metadata": {
    "colab": {},
    "colab_type": "code",
    "id": "kZtLgPZrp7h5"
   },
   "outputs": [
    {
     "name": "stdout",
     "output_type": "stream",
     "text": [
      "0.9273\n",
      "[[ 949    0    2    3    3    5    9    1    8    0]\n",
      " [   0 1121    4    1    1    1    3    0    4    0]\n",
      " [   8    2  923   16   19    1    5   11   45    2]\n",
      " [   0    3    8  911    2   22    0   11   42   11]\n",
      " [   0    3    6    0  936    0    3    1    5   28]\n",
      " [   4    2    2   11   14  817    6    2   21   13]\n",
      " [  11    3   10    1   30   17  879    0    7    0]\n",
      " [   0   11   10    4   30    1    0  919   10   43]\n",
      " [   4    0    5   12   17   15    1    4  902   14]\n",
      " [   4    4    3   10   44    4    0   11   13  916]]\n",
      "              precision    recall  f1-score   support\n",
      "\n",
      "           0       0.97      0.97      0.97       980\n",
      "           1       0.98      0.99      0.98      1135\n",
      "           2       0.95      0.89      0.92      1032\n",
      "           3       0.94      0.90      0.92      1010\n",
      "           4       0.85      0.95      0.90       982\n",
      "           5       0.93      0.92      0.92       892\n",
      "           6       0.97      0.92      0.94       958\n",
      "           7       0.96      0.89      0.92      1028\n",
      "           8       0.85      0.93      0.89       974\n",
      "           9       0.89      0.91      0.90      1009\n",
      "\n",
      "   micro avg       0.93      0.93      0.93     10000\n",
      "   macro avg       0.93      0.93      0.93     10000\n",
      "weighted avg       0.93      0.93      0.93     10000\n",
      "\n"
     ]
    }
   ],
   "source": [
    "\n",
    "# Example: y_pred = model.predict(x)\n",
    "y_predict = svc.predict(x_test_reduced)\n",
    "accuracy = sklearn.metrics.accuracy_score(y_test, y_predict)\n",
    "print(accuracy)\n",
    "confusion_mat = sklearn.metrics.confusion_matrix(y_test, y_predict)\n",
    "print(confusion_mat)\n",
    "classfication_report = sklearn.metrics.classification_report(y_test, y_predict)\n",
    "print(classfication_report)"
   ]
  },
  {
   "cell_type": "code",
   "execution_count": 84,
   "metadata": {},
   "outputs": [
    {
     "data": {
      "text/plain": [
       "{'mean_fit_time': array([0.9230653 , 1.33792377, 0.91056359, 1.42171645, 0.96897459,\n",
       "        1.43372166, 0.93202758, 1.5418694 , 0.85125577, 1.28606176,\n",
       "        0.97745252, 1.3997581 , 0.93998587, 1.55284739, 0.99636889,\n",
       "        1.5014863 , 0.92802083, 1.09258032, 1.03576314, 1.3967731 ,\n",
       "        0.94248021, 1.47106552, 0.94500422, 1.46011686, 0.94101453,\n",
       "        1.17436099, 0.92506027, 1.37982488, 0.92504621, 1.44517004,\n",
       "        0.92505848, 1.45414186]),\n",
       " 'std_fit_time': array([0.03038561, 0.01446319, 0.04088986, 0.02944207, 0.0084784 ,\n",
       "        0.01345479, 0.03837752, 0.01295614, 0.02440155, 0.01146889,\n",
       "        0.07280517, 0.00947356, 0.03939402, 0.07579708, 0.09670758,\n",
       "        0.00947285, 0.05036461, 0.0493691 , 0.08829343, 0.05735469,\n",
       "        0.02892292, 0.01396298, 0.04434919, 0.00297284, 0.03437543,\n",
       "        0.00448728, 0.03836203, 0.00646567, 0.03841448, 0.01100361,\n",
       "        0.04042518, 0.00701046]),\n",
       " 'mean_score_time': array([0.59092939, 0.77496982, 0.47425461, 0.76992249, 0.46920252,\n",
       "        0.76943278, 0.53159034, 0.79038703, 0.54251695, 0.76847541,\n",
       "        0.47770643, 0.7515198 , 0.46974564, 0.76545453, 0.50162601,\n",
       "        0.79437602, 0.48073483, 0.65028095, 0.50661576, 0.76594722,\n",
       "        0.48226416, 0.77843976, 0.47621453, 0.7824105 , 0.47070992,\n",
       "        0.63083315, 0.4712317 , 0.70013309, 0.4687475 , 0.76142883,\n",
       "        0.47074032, 0.76891196]),\n",
       " 'std_score_time': array([2.44711637e-02, 2.49361992e-02, 1.24440193e-02, 5.96427917e-03,\n",
       "        1.44834518e-02, 2.50148773e-03, 1.69993639e-02, 1.74525976e-02,\n",
       "        1.49276257e-02, 3.23857069e-02, 1.39737129e-02, 1.52218342e-03,\n",
       "        1.49612427e-02, 1.49464607e-03, 3.89328003e-02, 1.74521208e-02,\n",
       "        1.19905472e-02, 1.97267532e-03, 2.09830999e-02, 3.97932529e-03,\n",
       "        2.48301029e-03, 1.51753426e-03, 1.55111551e-02, 1.04311705e-02,\n",
       "        1.49925947e-02, 3.46875191e-03, 1.34723186e-02, 1.03640556e-03,\n",
       "        1.49208307e-02, 4.65869904e-04, 1.58905983e-02, 2.94446945e-05]),\n",
       " 'param_C': masked_array(data=[0.05, 0.05, 0.05, 0.05, 0.05, 0.05, 0.05, 0.05, 0.1,\n",
       "                    0.1, 0.1, 0.1, 0.1, 0.1, 0.1, 0.1, 0.5, 0.5, 0.5, 0.5,\n",
       "                    0.5, 0.5, 0.5, 0.5, 1, 1, 1, 1, 1, 1, 1, 1],\n",
       "              mask=[False, False, False, False, False, False, False, False,\n",
       "                    False, False, False, False, False, False, False, False,\n",
       "                    False, False, False, False, False, False, False, False,\n",
       "                    False, False, False, False, False, False, False, False],\n",
       "        fill_value='?',\n",
       "             dtype=object),\n",
       " 'param_gamma': masked_array(data=[0.005, 0.005, 0.01, 0.01, 0.05, 0.05, 0.1, 0.1, 0.005,\n",
       "                    0.005, 0.01, 0.01, 0.05, 0.05, 0.1, 0.1, 0.005, 0.005,\n",
       "                    0.01, 0.01, 0.05, 0.05, 0.1, 0.1, 0.005, 0.005, 0.01,\n",
       "                    0.01, 0.05, 0.05, 0.1, 0.1],\n",
       "              mask=[False, False, False, False, False, False, False, False,\n",
       "                    False, False, False, False, False, False, False, False,\n",
       "                    False, False, False, False, False, False, False, False,\n",
       "                    False, False, False, False, False, False, False, False],\n",
       "        fill_value='?',\n",
       "             dtype=object),\n",
       " 'param_kernel': masked_array(data=['poly', 'rbf', 'poly', 'rbf', 'poly', 'rbf', 'poly',\n",
       "                    'rbf', 'poly', 'rbf', 'poly', 'rbf', 'poly', 'rbf',\n",
       "                    'poly', 'rbf', 'poly', 'rbf', 'poly', 'rbf', 'poly',\n",
       "                    'rbf', 'poly', 'rbf', 'poly', 'rbf', 'poly', 'rbf',\n",
       "                    'poly', 'rbf', 'poly', 'rbf'],\n",
       "              mask=[False, False, False, False, False, False, False, False,\n",
       "                    False, False, False, False, False, False, False, False,\n",
       "                    False, False, False, False, False, False, False, False,\n",
       "                    False, False, False, False, False, False, False, False],\n",
       "        fill_value='?',\n",
       "             dtype=object),\n",
       " 'params': [{'C': 0.05, 'gamma': 0.005, 'kernel': 'poly'},\n",
       "  {'C': 0.05, 'gamma': 0.005, 'kernel': 'rbf'},\n",
       "  {'C': 0.05, 'gamma': 0.01, 'kernel': 'poly'},\n",
       "  {'C': 0.05, 'gamma': 0.01, 'kernel': 'rbf'},\n",
       "  {'C': 0.05, 'gamma': 0.05, 'kernel': 'poly'},\n",
       "  {'C': 0.05, 'gamma': 0.05, 'kernel': 'rbf'},\n",
       "  {'C': 0.05, 'gamma': 0.1, 'kernel': 'poly'},\n",
       "  {'C': 0.05, 'gamma': 0.1, 'kernel': 'rbf'},\n",
       "  {'C': 0.1, 'gamma': 0.005, 'kernel': 'poly'},\n",
       "  {'C': 0.1, 'gamma': 0.005, 'kernel': 'rbf'},\n",
       "  {'C': 0.1, 'gamma': 0.01, 'kernel': 'poly'},\n",
       "  {'C': 0.1, 'gamma': 0.01, 'kernel': 'rbf'},\n",
       "  {'C': 0.1, 'gamma': 0.05, 'kernel': 'poly'},\n",
       "  {'C': 0.1, 'gamma': 0.05, 'kernel': 'rbf'},\n",
       "  {'C': 0.1, 'gamma': 0.1, 'kernel': 'poly'},\n",
       "  {'C': 0.1, 'gamma': 0.1, 'kernel': 'rbf'},\n",
       "  {'C': 0.5, 'gamma': 0.005, 'kernel': 'poly'},\n",
       "  {'C': 0.5, 'gamma': 0.005, 'kernel': 'rbf'},\n",
       "  {'C': 0.5, 'gamma': 0.01, 'kernel': 'poly'},\n",
       "  {'C': 0.5, 'gamma': 0.01, 'kernel': 'rbf'},\n",
       "  {'C': 0.5, 'gamma': 0.05, 'kernel': 'poly'},\n",
       "  {'C': 0.5, 'gamma': 0.05, 'kernel': 'rbf'},\n",
       "  {'C': 0.5, 'gamma': 0.1, 'kernel': 'poly'},\n",
       "  {'C': 0.5, 'gamma': 0.1, 'kernel': 'rbf'},\n",
       "  {'C': 1, 'gamma': 0.005, 'kernel': 'poly'},\n",
       "  {'C': 1, 'gamma': 0.005, 'kernel': 'rbf'},\n",
       "  {'C': 1, 'gamma': 0.01, 'kernel': 'poly'},\n",
       "  {'C': 1, 'gamma': 0.01, 'kernel': 'rbf'},\n",
       "  {'C': 1, 'gamma': 0.05, 'kernel': 'poly'},\n",
       "  {'C': 1, 'gamma': 0.05, 'kernel': 'rbf'},\n",
       "  {'C': 1, 'gamma': 0.1, 'kernel': 'poly'},\n",
       "  {'C': 1, 'gamma': 0.1, 'kernel': 'rbf'}],\n",
       " 'split0_test_score': array([0.74401596, 0.30851064, 0.85704787, 0.19680851, 0.87234043,\n",
       "        0.11303191, 0.87234043, 0.11303191, 0.8025266 , 0.50531915,\n",
       "        0.86835106, 0.21343085, 0.87234043, 0.11303191, 0.87234043,\n",
       "        0.11303191, 0.86170213, 0.75664894, 0.87234043, 0.53390957,\n",
       "        0.87234043, 0.16888298, 0.87234043, 0.11303191, 0.87034574,\n",
       "        0.79920213, 0.87234043, 0.67952128, 0.87234043, 0.21343085,\n",
       "        0.87234043, 0.16755319]),\n",
       " 'split1_test_score': array([0.79278075, 0.28141711, 0.89973262, 0.2118984 , 0.91042781,\n",
       "        0.11296791, 0.91042781, 0.11296791, 0.84625668, 0.52941176,\n",
       "        0.90842246, 0.21457219, 0.91042781, 0.11296791, 0.91042781,\n",
       "        0.11296791, 0.90374332, 0.77673797, 0.91042781, 0.55481283,\n",
       "        0.91042781, 0.17513369, 0.91042781, 0.11296791, 0.91042781,\n",
       "        0.84157754, 0.91042781, 0.70588235, 0.91042781, 0.21256684,\n",
       "        0.91042781, 0.17647059]),\n",
       " 'mean_test_score': array([0.76833333, 0.295     , 0.87833333, 0.20433333, 0.89133333,\n",
       "        0.113     , 0.89133333, 0.113     , 0.82433333, 0.51733333,\n",
       "        0.88833333, 0.214     , 0.89133333, 0.113     , 0.89133333,\n",
       "        0.113     , 0.88266667, 0.76666667, 0.89133333, 0.54433333,\n",
       "        0.89133333, 0.172     , 0.89133333, 0.113     , 0.89033333,\n",
       "        0.82033333, 0.89133333, 0.69266667, 0.89133333, 0.213     ,\n",
       "        0.89133333, 0.172     ]),\n",
       " 'std_test_score': array([2.43823089e-02, 1.35467148e-02, 2.13422981e-02, 7.54491572e-03,\n",
       "        1.90436233e-02, 3.20001138e-05, 1.90436233e-02, 3.20001138e-05,\n",
       "        2.18649666e-02, 1.20462651e-02, 2.00356268e-02, 5.70668696e-04,\n",
       "        1.90436233e-02, 3.20001138e-05, 1.90436233e-02, 3.20001138e-05,\n",
       "        2.10205192e-02, 1.00444802e-02, 1.90436233e-02, 1.04515927e-02,\n",
       "        1.90436233e-02, 3.12534445e-03, 1.90436233e-02, 3.20001138e-05,\n",
       "        2.00409601e-02, 2.11876309e-02, 1.90436233e-02, 1.31804913e-02,\n",
       "        1.90436233e-02, 4.32001536e-04, 1.90436233e-02, 4.45868252e-03]),\n",
       " 'rank_test_score': array([17, 22, 14, 25,  1, 28,  1, 28, 15, 21, 12, 23,  1, 28,  1, 28, 13,\n",
       "        18,  1, 20,  1, 26,  1, 28, 11, 16,  1, 19,  1, 24,  1, 26]),\n",
       " 'split0_train_score': array([0.91243316, 0.35294118, 0.99799465, 0.20855615, 1.        ,\n",
       "        0.11296791, 1.        , 0.11296791, 0.96457219, 0.60962567,\n",
       "        0.99933155, 0.23729947, 1.        , 0.11296791, 1.        ,\n",
       "        0.11296791, 0.9986631 , 0.94719251, 1.        , 0.94451872,\n",
       "        1.        , 0.33088235, 1.        , 0.22259358, 1.        ,\n",
       "        0.9986631 , 1.        , 0.99933155, 1.        , 1.        ,\n",
       "        1.        , 1.        ]),\n",
       " 'split1_train_score': array([0.90558511, 0.29654255, 0.99534574, 0.20478723, 1.        ,\n",
       "        0.11303191, 1.        , 0.11303191, 0.96210106, 0.60837766,\n",
       "        1.        , 0.22406915, 1.        , 0.11303191, 1.        ,\n",
       "        0.11303191, 0.99601064, 0.92952128, 1.        , 0.95146277,\n",
       "        1.        , 0.24335106, 1.        , 0.22273936, 1.        ,\n",
       "        0.99800532, 1.        , 1.        , 1.        , 1.        ,\n",
       "        1.        , 1.        ]),\n",
       " 'mean_train_score': array([0.90900913, 0.32474186, 0.9966702 , 0.20667169, 1.        ,\n",
       "        0.11299991, 1.        , 0.11299991, 0.96333663, 0.60900166,\n",
       "        0.99966578, 0.23068431, 1.        , 0.11299991, 1.        ,\n",
       "        0.11299991, 0.99733687, 0.93835689, 1.        , 0.94799074,\n",
       "        1.        , 0.28711671, 1.        , 0.22266647, 1.        ,\n",
       "        0.99833421, 1.        , 0.99966578, 1.        , 1.        ,\n",
       "        1.        , 1.        ]),\n",
       " 'std_train_score': array([3.42402435e-03, 2.81993116e-02, 1.32445386e-03, 1.88445785e-03,\n",
       "        0.00000000e+00, 3.20002276e-05, 0.00000000e+00, 3.20002276e-05,\n",
       "        1.23556434e-03, 6.24004437e-04, 3.34224599e-04, 6.61515815e-03,\n",
       "        0.00000000e+00, 3.20002276e-05, 0.00000000e+00, 3.20002276e-05,\n",
       "        1.32623165e-03, 8.83561839e-03, 0.00000000e+00, 3.47202469e-03,\n",
       "        0.00000000e+00, 4.37656446e-02, 0.00000000e+00, 7.28894072e-05,\n",
       "        0.00000000e+00, 3.28891228e-04, 0.00000000e+00, 3.34224599e-04,\n",
       "        0.00000000e+00, 0.00000000e+00, 0.00000000e+00, 0.00000000e+00])}"
      ]
     },
     "execution_count": 84,
     "metadata": {},
     "output_type": "execute_result"
    }
   ],
   "source": [
    "# Here plot score (accuracy) for each model. You can use \"plot_scores\" function.\n",
    "\n",
    "# Example: plot_scores(parameters, scores, \"title\", \"x_label\", \"y_label\"), \n",
    "\n",
    "# You can see an example in the follow.\n",
    "# Note that the visualizations/plots provided are just simple examples/illustrations. \n",
    "# We encourage more informative and alternate methods to present results.\n",
    "# plot_scores(x, y, title = \"Title\", x_label = \"X\", y_label = \"Y\"):\n",
    "svm_model.cv_results_"
   ]
  },
  {
   "cell_type": "code",
   "execution_count": 9,
   "metadata": {},
   "outputs": [],
   "source": [
    "# Here report the score for the best model\n",
    "#\n",
    "# ------- Your Code -------\n",
    "#"
   ]
  },
  {
   "cell_type": "code",
   "execution_count": 76,
   "metadata": {},
   "outputs": [
    {
     "data": {
      "image/png": "[encoded data removed]",
      "text/plain": [
       "<Figure size 720x576 with 12 Axes>"
      ]
     },
     "metadata": {
      "needs_background": "light"
     },
     "output_type": "display_data"
    }
   ],
   "source": [
    "# Visualize the predictions\n",
    "# Example: vis_predictions(x_eval, y_pred, size_of_data)\n",
    "#\n",
    "#\n",
    "# ------- Your Code -------\n",
    "#\n",
    "vis_predictions(x_test, y_predict, len(y_predict))"
   ]
  },
  {
   "cell_type": "markdown",
   "metadata": {
    "colab_type": "text",
    "id": "DEQrdyLHsUIu"
   },
   "source": [
    "### 2.1.6: Summary\n",
    "\n",
    "Summarize your findings:\n",
    " * Which hyper-parameters were important and how did they influence your results?\n",
    " * What were other design choices you faced?\n",
    " * Any other interesting insights..."
   ]
  },
  {
   "cell_type": "markdown",
   "metadata": {
    "colab_type": "text",
    "id": "Fcq52WUUs2Mm"
   },
   "source": [
    "# 2.2: Model [M2]: *fill-this-in* (25 points)\n",
    "\n",
    "\n"
   ]
  },
  {
   "cell_type": "markdown",
   "metadata": {},
   "source": [
    "### 2.2.1: Hyper-parameters\n",
    "\n",
    "Define hyper-parameters for your method here"
   ]
  },
  {
   "cell_type": "code",
   "execution_count": 87,
   "metadata": {},
   "outputs": [],
   "source": [
    "#\n",
    "#\n",
    "# ------- Your Code -------\n",
    "#\n",
    "#\n",
    "\n",
    "degree = np.asarray([1,2,3]) # example\n",
    "batch_size = 64\n",
    "\n",
    "# convert data to torch.FloatTensor\n",
    "transform = transforms.ToTensor()\n",
    "\n",
    "# choose the training and test datasets\n",
    "train_data = datasets.MNIST(root='data/mnist', train=True,\n",
    "                                   download=True, transform=transform)\n",
    "test_data = datasets.MNIST(root='data/mnist', train=False,\n",
    "                                  download=True, transform=transform)\n",
    "\n",
    "\n",
    "train_loader = torch.utils.data.DataLoader(train_data, batch_size=batch_size)\n",
    "test_loader = torch.utils.data.DataLoader(test_data, batch_size=batch_size)\n",
    "\n",
    "# You don't need the following code, if you can use data from 2.1.1.\n",
    "\n",
    "test_set = 'val'  #  or 'test'\n",
    "# Decide all your hyperparameters based on validation performance\n",
    "# Then, switch to 'test' for final evaluation\n",
    "\n",
    "if test_set == 'val':\n",
    "    train_idxs, val_idxs = ..., ...   # Fill in\n",
    "    x_train, y_train = x_trainval[train_idxs], y_trainval[train_idxs]\n",
    "    x_eval, y_eval = x_trainval[val_idxs], y_trainval[val_idxs]\n",
    "else:\n",
    "    x_train, y_train = x_trainval, y_trainval\n",
    "    x_eval, y_eval = x_test, y_test"
   ]
  },
  {
   "cell_type": "markdown",
   "metadata": {},
   "source": [
    "### 2.2.2: Data Preprocessing\n"
   ]
  },
  {
   "cell_type": "code",
   "execution_count": 191,
   "metadata": {},
   "outputs": [],
   "source": [
    "#\n",
    "#\n",
    "# ------- Your Code -------\n",
    "#\n",
    "# e.g. normalize, flatten input data.\n"
   ]
  },
  {
   "cell_type": "markdown",
   "metadata": {},
   "source": [
    "### 2.2.3: Model\n",
    "\n",
    "Define your model here (all hyper-parameters in 2.1.1)"
   ]
  },
  {
   "cell_type": "code",
   "execution_count": 88,
   "metadata": {},
   "outputs": [
    {
     "name": "stdout",
     "output_type": "stream",
     "text": [
      "Net(\n",
      "  (fc1): Linear(in_features=784, out_features=512, bias=True)\n",
      "  (fc2): Linear(in_features=512, out_features=512, bias=True)\n",
      "  (fc3): Linear(in_features=512, out_features=10, bias=True)\n",
      "  (dropout): Dropout(p=0.2, inplace=False)\n",
      ")\n"
     ]
    }
   ],
   "source": [
    "class Net(nn.Module):\n",
    "    def __init__(self):\n",
    "        super(Net, self).__init__()\n",
    "        self.fc1 = nn.Linear(28 * 28, 512)\n",
    "        # linear layer (n_hidden -> hidden_2)\n",
    "        self.fc2 = nn.Linear(512, 512)\n",
    "        # linear layer (n_hidden -> 10)\n",
    "        self.fc3 = nn.Linear(512, 10)\n",
    "        # dropout layer (p=0.2)\n",
    "        # dropout prevents overfitting of data\n",
    "        self.dropout = nn.Dropout(0.2)\n",
    "\n",
    "    def forward(self, x):\n",
    "        # flatten image input\n",
    "        x = x.view(-1, 28 * 28)\n",
    "        # add hidden layer, with relu activation function\n",
    "        x = F.relu(self.fc1(x))\n",
    "        return x\n",
    "\n",
    "# initialize the NN\n",
    "model = Net()\n",
    "print(model)"
   ]
  },
  {
   "cell_type": "markdown",
   "metadata": {},
   "source": [
    "### 2.2.4: Fit Model\n"
   ]
  },
  {
   "cell_type": "code",
   "execution_count": 10,
   "metadata": {},
   "outputs": [],
   "source": [
    "#\n",
    "#\n",
    "# ------- Your Code -------\n",
    "#\n",
    "# \n",
    "#  Please save the trained model"
   ]
  },
  {
   "cell_type": "markdown",
   "metadata": {},
   "source": [
    "### 2.2.5: Evaluation\n",
    "\n",
    "Evaluate your model.\n",
    "  * Evaluate models with different parameters \n",
    "  * Plot score (accuracy) for each model using \"plot_scores\" function\n",
    "  * Report the score for the best model\n",
    "  * Use \"vis_predictions\" function to visualize few examples of test/validation set with the corresponding predictions\n"
   ]
  },
  {
   "cell_type": "code",
   "execution_count": 11,
   "metadata": {},
   "outputs": [
    {
     "data": {
      "image/png": "[encoded data removed]",
      "text/plain": [
       "<Figure size 432x288 with 1 Axes>"
      ]
     },
     "metadata": {
      "needs_background": "light"
     },
     "output_type": "display_data"
    }
   ],
   "source": [
    "# Here plot score (accuracy) for each model. You can use \"plot_scores\" function.\n",
    "\n",
    "# Example: plot_scores(parameters, scores, \"title\", \"x_label\", \"y_label\"), \n",
    "\n",
    "# You can see an example in the follow.\n",
    "# Note that the visualizations/plots provided are just simple examples/illustrations. \n",
    "# We encourage more informative and alternate methods to present results."
   ]
  },
  {
   "cell_type": "code",
   "execution_count": 13,
   "metadata": {},
   "outputs": [],
   "source": [
    "# Here report the score for the best model\n",
    "#\n",
    "# ------- Your Code -------\n",
    "#"
   ]
  },
  {
   "cell_type": "code",
   "execution_count": 198,
   "metadata": {},
   "outputs": [
    {
     "data": {
      "image/png": "[encoded data removed]",
      "text/plain": [
       "<Figure size 432x288 with 12 Axes>"
      ]
     },
     "metadata": {
      "needs_background": "light"
     },
     "output_type": "display_data"
    }
   ],
   "source": [
    "# Visualize the predictions\n",
    "# Example: vis_predictions(x_eval, y_pred, size_of_data)\n",
    "#\n",
    "#\n",
    "# ------- Your Code -------\n",
    "#"
   ]
  },
  {
   "cell_type": "markdown",
   "metadata": {},
   "source": [
    "### 2.2.6: Summary\n",
    "\n",
    "Summarize your findings:\n",
    " * Which hyper-parameters were important and how did they influence your results?\n",
    " * What were other design choices you faced?\n",
    " * Any other interesting insights..."
   ]
  },
  {
   "cell_type": "markdown",
   "metadata": {},
   "source": [
    "# 2.3: Model [M3] (Neural Networks): *fill-this-in* (25 points)\n",
    "\n"
   ]
  },
  {
   "cell_type": "markdown",
   "metadata": {},
   "source": [
    "### 2.3.1: Hyper-parameters\n",
    "\n",
    "Define hyper-parameters for your method here"
   ]
  },
  {
   "cell_type": "code",
   "execution_count": 78,
   "metadata": {},
   "outputs": [],
   "source": [
    "#\n",
    "#\n",
    "# ------- Your Code -------\n",
    "#\n",
    "#\n",
    "batch_size_train = 64 # Fill in\n",
    "batch_size_test = 1000 # Fill in\n",
    "n_epochs = 3 # Fill in\n",
    "learning_rate = 0.01\n",
    "momentum = 0.5\n",
    "# other parameters ...\n",
    "\n",
    "\n",
    "# You don't need the following code, if you can use data from 2.1.1.\n",
    "# You can also use torch built-in functions (torch.utils.data)\n",
    "\n",
    "test_set = 'val'  #  or 'test'\n",
    "# Decide all your hyperparameters based on validation performance\n",
    "# Then, switch to 'test' for final evaluation\n",
    "\n",
    "if test_set == 'val':\n",
    "    train_idxs, val_idxs = ..., ...   # Fill in\n",
    "    x_train, y_train = x_trainval[train_idxs], y_trainval[train_idxs]\n",
    "    x_eval, y_eval = x_trainval[val_idxs], y_trainval[val_idxs]\n",
    "else:\n",
    "    x_train, y_train = x_trainval, y_trainval\n",
    "    x_eval, y_eval = x_test, y_test"
   ]
  },
  {
   "cell_type": "markdown",
   "metadata": {},
   "source": [
    "### 2.3.2: Data Preprocessing\n"
   ]
  },
  {
   "cell_type": "code",
   "execution_count": 126,
   "metadata": {},
   "outputs": [
    {
     "name": "stderr",
     "output_type": "stream",
     "text": [
      "C:\\ProgramData\\Miniconda3\\envs\\DSP\\lib\\site-packages\\torchvision\\datasets\\mnist.py:53: UserWarning: train_data has been renamed data\n",
      "  warnings.warn(\"train_data has been renamed data\")\n"
     ]
    },
    {
     "name": "stdout",
     "output_type": "stream",
     "text": [
      "torch.Size([60000, 28, 28])\n",
      "tensor(0.1306)\n",
      "tensor(0.3081)\n"
     ]
    }
   ],
   "source": [
    "print(training_data.train_data.size())\n",
    "print(training_data.train_data.float().mean()/255)\n",
    "print(training_data.train_data.float().std()/255)"
   ]
  },
  {
   "cell_type": "code",
   "execution_count": 143,
   "metadata": {},
   "outputs": [
    {
     "name": "stderr",
     "output_type": "stream",
     "text": [
      "C:\\ProgramData\\Miniconda3\\envs\\DSP\\lib\\site-packages\\torchvision\\datasets\\mnist.py:53: UserWarning: train_data has been renamed data\n",
      "  warnings.warn(\"train_data has been renamed data\")\n",
      "C:\\ProgramData\\Miniconda3\\envs\\DSP\\lib\\site-packages\\torchvision\\datasets\\mnist.py:58: UserWarning: test_data has been renamed data\n",
      "  warnings.warn(\"test_data has been renamed data\")\n"
     ]
    }
   ],
   "source": [
    "#\n",
    "#\n",
    "# ------- Your Code -------\n",
    "#\n",
    "# e.g. normalize, flatten input data.\n",
    "\n",
    "mean_train_data = training_data.train_data.float().mean()/255\n",
    "std_train_data = training_data.train_data.float().std()/255\n",
    "\n",
    "mean_test_data = test_data.test_data.float().mean()/255\n",
    "std_test_data = test_data.test_data.float().std()/255\n",
    "\n",
    "train_loader = torch.utils.data.DataLoader(\n",
    "    torchvision.datasets.MNIST('data/mnist/', train=True, download=False,\n",
    "                              transform=torchvision.transforms.Compose([\n",
    "                                  torchvision.transforms.ToTensor(),\n",
    "                                  torchvision.transforms.Normalize((mean_train_data, ), (std_train_data,))\n",
    "                              ])), batch_size=batch_size_train, shuffle=True)\n",
    "\n",
    "\n",
    "test_loader = torch.utils.data.DataLoader(\n",
    "    torchvision.datasets.MNIST('data/mnist/', train=False, download=False,\n",
    "                              transform=torchvision.transforms.Compose([\n",
    "                                  torchvision.transforms.ToTensor(),\n",
    "                              ])), batch_size=batch_size_test, shuffle=True)\n"
   ]
  },
  {
   "cell_type": "code",
   "execution_count": null,
   "metadata": {},
   "outputs": [],
   "source": []
  },
  {
   "cell_type": "code",
   "execution_count": 174,
   "metadata": {},
   "outputs": [
    {
     "data": {
      "text/plain": [
       "<torch.utils.data.dataloader.DataLoader at 0x194a75d77b8>"
      ]
     },
     "execution_count": 174,
     "metadata": {},
     "output_type": "execute_result"
    }
   ],
   "source": [
    "examples = enumerate(train_loader)\n",
    "batch_idx, (example_data, example_targets) = next(examples)\n",
    "example_data.shape"
   ]
  },
  {
   "cell_type": "markdown",
   "metadata": {},
   "source": [
    "### 2.3.3: Model\n",
    "\n",
    "Define your model here"
   ]
  },
  {
   "cell_type": "code",
   "execution_count": 199,
   "metadata": {},
   "outputs": [],
   "source": [
    "class Net(nn.Module):\n",
    "\n",
    "    def __init__(self):\n",
    "        super(Net, self).__init__()\n",
    "        # 1 input image channel, 6 output channels, 3x3 square convolution\n",
    "        # kernel\n",
    "        \n",
    "        self.conv1 = nn.Conv2d(1, 10, kernel_size=5)\n",
    "        self.conv2 = nn.Conv2d(10, 20, kernel_size=5)\n",
    "        self.conv2_drop = nn.Dropout2d()\n",
    "        self.fc1 = nn.Linear(320, 50)\n",
    "        self.fc2 = nn.Linear(50, 10)\n",
    "\n",
    "    def forward(self, x):\n",
    "        \n",
    "        x = F.relu(F.max_pool2d(self.conv1(x), 2))\n",
    "        x = F.relu(F.max_pool2d(self.conv2_drop(self.conv2(x)), 2))\n",
    "        x = x.view(-1, self.num_flat_features(x))\n",
    "        x = F.relu(self.fc1(x))\n",
    "        x = F.dropout(x, training=self.training)\n",
    "        x = self.fc2(x)\n",
    "        return F.log_softmax(x)\n",
    "        \n",
    "#         # Max pooling over a (2, 2) window\n",
    "#         x = F.max_pool2d(F.relu(self.conv1(x)), (2, 2))\n",
    "#         # If the size is a square you can only specify a single number\n",
    "#         x = F.max_pool2d(F.relu(self.conv2(x)), 2)\n",
    "#         x = x.view(-1, self.num_flat_features(x))\n",
    "#         x = F.relu(self.fc1(x))\n",
    "#         x = F.relu(self.fc2(x))\n",
    "#         x = self.fc3(x)\n",
    "#         return F.log_softmax(x)\n",
    "\n",
    "    def num_flat_features(self, x):\n",
    "        size = x.size()[1:]  # all dimensions except the batch dimension\n",
    "        num_features = 1\n",
    "        for s in size:\n",
    "            num_features *= s\n",
    "        return num_features\n"
   ]
  },
  {
   "cell_type": "code",
   "execution_count": 190,
   "metadata": {},
   "outputs": [
    {
     "name": "stdout",
     "output_type": "stream",
     "text": [
      "Hello World\n",
      "[-0.9658346  -2.1890705   0.16985609  0.8138456  -3.375209   -2.1430597\n",
      " -0.39585084  2.9419577  -2.1910605   1.2443967   0.04351204 -0.5150961\n",
      " -0.86073655 -1.1097169   0.31839254 -0.8231973  -1.056304   -0.89645284\n",
      "  0.3759244  -1.0849651 ] (1000,)\n"
     ]
    }
   ],
   "source": [
    "from sklearn.datasets import make_classification\n",
    "print(\"Hello World\")\n",
    "X, y = make_classification(1000, 20, n_informative=10, random_state=0)\n",
    "X = X.astype(np.float32)\n",
    "y = y.astype(np.int64)\n",
    "print(X[0], y.shape)"
   ]
  },
  {
   "cell_type": "code",
   "execution_count": 236,
   "metadata": {},
   "outputs": [
    {
     "name": "stdout",
     "output_type": "stream",
     "text": [
      "(3000, 28, 28)\n",
      "(3000, 1, 28, 28)\n",
      "[[[  0.   0.   0.   0.   0.   0.   0.   0.   0.   0.   0.   0.   0.   0.\n",
      "     0.   0.   0.   0.   0.   0.   0.   0.   0.   0.   0.   0.   0.   0.]\n",
      "  [  0.   0.   0.   0.   0.   0.   0.   0.   0.   0.   0.   0.   0.   0.\n",
      "     0.   0.   0.   0.   0.   0.   0.   0.   0.   0.   0.   0.   0.   0.]\n",
      "  [  0.   0.   0.   0.   0.   0.   0.   0.   0.   0.   0.   0.   0.   0.\n",
      "     0.   0.   0.   0.   0.   0.   0.   0.   0.   0.   0.   0.   0.   0.]\n",
      "  [  0.   0.   0.   0.   0.   0.   0.   0.   0.   0.   0.   0.   0.   0.\n",
      "     0.   0.   0.   0.   0.   0.   0.   0.   0.   0.   0.   0.   0.   0.]\n",
      "  [  0.   0.   0.   0.   0.   0.   0.   0.   0.   0.   0.   0.   0.   0.\n",
      "     0.  51. 159. 253. 159.  50.   0.   0.   0.   0.   0.   0.   0.   0.]\n",
      "  [  0.   0.   0.   0.   0.   0.   0.   0.   0.   0.   0.   0.   0.   0.\n",
      "    48. 238. 252. 252. 252. 237.   0.   0.   0.   0.   0.   0.   0.   0.]\n",
      "  [  0.   0.   0.   0.   0.   0.   0.   0.   0.   0.   0.   0.   0.  54.\n",
      "   227. 253. 252. 239. 233. 252.  57.   6.   0.   0.   0.   0.   0.   0.]\n",
      "  [  0.   0.   0.   0.   0.   0.   0.   0.   0.   0.   0.  10.  60. 224.\n",
      "   252. 253. 252. 202.  84. 252. 253. 122.   0.   0.   0.   0.   0.   0.]\n",
      "  [  0.   0.   0.   0.   0.   0.   0.   0.   0.   0.   0. 163. 252. 252.\n",
      "   252. 253. 252. 252.  96. 189. 253. 167.   0.   0.   0.   0.   0.   0.]\n",
      "  [  0.   0.   0.   0.   0.   0.   0.   0.   0.   0.  51. 238. 253. 253.\n",
      "   190. 114. 253. 228.  47.  79. 255. 168.   0.   0.   0.   0.   0.   0.]\n",
      "  [  0.   0.   0.   0.   0.   0.   0.   0.   0.  48. 238. 252. 252. 179.\n",
      "    12.  75. 121.  21.   0.   0. 253. 243.  50.   0.   0.   0.   0.   0.]\n",
      "  [  0.   0.   0.   0.   0.   0.   0.   0.  38. 165. 253. 233. 208.  84.\n",
      "     0.   0.   0.   0.   0.   0. 253. 252. 165.   0.   0.   0.   0.   0.]\n",
      "  [  0.   0.   0.   0.   0.   0.   0.   7. 178. 252. 240.  71.  19.  28.\n",
      "     0.   0.   0.   0.   0.   0. 253. 252. 195.   0.   0.   0.   0.   0.]\n",
      "  [  0.   0.   0.   0.   0.   0.   0.  57. 252. 252.  63.   0.   0.   0.\n",
      "     0.   0.   0.   0.   0.   0. 253. 252. 195.   0.   0.   0.   0.   0.]\n",
      "  [  0.   0.   0.   0.   0.   0.   0. 198. 253. 190.   0.   0.   0.   0.\n",
      "     0.   0.   0.   0.   0.   0. 255. 253. 196.   0.   0.   0.   0.   0.]\n",
      "  [  0.   0.   0.   0.   0.   0.  76. 246. 252. 112.   0.   0.   0.   0.\n",
      "     0.   0.   0.   0.   0.   0. 253. 252. 148.   0.   0.   0.   0.   0.]\n",
      "  [  0.   0.   0.   0.   0.   0.  85. 252. 230.  25.   0.   0.   0.   0.\n",
      "     0.   0.   0.   0.   7. 135. 253. 186.  12.   0.   0.   0.   0.   0.]\n",
      "  [  0.   0.   0.   0.   0.   0.  85. 252. 223.   0.   0.   0.   0.   0.\n",
      "     0.   0.   0.   7. 131. 252. 225.  71.   0.   0.   0.   0.   0.   0.]\n",
      "  [  0.   0.   0.   0.   0.   0.  85. 252. 145.   0.   0.   0.   0.   0.\n",
      "     0.   0.  48. 165. 252. 173.   0.   0.   0.   0.   0.   0.   0.   0.]\n",
      "  [  0.   0.   0.   0.   0.   0.  86. 253. 225.   0.   0.   0.   0.   0.\n",
      "     0. 114. 238. 253. 162.   0.   0.   0.   0.   0.   0.   0.   0.   0.]\n",
      "  [  0.   0.   0.   0.   0.   0.  85. 252. 249. 146.  48.  29.  85. 178.\n",
      "   225. 253. 223. 167.  56.   0.   0.   0.   0.   0.   0.   0.   0.   0.]\n",
      "  [  0.   0.   0.   0.   0.   0.  85. 252. 252. 252. 229. 215. 252. 252.\n",
      "   252. 196. 130.   0.   0.   0.   0.   0.   0.   0.   0.   0.   0.   0.]\n",
      "  [  0.   0.   0.   0.   0.   0.  28. 199. 252. 252. 253. 252. 252. 233.\n",
      "   145.   0.   0.   0.   0.   0.   0.   0.   0.   0.   0.   0.   0.   0.]\n",
      "  [  0.   0.   0.   0.   0.   0.   0.  25. 128. 252. 253. 252. 141.  37.\n",
      "     0.   0.   0.   0.   0.   0.   0.   0.   0.   0.   0.   0.   0.   0.]\n",
      "  [  0.   0.   0.   0.   0.   0.   0.   0.   0.   0.   0.   0.   0.   0.\n",
      "     0.   0.   0.   0.   0.   0.   0.   0.   0.   0.   0.   0.   0.   0.]\n",
      "  [  0.   0.   0.   0.   0.   0.   0.   0.   0.   0.   0.   0.   0.   0.\n",
      "     0.   0.   0.   0.   0.   0.   0.   0.   0.   0.   0.   0.   0.   0.]\n",
      "  [  0.   0.   0.   0.   0.   0.   0.   0.   0.   0.   0.   0.   0.   0.\n",
      "     0.   0.   0.   0.   0.   0.   0.   0.   0.   0.   0.   0.   0.   0.]\n",
      "  [  0.   0.   0.   0.   0.   0.   0.   0.   0.   0.   0.   0.   0.   0.\n",
      "     0.   0.   0.   0.   0.   0.   0.   0.   0.   0.   0.   0.   0.   0.]]]\n"
     ]
    }
   ],
   "source": [
    "\n",
    "print(x_trainval_3d.shape)\n",
    "x_rr = x_trainval_3d.reshape(-1, 1, 28, 28).astype(np.double)\n",
    "print(x_rr.shape)\n",
    "x_tensor = torchvision.datasets.MNIST(dataset_dir,train=True, transform=torchvision.transforms.Compose([\n",
    "    \n",
    "torchvision.transforms.ToTensor()]), \n",
    "                                     target_transform=None, download=True)\n",
    "\n",
    "print(x_rr[1])"
   ]
  },
  {
   "cell_type": "code",
   "execution_count": 235,
   "metadata": {},
   "outputs": [
    {
     "ename": "RuntimeError",
     "evalue": "Expected object of scalar type Double but got scalar type Float for argument #2 'weight'",
     "output_type": "error",
     "traceback": [
      "\u001b[1;31m---------------------------------------------------------------------------\u001b[0m",
      "\u001b[1;31mRuntimeError\u001b[0m                              Traceback (most recent call last)",
      "\u001b[1;32m<ipython-input-235-336f4e5e5b8f>\u001b[0m in \u001b[0;36m<module>\u001b[1;34m\u001b[0m\n\u001b[0;32m      8\u001b[0m )\n\u001b[0;32m      9\u001b[0m \u001b[1;33m\u001b[0m\u001b[0m\n\u001b[1;32m---> 10\u001b[1;33m \u001b[0mnet\u001b[0m\u001b[1;33m.\u001b[0m\u001b[0mfit\u001b[0m\u001b[1;33m(\u001b[0m\u001b[0mx_rr\u001b[0m\u001b[1;33m,\u001b[0m \u001b[0my\u001b[0m\u001b[1;33m=\u001b[0m\u001b[0my_trainval\u001b[0m\u001b[1;33m.\u001b[0m\u001b[0mastype\u001b[0m\u001b[1;33m(\u001b[0m\u001b[0mnp\u001b[0m\u001b[1;33m.\u001b[0m\u001b[0mdouble\u001b[0m\u001b[1;33m)\u001b[0m\u001b[1;33m)\u001b[0m\u001b[1;33m\u001b[0m\u001b[1;33m\u001b[0m\u001b[0m\n\u001b[0m\u001b[0;32m     11\u001b[0m \u001b[0my_proba\u001b[0m \u001b[1;33m=\u001b[0m \u001b[0mnet\u001b[0m\u001b[1;33m.\u001b[0m\u001b[0mpredict_proba\u001b[0m\u001b[1;33m(\u001b[0m\u001b[0mx_rr\u001b[0m\u001b[1;33m)\u001b[0m\u001b[1;33m\u001b[0m\u001b[1;33m\u001b[0m\u001b[0m\n\u001b[0;32m     12\u001b[0m \u001b[1;33m\u001b[0m\u001b[0m\n",
      "\u001b[1;32mC:\\ProgramData\\Miniconda3\\envs\\DSP\\lib\\site-packages\\skorch\\classifier.py\u001b[0m in \u001b[0;36mfit\u001b[1;34m(self, X, y, **fit_params)\u001b[0m\n\u001b[0;32m    120\u001b[0m         \u001b[1;31m# this is actually a pylint bug:\u001b[0m\u001b[1;33m\u001b[0m\u001b[1;33m\u001b[0m\u001b[1;33m\u001b[0m\u001b[0m\n\u001b[0;32m    121\u001b[0m         \u001b[1;31m# https://github.com/PyCQA/pylint/issues/1085\u001b[0m\u001b[1;33m\u001b[0m\u001b[1;33m\u001b[0m\u001b[1;33m\u001b[0m\u001b[0m\n\u001b[1;32m--> 122\u001b[1;33m         \u001b[1;32mreturn\u001b[0m \u001b[0msuper\u001b[0m\u001b[1;33m(\u001b[0m\u001b[0mNeuralNetClassifier\u001b[0m\u001b[1;33m,\u001b[0m \u001b[0mself\u001b[0m\u001b[1;33m)\u001b[0m\u001b[1;33m.\u001b[0m\u001b[0mfit\u001b[0m\u001b[1;33m(\u001b[0m\u001b[0mX\u001b[0m\u001b[1;33m,\u001b[0m \u001b[0my\u001b[0m\u001b[1;33m,\u001b[0m \u001b[1;33m**\u001b[0m\u001b[0mfit_params\u001b[0m\u001b[1;33m)\u001b[0m\u001b[1;33m\u001b[0m\u001b[1;33m\u001b[0m\u001b[0m\n\u001b[0m\u001b[0;32m    123\u001b[0m \u001b[1;33m\u001b[0m\u001b[0m\n\u001b[0;32m    124\u001b[0m     \u001b[1;32mdef\u001b[0m \u001b[0mpredict_proba\u001b[0m\u001b[1;33m(\u001b[0m\u001b[0mself\u001b[0m\u001b[1;33m,\u001b[0m \u001b[0mX\u001b[0m\u001b[1;33m)\u001b[0m\u001b[1;33m:\u001b[0m\u001b[1;33m\u001b[0m\u001b[1;33m\u001b[0m\u001b[0m\n",
      "\u001b[1;32mC:\\ProgramData\\Miniconda3\\envs\\DSP\\lib\\site-packages\\skorch\\net.py\u001b[0m in \u001b[0;36mfit\u001b[1;34m(self, X, y, **fit_params)\u001b[0m\n\u001b[0;32m    850\u001b[0m             \u001b[0mself\u001b[0m\u001b[1;33m.\u001b[0m\u001b[0minitialize\u001b[0m\u001b[1;33m(\u001b[0m\u001b[1;33m)\u001b[0m\u001b[1;33m\u001b[0m\u001b[1;33m\u001b[0m\u001b[0m\n\u001b[0;32m    851\u001b[0m \u001b[1;33m\u001b[0m\u001b[0m\n\u001b[1;32m--> 852\u001b[1;33m         \u001b[0mself\u001b[0m\u001b[1;33m.\u001b[0m\u001b[0mpartial_fit\u001b[0m\u001b[1;33m(\u001b[0m\u001b[0mX\u001b[0m\u001b[1;33m,\u001b[0m \u001b[0my\u001b[0m\u001b[1;33m,\u001b[0m \u001b[1;33m**\u001b[0m\u001b[0mfit_params\u001b[0m\u001b[1;33m)\u001b[0m\u001b[1;33m\u001b[0m\u001b[1;33m\u001b[0m\u001b[0m\n\u001b[0m\u001b[0;32m    853\u001b[0m         \u001b[1;32mreturn\u001b[0m \u001b[0mself\u001b[0m\u001b[1;33m\u001b[0m\u001b[1;33m\u001b[0m\u001b[0m\n\u001b[0;32m    854\u001b[0m \u001b[1;33m\u001b[0m\u001b[0m\n",
      "\u001b[1;32mC:\\ProgramData\\Miniconda3\\envs\\DSP\\lib\\site-packages\\skorch\\net.py\u001b[0m in \u001b[0;36mpartial_fit\u001b[1;34m(self, X, y, classes, **fit_params)\u001b[0m\n\u001b[0;32m    809\u001b[0m         \u001b[0mself\u001b[0m\u001b[1;33m.\u001b[0m\u001b[0mnotify\u001b[0m\u001b[1;33m(\u001b[0m\u001b[1;34m'on_train_begin'\u001b[0m\u001b[1;33m,\u001b[0m \u001b[0mX\u001b[0m\u001b[1;33m=\u001b[0m\u001b[0mX\u001b[0m\u001b[1;33m,\u001b[0m \u001b[0my\u001b[0m\u001b[1;33m=\u001b[0m\u001b[0my\u001b[0m\u001b[1;33m)\u001b[0m\u001b[1;33m\u001b[0m\u001b[1;33m\u001b[0m\u001b[0m\n\u001b[0;32m    810\u001b[0m         \u001b[1;32mtry\u001b[0m\u001b[1;33m:\u001b[0m\u001b[1;33m\u001b[0m\u001b[1;33m\u001b[0m\u001b[0m\n\u001b[1;32m--> 811\u001b[1;33m             \u001b[0mself\u001b[0m\u001b[1;33m.\u001b[0m\u001b[0mfit_loop\u001b[0m\u001b[1;33m(\u001b[0m\u001b[0mX\u001b[0m\u001b[1;33m,\u001b[0m \u001b[0my\u001b[0m\u001b[1;33m,\u001b[0m \u001b[1;33m**\u001b[0m\u001b[0mfit_params\u001b[0m\u001b[1;33m)\u001b[0m\u001b[1;33m\u001b[0m\u001b[1;33m\u001b[0m\u001b[0m\n\u001b[0m\u001b[0;32m    812\u001b[0m         \u001b[1;32mexcept\u001b[0m \u001b[0mKeyboardInterrupt\u001b[0m\u001b[1;33m:\u001b[0m\u001b[1;33m\u001b[0m\u001b[1;33m\u001b[0m\u001b[0m\n\u001b[0;32m    813\u001b[0m             \u001b[1;32mpass\u001b[0m\u001b[1;33m\u001b[0m\u001b[1;33m\u001b[0m\u001b[0m\n",
      "\u001b[1;32mC:\\ProgramData\\Miniconda3\\envs\\DSP\\lib\\site-packages\\skorch\\net.py\u001b[0m in \u001b[0;36mfit_loop\u001b[1;34m(self, X, y, epochs, **fit_params)\u001b[0m\n\u001b[0;32m    741\u001b[0m                 \u001b[0myi_res\u001b[0m \u001b[1;33m=\u001b[0m \u001b[0myi\u001b[0m \u001b[1;32mif\u001b[0m \u001b[1;32mnot\u001b[0m \u001b[0my_train_is_ph\u001b[0m \u001b[1;32melse\u001b[0m \u001b[1;32mNone\u001b[0m\u001b[1;33m\u001b[0m\u001b[1;33m\u001b[0m\u001b[0m\n\u001b[0;32m    742\u001b[0m                 \u001b[0mself\u001b[0m\u001b[1;33m.\u001b[0m\u001b[0mnotify\u001b[0m\u001b[1;33m(\u001b[0m\u001b[1;34m'on_batch_begin'\u001b[0m\u001b[1;33m,\u001b[0m \u001b[0mX\u001b[0m\u001b[1;33m=\u001b[0m\u001b[0mXi\u001b[0m\u001b[1;33m,\u001b[0m \u001b[0my\u001b[0m\u001b[1;33m=\u001b[0m\u001b[0myi_res\u001b[0m\u001b[1;33m,\u001b[0m \u001b[0mtraining\u001b[0m\u001b[1;33m=\u001b[0m\u001b[1;32mTrue\u001b[0m\u001b[1;33m)\u001b[0m\u001b[1;33m\u001b[0m\u001b[1;33m\u001b[0m\u001b[0m\n\u001b[1;32m--> 743\u001b[1;33m                 \u001b[0mstep\u001b[0m \u001b[1;33m=\u001b[0m \u001b[0mself\u001b[0m\u001b[1;33m.\u001b[0m\u001b[0mtrain_step\u001b[0m\u001b[1;33m(\u001b[0m\u001b[0mXi\u001b[0m\u001b[1;33m,\u001b[0m \u001b[0myi\u001b[0m\u001b[1;33m,\u001b[0m \u001b[1;33m**\u001b[0m\u001b[0mfit_params\u001b[0m\u001b[1;33m)\u001b[0m\u001b[1;33m\u001b[0m\u001b[1;33m\u001b[0m\u001b[0m\n\u001b[0m\u001b[0;32m    744\u001b[0m                 \u001b[0mself\u001b[0m\u001b[1;33m.\u001b[0m\u001b[0mhistory\u001b[0m\u001b[1;33m.\u001b[0m\u001b[0mrecord_batch\u001b[0m\u001b[1;33m(\u001b[0m\u001b[1;34m'train_loss'\u001b[0m\u001b[1;33m,\u001b[0m \u001b[0mstep\u001b[0m\u001b[1;33m[\u001b[0m\u001b[1;34m'loss'\u001b[0m\u001b[1;33m]\u001b[0m\u001b[1;33m.\u001b[0m\u001b[0mitem\u001b[0m\u001b[1;33m(\u001b[0m\u001b[1;33m)\u001b[0m\u001b[1;33m)\u001b[0m\u001b[1;33m\u001b[0m\u001b[1;33m\u001b[0m\u001b[0m\n\u001b[0;32m    745\u001b[0m                 \u001b[0mself\u001b[0m\u001b[1;33m.\u001b[0m\u001b[0mhistory\u001b[0m\u001b[1;33m.\u001b[0m\u001b[0mrecord_batch\u001b[0m\u001b[1;33m(\u001b[0m\u001b[1;34m'train_batch_size'\u001b[0m\u001b[1;33m,\u001b[0m \u001b[0mget_len\u001b[0m\u001b[1;33m(\u001b[0m\u001b[0mXi\u001b[0m\u001b[1;33m)\u001b[0m\u001b[1;33m)\u001b[0m\u001b[1;33m\u001b[0m\u001b[1;33m\u001b[0m\u001b[0m\n",
      "\u001b[1;32mC:\\ProgramData\\Miniconda3\\envs\\DSP\\lib\\site-packages\\skorch\\net.py\u001b[0m in \u001b[0;36mtrain_step\u001b[1;34m(self, Xi, yi, **fit_params)\u001b[0m\n\u001b[0;32m    668\u001b[0m             \u001b[0mstep_accumulator\u001b[0m\u001b[1;33m.\u001b[0m\u001b[0mstore_step\u001b[0m\u001b[1;33m(\u001b[0m\u001b[0mstep\u001b[0m\u001b[1;33m)\u001b[0m\u001b[1;33m\u001b[0m\u001b[1;33m\u001b[0m\u001b[0m\n\u001b[0;32m    669\u001b[0m             \u001b[1;32mreturn\u001b[0m \u001b[0mstep\u001b[0m\u001b[1;33m[\u001b[0m\u001b[1;34m'loss'\u001b[0m\u001b[1;33m]\u001b[0m\u001b[1;33m\u001b[0m\u001b[1;33m\u001b[0m\u001b[0m\n\u001b[1;32m--> 670\u001b[1;33m         \u001b[0mself\u001b[0m\u001b[1;33m.\u001b[0m\u001b[0moptimizer_\u001b[0m\u001b[1;33m.\u001b[0m\u001b[0mstep\u001b[0m\u001b[1;33m(\u001b[0m\u001b[0mstep_fn\u001b[0m\u001b[1;33m)\u001b[0m\u001b[1;33m\u001b[0m\u001b[1;33m\u001b[0m\u001b[0m\n\u001b[0m\u001b[0;32m    671\u001b[0m         \u001b[1;32mreturn\u001b[0m \u001b[0mstep_accumulator\u001b[0m\u001b[1;33m.\u001b[0m\u001b[0mget_step\u001b[0m\u001b[1;33m(\u001b[0m\u001b[1;33m)\u001b[0m\u001b[1;33m\u001b[0m\u001b[1;33m\u001b[0m\u001b[0m\n\u001b[0;32m    672\u001b[0m \u001b[1;33m\u001b[0m\u001b[0m\n",
      "\u001b[1;32mC:\\ProgramData\\Miniconda3\\envs\\DSP\\lib\\site-packages\\torch\\optim\\sgd.py\u001b[0m in \u001b[0;36mstep\u001b[1;34m(self, closure)\u001b[0m\n\u001b[0;32m     78\u001b[0m         \u001b[0mloss\u001b[0m \u001b[1;33m=\u001b[0m \u001b[1;32mNone\u001b[0m\u001b[1;33m\u001b[0m\u001b[1;33m\u001b[0m\u001b[0m\n\u001b[0;32m     79\u001b[0m         \u001b[1;32mif\u001b[0m \u001b[0mclosure\u001b[0m \u001b[1;32mis\u001b[0m \u001b[1;32mnot\u001b[0m \u001b[1;32mNone\u001b[0m\u001b[1;33m:\u001b[0m\u001b[1;33m\u001b[0m\u001b[1;33m\u001b[0m\u001b[0m\n\u001b[1;32m---> 80\u001b[1;33m             \u001b[0mloss\u001b[0m \u001b[1;33m=\u001b[0m \u001b[0mclosure\u001b[0m\u001b[1;33m(\u001b[0m\u001b[1;33m)\u001b[0m\u001b[1;33m\u001b[0m\u001b[1;33m\u001b[0m\u001b[0m\n\u001b[0m\u001b[0;32m     81\u001b[0m \u001b[1;33m\u001b[0m\u001b[0m\n\u001b[0;32m     82\u001b[0m         \u001b[1;32mfor\u001b[0m \u001b[0mgroup\u001b[0m \u001b[1;32min\u001b[0m \u001b[0mself\u001b[0m\u001b[1;33m.\u001b[0m\u001b[0mparam_groups\u001b[0m\u001b[1;33m:\u001b[0m\u001b[1;33m\u001b[0m\u001b[1;33m\u001b[0m\u001b[0m\n",
      "\u001b[1;32mC:\\ProgramData\\Miniconda3\\envs\\DSP\\lib\\site-packages\\skorch\\net.py\u001b[0m in \u001b[0;36mstep_fn\u001b[1;34m()\u001b[0m\n\u001b[0;32m    665\u001b[0m         \u001b[0mstep_accumulator\u001b[0m \u001b[1;33m=\u001b[0m \u001b[0mself\u001b[0m\u001b[1;33m.\u001b[0m\u001b[0mget_train_step_accumulator\u001b[0m\u001b[1;33m(\u001b[0m\u001b[1;33m)\u001b[0m\u001b[1;33m\u001b[0m\u001b[1;33m\u001b[0m\u001b[0m\n\u001b[0;32m    666\u001b[0m         \u001b[1;32mdef\u001b[0m \u001b[0mstep_fn\u001b[0m\u001b[1;33m(\u001b[0m\u001b[1;33m)\u001b[0m\u001b[1;33m:\u001b[0m\u001b[1;33m\u001b[0m\u001b[1;33m\u001b[0m\u001b[0m\n\u001b[1;32m--> 667\u001b[1;33m             \u001b[0mstep\u001b[0m \u001b[1;33m=\u001b[0m \u001b[0mself\u001b[0m\u001b[1;33m.\u001b[0m\u001b[0mtrain_step_single\u001b[0m\u001b[1;33m(\u001b[0m\u001b[0mXi\u001b[0m\u001b[1;33m,\u001b[0m \u001b[0myi\u001b[0m\u001b[1;33m,\u001b[0m \u001b[1;33m**\u001b[0m\u001b[0mfit_params\u001b[0m\u001b[1;33m)\u001b[0m\u001b[1;33m\u001b[0m\u001b[1;33m\u001b[0m\u001b[0m\n\u001b[0m\u001b[0;32m    668\u001b[0m             \u001b[0mstep_accumulator\u001b[0m\u001b[1;33m.\u001b[0m\u001b[0mstore_step\u001b[0m\u001b[1;33m(\u001b[0m\u001b[0mstep\u001b[0m\u001b[1;33m)\u001b[0m\u001b[1;33m\u001b[0m\u001b[1;33m\u001b[0m\u001b[0m\n\u001b[0;32m    669\u001b[0m             \u001b[1;32mreturn\u001b[0m \u001b[0mstep\u001b[0m\u001b[1;33m[\u001b[0m\u001b[1;34m'loss'\u001b[0m\u001b[1;33m]\u001b[0m\u001b[1;33m\u001b[0m\u001b[1;33m\u001b[0m\u001b[0m\n",
      "\u001b[1;32mC:\\ProgramData\\Miniconda3\\envs\\DSP\\lib\\site-packages\\skorch\\net.py\u001b[0m in \u001b[0;36mtrain_step_single\u001b[1;34m(self, Xi, yi, **fit_params)\u001b[0m\n\u001b[0;32m    607\u001b[0m         \u001b[0mself\u001b[0m\u001b[1;33m.\u001b[0m\u001b[0mmodule_\u001b[0m\u001b[1;33m.\u001b[0m\u001b[0mtrain\u001b[0m\u001b[1;33m(\u001b[0m\u001b[1;33m)\u001b[0m\u001b[1;33m\u001b[0m\u001b[1;33m\u001b[0m\u001b[0m\n\u001b[0;32m    608\u001b[0m         \u001b[0mself\u001b[0m\u001b[1;33m.\u001b[0m\u001b[0moptimizer_\u001b[0m\u001b[1;33m.\u001b[0m\u001b[0mzero_grad\u001b[0m\u001b[1;33m(\u001b[0m\u001b[1;33m)\u001b[0m\u001b[1;33m\u001b[0m\u001b[1;33m\u001b[0m\u001b[0m\n\u001b[1;32m--> 609\u001b[1;33m         \u001b[0my_pred\u001b[0m \u001b[1;33m=\u001b[0m \u001b[0mself\u001b[0m\u001b[1;33m.\u001b[0m\u001b[0minfer\u001b[0m\u001b[1;33m(\u001b[0m\u001b[0mXi\u001b[0m\u001b[1;33m,\u001b[0m \u001b[1;33m**\u001b[0m\u001b[0mfit_params\u001b[0m\u001b[1;33m)\u001b[0m\u001b[1;33m\u001b[0m\u001b[1;33m\u001b[0m\u001b[0m\n\u001b[0m\u001b[0;32m    610\u001b[0m         \u001b[0mloss\u001b[0m \u001b[1;33m=\u001b[0m \u001b[0mself\u001b[0m\u001b[1;33m.\u001b[0m\u001b[0mget_loss\u001b[0m\u001b[1;33m(\u001b[0m\u001b[0my_pred\u001b[0m\u001b[1;33m,\u001b[0m \u001b[0myi\u001b[0m\u001b[1;33m,\u001b[0m \u001b[0mX\u001b[0m\u001b[1;33m=\u001b[0m\u001b[0mXi\u001b[0m\u001b[1;33m,\u001b[0m \u001b[0mtraining\u001b[0m\u001b[1;33m=\u001b[0m\u001b[1;32mTrue\u001b[0m\u001b[1;33m)\u001b[0m\u001b[1;33m\u001b[0m\u001b[1;33m\u001b[0m\u001b[0m\n\u001b[0;32m    611\u001b[0m         \u001b[0mloss\u001b[0m\u001b[1;33m.\u001b[0m\u001b[0mbackward\u001b[0m\u001b[1;33m(\u001b[0m\u001b[1;33m)\u001b[0m\u001b[1;33m\u001b[0m\u001b[1;33m\u001b[0m\u001b[0m\n",
      "\u001b[1;32mC:\\ProgramData\\Miniconda3\\envs\\DSP\\lib\\site-packages\\skorch\\net.py\u001b[0m in \u001b[0;36minfer\u001b[1;34m(self, x, **fit_params)\u001b[0m\n\u001b[0;32m    977\u001b[0m             \u001b[0mx_dict\u001b[0m \u001b[1;33m=\u001b[0m \u001b[0mself\u001b[0m\u001b[1;33m.\u001b[0m\u001b[0m_merge_x_and_fit_params\u001b[0m\u001b[1;33m(\u001b[0m\u001b[0mx\u001b[0m\u001b[1;33m,\u001b[0m \u001b[0mfit_params\u001b[0m\u001b[1;33m)\u001b[0m\u001b[1;33m\u001b[0m\u001b[1;33m\u001b[0m\u001b[0m\n\u001b[0;32m    978\u001b[0m             \u001b[1;32mreturn\u001b[0m \u001b[0mself\u001b[0m\u001b[1;33m.\u001b[0m\u001b[0mmodule_\u001b[0m\u001b[1;33m(\u001b[0m\u001b[1;33m**\u001b[0m\u001b[0mx_dict\u001b[0m\u001b[1;33m)\u001b[0m\u001b[1;33m\u001b[0m\u001b[1;33m\u001b[0m\u001b[0m\n\u001b[1;32m--> 979\u001b[1;33m         \u001b[1;32mreturn\u001b[0m \u001b[0mself\u001b[0m\u001b[1;33m.\u001b[0m\u001b[0mmodule_\u001b[0m\u001b[1;33m(\u001b[0m\u001b[0mx\u001b[0m\u001b[1;33m,\u001b[0m \u001b[1;33m**\u001b[0m\u001b[0mfit_params\u001b[0m\u001b[1;33m)\u001b[0m\u001b[1;33m\u001b[0m\u001b[1;33m\u001b[0m\u001b[0m\n\u001b[0m\u001b[0;32m    980\u001b[0m \u001b[1;33m\u001b[0m\u001b[0m\n\u001b[0;32m    981\u001b[0m     \u001b[1;32mdef\u001b[0m \u001b[0mpredict_proba\u001b[0m\u001b[1;33m(\u001b[0m\u001b[0mself\u001b[0m\u001b[1;33m,\u001b[0m \u001b[0mX\u001b[0m\u001b[1;33m)\u001b[0m\u001b[1;33m:\u001b[0m\u001b[1;33m\u001b[0m\u001b[1;33m\u001b[0m\u001b[0m\n",
      "\u001b[1;32mC:\\ProgramData\\Miniconda3\\envs\\DSP\\lib\\site-packages\\torch\\nn\\modules\\module.py\u001b[0m in \u001b[0;36m__call__\u001b[1;34m(self, *input, **kwargs)\u001b[0m\n\u001b[0;32m    545\u001b[0m             \u001b[0mresult\u001b[0m \u001b[1;33m=\u001b[0m \u001b[0mself\u001b[0m\u001b[1;33m.\u001b[0m\u001b[0m_slow_forward\u001b[0m\u001b[1;33m(\u001b[0m\u001b[1;33m*\u001b[0m\u001b[0minput\u001b[0m\u001b[1;33m,\u001b[0m \u001b[1;33m**\u001b[0m\u001b[0mkwargs\u001b[0m\u001b[1;33m)\u001b[0m\u001b[1;33m\u001b[0m\u001b[1;33m\u001b[0m\u001b[0m\n\u001b[0;32m    546\u001b[0m         \u001b[1;32melse\u001b[0m\u001b[1;33m:\u001b[0m\u001b[1;33m\u001b[0m\u001b[1;33m\u001b[0m\u001b[0m\n\u001b[1;32m--> 547\u001b[1;33m             \u001b[0mresult\u001b[0m \u001b[1;33m=\u001b[0m \u001b[0mself\u001b[0m\u001b[1;33m.\u001b[0m\u001b[0mforward\u001b[0m\u001b[1;33m(\u001b[0m\u001b[1;33m*\u001b[0m\u001b[0minput\u001b[0m\u001b[1;33m,\u001b[0m \u001b[1;33m**\u001b[0m\u001b[0mkwargs\u001b[0m\u001b[1;33m)\u001b[0m\u001b[1;33m\u001b[0m\u001b[1;33m\u001b[0m\u001b[0m\n\u001b[0m\u001b[0;32m    548\u001b[0m         \u001b[1;32mfor\u001b[0m \u001b[0mhook\u001b[0m \u001b[1;32min\u001b[0m \u001b[0mself\u001b[0m\u001b[1;33m.\u001b[0m\u001b[0m_forward_hooks\u001b[0m\u001b[1;33m.\u001b[0m\u001b[0mvalues\u001b[0m\u001b[1;33m(\u001b[0m\u001b[1;33m)\u001b[0m\u001b[1;33m:\u001b[0m\u001b[1;33m\u001b[0m\u001b[1;33m\u001b[0m\u001b[0m\n\u001b[0;32m    549\u001b[0m             \u001b[0mhook_result\u001b[0m \u001b[1;33m=\u001b[0m \u001b[0mhook\u001b[0m\u001b[1;33m(\u001b[0m\u001b[0mself\u001b[0m\u001b[1;33m,\u001b[0m \u001b[0minput\u001b[0m\u001b[1;33m,\u001b[0m \u001b[0mresult\u001b[0m\u001b[1;33m)\u001b[0m\u001b[1;33m\u001b[0m\u001b[1;33m\u001b[0m\u001b[0m\n",
      "\u001b[1;32m<ipython-input-199-b60ac2eef63e>\u001b[0m in \u001b[0;36mforward\u001b[1;34m(self, x)\u001b[0m\n\u001b[0;32m     14\u001b[0m     \u001b[1;32mdef\u001b[0m \u001b[0mforward\u001b[0m\u001b[1;33m(\u001b[0m\u001b[0mself\u001b[0m\u001b[1;33m,\u001b[0m \u001b[0mx\u001b[0m\u001b[1;33m)\u001b[0m\u001b[1;33m:\u001b[0m\u001b[1;33m\u001b[0m\u001b[1;33m\u001b[0m\u001b[0m\n\u001b[0;32m     15\u001b[0m \u001b[1;33m\u001b[0m\u001b[0m\n\u001b[1;32m---> 16\u001b[1;33m         \u001b[0mx\u001b[0m \u001b[1;33m=\u001b[0m \u001b[0mF\u001b[0m\u001b[1;33m.\u001b[0m\u001b[0mrelu\u001b[0m\u001b[1;33m(\u001b[0m\u001b[0mF\u001b[0m\u001b[1;33m.\u001b[0m\u001b[0mmax_pool2d\u001b[0m\u001b[1;33m(\u001b[0m\u001b[0mself\u001b[0m\u001b[1;33m.\u001b[0m\u001b[0mconv1\u001b[0m\u001b[1;33m(\u001b[0m\u001b[0mx\u001b[0m\u001b[1;33m)\u001b[0m\u001b[1;33m,\u001b[0m \u001b[1;36m2\u001b[0m\u001b[1;33m)\u001b[0m\u001b[1;33m)\u001b[0m\u001b[1;33m\u001b[0m\u001b[1;33m\u001b[0m\u001b[0m\n\u001b[0m\u001b[0;32m     17\u001b[0m         \u001b[0mx\u001b[0m \u001b[1;33m=\u001b[0m \u001b[0mF\u001b[0m\u001b[1;33m.\u001b[0m\u001b[0mrelu\u001b[0m\u001b[1;33m(\u001b[0m\u001b[0mF\u001b[0m\u001b[1;33m.\u001b[0m\u001b[0mmax_pool2d\u001b[0m\u001b[1;33m(\u001b[0m\u001b[0mself\u001b[0m\u001b[1;33m.\u001b[0m\u001b[0mconv2_drop\u001b[0m\u001b[1;33m(\u001b[0m\u001b[0mself\u001b[0m\u001b[1;33m.\u001b[0m\u001b[0mconv2\u001b[0m\u001b[1;33m(\u001b[0m\u001b[0mx\u001b[0m\u001b[1;33m)\u001b[0m\u001b[1;33m)\u001b[0m\u001b[1;33m,\u001b[0m \u001b[1;36m2\u001b[0m\u001b[1;33m)\u001b[0m\u001b[1;33m)\u001b[0m\u001b[1;33m\u001b[0m\u001b[1;33m\u001b[0m\u001b[0m\n\u001b[0;32m     18\u001b[0m         \u001b[0mx\u001b[0m \u001b[1;33m=\u001b[0m \u001b[0mx\u001b[0m\u001b[1;33m.\u001b[0m\u001b[0mview\u001b[0m\u001b[1;33m(\u001b[0m\u001b[1;33m-\u001b[0m\u001b[1;36m1\u001b[0m\u001b[1;33m,\u001b[0m \u001b[0mself\u001b[0m\u001b[1;33m.\u001b[0m\u001b[0mnum_flat_features\u001b[0m\u001b[1;33m(\u001b[0m\u001b[0mx\u001b[0m\u001b[1;33m)\u001b[0m\u001b[1;33m)\u001b[0m\u001b[1;33m\u001b[0m\u001b[1;33m\u001b[0m\u001b[0m\n",
      "\u001b[1;32mC:\\ProgramData\\Miniconda3\\envs\\DSP\\lib\\site-packages\\torch\\nn\\modules\\module.py\u001b[0m in \u001b[0;36m__call__\u001b[1;34m(self, *input, **kwargs)\u001b[0m\n\u001b[0;32m    545\u001b[0m             \u001b[0mresult\u001b[0m \u001b[1;33m=\u001b[0m \u001b[0mself\u001b[0m\u001b[1;33m.\u001b[0m\u001b[0m_slow_forward\u001b[0m\u001b[1;33m(\u001b[0m\u001b[1;33m*\u001b[0m\u001b[0minput\u001b[0m\u001b[1;33m,\u001b[0m \u001b[1;33m**\u001b[0m\u001b[0mkwargs\u001b[0m\u001b[1;33m)\u001b[0m\u001b[1;33m\u001b[0m\u001b[1;33m\u001b[0m\u001b[0m\n\u001b[0;32m    546\u001b[0m         \u001b[1;32melse\u001b[0m\u001b[1;33m:\u001b[0m\u001b[1;33m\u001b[0m\u001b[1;33m\u001b[0m\u001b[0m\n\u001b[1;32m--> 547\u001b[1;33m             \u001b[0mresult\u001b[0m \u001b[1;33m=\u001b[0m \u001b[0mself\u001b[0m\u001b[1;33m.\u001b[0m\u001b[0mforward\u001b[0m\u001b[1;33m(\u001b[0m\u001b[1;33m*\u001b[0m\u001b[0minput\u001b[0m\u001b[1;33m,\u001b[0m \u001b[1;33m**\u001b[0m\u001b[0mkwargs\u001b[0m\u001b[1;33m)\u001b[0m\u001b[1;33m\u001b[0m\u001b[1;33m\u001b[0m\u001b[0m\n\u001b[0m\u001b[0;32m    548\u001b[0m         \u001b[1;32mfor\u001b[0m \u001b[0mhook\u001b[0m \u001b[1;32min\u001b[0m \u001b[0mself\u001b[0m\u001b[1;33m.\u001b[0m\u001b[0m_forward_hooks\u001b[0m\u001b[1;33m.\u001b[0m\u001b[0mvalues\u001b[0m\u001b[1;33m(\u001b[0m\u001b[1;33m)\u001b[0m\u001b[1;33m:\u001b[0m\u001b[1;33m\u001b[0m\u001b[1;33m\u001b[0m\u001b[0m\n\u001b[0;32m    549\u001b[0m             \u001b[0mhook_result\u001b[0m \u001b[1;33m=\u001b[0m \u001b[0mhook\u001b[0m\u001b[1;33m(\u001b[0m\u001b[0mself\u001b[0m\u001b[1;33m,\u001b[0m \u001b[0minput\u001b[0m\u001b[1;33m,\u001b[0m \u001b[0mresult\u001b[0m\u001b[1;33m)\u001b[0m\u001b[1;33m\u001b[0m\u001b[1;33m\u001b[0m\u001b[0m\n",
      "\u001b[1;32mC:\\ProgramData\\Miniconda3\\envs\\DSP\\lib\\site-packages\\torch\\nn\\modules\\conv.py\u001b[0m in \u001b[0;36mforward\u001b[1;34m(self, input)\u001b[0m\n\u001b[0;32m    341\u001b[0m \u001b[1;33m\u001b[0m\u001b[0m\n\u001b[0;32m    342\u001b[0m     \u001b[1;32mdef\u001b[0m \u001b[0mforward\u001b[0m\u001b[1;33m(\u001b[0m\u001b[0mself\u001b[0m\u001b[1;33m,\u001b[0m \u001b[0minput\u001b[0m\u001b[1;33m)\u001b[0m\u001b[1;33m:\u001b[0m\u001b[1;33m\u001b[0m\u001b[1;33m\u001b[0m\u001b[0m\n\u001b[1;32m--> 343\u001b[1;33m         \u001b[1;32mreturn\u001b[0m \u001b[0mself\u001b[0m\u001b[1;33m.\u001b[0m\u001b[0mconv2d_forward\u001b[0m\u001b[1;33m(\u001b[0m\u001b[0minput\u001b[0m\u001b[1;33m,\u001b[0m \u001b[0mself\u001b[0m\u001b[1;33m.\u001b[0m\u001b[0mweight\u001b[0m\u001b[1;33m)\u001b[0m\u001b[1;33m\u001b[0m\u001b[1;33m\u001b[0m\u001b[0m\n\u001b[0m\u001b[0;32m    344\u001b[0m \u001b[1;33m\u001b[0m\u001b[0m\n\u001b[0;32m    345\u001b[0m \u001b[1;32mclass\u001b[0m \u001b[0mConv3d\u001b[0m\u001b[1;33m(\u001b[0m\u001b[0m_ConvNd\u001b[0m\u001b[1;33m)\u001b[0m\u001b[1;33m:\u001b[0m\u001b[1;33m\u001b[0m\u001b[1;33m\u001b[0m\u001b[0m\n",
      "\u001b[1;32mC:\\ProgramData\\Miniconda3\\envs\\DSP\\lib\\site-packages\\torch\\nn\\modules\\conv.py\u001b[0m in \u001b[0;36mconv2d_forward\u001b[1;34m(self, input, weight)\u001b[0m\n\u001b[0;32m    338\u001b[0m                             _pair(0), self.dilation, self.groups)\n\u001b[0;32m    339\u001b[0m         return F.conv2d(input, weight, self.bias, self.stride,\n\u001b[1;32m--> 340\u001b[1;33m                         self.padding, self.dilation, self.groups)\n\u001b[0m\u001b[0;32m    341\u001b[0m \u001b[1;33m\u001b[0m\u001b[0m\n\u001b[0;32m    342\u001b[0m     \u001b[1;32mdef\u001b[0m \u001b[0mforward\u001b[0m\u001b[1;33m(\u001b[0m\u001b[0mself\u001b[0m\u001b[1;33m,\u001b[0m \u001b[0minput\u001b[0m\u001b[1;33m)\u001b[0m\u001b[1;33m:\u001b[0m\u001b[1;33m\u001b[0m\u001b[1;33m\u001b[0m\u001b[0m\n",
      "\u001b[1;31mRuntimeError\u001b[0m: Expected object of scalar type Double but got scalar type Float for argument #2 'weight'"
     ]
    }
   ],
   "source": [
    "net = NeuralNetClassifier(\n",
    "    Net,\n",
    "    max_epochs=5,\n",
    "    lr=0.1,\n",
    "    train_split=None,\n",
    "    # Shuffle training data on each epoch\n",
    "    iterator_train__shuffle=True,\n",
    ")\n",
    "\n",
    "net.fit(x_rr, y=y_trainval.astype(np.double))\n",
    "y_proba = net.predict_proba(x_rr)\n",
    "\n",
    "# params = {\n",
    "#     'lr': [0.01, 0.02],\n",
    "#     'max_epochs': [10, 20],\n",
    "#     'module__num_units': [10, 20],\n",
    "# }\n",
    "# gs = sklearn.model_selection.GridSearchCV(net, params, refit=False, cv=3, scoring='accuracy')\n",
    "\n",
    "# gs.fit(x_trainval_3d, y_trainval)\n",
    "# print(gs.best_score_, gs.best_params_)\n"
   ]
  },
  {
   "cell_type": "code",
   "execution_count": null,
   "metadata": {},
   "outputs": [],
   "source": []
  },
  {
   "cell_type": "markdown",
   "metadata": {},
   "source": [
    "### 2.2.4: Fit Model\n"
   ]
  },
  {
   "cell_type": "code",
   "execution_count": 145,
   "metadata": {},
   "outputs": [
    {
     "name": "stdout",
     "output_type": "stream",
     "text": [
      "Net(\n",
      "  (conv1): Conv2d(1, 10, kernel_size=(5, 5), stride=(1, 1))\n",
      "  (conv2): Conv2d(10, 20, kernel_size=(5, 5), stride=(1, 1))\n",
      "  (conv2_drop): Dropout2d(p=0.5, inplace=False)\n",
      "  (fc1): Linear(in_features=320, out_features=50, bias=True)\n",
      "  (fc2): Linear(in_features=50, out_features=10, bias=True)\n",
      ")\n"
     ]
    }
   ],
   "source": [
    "#\n",
    "#\n",
    "# ------- Your Code -------\n",
    "#\n",
    "# Example: net = Net(), ....\n",
    "\n",
    "\n",
    "\n",
    "net = Net()\n",
    "print(net)\n",
    "optimizer = optim.SGD(net.parameters(), lr= learning_rate,\n",
    "                      momentum=momentum)"
   ]
  },
  {
   "cell_type": "code",
   "execution_count": null,
   "metadata": {},
   "outputs": [],
   "source": []
  },
  {
   "cell_type": "code",
   "execution_count": 146,
   "metadata": {},
   "outputs": [],
   "source": [
    "train_losses = []\n",
    "train_counter = []\n",
    "test_losses = []\n",
    "test_counter = [i*len(train_loader.dataset) for i in range(n_epochs + 1)]"
   ]
  },
  {
   "cell_type": "code",
   "execution_count": 147,
   "metadata": {},
   "outputs": [],
   "source": [
    "def train(n_epochs):\n",
    "    net.train()\n",
    "    for batch_idx, (data, target) in enumerate(train_loader):\n",
    "        optimizer.zero_grad()\n",
    "        output = net(data)\n",
    "        loss = F.nll_loss(output, target)\n",
    "        loss.backward()\n",
    "        optimizer.step()\n",
    "        if batch_idx % 10 == 0:\n",
    "            print('Train Epoch: {} [{}/{} ({:.0f}%)]\\tLoss: {:.6f}'.format(\n",
    "                epoch, batch_idx * len(data), len(train_loader.dataset), \n",
    "                100. * batch_idx / len(train_loader), loss.item()))\n",
    "            \n",
    "            train_losses.append(loss.item())\n",
    "            train_counter.append(\n",
    "                (batch_idx*64) + ((epoch-1)*len(train_loader.dataset)))\n",
    "            \n",
    "            torch.save(net.state_dict(), 'results/model.pth')\n",
    "            torch.save(optimizer.state_dict(), 'results/optimizer.pth')\n",
    "          "
   ]
  },
  {
   "cell_type": "code",
   "execution_count": 148,
   "metadata": {},
   "outputs": [],
   "source": [
    "def test():\n",
    "    net.eval()\n",
    "    test_loss = 0 \n",
    "    correct = 0 \n",
    "    with torch.no_grad():\n",
    "        for data, target in test_loader:\n",
    "            output = net(data)\n",
    "            test_loss += F.nll_loss(output, target, size_average=False).item()\n",
    "            pred = output.data.max(1, keepdim=True)[1]\n",
    "            correct += pred.eq(target.data.view_as(pred)).sum()\n",
    "            \n",
    "        test_loss /= len(test_loader.dataset)\n",
    "        test_losses.append(test_loss)\n",
    "        print('\\nTest set: Avg. loss: {:.4f}, Accuracy: {}/{} ({:.0f}%)\\n'.format(\n",
    "            test_loss, correct, len(test_loader.dataset), \n",
    "            100. * correct / len(test_loader.dataset)))"
   ]
  },
  {
   "cell_type": "code",
   "execution_count": 14,
   "metadata": {},
   "outputs": [],
   "source": [
    "# Save your model using torch.save()"
   ]
  },
  {
   "cell_type": "markdown",
   "metadata": {},
   "source": [
    "### 2.2.5: Evaluation\n",
    "\n",
    "Evaluate your model.\n",
    "\n",
    "  * Loss curves: Plot epoch (# passes over training data) and loss\n",
    "  * Accuracy curves: Plot epoch and accuracy over val/test set\n",
    "  * Final numbers: Report final accuracy numbers for your model"
   ]
  },
  {
   "cell_type": "code",
   "execution_count": 150,
   "metadata": {
    "scrolled": false
   },
   "outputs": [
    {
     "name": "stderr",
     "output_type": "stream",
     "text": [
      "C:\\ProgramData\\Miniconda3\\envs\\DSP\\lib\\site-packages\\ipykernel_launcher.py:22: UserWarning: Implicit dimension choice for log_softmax has been deprecated. Change the call to include dim=X as an argument.\n"
     ]
    },
    {
     "name": "stdout",
     "output_type": "stream",
     "text": [
      "\n",
      "Test set: Avg. loss: 0.6787, Accuracy: 9412/10000 (94%)\n",
      "\n",
      "Train Epoch: 1 [0/60000 (0%)]\tLoss: 0.429278\n",
      "Train Epoch: 1 [640/60000 (1%)]\tLoss: 0.428637\n",
      "Train Epoch: 1 [1280/60000 (2%)]\tLoss: 0.376274\n",
      "Train Epoch: 1 [1920/60000 (3%)]\tLoss: 0.792859\n",
      "Train Epoch: 1 [2560/60000 (4%)]\tLoss: 0.377458\n",
      "Train Epoch: 1 [3200/60000 (5%)]\tLoss: 0.494210\n",
      "Train Epoch: 1 [3840/60000 (6%)]\tLoss: 0.415023\n",
      "Train Epoch: 1 [4480/60000 (7%)]\tLoss: 0.327026\n",
      "Train Epoch: 1 [5120/60000 (9%)]\tLoss: 0.270606\n",
      "Train Epoch: 1 [5760/60000 (10%)]\tLoss: 0.404101\n",
      "Train Epoch: 1 [6400/60000 (11%)]\tLoss: 0.473093\n",
      "Train Epoch: 1 [7040/60000 (12%)]\tLoss: 0.354470\n",
      "Train Epoch: 1 [7680/60000 (13%)]\tLoss: 0.260446\n",
      "Train Epoch: 1 [8320/60000 (14%)]\tLoss: 0.464224\n",
      "Train Epoch: 1 [8960/60000 (15%)]\tLoss: 0.412988\n",
      "Train Epoch: 1 [9600/60000 (16%)]\tLoss: 0.280217\n",
      "Train Epoch: 1 [10240/60000 (17%)]\tLoss: 0.387143\n",
      "Train Epoch: 1 [10880/60000 (18%)]\tLoss: 0.349430\n",
      "Train Epoch: 1 [11520/60000 (19%)]\tLoss: 0.361054\n",
      "Train Epoch: 1 [12160/60000 (20%)]\tLoss: 0.346333\n",
      "Train Epoch: 1 [12800/60000 (21%)]\tLoss: 0.313752\n",
      "Train Epoch: 1 [13440/60000 (22%)]\tLoss: 0.338471\n",
      "Train Epoch: 1 [14080/60000 (23%)]\tLoss: 0.301023\n",
      "Train Epoch: 1 [14720/60000 (25%)]\tLoss: 0.426247\n",
      "Train Epoch: 1 [15360/60000 (26%)]\tLoss: 0.288302\n",
      "Train Epoch: 1 [16000/60000 (27%)]\tLoss: 0.384979\n",
      "Train Epoch: 1 [16640/60000 (28%)]\tLoss: 0.514695\n",
      "Train Epoch: 1 [17280/60000 (29%)]\tLoss: 0.362030\n",
      "Train Epoch: 1 [17920/60000 (30%)]\tLoss: 0.504950\n",
      "Train Epoch: 1 [18560/60000 (31%)]\tLoss: 0.283456\n",
      "Train Epoch: 1 [19200/60000 (32%)]\tLoss: 0.416766\n",
      "Train Epoch: 1 [19840/60000 (33%)]\tLoss: 0.483706\n",
      "Train Epoch: 1 [20480/60000 (34%)]\tLoss: 0.466357\n",
      "Train Epoch: 1 [21120/60000 (35%)]\tLoss: 0.378506\n",
      "Train Epoch: 1 [21760/60000 (36%)]\tLoss: 0.415495\n",
      "Train Epoch: 1 [22400/60000 (37%)]\tLoss: 0.142686\n",
      "Train Epoch: 1 [23040/60000 (38%)]\tLoss: 0.366483\n",
      "Train Epoch: 1 [23680/60000 (39%)]\tLoss: 0.197749\n",
      "Train Epoch: 1 [24320/60000 (41%)]\tLoss: 0.407563\n",
      "Train Epoch: 1 [24960/60000 (42%)]\tLoss: 0.470979\n",
      "Train Epoch: 1 [25600/60000 (43%)]\tLoss: 0.365614\n",
      "Train Epoch: 1 [26240/60000 (44%)]\tLoss: 0.242360\n",
      "Train Epoch: 1 [26880/60000 (45%)]\tLoss: 0.453548\n",
      "Train Epoch: 1 [27520/60000 (46%)]\tLoss: 0.174040\n",
      "Train Epoch: 1 [28160/60000 (47%)]\tLoss: 0.401140\n",
      "Train Epoch: 1 [28800/60000 (48%)]\tLoss: 0.371506\n",
      "Train Epoch: 1 [29440/60000 (49%)]\tLoss: 0.293788\n",
      "Train Epoch: 1 [30080/60000 (50%)]\tLoss: 0.200036\n",
      "Train Epoch: 1 [30720/60000 (51%)]\tLoss: 0.245090\n",
      "Train Epoch: 1 [31360/60000 (52%)]\tLoss: 0.473959\n",
      "Train Epoch: 1 [32000/60000 (53%)]\tLoss: 0.360614\n",
      "Train Epoch: 1 [32640/60000 (54%)]\tLoss: 0.487219\n",
      "Train Epoch: 1 [33280/60000 (55%)]\tLoss: 0.225590\n",
      "Train Epoch: 1 [33920/60000 (57%)]\tLoss: 0.517494\n",
      "Train Epoch: 1 [34560/60000 (58%)]\tLoss: 0.171120\n",
      "Train Epoch: 1 [35200/60000 (59%)]\tLoss: 0.380025\n",
      "Train Epoch: 1 [35840/60000 (60%)]\tLoss: 0.335083\n",
      "Train Epoch: 1 [36480/60000 (61%)]\tLoss: 0.468483\n",
      "Train Epoch: 1 [37120/60000 (62%)]\tLoss: 0.608056\n",
      "Train Epoch: 1 [37760/60000 (63%)]\tLoss: 0.363343\n",
      "Train Epoch: 1 [38400/60000 (64%)]\tLoss: 0.449773\n",
      "Train Epoch: 1 [39040/60000 (65%)]\tLoss: 0.260125\n",
      "Train Epoch: 1 [39680/60000 (66%)]\tLoss: 0.385383\n",
      "Train Epoch: 1 [40320/60000 (67%)]\tLoss: 0.235850\n",
      "Train Epoch: 1 [40960/60000 (68%)]\tLoss: 0.359273\n",
      "Train Epoch: 1 [41600/60000 (69%)]\tLoss: 0.408587\n",
      "Train Epoch: 1 [42240/60000 (70%)]\tLoss: 0.333380\n",
      "Train Epoch: 1 [42880/60000 (71%)]\tLoss: 0.529672\n",
      "Train Epoch: 1 [43520/60000 (72%)]\tLoss: 0.463651\n",
      "Train Epoch: 1 [44160/60000 (74%)]\tLoss: 0.256318\n",
      "Train Epoch: 1 [44800/60000 (75%)]\tLoss: 0.326116\n",
      "Train Epoch: 1 [45440/60000 (76%)]\tLoss: 0.366396\n",
      "Train Epoch: 1 [46080/60000 (77%)]\tLoss: 0.385117\n",
      "Train Epoch: 1 [46720/60000 (78%)]\tLoss: 0.331613\n",
      "Train Epoch: 1 [47360/60000 (79%)]\tLoss: 0.185561\n",
      "Train Epoch: 1 [48000/60000 (80%)]\tLoss: 0.357214\n",
      "Train Epoch: 1 [48640/60000 (81%)]\tLoss: 0.149002\n",
      "Train Epoch: 1 [49280/60000 (82%)]\tLoss: 0.370832\n",
      "Train Epoch: 1 [49920/60000 (83%)]\tLoss: 0.341931\n",
      "Train Epoch: 1 [50560/60000 (84%)]\tLoss: 0.404096\n",
      "Train Epoch: 1 [51200/60000 (85%)]\tLoss: 0.240026\n",
      "Train Epoch: 1 [51840/60000 (86%)]\tLoss: 0.447425\n",
      "Train Epoch: 1 [52480/60000 (87%)]\tLoss: 0.143070\n",
      "Train Epoch: 1 [53120/60000 (88%)]\tLoss: 0.347480\n",
      "Train Epoch: 1 [53760/60000 (90%)]\tLoss: 0.344773\n",
      "Train Epoch: 1 [54400/60000 (91%)]\tLoss: 0.434822\n",
      "Train Epoch: 1 [55040/60000 (92%)]\tLoss: 0.336990\n",
      "Train Epoch: 1 [55680/60000 (93%)]\tLoss: 0.440161\n",
      "Train Epoch: 1 [56320/60000 (94%)]\tLoss: 0.342892\n",
      "Train Epoch: 1 [56960/60000 (95%)]\tLoss: 0.393000\n",
      "Train Epoch: 1 [57600/60000 (96%)]\tLoss: 0.237258\n",
      "Train Epoch: 1 [58240/60000 (97%)]\tLoss: 0.601295\n",
      "Train Epoch: 1 [58880/60000 (98%)]\tLoss: 0.253243\n",
      "Train Epoch: 1 [59520/60000 (99%)]\tLoss: 0.465473\n",
      "\n",
      "Test set: Avg. loss: 0.5307, Accuracy: 9630/10000 (96%)\n",
      "\n",
      "Train Epoch: 2 [0/60000 (0%)]\tLoss: 0.174662\n",
      "Train Epoch: 2 [640/60000 (1%)]\tLoss: 0.285905\n",
      "Train Epoch: 2 [1280/60000 (2%)]\tLoss: 0.491302\n",
      "Train Epoch: 2 [1920/60000 (3%)]\tLoss: 0.328298\n",
      "Train Epoch: 2 [2560/60000 (4%)]\tLoss: 0.425422\n",
      "Train Epoch: 2 [3200/60000 (5%)]\tLoss: 0.378683\n",
      "Train Epoch: 2 [3840/60000 (6%)]\tLoss: 0.388489\n",
      "Train Epoch: 2 [4480/60000 (7%)]\tLoss: 0.157076\n",
      "Train Epoch: 2 [5120/60000 (9%)]\tLoss: 0.293768\n",
      "Train Epoch: 2 [5760/60000 (10%)]\tLoss: 0.436683\n",
      "Train Epoch: 2 [6400/60000 (11%)]\tLoss: 0.612755\n",
      "Train Epoch: 2 [7040/60000 (12%)]\tLoss: 0.415581\n",
      "Train Epoch: 2 [7680/60000 (13%)]\tLoss: 0.189672\n",
      "Train Epoch: 2 [8320/60000 (14%)]\tLoss: 0.299487\n",
      "Train Epoch: 2 [8960/60000 (15%)]\tLoss: 0.381254\n",
      "Train Epoch: 2 [9600/60000 (16%)]\tLoss: 0.282927\n",
      "Train Epoch: 2 [10240/60000 (17%)]\tLoss: 0.211893\n",
      "Train Epoch: 2 [10880/60000 (18%)]\tLoss: 0.134002\n",
      "Train Epoch: 2 [11520/60000 (19%)]\tLoss: 0.175888\n",
      "Train Epoch: 2 [12160/60000 (20%)]\tLoss: 0.191213\n",
      "Train Epoch: 2 [12800/60000 (21%)]\tLoss: 0.256088\n",
      "Train Epoch: 2 [13440/60000 (22%)]\tLoss: 0.390916\n",
      "Train Epoch: 2 [14080/60000 (23%)]\tLoss: 0.378694\n",
      "Train Epoch: 2 [14720/60000 (25%)]\tLoss: 0.228164\n",
      "Train Epoch: 2 [15360/60000 (26%)]\tLoss: 0.109960\n",
      "Train Epoch: 2 [16000/60000 (27%)]\tLoss: 0.499561\n",
      "Train Epoch: 2 [16640/60000 (28%)]\tLoss: 0.305812\n",
      "Train Epoch: 2 [17280/60000 (29%)]\tLoss: 0.281734\n",
      "Train Epoch: 2 [17920/60000 (30%)]\tLoss: 0.332311\n",
      "Train Epoch: 2 [18560/60000 (31%)]\tLoss: 0.268401\n",
      "Train Epoch: 2 [19200/60000 (32%)]\tLoss: 0.610357\n",
      "Train Epoch: 2 [19840/60000 (33%)]\tLoss: 0.209982\n",
      "Train Epoch: 2 [20480/60000 (34%)]\tLoss: 0.296749\n",
      "Train Epoch: 2 [21120/60000 (35%)]\tLoss: 0.487492\n",
      "Train Epoch: 2 [21760/60000 (36%)]\tLoss: 0.229182\n",
      "Train Epoch: 2 [22400/60000 (37%)]\tLoss: 0.139240\n",
      "Train Epoch: 2 [23040/60000 (38%)]\tLoss: 0.308932\n",
      "Train Epoch: 2 [23680/60000 (39%)]\tLoss: 0.441387\n",
      "Train Epoch: 2 [24320/60000 (41%)]\tLoss: 0.395068\n",
      "Train Epoch: 2 [24960/60000 (42%)]\tLoss: 0.325103\n",
      "Train Epoch: 2 [25600/60000 (43%)]\tLoss: 0.149630\n",
      "Train Epoch: 2 [26240/60000 (44%)]\tLoss: 0.247347\n",
      "Train Epoch: 2 [26880/60000 (45%)]\tLoss: 0.227668\n",
      "Train Epoch: 2 [27520/60000 (46%)]\tLoss: 0.193998\n",
      "Train Epoch: 2 [28160/60000 (47%)]\tLoss: 0.235675\n",
      "Train Epoch: 2 [28800/60000 (48%)]\tLoss: 0.423978\n",
      "Train Epoch: 2 [29440/60000 (49%)]\tLoss: 0.224086\n",
      "Train Epoch: 2 [30080/60000 (50%)]\tLoss: 0.383333\n",
      "Train Epoch: 2 [30720/60000 (51%)]\tLoss: 0.418180\n",
      "Train Epoch: 2 [31360/60000 (52%)]\tLoss: 0.267775\n",
      "Train Epoch: 2 [32000/60000 (53%)]\tLoss: 0.262164\n",
      "Train Epoch: 2 [32640/60000 (54%)]\tLoss: 0.240534\n",
      "Train Epoch: 2 [33280/60000 (55%)]\tLoss: 0.382302\n",
      "Train Epoch: 2 [33920/60000 (57%)]\tLoss: 0.350211\n",
      "Train Epoch: 2 [34560/60000 (58%)]\tLoss: 0.254886\n",
      "Train Epoch: 2 [35200/60000 (59%)]\tLoss: 0.260448\n",
      "Train Epoch: 2 [35840/60000 (60%)]\tLoss: 0.499483\n",
      "Train Epoch: 2 [36480/60000 (61%)]\tLoss: 0.371752\n",
      "Train Epoch: 2 [37120/60000 (62%)]\tLoss: 0.158668\n",
      "Train Epoch: 2 [37760/60000 (63%)]\tLoss: 0.205009\n",
      "Train Epoch: 2 [38400/60000 (64%)]\tLoss: 0.297597\n",
      "Train Epoch: 2 [39040/60000 (65%)]\tLoss: 0.191294\n",
      "Train Epoch: 2 [39680/60000 (66%)]\tLoss: 0.407443\n",
      "Train Epoch: 2 [40320/60000 (67%)]\tLoss: 0.257199\n",
      "Train Epoch: 2 [40960/60000 (68%)]\tLoss: 0.324766\n",
      "Train Epoch: 2 [41600/60000 (69%)]\tLoss: 0.128182\n",
      "Train Epoch: 2 [42240/60000 (70%)]\tLoss: 0.360628\n",
      "Train Epoch: 2 [42880/60000 (71%)]\tLoss: 0.160364\n",
      "Train Epoch: 2 [43520/60000 (72%)]\tLoss: 0.528047\n",
      "Train Epoch: 2 [44160/60000 (74%)]\tLoss: 0.186870\n",
      "Train Epoch: 2 [44800/60000 (75%)]\tLoss: 0.184762\n",
      "Train Epoch: 2 [45440/60000 (76%)]\tLoss: 0.219426\n",
      "Train Epoch: 2 [46080/60000 (77%)]\tLoss: 0.202996\n",
      "Train Epoch: 2 [46720/60000 (78%)]\tLoss: 0.181940\n",
      "Train Epoch: 2 [47360/60000 (79%)]\tLoss: 0.205094\n",
      "Train Epoch: 2 [48000/60000 (80%)]\tLoss: 0.126860\n",
      "Train Epoch: 2 [48640/60000 (81%)]\tLoss: 0.222579\n",
      "Train Epoch: 2 [49280/60000 (82%)]\tLoss: 0.204626\n",
      "Train Epoch: 2 [49920/60000 (83%)]\tLoss: 0.525720\n",
      "Train Epoch: 2 [50560/60000 (84%)]\tLoss: 0.180747\n",
      "Train Epoch: 2 [51200/60000 (85%)]\tLoss: 0.414890\n",
      "Train Epoch: 2 [51840/60000 (86%)]\tLoss: 0.148966\n",
      "Train Epoch: 2 [52480/60000 (87%)]\tLoss: 0.293321\n",
      "Train Epoch: 2 [53120/60000 (88%)]\tLoss: 0.341440\n",
      "Train Epoch: 2 [53760/60000 (90%)]\tLoss: 0.537623\n",
      "Train Epoch: 2 [54400/60000 (91%)]\tLoss: 0.149563\n",
      "Train Epoch: 2 [55040/60000 (92%)]\tLoss: 0.395090\n",
      "Train Epoch: 2 [55680/60000 (93%)]\tLoss: 0.366157\n",
      "Train Epoch: 2 [56320/60000 (94%)]\tLoss: 0.193558\n",
      "Train Epoch: 2 [56960/60000 (95%)]\tLoss: 0.132012\n",
      "Train Epoch: 2 [57600/60000 (96%)]\tLoss: 0.208681\n",
      "Train Epoch: 2 [58240/60000 (97%)]\tLoss: 0.153263\n",
      "Train Epoch: 2 [58880/60000 (98%)]\tLoss: 0.180602\n",
      "Train Epoch: 2 [59520/60000 (99%)]\tLoss: 0.097485\n",
      "\n",
      "Test set: Avg. loss: 0.4175, Accuracy: 9700/10000 (97%)\n",
      "\n",
      "Train Epoch: 3 [0/60000 (0%)]\tLoss: 0.404820\n",
      "Train Epoch: 3 [640/60000 (1%)]\tLoss: 0.356489\n",
      "Train Epoch: 3 [1280/60000 (2%)]\tLoss: 0.161122\n",
      "Train Epoch: 3 [1920/60000 (3%)]\tLoss: 0.323994\n",
      "Train Epoch: 3 [2560/60000 (4%)]\tLoss: 0.424723\n",
      "Train Epoch: 3 [3200/60000 (5%)]\tLoss: 0.269930\n",
      "Train Epoch: 3 [3840/60000 (6%)]\tLoss: 0.314510\n",
      "Train Epoch: 3 [4480/60000 (7%)]\tLoss: 0.207144\n",
      "Train Epoch: 3 [5120/60000 (9%)]\tLoss: 0.254522\n",
      "Train Epoch: 3 [5760/60000 (10%)]\tLoss: 0.231809\n",
      "Train Epoch: 3 [6400/60000 (11%)]\tLoss: 0.225041\n",
      "Train Epoch: 3 [7040/60000 (12%)]\tLoss: 0.239835\n",
      "Train Epoch: 3 [7680/60000 (13%)]\tLoss: 0.399039\n",
      "Train Epoch: 3 [8320/60000 (14%)]\tLoss: 0.256766\n",
      "Train Epoch: 3 [8960/60000 (15%)]\tLoss: 0.108645\n",
      "Train Epoch: 3 [9600/60000 (16%)]\tLoss: 0.220000\n",
      "Train Epoch: 3 [10240/60000 (17%)]\tLoss: 0.309191\n",
      "Train Epoch: 3 [10880/60000 (18%)]\tLoss: 0.482475\n",
      "Train Epoch: 3 [11520/60000 (19%)]\tLoss: 0.233957\n",
      "Train Epoch: 3 [12160/60000 (20%)]\tLoss: 0.208081\n",
      "Train Epoch: 3 [12800/60000 (21%)]\tLoss: 0.244802\n",
      "Train Epoch: 3 [13440/60000 (22%)]\tLoss: 0.298744\n",
      "Train Epoch: 3 [14080/60000 (23%)]\tLoss: 0.376727\n",
      "Train Epoch: 3 [14720/60000 (25%)]\tLoss: 0.202635\n",
      "Train Epoch: 3 [15360/60000 (26%)]\tLoss: 0.289616\n",
      "Train Epoch: 3 [16000/60000 (27%)]\tLoss: 0.177789\n",
      "Train Epoch: 3 [16640/60000 (28%)]\tLoss: 0.245471\n",
      "Train Epoch: 3 [17280/60000 (29%)]\tLoss: 0.494924\n",
      "Train Epoch: 3 [17920/60000 (30%)]\tLoss: 0.301159\n",
      "Train Epoch: 3 [18560/60000 (31%)]\tLoss: 0.162664\n",
      "Train Epoch: 3 [19200/60000 (32%)]\tLoss: 0.466233\n",
      "Train Epoch: 3 [19840/60000 (33%)]\tLoss: 0.310046\n",
      "Train Epoch: 3 [20480/60000 (34%)]\tLoss: 0.304066\n",
      "Train Epoch: 3 [21120/60000 (35%)]\tLoss: 0.308622\n",
      "Train Epoch: 3 [21760/60000 (36%)]\tLoss: 0.635021\n",
      "Train Epoch: 3 [22400/60000 (37%)]\tLoss: 0.206778\n",
      "Train Epoch: 3 [23040/60000 (38%)]\tLoss: 0.128560\n",
      "Train Epoch: 3 [23680/60000 (39%)]\tLoss: 0.252618\n",
      "Train Epoch: 3 [24320/60000 (41%)]\tLoss: 0.357269\n",
      "Train Epoch: 3 [24960/60000 (42%)]\tLoss: 0.661676\n",
      "Train Epoch: 3 [25600/60000 (43%)]\tLoss: 0.207143\n",
      "Train Epoch: 3 [26240/60000 (44%)]\tLoss: 0.367730\n",
      "Train Epoch: 3 [26880/60000 (45%)]\tLoss: 0.171516\n",
      "Train Epoch: 3 [27520/60000 (46%)]\tLoss: 0.221589\n",
      "Train Epoch: 3 [28160/60000 (47%)]\tLoss: 0.433628\n",
      "Train Epoch: 3 [28800/60000 (48%)]\tLoss: 0.271481\n",
      "Train Epoch: 3 [29440/60000 (49%)]\tLoss: 0.145576\n",
      "Train Epoch: 3 [30080/60000 (50%)]\tLoss: 0.141781\n",
      "Train Epoch: 3 [30720/60000 (51%)]\tLoss: 0.228491\n",
      "Train Epoch: 3 [31360/60000 (52%)]\tLoss: 0.217341\n",
      "Train Epoch: 3 [32000/60000 (53%)]\tLoss: 0.220689\n",
      "Train Epoch: 3 [32640/60000 (54%)]\tLoss: 0.181657\n",
      "Train Epoch: 3 [33280/60000 (55%)]\tLoss: 0.169831\n",
      "Train Epoch: 3 [33920/60000 (57%)]\tLoss: 0.201112\n",
      "Train Epoch: 3 [34560/60000 (58%)]\tLoss: 0.087149\n",
      "Train Epoch: 3 [35200/60000 (59%)]\tLoss: 0.117762\n",
      "Train Epoch: 3 [35840/60000 (60%)]\tLoss: 0.117804\n",
      "Train Epoch: 3 [36480/60000 (61%)]\tLoss: 0.224244\n",
      "Train Epoch: 3 [37120/60000 (62%)]\tLoss: 0.455993\n",
      "Train Epoch: 3 [37760/60000 (63%)]\tLoss: 0.165861\n",
      "Train Epoch: 3 [38400/60000 (64%)]\tLoss: 0.259667\n",
      "Train Epoch: 3 [39040/60000 (65%)]\tLoss: 0.250692\n",
      "Train Epoch: 3 [39680/60000 (66%)]\tLoss: 0.256312\n",
      "Train Epoch: 3 [40320/60000 (67%)]\tLoss: 0.208650\n",
      "Train Epoch: 3 [40960/60000 (68%)]\tLoss: 0.277735\n",
      "Train Epoch: 3 [41600/60000 (69%)]\tLoss: 0.183831\n",
      "Train Epoch: 3 [42240/60000 (70%)]\tLoss: 0.100913\n",
      "Train Epoch: 3 [42880/60000 (71%)]\tLoss: 0.320874\n",
      "Train Epoch: 3 [43520/60000 (72%)]\tLoss: 0.106815\n",
      "Train Epoch: 3 [44160/60000 (74%)]\tLoss: 0.159310\n",
      "Train Epoch: 3 [44800/60000 (75%)]\tLoss: 0.268392\n",
      "Train Epoch: 3 [45440/60000 (76%)]\tLoss: 0.211750\n",
      "Train Epoch: 3 [46080/60000 (77%)]\tLoss: 0.066316\n",
      "Train Epoch: 3 [46720/60000 (78%)]\tLoss: 0.160546\n",
      "Train Epoch: 3 [47360/60000 (79%)]\tLoss: 0.210535\n",
      "Train Epoch: 3 [48000/60000 (80%)]\tLoss: 0.114090\n",
      "Train Epoch: 3 [48640/60000 (81%)]\tLoss: 0.300620\n",
      "Train Epoch: 3 [49280/60000 (82%)]\tLoss: 0.114429\n",
      "Train Epoch: 3 [49920/60000 (83%)]\tLoss: 0.332426\n",
      "Train Epoch: 3 [50560/60000 (84%)]\tLoss: 0.221892\n",
      "Train Epoch: 3 [51200/60000 (85%)]\tLoss: 0.346908\n",
      "Train Epoch: 3 [51840/60000 (86%)]\tLoss: 0.191724\n",
      "Train Epoch: 3 [52480/60000 (87%)]\tLoss: 0.176855\n",
      "Train Epoch: 3 [53120/60000 (88%)]\tLoss: 0.336037\n",
      "Train Epoch: 3 [53760/60000 (90%)]\tLoss: 0.201549\n",
      "Train Epoch: 3 [54400/60000 (91%)]\tLoss: 0.396376\n",
      "Train Epoch: 3 [55040/60000 (92%)]\tLoss: 0.146374\n",
      "Train Epoch: 3 [55680/60000 (93%)]\tLoss: 0.149609\n",
      "Train Epoch: 3 [56320/60000 (94%)]\tLoss: 0.190016\n",
      "Train Epoch: 3 [56960/60000 (95%)]\tLoss: 0.218092\n",
      "Train Epoch: 3 [57600/60000 (96%)]\tLoss: 0.169265\n",
      "Train Epoch: 3 [58240/60000 (97%)]\tLoss: 0.169385\n",
      "Train Epoch: 3 [58880/60000 (98%)]\tLoss: 0.429081\n",
      "Train Epoch: 3 [59520/60000 (99%)]\tLoss: 0.278935\n",
      "\n",
      "Test set: Avg. loss: 0.4074, Accuracy: 9674/10000 (96%)\n",
      "\n"
     ]
    }
   ],
   "source": [
    "# Here plot epoch (# passes over training data) and loss\n",
    "#\n",
    "# ------- Your Code -------\n",
    "#\n",
    "test()\n",
    "for epoch in range(1, n_epochs+1):\n",
    "  train(epoch)\n",
    "  test()"
   ]
  },
  {
   "cell_type": "code",
   "execution_count": null,
   "metadata": {},
   "outputs": [],
   "source": [
    "# Here plot epoch and accuracy over val/test set\n",
    "#\n",
    "# ------- Your Code -------\n",
    "#"
   ]
  },
  {
   "cell_type": "code",
   "execution_count": 144,
   "metadata": {},
   "outputs": [
    {
     "data": {
      "text/plain": [
       "<All keys matched successfully>"
      ]
     },
     "execution_count": 144,
     "metadata": {},
     "output_type": "execute_result"
    }
   ],
   "source": [
    "#\n",
    "#\n",
    "# ------- Your Code -------\n",
    "# Example:\n",
    "# net = Net()\n",
    "# net.load_state_dict(torch.load(\"PATH\"))"
   ]
  },
  {
   "cell_type": "code",
   "execution_count": null,
   "metadata": {},
   "outputs": [],
   "source": [
    "# Here report the score for the best model\n",
    "#\n",
    "# ------- Your Code -------\n",
    "#"
   ]
  },
  {
   "cell_type": "code",
   "execution_count": 198,
   "metadata": {},
   "outputs": [
    {
     "data": {
      "image/png": "[encoded data removed]",
      "text/plain": [
       "<Figure size 432x288 with 12 Axes>"
      ]
     },
     "metadata": {
      "needs_background": "light"
     },
     "output_type": "display_data"
    }
   ],
   "source": [
    "# Visualize the predictions\n",
    "# Example: vis_predictions(x_eval, y_pred, size_of_data)\n",
    "#\n",
    "#\n",
    "# ------- Your Code -------\n",
    "#"
   ]
  },
  {
   "cell_type": "markdown",
   "metadata": {},
   "source": [
    "### 2.3.6: Summary\n",
    "\n",
    "Summarize your findings:\n",
    " * Which hyper-parameters were important and how did they influence your results?\n",
    " * What were other design choices you faced?\n",
    " * Any other interesting insights..."
   ]
  },
  {
   "cell_type": "markdown",
   "metadata": {
    "colab_type": "text",
    "id": "Ex3qQp3JolD1"
   },
   "source": [
    "# 3. Summary (20 points)\n",
    "\n",
    "Enter your final summary here.\n",
    "\n",
    "You should now compare performance  on the three models [M1], [M2] and [M3]. Present this in a tabular format and/or using plots.\n",
    "\n",
    "Which model do you recommend to perform digit classification and why?\n",
    "\n",
    "Feel free to discuss other insightful observations."
   ]
  },
  {
   "cell_type": "code",
   "execution_count": null,
   "metadata": {
    "colab": {},
    "colab_type": "code",
    "id": "pa6rPT53LUW8"
   },
   "outputs": [],
   "source": []
  }
 ],
 "metadata": {
  "colab": {
   "collapsed_sections": [],
   "name": "MLCySec Project 1.ipynb",
   "provenance": [],
   "version": "0.3.2"
  },
  "kernelspec": {
   "display_name": "Python 3",
   "language": "python",
   "name": "python3"
  },
  "language_info": {
   "codemirror_mode": {
    "name": "ipython",
    "version": 3
   },
   "file_extension": ".py",
   "mimetype": "text/x-python",
   "name": "python",
   "nbconvert_exporter": "python",
   "pygments_lexer": "ipython3",
   "version": "3.7.3"
  }
 },
 "nbformat": 4,
 "nbformat_minor": 1
}
