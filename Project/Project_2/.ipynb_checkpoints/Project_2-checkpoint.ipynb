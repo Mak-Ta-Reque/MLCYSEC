{
 "cells": [
  {
   "cell_type": "markdown",
   "metadata": {},
   "source": [
    "# ML in Cybersecurity: Project II\n",
    "\n",
    "## Team\n",
    "  * **Team name**: *Good Fellows*\n",
    "  * **Members**:  *fill this in. format: Md. Abdul Kadir (s8mdkadi@stud.uni-saarland.de), name2 (email2), ...*\n",
    "\n",
    "\n",
    "## Logistics\n",
    "  * **Due date**: 28th November 2019, 13:59:59 (right before the lecture)\n",
    "  * Email the completed notebook to: `mlcysec_ws1920_staff@lists.cispa.saarland`\n",
    "  * Complete this in **teams of 3**\n",
    "  * Feel free to use the course [mailing list](https://lists.cispa.saarland/listinfo/mlcysec_ws1920_stud) to discuss.\n",
    "  \n",
    "## Timeline\n",
    "  * 14-Nov-2019: Project 2 hand-out\n",
    "  * **28-Nov-2019** (13:59:59): Email completed notebook\n",
    "  * 5-Nov-2019: Project 2 discussion and summary\n",
    "  \n",
    "  \n",
    "## About this Project\n",
    "In this project, you will explore an application of ML to a popular task in cybersecurity: malware classification.\n",
    "You will be presented with precomputed behaviour analysis reports of thousands of program binaries, many of which are malwares.\n",
    "Your goal will be train a malware detector using this behavioural reports.\n",
    "\n",
    "\n",
    "## A Note on Grading\n",
    "The grading for this project will depend on:\n",
    " 1. Vectorizing Inputs\n",
    "   * Obtaining a reasonable vectorized representations of the input data (a file containing a sequence of system calls)\n",
    "   * Understanding the influence these representations have on your model\n",
    " 1. Classification Model  \n",
    "   * Following a clear ML pipeline\n",
    "   * Obtaining reasonable performances (>60\\%) on held-out test set\n",
    "   * Choice of evaluation metric\n",
    "   * Visualizing loss/accuracy curves\n",
    " 1. Analysis\n",
    "   * Which methods (input representations/ML models) work better than the rest and why?\n",
    "   * Which hyper-parameters and design-choices were important in each of your methods?\n",
    "   * Quantifying influence of these hyper-parameters on loss and/or validation accuracies\n",
    "   * Trade-offs between methods, hyper-parameters, design-choices\n",
    "   * Anything else you find interesting (this part is open-ended)\n",
    "\n",
    "\n",
    "## Grading Details\n",
    " * 40 points: Vectorizing input data (each input = behaviour analysis file in our case)\n",
    " * 40 points: Training a classification model\n",
    " * 15 points: Analysis/Discussion\n",
    " * 5 points: Clean code\n",
    " \n",
    "## Filling-in the Notebook\n",
    "You'll be submitting this very notebook that is filled-in with your code and analysis. Make sure you submit one that has been previously executed in-order. (So that results/graphs are already visible upon opening it). \n",
    "\n",
    "The notebook you submit **should compile** (or should be self-contained and sufficiently commented). Check tutorial 1 on how to set up the Python3 environment.\n",
    "\n",
    "\n",
    "**The notebook is your project report. So, to make the report readable, omit code for techniques/models/things that did not work. You can use final summary to provide report about these codes.**\n",
    "\n",
    "It is extremely important that you **do not** re-order the existing sections. Apart from that, the code blocks that you need to fill-in are given by:\n",
    "```\n",
    "#\n",
    "#\n",
    "# ------- Your Code -------\n",
    "#\n",
    "#\n",
    "```\n",
    "Feel free to break this into multiple-cells. It's even better if you interleave explanations and code-blocks so that the entire notebook forms a readable \"story\".\n",
    "\n",
    "\n",
    "## Code of Honor\n",
    "We encourage discussing ideas and concepts with other students to help you learn and better understand the course content. However, the work you submit and present **must be original** and demonstrate your effort in solving the presented problems. **We will not tolerate** blatantly using existing solutions (such as from the internet), improper collaboration (e.g., sharing code or experimental data between groups) and plagiarism. If the honor code is not met, no points will be awarded.\n",
    "\n",
    " \n",
    " ## Versions\n",
    "  * v1.1: Updated deadline\n",
    "  * v1.0: Initial notebook\n",
    "  \n",
    "  ---"
   ]
  },
  {
   "cell_type": "code",
   "execution_count": 7,
   "metadata": {},
   "outputs": [
    {
     "name": "stdout",
     "output_type": "stream",
     "text": [
      "The autoreload extension is already loaded. To reload it, use:\n",
      "  %reload_ext autoreload\n"
     ]
    }
   ],
   "source": [
    "import time \n",
    " \n",
    "import numpy as np \n",
    "import matplotlib.pyplot as plt \n",
    "\n",
    "import json \n",
    "import time \n",
    "import pickle \n",
    "import sys \n",
    "import csv \n",
    "import os \n",
    "import os.path as osp \n",
    "import shutil \n",
    "import pathlib\n",
    "from pathlib import Path\n",
    "\n",
    "from IPython.display import display, HTML\n",
    " \n",
    "%matplotlib inline \n",
    "plt.rcParams['figure.figsize'] = (10.0, 8.0) # set default size of plots \n",
    "plt.rcParams['image.interpolation'] = 'nearest' \n",
    "plt.rcParams['image.cmap'] = 'gray' \n",
    " \n",
    "# for auto-reloading external modules \n",
    "# see http://stackoverflow.com/questions/1907993/autoreload-of-modules-in-ipython \n",
    "%load_ext autoreload\n",
    "%autoreload 2"
   ]
  },
  {
   "cell_type": "code",
   "execution_count": 8,
   "metadata": {},
   "outputs": [],
   "source": [
    "# Some suggestions of our libraries that might be helpful for this project\n",
    "from collections import Counter          # an even easier way to count\n",
    "from multiprocessing import Pool         # for multiprocessing\n",
    "from tqdm import tqdm                    # fancy progress bars\n",
    "\n",
    "# Load other libraries here.\n",
    "# Keep it minimal! We should be easily able to reproduce your code.\n",
    "# We only support sklearn and pytorch.\n",
    "\n",
    "\n",
    "# We preload pytorch as an example\n",
    "import torch\n",
    "import torch.nn as nn\n",
    "import torch.nn.functional as F\n",
    "import torch.optim as optim\n",
    "from torch.utils.data import DataLoader, Dataset, TensorDataset"
   ]
  },
  {
   "cell_type": "code",
   "execution_count": 9,
   "metadata": {},
   "outputs": [],
   "source": [
    "compute_mode = 'cpu'\n",
    "\n",
    "if compute_mode == 'cpu':\n",
    "    device = torch.device('cpu')\n",
    "elif compute_mode == 'gpu':\n",
    "    # If you are using pytorch on the GPU cluster, you have to manually specify which GPU device to use\n",
    "    # It is extremely important that you *do not* spawn multi-GPU jobs.\n",
    "    os.environ[\"CUDA_VISIBLE_DEVICES\"] = '2'    # Set device ID here\n",
    "    device = torch.device('cuda')\n",
    "else:\n",
    "    raise ValueError('Unrecognized compute mode')"
   ]
  },
  {
   "cell_type": "markdown",
   "metadata": {},
   "source": [
    "# Setup\n",
    "\n",
    "  * Download the datasets: [train](https://nextcloud.mpi-klsb.mpg.de/index.php/s/pJrRGzm2So2PMZm) (128M) and [test](https://nextcloud.mpi-klsb.mpg.de/index.php/s/zN3yeWzQB3i5WqE) (92M)\n",
    "  * Unpack them under `./data/train` and `./data/test`"
   ]
  },
  {
   "cell_type": "code",
   "execution_count": 10,
   "metadata": {},
   "outputs": [
    {
     "name": "stdout",
     "output_type": "stream",
     "text": [
      "# train examples (Should be 13682) :    13682\n",
      "# test  examples (Should be 10000) :    10000\n"
     ]
    }
   ],
   "source": [
    "# Check that you are prepared with the data\n",
    "! printf '# train examples (Should be 13682) : '; ls data/train | wc -l\n",
    "! printf '# test  examples (Should be 10000) : '; ls data/test | wc -l"
   ]
  },
  {
   "cell_type": "markdown",
   "metadata": {},
   "source": [
    "Now that you're set, let's briefly look at the data you have been handed.\n",
    "Each file encodes the behavior report of a program (potentially a malware), using an encoding scheme called \"The Malware Instruction Set\" (MIST for short).\n",
    "At this point, we highly recommend you briefly read-up Sec. 2 of the [MIST](http://www.mlsec.org/malheur/docs/mist-tr.pdf) documentation.\n",
    "\n",
    "You will find each file named as `filename.<malwarename>`:\n",
    "```\n",
    "» ls data/train | head\n",
    "00005ecc06ae3e489042e979717bb1455f17ac9d.NothingFound\n",
    "0008e3d188483aeae0de62d8d3a1479bd63ed8c9.Basun\n",
    "000d2eea77ee037b7ef99586eb2f1433991baca9.Patched\n",
    "000d996fa8f3c83c1c5568687bb3883a543ec874.Basun\n",
    "0010f78d3ffee61101068a0722e09a98959a5f2c.Basun\n",
    "0013cd0a8febd88bfc4333e20486bd1a9816fcbf.Basun\n",
    "0014aca72eb88a7f20fce5a4e000c1f7fff4958a.Texel\n",
    "001ffc75f24a0ae63a7033a01b8152ba371f6154.Texel\n",
    "0022d6ba67d556b931e3ab26abcd7490393703c4.Basun\n",
    "0028c307a125cf0fdc97d7a1ffce118c6e560a70.Swizzor\n",
    "...\n",
    "```\n",
    "and within each file, you will see a sequence of individual systems calls monitored duing the run-time of the binary - a malware named 'Basun' in the case:\n",
    "```\n",
    "» head data/train/000d996fa8f3c83c1c5568687bb3883a543ec874.Basun\n",
    "# process 000006c8 0000066a 022c82f4 00000000 thread 0001 #\n",
    "02 01 | 000006c8 0000066a 00015000\n",
    "02 02 | 00006b2c 047c8042 000b9000\n",
    "02 02 | 00006b2c 047c8042 00108000\n",
    "02 02 | 00006b2c 047c8042 00153000\n",
    "02 02 | 00006b2c 047c8042 00091000\n",
    "02 02 | 00006b2c 047c8042 00049000\n",
    "02 02 | 00006b2c 047c8042 000aa000\n",
    "02 02 | 00006b2c 047c8042 00092000\n",
    "02 02 | 00006b2c 047c8042 00011000\n",
    "...\n",
    "```\n",
    "(**Note**: Please ignore the first line that begins with `# process ...`.)\n",
    "\n",
    "Your task in this project is to train a malware detector, which given the sequence of system calls (in the MIST-formatted file like above), predicts one of 10 classes: `{ Agent, Allaple, AutoIt, Basun, NothingFound, Patched, Swizzor, Texel, VB, Virut }`, where `NothingFound` roughly represents no malware is present.\n",
    "In terms of machine learning terminology, your malware detector $F: X \\rightarrow Y$ should learn a mapping from the MIST-encoded behaviour report (the input $x \\in X$) to the malware class $y \\in Y$.\n",
    "\n",
    "Consequently, you will primarily tackle two challenges in this project:\n",
    "  1. \"Vectorizing\" the input data i.e., representing each input (file) as a tensor\n",
    "  1. Training an ML model\n",
    "  \n",
    "\n",
    "### Some tips:\n",
    "  * Begin with an extremely simple representation/ML model and get above chance-level classification performance\n",
    "  * Choose your evaluation metric wisely\n",
    "  * Save intermediate computations (e.g., a token to index mapping). This will avoid you parsing the entire dataset for every experiment\n",
    "  * Try using `multiprocessing.Pool` to parallelize your `for` loops"
   ]
  },
  {
   "cell_type": "markdown",
   "metadata": {},
   "source": [
    "---"
   ]
  },
  {
   "cell_type": "markdown",
   "metadata": {},
   "source": [
    "# 1. Vectorize Data"
   ]
  },
  {
   "cell_type": "markdown",
   "metadata": {},
   "source": [
    "## 1.a. Load Raw Data"
   ]
  },
  {
   "cell_type": "code",
   "execution_count": 19,
   "metadata": {},
   "outputs": [],
   "source": [
    "def file_load_kernel(filepath):\n",
    "    '''Given a filepath, returns (content, classname), where content = [list of lines in file]'''\n",
    "    #\n",
    "    #\n",
    "    # ------- Your Code -------\n",
    "    #\n",
    "    #\n",
    "    \n",
    "    # Parse the file name and identify the class name.\n",
    "    label = filepath.split('.')[2]\n",
    "    \n",
    "    # Read the file \n",
    "    with open(filepath, 'r') as file :\n",
    "        lines = file.read().splitlines()\n",
    "    if '# process' in lines[0] :\n",
    "        del lines[0]\n",
    "    \n",
    "    \n",
    "    # Remove the firstline start with \"# process\"\n",
    "    \n",
    "    # Convert text file to list , content of list is the lines of the textfile.\n",
    "    \n",
    "    \n",
    "    \n",
    "    return lines, label\n",
    "\n",
    "\n",
    "def handler(function, data, workers=4):\n",
    "    p = Pool(workers)\n",
    "    r=p.map(function, data)\n",
    "    return r\n",
    "\n",
    "def load_data(data_path, nworkers=4):\n",
    "    '''Returns each data sample as a tuple (x, y), x = sequence of strings (i.e., syscalls), y = malware program class'''\n",
    "    raw_data_samples = []\n",
    "    #\n",
    "    #\n",
    "    # ------- Your Code -------\n",
    "    #\n",
    "    #\n",
    "    files = os.listdir(data_path)\n",
    "    # Removing the empty index\n",
    "    file_addresses = []\n",
    "    del files[-1]\n",
    "    i = 1\n",
    "    for file in files:\n",
    "        file_addresses.append (os.path.join(data_path,file))\n",
    "        i += 1\n",
    "        if i> 50:\n",
    "            break\n",
    "        \n",
    "        \n",
    "    raw_data_samples = handler(file_load_kernel,file_addresses,workers=4)\n",
    "    return raw_data_samples"
   ]
  },
  {
   "cell_type": "code",
   "execution_count": 20,
   "metadata": {},
   "outputs": [
    {
     "name": "stdout",
     "output_type": "stream",
     "text": [
      "[(['02 01 | 00000000 0000066a 00019000', '02 02 | 00006b2c 047c8042 000b9000', '02 02 | 00006b2c 047c8042 00108000', '02 02 | 00006b2c 047c8042 000aa000', '02 02 | 00006b2c 047c8042 00092000', '02 02 | 00006b2c 047c8042 00011000', '02 02 | 00006b2c 047c8042 00091000', '02 02 | 00006b2c 047c8042 00049000', '02 02 | 00006b2c 047c8042 00055000', '02 02 | 00006b2c 047c8042 00058000', '02 02 | 00006b2c 047c8042 00076000', '02 02 | 00006b2c 047c8042 00057000', '02 02 | 00006b2c 047c8042 0004a000', '02 02 | 00006b2c 047c8042 0009a000', '02 02 | 00006b2c 047c8042 00821000', '02 02 | 00006b2c 047c8042 00096000', '02 02 | 00006b2c 047c8042 00012000', '02 02 | 00006b2c 047c8042 0003d000', '02 02 | 00006b2c 047c8042 00006000', '02 02 | 00006b2c 047c8042 00008000', '02 02 | 00006b2c 047c8042 0013d000', '02 02 | 00006b2c 047c8042 0008b000', '02 02 | 00006b2c 047c8042 0001d000', '02 02 | 00038842 006c8c33 00103000', '02 02 | 00006b2c 047c8042 00019000', '02 02 | 00006b2c 047c8042 0000d000', '02 02 | 00006b2c 047c8042 00011000', '0a 01 | 01e16041 000000 01 00000000 00000000', '0a 04 | 034abaf3 00000000 0000066a'], 'Texel'), (['02 01 | 000006c8 0000066a 00009000', '02 02 | 00006b2c 047c8042 000b9000', '02 02 | 00006b2c 047c8042 00108000', '02 02 | 00006b2c 047c8042 00091000', '02 02 | 00006b2c 047c8042 00049000', '02 02 | 00006b2c 047c8042 000aa000', '02 02 | 00006b2c 047c8042 00092000', '02 02 | 00006b2c 047c8042 00011000', '02 02 | 00006b2c 047c8042 0008b000', '02 02 | 00006b2c 047c8042 00058000', '02 02 | 00006b2c 047c8042 0013d000', '02 02 | 00006b2c 047c8042 0001d000', '02 02 | 00006b2c 047c8042 0000d000', '02 02 | 00006b2c 047c8042 00011000', '0d 01 |', '03 0a | 000004 004000 01 00000000 0000066a', '09 02 | 0f68b707', '09 02 | 05ccb7a7', '09 03 | 07aaee07', '09 02 | 07aaee07', '09 07 | 07aaee07 056cc064', '09 05 | 05ccb7a7 068c7024', '09 05 | 05ccb7a7 079f6eb9', '09 05 | 05ccb7a7 03693e75', '09 05 | 05ccb7a7 0283cc13', '09 05 | 05ccb7a7 0b20e053', '09 05 | 05ccb7a7 0acfda37', '09 05 | 05ccb7a7 0e9e8cc3', '09 05 | 05ccb7a7 0a113813', '09 05 | 05ccb7a7 03b7f6b3', '09 05 | 05ccb7a7 09e708c3', '09 05 | 05ccb7a7 00274145', '09 05 | 05ccb7a7 0a340bc5', '09 02 | 09d1c2d4', '09 02 | 0b71c2d4', '0a 04 | 034abaf3 000006c8 0000066a'], 'Agent')]\n"
     ]
    }
   ],
   "source": [
    "# Test \n",
    "\n",
    "#print(file_load_kernel('./data/train/fffb9be0177ac57f213bc089b319582936a5bd08.NothingFound'))\n",
    "print((load_data('./data/train', nworkers=4)))"
   ]
  },
  {
   "cell_type": "markdown",
   "metadata": {},
   "source": [
    "## 1.b. Vectorize: Setup\n",
    "\n",
    "Make one pass over the inputs to identify relevant features/tokens.\n",
    "\n",
    "Suggestion:\n",
    "  - identify tokens (e.g., unigrams, bigrams)\n",
    "  - create a token -> index (int) mapping. Note that you might have a >10K unique tokens. So, you will have to choose a suitable \"vocabulary\" size."
   ]
  },
  {
   "cell_type": "code",
   "execution_count": 6,
   "metadata": {
    "collapsed": true
   },
   "outputs": [],
   "source": [
    "# Feel free to edit anything in this block\n",
    "\n",
    "def get_key_idx_map(counter, vocab_size, ukn_token='_ukn_'):\n",
    "    # counter is a mapping: token -> count\n",
    "    # build vectorizer using vocab_size most common elements\n",
    "    key_to_idx, idx_to_key = dict(), dict()\n",
    "    return key_to_idx, idx_to_key\n",
    "\n",
    "def helper1():\n",
    "    pass\n",
    "\n",
    "def helper2():\n",
    "    pass"
   ]
  },
  {
   "cell_type": "code",
   "execution_count": 14,
   "metadata": {
    "collapsed": true
   },
   "outputs": [],
   "source": [
    "# Feel free to edit anything in this block\n",
    "\n",
    "MAX_VOCAB_SIZE = ...\n",
    "\n",
    "token_to_idx, idx_to_token = get_key_idx_map(token_counter, MAX_VOCAB_SIZE)\n",
    "\n",
    "# Save vocab to file\n",
    "out_path = 'application_vocab_{}.pkl'.format(MAX_VOCAB_SIZE)\n",
    "with open(out_path, 'wb') as wf:\n",
    "    dct = {'token_to_idx': token_to_idx,\n",
    "          'idx_to_token': idx_to_token}\n",
    "    pickle.dump(dct, wf)"
   ]
  },
  {
   "cell_type": "markdown",
   "metadata": {},
   "source": [
    "## 1.c. Vectorize Data\n",
    "\n",
    "Use the (token $\\rightarrow$ index) mapping you created before to vectorize your data"
   ]
  },
  {
   "cell_type": "code",
   "execution_count": 7,
   "metadata": {
    "collapsed": true
   },
   "outputs": [],
   "source": [
    "#\n",
    "#\n",
    "# ------- Your Code -------\n",
    "#\n",
    "#"
   ]
  },
  {
   "cell_type": "code",
   "execution_count": 16,
   "metadata": {
    "collapsed": true
   },
   "outputs": [],
   "source": [
    "def vectorize_raw_samples(raw_samples, nworkers=10):\n",
    "    vectorized_samples = []\n",
    "    #\n",
    "    #\n",
    "    # ------- Your Code -------\n",
    "    #\n",
    "    #\n",
    "    return vectorized_samples"
   ]
  },
  {
   "cell_type": "code",
   "execution_count": null,
   "metadata": {
    "collapsed": true,
    "scrolled": true
   },
   "outputs": [],
   "source": [
    "print('=> Processing: Train')\n",
    "train_data = vectorize_raw_samples(train_raw_samples)\n",
    "print()\n",
    "print('=> Processing: Test')\n",
    "test_data = vectorize_raw_samples(test_raw_samples)"
   ]
  },
  {
   "cell_type": "code",
   "execution_count": 10,
   "metadata": {
    "collapsed": true
   },
   "outputs": [],
   "source": [
    "#\n",
    "#\n",
    "# ------- Your Code -------\n",
    "#\n",
    "#\n",
    "# Suggestions: \n",
    "#\n",
    "# (a) You can use torch.utils.data.TensorDataset to represent the tensors you created previously\n",
    "# trainset = TensorDataset(train_x, train_y)\n",
    "# testset = TensorDataset(test_x, test_y)\n",
    "#\n",
    "# (b) Store your datasets to disk so that you do not need to precompute it every time"
   ]
  },
  {
   "cell_type": "markdown",
   "metadata": {},
   "source": [
    "# 2. Train Model\n",
    "\n",
    "You will now train an ML model on the vectorized datasets you created previously.\n",
    "\n",
    "_Note_: Although I often refer to each input as a 'vector' for simplicity, each of your inputs can also be higher dimensional tensors."
   ]
  },
  {
   "cell_type": "markdown",
   "metadata": {},
   "source": [
    "## 2.a. Helpers"
   ]
  },
  {
   "cell_type": "code",
   "execution_count": 9,
   "metadata": {
    "collapsed": true
   },
   "outputs": [],
   "source": [
    "# Feel free to edit anything in this block\n",
    "\n",
    "def evaluate_preds(y_gt, y_pred):\n",
    "    pass\n",
    "\n",
    "\n",
    "def another_helper(question):\n",
    "    return 42\n",
    "\n",
    "\n",
    "def save_model(model, out_path):\n",
    "    pass\n",
    "\n",
    "\n",
    "def save_data(eval_data, out_path):\n",
    "    with open(out_path, 'wb') as wf:\n",
    "        pickle.dump(eval_data, out_path)"
   ]
  },
  {
   "cell_type": "markdown",
   "metadata": {},
   "source": [
    "## 2.b. Define Model"
   ]
  },
  {
   "cell_type": "markdown",
   "metadata": {},
   "source": [
    "Describe your model here."
   ]
  },
  {
   "cell_type": "code",
   "execution_count": 22,
   "metadata": {
    "collapsed": true
   },
   "outputs": [],
   "source": [
    "# Feel free to edit anything in this block\n",
    "\n",
    "class NetTemplate(nn.Module):\n",
    "    def __init__(self, input_dim, h1, output_dim):\n",
    "        super(NetTemplate, self).__init__()\n",
    "        # Layer definitions\n",
    "\n",
    "    def forward(self, x):\n",
    "        # Forward pass\n",
    "        return x"
   ]
  },
  {
   "cell_type": "markdown",
   "metadata": {},
   "source": [
    "## 2.c. Set Hyperparameters"
   ]
  },
  {
   "cell_type": "code",
   "execution_count": 23,
   "metadata": {
    "collapsed": true
   },
   "outputs": [],
   "source": [
    "# Define your hyperparameters here\n",
    "\n",
    "in_dims = trainset[0][0].shape[0]\n",
    "h1, h2 = 128, 128\n",
    "out_dims = len(class_to_idx)\n",
    "\n",
    "# Optimization\n",
    "n_epochs = 25\n",
    "batch_size = 32\n",
    "lr = 1e-2\n",
    "momentum = 0.9"
   ]
  },
  {
   "cell_type": "markdown",
   "metadata": {},
   "source": [
    "## 2.d. Train your Model"
   ]
  },
  {
   "cell_type": "code",
   "execution_count": null,
   "metadata": {
    "collapsed": true
   },
   "outputs": [],
   "source": [
    "# Feel free to edit anything in this block\n",
    "\n",
    "net = SimpleNet(...).to(device)\n",
    "net.train()\n",
    "\n",
    "# Optimizer\n",
    "# optimizer = None\n",
    "\n",
    "# Data Loaders\n",
    "# trainloader = DataLoader(trainset, batch_size=batch_size, shuffle=True)\n",
    "# testloader = DataLoader(testset, batch_size=batch_size, shuffle=False)\n",
    "\n",
    "# Etc."
   ]
  },
  {
   "cell_type": "code",
   "execution_count": null,
   "metadata": {
    "collapsed": true
   },
   "outputs": [],
   "source": [
    "#\n",
    "#\n",
    "# ------- Your Code -------\n",
    "#\n",
    "# Example:\n",
    "# for epoch in range(n_epochs):\n",
    "#     ... train ...\n",
    "#     ... validate ..."
   ]
  },
  {
   "cell_type": "markdown",
   "metadata": {},
   "source": [
    "## 2.e. Evaluate model"
   ]
  },
  {
   "cell_type": "code",
   "execution_count": null,
   "metadata": {
    "collapsed": true
   },
   "outputs": [],
   "source": [
    "#\n",
    "#\n",
    "# ------- Your Code -------\n",
    "#\n",
    "# "
   ]
  },
  {
   "cell_type": "markdown",
   "metadata": {},
   "source": [
    "## 2.f. Save Model + Data"
   ]
  },
  {
   "cell_type": "code",
   "execution_count": null,
   "metadata": {
    "collapsed": true
   },
   "outputs": [],
   "source": [
    "# Feel free to edit anything in this block\n",
    "\n",
    "expt_name = 'model:mlp_tokenizer:foo_key3:val3_key4:val4'\n",
    "\n",
    "model_out_path = '{}.checkpoint.pth'.format(expt_name)\n",
    "save_model(model, model_out_path)\n",
    "\n",
    "eval_data = {\n",
    "    'epoch': [],\n",
    "    'train_loss': [],\n",
    "    'test_loss': [],\n",
    "    'train_acc': [],\n",
    "    'test_acc': [],\n",
    "    ...\n",
    "}\n",
    "eval_out_path = '{}.eval.pickle'.format(expt_name)\n",
    "save_data(eval_data, eval_out_path)"
   ]
  },
  {
   "cell_type": "markdown",
   "metadata": {},
   "source": [
    "---"
   ]
  },
  {
   "cell_type": "markdown",
   "metadata": {},
   "source": [
    "# 3. Analysis"
   ]
  },
  {
   "cell_type": "markdown",
   "metadata": {},
   "source": [
    "## 3.a. Summary: Main Results\n",
    "\n",
    "If you tried other approaches, summarize their results here."
   ]
  },
  {
   "cell_type": "markdown",
   "metadata": {},
   "source": [
    "|        | Input Representation | Model | Optimizer | Validation Metric | Test Metric |\n",
    "|--------|----------------------|-------|-----------|-------------------|-------------|\n",
    "| Model1 | Unigram tokens       | MLP   | SGD       | 12.34 %           | 23.45%      |\n",
    "| Model2 (this notebook) |                      |       |           |                   |             |\n",
    "| ...    |                      |       |           |                   |             |"
   ]
  },
  {
   "cell_type": "markdown",
   "metadata": {
    "collapsed": true
   },
   "source": [
    "## 3.b. Discussion\n",
    "\n",
    "Enter your final summary here.\n",
    "\n",
    "For instance, you can address:\n",
    "- What was the performance you obtained with the simplest approach?\n",
    "- Which vectorized input representations helped more than the others?\n",
    "- Which malwares are difficult to detect and why?\n",
    "- Which approach do you recommend to perform malware classification?"
   ]
  },
  {
   "cell_type": "code",
   "execution_count": null,
   "metadata": {
    "collapsed": true
   },
   "outputs": [],
   "source": []
  }
 ],
 "metadata": {
  "kernelspec": {
   "display_name": "Python 3",
   "language": "python",
   "name": "python3"
  },
  "language_info": {
   "codemirror_mode": {
    "name": "ipython",
    "version": 3
   },
   "file_extension": ".py",
   "mimetype": "text/x-python",
   "name": "python",
   "nbconvert_exporter": "python",
   "pygments_lexer": "ipython3",
   "version": "3.7.3"
  }
 },
 "nbformat": 4,
 "nbformat_minor": 2
}
