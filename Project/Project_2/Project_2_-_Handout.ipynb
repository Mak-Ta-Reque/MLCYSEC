{
 "cells": [
  {
   "cell_type": "markdown",
   "metadata": {},
   "source": [
    "# ML in Cybersecurity: Project II\n",
    "\n",
    "## Team\n",
    "  * **Team name**:  *fill this in*\n",
    "  * **Members**:  *fill this in. format: name1 (email1), name2 (email2), ...*\n",
    "\n",
    "\n",
    "## Logistics\n",
    "  * **Due date**: 28th November 2019, 13:59:59 (right before the lecture)\n",
    "  * Email the completed notebook to: `mlcysec_ws1920_staff@lists.cispa.saarland`\n",
    "  * Complete this in **teams of 3**\n",
    "  * Feel free to use the course [mailing list](https://lists.cispa.saarland/listinfo/mlcysec_ws1920_stud) to discuss.\n",
    "  \n",
    "## Timeline\n",
    "  * 14-Nov-2019: Project 2 hand-out\n",
    "  * **28-Nov-2019** (13:59:59): Email completed notebook\n",
    "  * 5-Nov-2019: Project 2 discussion and summary\n",
    "  \n",
    "  \n",
    "## About this Project\n",
    "In this project, you will explore an application of ML to a popular task in cybersecurity: malware classification.\n",
    "You will be presented with precomputed behaviour analysis reports of thousands of program binaries, many of which are malwares.\n",
    "Your goal will be train a malware detector using this behavioural reports.\n",
    "\n",
    "\n",
    "## A Note on Grading\n",
    "The grading for this project will depend on:\n",
    " 1. Vectorizing Inputs\n",
    "   * Obtaining a reasonable vectorized representations of the input data (a file containing a sequence of system calls)\n",
    "   * Understanding the influence these representations have on your model\n",
    " 1. Classification Model  \n",
    "   * Following a clear ML pipeline\n",
    "   * Obtaining reasonable performances (>60\\%) on held-out test set\n",
    "   * Choice of evaluation metric\n",
    "   * Visualizing loss/accuracy curves\n",
    " 1. Analysis\n",
    "   * Which methods (input representations/ML models) work better than the rest and why?\n",
    "   * Which hyper-parameters and design-choices were important in each of your methods?\n",
    "   * Quantifying influence of these hyper-parameters on loss and/or validation accuracies\n",
    "   * Trade-offs between methods, hyper-parameters, design-choices\n",
    "   * Anything else you find interesting (this part is open-ended)\n",
    "\n",
    "\n",
    "## Grading Details\n",
    " * 40 points: Vectorizing input data (each input = behaviour analysis file in our case)\n",
    " * 40 points: Training a classification model\n",
    " * 15 points: Analysis/Discussion\n",
    " * 5 points: Clean code\n",
    " \n",
    "## Filling-in the Notebook\n",
    "You'll be submitting this very notebook that is filled-in with your code and analysis. Make sure you submit one that has been previously executed in-order. (So that results/graphs are already visible upon opening it). \n",
    "\n",
    "The notebook you submit **should compile** (or should be self-contained and sufficiently commented). Check tutorial 1 on how to set up the Python3 environment.\n",
    "\n",
    "\n",
    "**The notebook is your project report. So, to make the report readable, omit code for techniques/models/things that did not work. You can use final summary to provide report about these codes.**\n",
    "\n",
    "It is extremely important that you **do not** re-order the existing sections. Apart from that, the code blocks that you need to fill-in are given by:\n",
    "```\n",
    "#\n",
    "#\n",
    "# ------- Your Code -------\n",
    "#\n",
    "#\n",
    "```\n",
    "Feel free to break this into multiple-cells. It's even better if you interleave explanations and code-blocks so that the entire notebook forms a readable \"story\".\n",
    "\n",
    "\n",
    "## Code of Honor\n",
    "We encourage discussing ideas and concepts with other students to help you learn and better understand the course content. However, the work you submit and present **must be original** and demonstrate your effort in solving the presented problems. **We will not tolerate** blatantly using existing solutions (such as from the internet), improper collaboration (e.g., sharing code or experimental data between groups) and plagiarism. If the honor code is not met, no points will be awarded.\n",
    "\n",
    " \n",
    " ## Versions\n",
    "  * v1.1: Updated deadline\n",
    "  * v1.0: Initial notebook\n",
    "  \n",
    "  ---"
   ]
  },
  {
   "cell_type": "code",
   "execution_count": 1,
   "metadata": {},
   "outputs": [],
   "source": [
    "import time \n",
    "import collections\n",
    "import numpy as np \n",
    "import matplotlib.pyplot as plt \n",
    "\n",
    "import json \n",
    "import time \n",
    "import pickle \n",
    "import sys \n",
    "import csv \n",
    "import os \n",
    "import os.path as osp \n",
    "import shutil \n",
    "import pathlib\n",
    "from pathlib import Path\n",
    "import itertools \n",
    "from IPython.display import display, HTML\n",
    " \n",
    "%matplotlib inline \n",
    "plt.rcParams['figure.figsize'] = (10.0, 8.0) # set default size of plots \n",
    "plt.rcParams['image.interpolation'] = 'nearest' \n",
    "plt.rcParams['image.cmap'] = 'gray' \n",
    " \n",
    "# for auto-reloading external modules \n",
    "# see http://stackoverflow.com/questions/1907993/autoreload-of-modules-in-ipython \n",
    "%load_ext autoreload\n",
    "%autoreload 2"
   ]
  },
  {
   "cell_type": "code",
   "execution_count": 2,
   "metadata": {},
   "outputs": [],
   "source": [
    "# Some suggestions of our libraries that might be helpful for this project\n",
    "from collections import Counter          # an even easier way to count\n",
    "from multiprocessing import Pool         # for multiprocessing\n",
    "from tqdm import tqdm                    # fancy progress bars\n",
    "\n",
    "# Load other libraries here.\n",
    "# Keep it minimal! We should be easily able to reproduce your code.\n",
    "# We only support sklearn and pytorch.\n",
    "\n",
    "# We preload pytorch as an example\n",
    "import torch\n",
    "import torch.nn as nn\n",
    "import torch.nn.functional as F\n",
    "import torch.optim as optim\n",
    "from torch.utils.data import DataLoader, Dataset, TensorDataset"
   ]
  },
  {
   "cell_type": "code",
   "execution_count": 3,
   "metadata": {},
   "outputs": [],
   "source": [
    "compute_mode = 'cpu'\n",
    "\n",
    "if compute_mode == 'cpu':\n",
    "    device = torch.device('cpu')\n",
    "elif compute_mode == 'gpu':\n",
    "    # If you are using pytorch on the GPU cluster, you have to manually specify which GPU device to use\n",
    "    # It is extremely important that you *do not* spawn multi-GPU jobs.\n",
    "    os.environ[\"CUDA_VISIBLE_DEVICES\"] = '2'    # Set device ID here\n",
    "    device = torch.device('cuda')\n",
    "else:\n",
    "    raise ValueError('Unrecognized compute mode')"
   ]
  },
  {
   "cell_type": "markdown",
   "metadata": {},
   "source": [
    "# Setup\n",
    "\n",
    "  * Download the datasets: [train](https://nextcloud.mpi-klsb.mpg.de/index.php/s/pJrRGzm2So2PMZm) (128M) and [test](https://nextcloud.mpi-klsb.mpg.de/index.php/s/zN3yeWzQB3i5WqE) (92M)\n",
    "  * Unpack them under `./data/train` and `./data/test`"
   ]
  },
  {
   "cell_type": "code",
   "execution_count": 4,
   "metadata": {},
   "outputs": [
    {
     "name": "stdout",
     "output_type": "stream",
     "text": [
      "# train examples (Should be 13682) :    13682\n",
      "# test  examples (Should be 10000) :    10000\n"
     ]
    }
   ],
   "source": [
    "# Check that you are prepared with the data\n",
    "! printf '# train examples (Should be 13682) : '; ls data/train | wc -l\n",
    "! printf '# test  examples (Should be 10000) : '; ls data/test | wc -l"
   ]
  },
  {
   "cell_type": "markdown",
   "metadata": {},
   "source": [
    "Now that you're set, let's briefly look at the data you have been handed.\n",
    "Each file encodes the behavior report of a program (potentially a malware), using an encoding scheme called \"The Malware Instruction Set\" (MIST for short).\n",
    "At this point, we highly recommend you briefly read-up Sec. 2 of the [MIST](http://www.mlsec.org/malheur/docs/mist-tr.pdf) documentation.\n",
    "\n",
    "You will find each file named as `filename.<malwarename>`:\n",
    "```\n",
    "» ls data/train | head\n",
    "00005ecc06ae3e489042e979717bb1455f17ac9d.NothingFound\n",
    "0008e3d188483aeae0de62d8d3a1479bd63ed8c9.Basun\n",
    "000d2eea77ee037b7ef99586eb2f1433991baca9.Patched\n",
    "000d996fa8f3c83c1c5568687bb3883a543ec874.Basun\n",
    "0010f78d3ffee61101068a0722e09a98959a5f2c.Basun\n",
    "0013cd0a8febd88bfc4333e20486bd1a9816fcbf.Basun\n",
    "0014aca72eb88a7f20fce5a4e000c1f7fff4958a.Texel\n",
    "001ffc75f24a0ae63a7033a01b8152ba371f6154.Texel\n",
    "0022d6ba67d556b931e3ab26abcd7490393703c4.Basun\n",
    "0028c307a125cf0fdc97d7a1ffce118c6e560a70.Swizzor\n",
    "...\n",
    "```\n",
    "and within each file, you will see a sequence of individual systems calls monitored duing the run-time of the binary - a malware named 'Basun' in the case:\n",
    "```\n",
    "» head data/train/000d996fa8f3c83c1c5568687bb3883a543ec874.Basun\n",
    "# process 000006c8 0000066a 022c82f4 00000000 thread 0001 #\n",
    "02 01 | 000006c8 0000066a 00015000\n",
    "02 02 | 00006b2c 047c8042 000b9000\n",
    "02 02 | 00006b2c 047c8042 00108000\n",
    "02 02 | 00006b2c 047c8042 00153000\n",
    "02 02 | 00006b2c 047c8042 00091000\n",
    "02 02 | 00006b2c 047c8042 00049000\n",
    "02 02 | 00006b2c 047c8042 000aa000\n",
    "02 02 | 00006b2c 047c8042 00092000\n",
    "02 02 | 00006b2c 047c8042 00011000\n",
    "...\n",
    "```\n",
    "(**Note**: Please ignore the first line that begins with `# process ...`.)\n",
    "\n",
    "Your task in this project is to train a malware detector, which given the sequence of system calls (in the MIST-formatted file like above), predicts one of 10 classes: `{ Agent, Allaple, AutoIt, Basun, NothingFound, Patched, Swizzor, Texel, VB, Virut }`, where `NothingFound` roughly represents no malware is present.\n",
    "In terms of machine learning terminology, your malware detector $F: X \\rightarrow Y$ should learn a mapping from the MIST-encoded behaviour report (the input $x \\in X$) to the malware class $y \\in Y$.\n",
    "\n",
    "Consequently, you will primarily tackle two challenges in this project:\n",
    "  1. \"Vectorizing\" the input data i.e., representing each input (file) as a tensor\n",
    "  1. Training an ML model\n",
    "  \n",
    "\n",
    "### Some tips:\n",
    "  * Begin with an extremely simple representation/ML model and get above chance-level classification performance\n",
    "  * Choose your evaluation metric wisely\n",
    "  * Save intermediate computations (e.g., a token to index mapping). This will avoid you parsing the entire dataset for every experiment\n",
    "  * Try using `multiprocessing.Pool` to parallelize your `for` loops"
   ]
  },
  {
   "cell_type": "markdown",
   "metadata": {},
   "source": [
    "---"
   ]
  },
  {
   "cell_type": "code",
   "execution_count": 59,
   "metadata": {},
   "outputs": [],
   "source": [
    "#  Custom method\n",
    "\n",
    "def helper2_read_pickle(file_name):\n",
    "    with open(file_name, \"rb\") as input_file:\n",
    "        data = pickle.load(input_file)\n",
    "        return data\n",
    "    \n",
    "def file_load(filepath):\n",
    "    '''Given a filepath, returns (content, classname), where content = [list of lines in file]'''\n",
    "    label = filepath.split('.')[1]\n",
    "    \n",
    "    # Read the file \n",
    "    with open(filepath, 'r') as file :\n",
    "        lines = file.read().splitlines()\n",
    "    if '# process' in lines[0] :\n",
    "        del lines[0]\n",
    "    \n",
    "    \n",
    "    # Remove the firstline start with \"# process\"\n",
    "    \n",
    "    # Convert text file to list , content of list is the lines of the textfile.\n",
    "    \n",
    "    \n",
    "    \n",
    "    return list(set(lines))\n",
    "\n",
    "\n",
    "def handler(function, data_path, files, workers=6):\n",
    "    \n",
    "    with Pool(workers) as pool:\n",
    "        #pool.map(cycle, offsets)\n",
    "        r = pool.map(function,[os.path.join(data_path,file) for file in files])\n",
    "    return r\n",
    "\n",
    "def handler2(function, files, workers=6):\n",
    "    \n",
    "    with Pool(workers) as pool:\n",
    "        #pool.map(cycle, offsets)\n",
    "        r = pool.map(function,files)\n",
    "    return r\n",
    "\n",
    "def load_data_count(data_path, nworkers=10):\n",
    "    '''Returns each data sample as a tuple (x, y), x = sequence of strings (i.e., syscalls), y = malware program class'''\n",
    "    raw_data_samples = []\n",
    "    #\n",
    "    #\n",
    "    # ------- Your Code -------\n",
    "    #\n",
    "    #\n",
    "    raw_data_samples = []\n",
    "    file_addresses = []\n",
    "    files = os.listdir(data_path)\n",
    "    print('Total file is: ', len(files) )\n",
    "    raw_data_samples = handler(file_load, data_path, files,workers=8)\n",
    "    return raw_data_samples\n",
    "\n",
    "    "
   ]
  },
  {
   "cell_type": "code",
   "execution_count": 6,
   "metadata": {},
   "outputs": [],
   "source": [
    "#list_of_voc = load_data_count(Path('./data/train'), nworkers=6)"
   ]
  },
  {
   "cell_type": "code",
   "execution_count": null,
   "metadata": {},
   "outputs": [],
   "source": []
  },
  {
   "cell_type": "markdown",
   "metadata": {},
   "source": [
    "# 1. Vectorize Data"
   ]
  },
  {
   "cell_type": "code",
   "execution_count": 7,
   "metadata": {},
   "outputs": [],
   "source": [
    "def file_load_kernel(filepath):\n",
    "    '''Given a filepath, returns (content, classname), where content = [list of lines in file]'''\n",
    "    label = filepath.split('.')[1]\n",
    "    \n",
    "    # Read the file \n",
    "    with open(filepath, 'r') as file :\n",
    "        lines = file.read().splitlines()\n",
    "    if '# process' in lines[0] :\n",
    "        del lines[0]\n",
    "    \n",
    "    \n",
    "    # Remove the firstline start with \"# process\"\n",
    "    \n",
    "    # Convert text file to list , content of list is the lines of the textfile.\n",
    "    \n",
    "    \n",
    "    \n",
    "    return lines, label\n",
    "\n",
    "\n",
    "def load_data(data_path, nworkers=6):\n",
    "    '''Returns each data sample as a tuple (x, y), x = sequence of strings (i.e., syscalls), y = malware program class'''\n",
    "    raw_data_samples = []\n",
    "    #\n",
    "    #\n",
    "    # ------- Your Code -------\n",
    "    #\n",
    "    #\n",
    "    raw_data_samples = []\n",
    "    file_addresses = []\n",
    "    files = os.listdir(data_path)\n",
    "    print('Total file is: ', len(files) )\n",
    "    raw_data_samples = handler(file_load_kernel, data_path, files,workers=6)\n",
    "    return raw_data_samples"
   ]
  },
  {
   "cell_type": "markdown",
   "metadata": {},
   "source": [
    "## 1.a. Load Raw Data"
   ]
  },
  {
   "cell_type": "code",
   "execution_count": 40,
   "metadata": {
    "scrolled": true
   },
   "outputs": [
    {
     "name": "stdout",
     "output_type": "stream",
     "text": [
      "=> Loading training data ... \n",
      "Total file is:  13682\n"
     ]
    }
   ],
   "source": [
    "print('=> Loading training data ... ')\n",
    "train_raw_samples = load_data(Path('./data/train'))\n",
    "\n",
    "# 4 min\n"
   ]
  },
  {
   "cell_type": "code",
   "execution_count": null,
   "metadata": {},
   "outputs": [],
   "source": [
    "'''print(len(train_raw_samples))\n",
    "out_path = \"train_raw_samples_full.pickle\"\n",
    "with open(out_path, 'wb') as wf:\n",
    "    pickle.dump(train_raw_samples, wf)'''"
   ]
  },
  {
   "cell_type": "code",
   "execution_count": 51,
   "metadata": {},
   "outputs": [
    {
     "name": "stdout",
     "output_type": "stream",
     "text": [
      "=> # Train samples =  500\n",
      "=> # Test  samples =  500\n"
     ]
    }
   ],
   "source": [
    "project_mode = 'debug'    # trainval, traintest, debug\n",
    "np.random.seed(123)          # To perform the same split across multiple runs\n",
    "\n",
    "if project_mode == 'trainval':\n",
    "    # Train = train subset; Test (i.e., validation) = train subset\n",
    "    val_frac = 0.25\n",
    "    np.random.shuffle(train_raw_samples)\n",
    "    split_idx = int(len(train_raw_samples) * val_frac)\n",
    "    test_raw_samples, train_raw_samples = train_raw_samples[:split_idx], train_raw_samples[split_idx:]\n",
    "elif project_mode == 'traintest':\n",
    "    # Train = full train set; Test = full test set\n",
    "    test_raw_samples = load_data(Path('./data/test'))\n",
    "elif project_mode == 'debug':\n",
    "    # Train = train micro-subset; Test (i.e., validation) = train micro-subset\n",
    "    np.random.shuffle(train_raw_samples)\n",
    "    train_raw_samples, test_raw_samples = train_raw_samples[:500], train_raw_samples[500:1000]\n",
    "else:\n",
    "    raise ValueError('Unrecognized mode')\n",
    "    \n",
    "print('=> # Train samples = ', len(train_raw_samples))\n",
    "print('=> # Test  samples = ', len(test_raw_samples))\n",
    "#2"
   ]
  },
  {
   "cell_type": "markdown",
   "metadata": {},
   "source": [
    "## 1.b. Vectorize: Setup\n",
    "\n",
    "Make one pass over the inputs to identify relevant features/tokens.\n",
    "\n",
    "Suggestion:\n",
    "  - identify tokens (e.g., unigrams, bigrams)\n",
    "  - create a token -> index (int) mapping. Note that you might have a >10K unique tokens. So, you will have to choose a suitable \"vocabulary\" size."
   ]
  },
  {
   "cell_type": "code",
   "execution_count": 52,
   "metadata": {},
   "outputs": [],
   "source": [
    "# Feel free to edit anything in this block\n",
    "\n",
    "def get_key_idx_map(counter, vocab_size, ukn_token='_ukn_'):\n",
    "    # counter is a mapping: token -> count\n",
    "    # build vectorizer using vocab_size most common elements\n",
    "    counter_unk = counter\n",
    "    frequency_table = {key: counter[key] for key in counter if counter[key]>10 }\n",
    "    \n",
    "   \n",
    "    counter_unk.update({ukn_token:(vocab_size - len(counter))})\n",
    "    key_to_idx, idx_to_key = dict(), dict()\n",
    "    for i in range(len(counter_unk)):\n",
    "        idx_to_key.update({i:list(counter_unk.keys())[i]})\n",
    "        key_to_idx.update({list(counter_unk.keys())[i]:i})\n",
    "    return key_to_idx, idx_to_key\n",
    "\n",
    "def helper1_count_frequncy(training_raw_data):\n",
    "    l = list(map(lambda x: x[0], training_raw_data))\n",
    "    i = list(itertools.chain(*l))\n",
    "   \n",
    "    \n",
    "    return collections.Counter(i)\n",
    "\n",
    "\n",
    "\n",
    "def get_class_key_index_map(class_counter):\n",
    "  #  { 'Agent':0, 'Allaple':1, 'AutoIt': 2, 'Basun':3, 'NothingFound':4, 'Patched': 5, 'Swizzor':6, 'Texel':7, 'VB': 8, 'Virut':9 }\n",
    "    class_index = class_counter\n",
    "    index_class = dict((v,k) for k,v in class_index.items())\n",
    "    nb_classes = len(class_counter)\n",
    "    targets = np.array([class_counter.keys()]).reshape(-1)\n",
    "    one_hot_targets = np.eye(nb_classes).tolist()\n",
    "    class_index = dict(zip([*class_index], one_hot_targets))\n",
    "    return class_index, index_class\n",
    "\n",
    "\n"
   ]
  },
  {
   "cell_type": "code",
   "execution_count": 62,
   "metadata": {},
   "outputs": [],
   "source": [
    "def store_token_index(token_counter):\n",
    "\n",
    "    token_to_idx, idx_to_token = get_key_idx_map(token_counter, 60000)\n",
    "\n",
    "    # Save vocab to file out_path = 'application_vocab_full{}.pkl'.format(MAX_VOCAB_SIZE^\n",
    "    #out_path = 'application_vocab_full{}.pkl'.format(MAX_VOCAB_SIZE)\n",
    "    \n",
    "    return [token_to_idx, idx_to_token]"
   ]
  },
  {
   "cell_type": "code",
   "execution_count": 63,
   "metadata": {},
   "outputs": [
    {
     "name": "stdout",
     "output_type": "stream",
     "text": [
      "done chopping\n",
      "done_calculating counter list\n",
      "done calculating sub (token_to_idx, idx_to_token) maping \n"
     ]
    }
   ],
   "source": [
    "train_raw_samples_list =  [train_raw_samples[x:x+1000] for x in range(0, len(train_raw_samples), 1000)]\n",
    "print('done chopping')\n",
    "token_counter_list = handler2(helper1_count_frequncy, train_raw_samples,workers=6)\n",
    "print('done_calculating counter list')\n",
    "token_idx_map_list_of_dict = handler2(store_token_index,token_counter_list, workers=6)\n",
    "print('done calculating sub (token_to_idx, idx_to_token) maping ')\n",
    "\n",
    "\n",
    "#[[{},{}],[{},{}]]"
   ]
  },
  {
   "cell_type": "code",
   "execution_count": 65,
   "metadata": {},
   "outputs": [],
   "source": [
    "# Feel free to edit anything in this block\n",
    "\n",
    "\n",
    "\n",
    "#token_counter = #helper1_count_frequncy(train_raw_samples)\n",
    "\n",
    "\n",
    "\n",
    "token_to_idx, idx_to_token = dict(), dict()\n",
    "\n",
    "for item in token_idx_map_list_of_dict:\n",
    "    token_to_idx.update(item[0])\n",
    "    idx_to_token.update(item[1])\n",
    "    \n",
    "#get_key_idx_map(token_counter, MAX_VOCAB_SIZE)\n",
    "\n",
    "# Save vocab to file\n",
    "out_path = 'application_vocab_full{}.pkl'.format(MAX_VOCAB_SIZE)\n",
    "with open(out_path, 'wb') as wf:\n",
    "    dct = {'token_to_idx': token_to_idx,\n",
    "          'idx_to_token': idx_to_token}\n",
    "    pickle.dump(dct, wf)\n",
    "    \n",
    "# 4"
   ]
  },
  {
   "cell_type": "code",
   "execution_count": null,
   "metadata": {},
   "outputs": [],
   "source": []
  },
  {
   "cell_type": "markdown",
   "metadata": {},
   "source": [
    "## 1.c. Vectorize Data\n",
    "\n",
    "Use the (token $\\rightarrow$ index) mapping you created before to vectorize your data"
   ]
  },
  {
   "cell_type": "code",
   "execution_count": 66,
   "metadata": {},
   "outputs": [],
   "source": [
    "#\n",
    "#\n",
    "# ------- Your Code -------\n",
    "#\n",
    "#\n",
    "picle_token_index_dict = helper2_read_pickle(out_path)\n",
    "token_to_idx, idx_to_token = picle_token_index_dict['token_to_idx'], picle_token_index_dict['idx_to_token']\n",
    "\n"
   ]
  },
  {
   "cell_type": "code",
   "execution_count": 67,
   "metadata": {},
   "outputs": [],
   "source": [
    "def vectorize_raw_samples(raw_samples, nworkers=10):\n",
    "    vectorized_samples = []\n",
    "    #\n",
    "    #\n",
    "    # ------- Your Code -------\n",
    "    #\n",
    "    #\n",
    "    classes = { 'Agent':0, 'Allaple':1, 'AutoIt': 2, 'Basun':3, 'NothingFound':4, 'Patched': 5, 'Swizzor':6, 'Texel':7, 'VB': 8, 'Virut':9 }\n",
    "    class_onehot, index_class = get_class_key_index_map(classes)\n",
    "    out_path = \"application_vocab_1000000.pkl\" # Change this line \n",
    "    picle_token_index_dict = helper2_read_pickle(out_path)\n",
    "    token_to_idx, idx_to_token = picle_token_index_dict['token_to_idx'], picle_token_index_dict['idx_to_token']\n",
    "\n",
    "    #data = load_data(raw_samples, nworkers)\n",
    "    \n",
    "    #tokens_list = list(token_to_idx.keys())\n",
    "    #print(tokens_list)\n",
    "    \n",
    "    print(token_to_idx.get('_ukn_'))\n",
    "    \n",
    "    for l in raw_samples:\n",
    "        temp_list = [0 for i in range(len(token_to_idx))]\n",
    "        \n",
    "        \n",
    "        \n",
    "        \n",
    "        for i in l[0]:\n",
    "            # The method is called bag of words\n",
    "            index = token_to_idx.get(i)#[token_to_idx[i]]\n",
    "            if index:\n",
    "                temp_list[index] = temp_list[index] + 1\n",
    "                #temp_list.append(index)\n",
    "            else:\n",
    "                temp_list[token_to_idx.get('_ukn_')] = temp_list[token_to_idx.get('_ukn_')] + 1\n",
    "                #temp_list.append(token_to_idx.get('_ukn_'))\n",
    "        if(class_onehot.get(l[1])):\n",
    "            vectorized_samples.append((temp_list, class_onehot.get(l[1])))\n",
    "        else:\n",
    "            vectorized_samples.append((temp_list, class_onehot.get( 'NothingFound'))) \n",
    "        #vectorized_samples.append(([token_to_idx.get(i) if token_to_idx.get(i) else token_to_idx.get('_ukn_') for  i in l[0]], l[1]))\n",
    "    \n",
    "\n",
    "    return vectorized_samples"
   ]
  },
  {
   "cell_type": "code",
   "execution_count": 68,
   "metadata": {
    "scrolled": true
   },
   "outputs": [
    {
     "name": "stdout",
     "output_type": "stream",
     "text": [
      "=> Processing: Train\n",
      "72153\n",
      "\n",
      "=> Processing: Test\n",
      "72153\n"
     ]
    }
   ],
   "source": [
    "print('=> Processing: Train')\n",
    "train_data = vectorize_raw_samples(train_raw_samples)\n",
    "print()\n",
    "print('=> Processing: Test')\n",
    "test_data = vectorize_raw_samples(test_raw_samples)\n",
    "# 0.5 min"
   ]
  },
  {
   "cell_type": "code",
   "execution_count": 69,
   "metadata": {},
   "outputs": [],
   "source": [
    "#\n",
    "#\n",
    "# ------- Your Code -------\n",
    "#\n",
    "#\n",
    "# Suggestions: \n",
    "#\n",
    "\n",
    "\n",
    "\n",
    "def max_list_lenght(list_2d):\n",
    "    max_len = 0\n",
    "    for i in list_2d:\n",
    "        if len(i)> max_len:\n",
    "            max_len = len(i)\n",
    "    return max_len\n",
    "        \n",
    "\n",
    "train_x , train_y = [x for x,_ in train_data],[y for _,y in train_data]\n",
    "test_x , test_y = [x for x,_ in test_data],[y for _,y in test_data]\n",
    "\n",
    "max_len = max_list_lenght(train_x)\n",
    "train_x = [x + [0] * (max_len - len(x)) for x in train_x]\n",
    "#print(train_x)\n",
    "train_x = torch.tensor(train_x)\n",
    "\n",
    "\n",
    "train_y = torch.FloatTensor(train_y)\n",
    "test_x = [x + [0] * (max_len - len(x)) for x in test_x]\n",
    "test_x = torch.FloatTensor(test_x)\n",
    "test_y = torch.FloatTensor(test_y)\n",
    "\n",
    "\n",
    "\n",
    "#print(train_y)\n",
    "\n",
    "# Suggestions: \n",
    "#\n",
    "# (a) You can use torch.utils.data.TensorDataset to represent the tensors you created previously\n",
    "trainset = TensorDataset(train_x, train_y)  \n",
    "testset = TensorDataset(test_x, test_y)\n",
    "\n",
    "\n",
    "\n",
    "# (a) You can use torch.utils.data.TensorDataset to represent the tensors you created previously\n",
    "# trainset = TensorDataset(train_x, train_y)\n",
    "# testset = TensorDataset(test_x, test_y)\n",
    "#\n",
    "# (b) Store your datasets to disk so that you do not need to precompute it every time"
   ]
  },
  {
   "cell_type": "markdown",
   "metadata": {},
   "source": [
    "# 2. Train Model\n",
    "\n",
    "You will now train an ML model on the vectorized datasets you created previously.\n",
    "\n",
    "_Note_: Although I often refer to each input as a 'vector' for simplicity, each of your inputs can also be higher dimensional tensors."
   ]
  },
  {
   "cell_type": "markdown",
   "metadata": {},
   "source": [
    "## 2.a. Helpers"
   ]
  },
  {
   "cell_type": "code",
   "execution_count": 70,
   "metadata": {},
   "outputs": [],
   "source": [
    "# Feel free to edit anything in this block\n",
    "\n",
    "# Feel free to edit anything in this block\n",
    "\n",
    "def evaluate_preds(y_gt, y_pred):\n",
    "    y_gt = [np.where(r==1)[0][0] for r in y_gt]\n",
    "    y_pred = [np.where(r==1)[0][0] for r in y_pred]\n",
    "\n",
    "    return 0\n",
    "\n",
    "\n",
    "def another_helper(question):\n",
    "    return 42\n",
    "\n",
    "\n",
    "def save_model(model, out_path):\n",
    "    torch.save(model.state_dict(), out_path)\n",
    "\n",
    "\n",
    "def save_data(eval_data, out_path):\n",
    "    with open(out_path, 'wb') as handle:\n",
    "        pickle.dump(eval_data, handle, protocol=pickle.HIGHEST_PROTOCOL)\n",
    "    "
   ]
  },
  {
   "cell_type": "markdown",
   "metadata": {},
   "source": [
    "## 2.b. Define Model"
   ]
  },
  {
   "cell_type": "markdown",
   "metadata": {},
   "source": [
    "Describe your model here."
   ]
  },
  {
   "cell_type": "code",
   "execution_count": 71,
   "metadata": {},
   "outputs": [],
   "source": [
    "# Feel free to edit anything in this block\n",
    "\n",
    "class NetDNN(nn.Module):\n",
    "    def __init__(self, in_dims, h1, h2, out_dims):\n",
    "        super(NetDNN, self).__init__()\n",
    "        # Layer definitions\n",
    "        self.fc1 = nn.Linear(in_dims, 512)\n",
    "        self.fc2 = nn.Linear(512,256)\n",
    "        self.fc3 = nn.Linear(256,h1)\n",
    "        self.fc4 = nn.Linear(h1,h2)\n",
    "        self.fc5 = nn.Linear(h2,out_dims)\n",
    "\n",
    "    def forward(self, x):\n",
    "        # Forward pass\n",
    "        x = F.relu(self.fc1(x))\n",
    "        x = F.relu(self.fc2(x))\n",
    "        x = F.relu(self.fc3(x))\n",
    "        x = F.relu(self.fc4(x))\n",
    "        x = F.softmax(self.fc5(x))\n",
    "        return x"
   ]
  },
  {
   "cell_type": "markdown",
   "metadata": {},
   "source": [
    "## 2.c. Set Hyperparameters"
   ]
  },
  {
   "cell_type": "code",
   "execution_count": 72,
   "metadata": {},
   "outputs": [
    {
     "name": "stdout",
     "output_type": "stream",
     "text": [
      "Input di 72154\n",
      "Output dim 10\n"
     ]
    }
   ],
   "source": [
    "# Define your hyperparameters here\n",
    "\n",
    "in_dims = trainset[0][0].shape[0]\n",
    "print('Input di',in_dims)\n",
    "h1, h2 = 128, 128\n",
    "out_dims = 10\n",
    "print('Output dim', out_dims)\n",
    "\n",
    "# Optimization\n",
    "n_epochs = 25\n",
    "batch_size = 5 # Originally 32\n",
    "lr = 1e-2\n",
    "momentum = 0.9"
   ]
  },
  {
   "cell_type": "markdown",
   "metadata": {},
   "source": [
    "## 2.d. Train your Model"
   ]
  },
  {
   "cell_type": "code",
   "execution_count": 73,
   "metadata": {},
   "outputs": [],
   "source": [
    "# Feel free to edit anything in this block\n",
    "\n",
    "net = NetDNN(in_dims, h1, h2, out_dims)\n",
    "net.train()\n",
    "\n",
    "criterion = nn.CrossEntropyLoss()\n",
    "# Optimizer\n",
    "optimizer = optim.SGD(net.parameters(), lr=lr, momentum=momentum)\n",
    "\n",
    "# Data Loaders\n",
    "trainloader = DataLoader(trainset, batch_size=batch_size, shuffle=True)\n",
    "testloader = DataLoader(testset, batch_size=batch_size, shuffle=False)\n",
    "\n",
    "dataloader = {'train': trainloader,'val': testloader}\n",
    "\n",
    "# Etc."
   ]
  },
  {
   "cell_type": "code",
   "execution_count": 74,
   "metadata": {},
   "outputs": [],
   "source": [
    "#\n",
    "#\n",
    "# ------- Your Code -------\n",
    "#\n",
    "# Example:\n",
    "from livelossplot import PlotLosses\n",
    "\n",
    "def train_model(model,criterion, optimizer, n_epochs):\n",
    "    eval_data = {}\n",
    "    model = model.to(device)\n",
    "    live_plot = PlotLosses()\n",
    "    epoch_list = []\n",
    "    train_loss_list = []\n",
    "    test_loss_list = []\n",
    "    train_acc_list = []\n",
    "    test_acc_list = []\n",
    "    for epoch in range(n_epochs):\n",
    "        logs = {}\n",
    "        for phase in ['train','val']:\n",
    "            if phase == 'train':\n",
    "                model.train()\n",
    "            if phase == 'val':\n",
    "                model.eval()\n",
    "\n",
    "            running_loss = 0.0\n",
    "            ruuning_corrects = 0\n",
    "\n",
    "\n",
    "            for inputs, labels in dataloader[phase]:\n",
    "                inputs = inputs.to(device)\n",
    "                labels = labels.to(device)\n",
    "                outputs = model(inputs.float())\n",
    "                labels = labels.to(device=device, dtype=torch.int64)\n",
    "                loss = criterion(outputs, torch.max(labels, 1)[1])\n",
    "\n",
    "                if phase == 'train':\n",
    "                    optimizer.zero_grad()\n",
    "                    loss.backward()\n",
    "                    optimizer.step()\n",
    "\n",
    "\n",
    "            _, preds = torch.max(outputs, 1)\n",
    "\n",
    "            running_loss += loss.detach()* inputs.size(0)\n",
    "            labels_nonhot =  torch.tensor([np.where(r==1)[0][0] for r in labels.data])\n",
    "\n",
    "            ruuning_corrects += torch.sum(preds == labels_nonhot)\n",
    "\n",
    "            epoch_loss = running_loss / len(dataloader[phase].dataset)\n",
    "            epoch_acc = ruuning_corrects.float() / len(dataloader[phase].dataset)\n",
    "      \n",
    "            prefix = ''\n",
    "            if phase == 'val':\n",
    "                prefix = 'val_'\n",
    "\n",
    "            logs[prefix + 'log_loss'] = epoch_loss.item()\n",
    "            logs[prefix + 'accuracy'] = epoch_acc.item()\n",
    "            \n",
    "        epoch_list.append(epoch)\n",
    "        train_loss_list.append(logs['log_loss'])\n",
    "        test_loss_list.append(logs['val_log_loss'])\n",
    "        train_acc_list.append(logs['accuracy'])\n",
    "        test_acc_list.append(logs['val_accuracy'])\n",
    "        live_plot.update(logs)\n",
    "        live_plot.draw()\n",
    "    eval_data['epoch'] = epoch_list\n",
    "    eval_data['train_loss'] = train_loss_list\n",
    "    eval_data['test_loss'] = test_loss_list\n",
    "    eval_data['train_acc'] = train_acc_list\n",
    "    eval_data['test_acc'] = test_acc_list\n",
    "    \n",
    "    return model, eval_data   \n",
    "    \n",
    "\n",
    "\n",
    "    \n",
    "\n"
   ]
  },
  {
   "cell_type": "markdown",
   "metadata": {},
   "source": [
    "## 2.e. Evaluate model"
   ]
  },
  {
   "cell_type": "code",
   "execution_count": null,
   "metadata": {},
   "outputs": [
    {
     "data": {
      "image/png": "[encoded data removed]",
      "text/plain": [
       "<Figure size 864x576 with 2 Axes>"
      ]
     },
     "metadata": {
      "needs_background": "light"
     },
     "output_type": "display_data"
    },
    {
     "name": "stdout",
     "output_type": "stream",
     "text": [
      "log_loss:\n",
      "training   (min:    0.022, max:    0.024, cur:    0.024)\n",
      "validation (min:    0.020, max:    0.021, cur:    0.021)\n",
      "\n",
      "accuracy:\n",
      "training   (min:    0.000, max:    0.004, cur:    0.000)\n",
      "validation (min:    0.004, max:    0.004, cur:    0.004)\n"
     ]
    }
   ],
   "source": [
    "#\n",
    "#\n",
    "# ------- Your Code -------\n",
    "#\n",
    "# \n",
    "model, eval_data =  train_model(net, criterion, optimizer,n_epochs)\n",
    "\n"
   ]
  },
  {
   "cell_type": "markdown",
   "metadata": {},
   "source": [
    "## 2.f. Save Model + Data"
   ]
  },
  {
   "cell_type": "code",
   "execution_count": null,
   "metadata": {},
   "outputs": [],
   "source": [
    "accuracy = 0\n",
    "for dataiter in testloader:\n",
    "    features, labels = dataiter\n",
    "    outputs = net(features)\n",
    "    _ ,outputs = torch.max(outputs, 1)\n",
    "    _, labels_nonhot =  torch.max(labels,1)\n",
    "    accuracy = accuracy +  torch.sum(outputs == labels_nonhot)\n",
    "\n",
    "\n",
    "accuracy = 100 * accuracy / len(test_y)\n",
    "print('Overall test accuracy(%) : ', accuracy.item())\n",
    "\n"
   ]
  },
  {
   "cell_type": "markdown",
   "metadata": {},
   "source": [
    "---"
   ]
  },
  {
   "cell_type": "markdown",
   "metadata": {},
   "source": [
    "# 3. Analysis"
   ]
  },
  {
   "cell_type": "markdown",
   "metadata": {},
   "source": [
    "## 3.a. Summary: Main Results\n",
    "\n",
    "If you tried other approaches, summarize their results here."
   ]
  },
  {
   "cell_type": "markdown",
   "metadata": {},
   "source": [
    "|        | Input Representation | Model | Optimizer | Validation Metric | Test Metric |\n",
    "|--------|----------------------|-------|-----------|-------------------|-------------|\n",
    "| Model1 | Unigram tokens       | MLP   | SGD       | 12.34 %           | 23.45%      |\n",
    "| Model2 (this notebook) |                      |       |           |                   |             |\n",
    "| ...    |                      |       |           |                   |             |"
   ]
  },
  {
   "cell_type": "markdown",
   "metadata": {
    "collapsed": true
   },
   "source": [
    "## 3.b. Discussion\n",
    "\n",
    "Enter your final summary here.\n",
    "\n",
    "For instance, you can address:\n",
    "- What was the performance you obtained with the simplest approach?\n",
    "- Which vectorized input representations helped more than the others?\n",
    "- Which malwares are difficult to detect and why?\n",
    "- Which approach do you recommend to perform malware classification?"
   ]
  },
  {
   "cell_type": "code",
   "execution_count": null,
   "metadata": {
    "collapsed": true
   },
   "outputs": [],
   "source": []
  }
 ],
 "metadata": {
  "kernelspec": {
   "display_name": "Python 3",
   "language": "python",
   "name": "python3"
  },
  "language_info": {
   "codemirror_mode": {
    "name": "ipython",
    "version": 3
   },
   "file_extension": ".py",
   "mimetype": "text/x-python",
   "name": "python",
   "nbconvert_exporter": "python",
   "pygments_lexer": "ipython3",
   "version": "3.7.3"
  }
 },
 "nbformat": 4,
 "nbformat_minor": 2
}
